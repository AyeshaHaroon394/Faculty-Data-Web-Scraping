{
  "nbformat": 4,
  "nbformat_minor": 0,
  "metadata": {
    "colab": {
      "provenance": []
    },
    "kernelspec": {
      "name": "python3",
      "display_name": "Python 3"
    },
    "language_info": {
      "name": "python"
    }
  },
  "cells": [
    {
      "cell_type": "code",
      "execution_count": 1,
      "metadata": {
        "id": "99LF8qmQ9sKk"
      },
      "outputs": [],
      "source": [
        "import pandas as pd\n",
        "import requests\n",
        "from bs4 import BeautifulSoup\n"
      ]
    },
    {
      "cell_type": "markdown",
      "source": [
        "## **LAHORE FACULTY DATA SCRAPING**:"
      ],
      "metadata": {
        "id": "1lOZhVEm4YrM"
      }
    },
    {
      "cell_type": "code",
      "source": [
        "URL_lhr = 'http://lhr.nu.edu.pk/faculty/'\n",
        "r = requests.get(URL_lhr)\n",
        "print(r);"
      ],
      "metadata": {
        "colab": {
          "base_uri": "https://localhost:8080/"
        },
        "id": "YDwch47m_eRi",
        "outputId": "6821a139-2ff6-47ae-cb4c-218f16d01f48"
      },
      "execution_count": 2,
      "outputs": [
        {
          "output_type": "stream",
          "name": "stdout",
          "text": [
            "<Response [200]>\n"
          ]
        }
      ]
    },
    {
      "cell_type": "code",
      "source": [
        "soup = BeautifulSoup(r.content, 'html.parser')"
      ],
      "metadata": {
        "id": "5tuDXFD-_h-r"
      },
      "execution_count": 3,
      "outputs": []
    },
    {
      "cell_type": "code",
      "source": [
        "#Extracting names from html\n",
        "lhrNames = []\n",
        "\n",
        "for name in soup.find_all('h5', class_='text-center'):\n",
        "    lhrNames.append(name.text.strip())\n",
        "\n",
        "print(lhrNames)"
      ],
      "metadata": {
        "colab": {
          "base_uri": "https://localhost:8080/"
        },
        "id": "aI6cCs9F_qGo",
        "outputId": "8c20307c-94d0-4397-932f-cf0264dc0db4"
      },
      "execution_count": 4,
      "outputs": [
        {
          "output_type": "stream",
          "name": "stdout",
          "text": [
            "['Dr. Kashif Zafar', 'Dr. Aamir Wali', 'Dr. Asif Mahmood Gillani', 'Dr. Asma Naseer', 'Dr. Maryam Bashir', 'Dr. Zareen Alamgir', 'Dr. Aasim Qureshi', 'Dr. Ali Afzal Malik', 'Dr. Arshad Ali', 'Dr. Asma Ahmad Farhan', 'Dr. Rana Asif Rehman', 'Dr. Saira Karim', 'Dr. Zeeshan Ali Khan', 'Dr. Aatira Anum', 'Dr. Abdul Qadeer', 'Dr. Ahmad Raza', 'Dr. Ammar Haider', 'Dr. Faisal Aslam', 'Dr. Farooq Ahmed', 'Dr. Hajra Waheed', 'Dr. Haroon Mahmood', 'Dr. Mirza Mubasher Baig', 'Dr. Syed Mohammad Irteza', 'Dr. Tahir Ejaz', 'Dr. Zeeshan Ali Rana', 'Dr. Hammad Naveed', 'Mr. Aamir Raheem', 'Ms. Abeeda Akram', 'Ms. Bushra Rashid', 'Mr. Ishaq Raza', 'Ms. Lehmia Kiran', 'Ms. Maimoona Akram', 'Mr. Mirza Waqar Baig', 'Ms. Noshaba Nasir', 'Ms. Samin Iftikhar', 'Ms. Sobia Tariq Javed', 'Mr. Waqas Manzoor', 'Ms. Aleena Ahmad', 'Ms. Anosha Khan', 'Ms. Ansa Liaqat', 'Ms. Aqsa Khalid', 'Ms. Arooj Khalil', 'Ms. Asbah Khalid', 'Mr. Danyal Farhat', 'Ms. Eesha Tur Razia Babar', 'Mr. Fraz Yousaf', 'Mr. Hafiz Usama Hassan Alvi', 'Mr. Hamad Ul Qudous', 'Ms. Hina Iqbal', 'Ms. Hira Butt', 'Ms. Kiran Khurshid', 'Mr. M. Saif Ul Islam', 'Ms. Maham Naeem', 'Ms. Mamoona Akbar Khan', 'Ms. Mamoona Majid', 'Ms. Mariam Nasim', 'Ms. Marwa Khan', 'Ms. Mehroze Khan', 'Ms. Momna Zaneb', 'Mr. Mubashar Hussain', 'Mr. Muhammad Naveed', 'Mr. Muhammad Umar Bin Farooq', 'Ms. Namra Absar', 'Ms. Nosheen Manzoor', 'Ms. Rakhshan Imtiaz', 'Mr. Razi-uddin', 'Ms. Rubab Anam Janjua', 'Ms. Rushda Muneer', 'Ms. Saba Ghani', 'Ms. Saba Tariq', 'Mr. Saifullah Tanvir', 'Mr. Sajid Ali Kazmi', 'Mr. Salman Shoaib', 'Ms. Sana Fatima', 'Ms. Seemab Ayub', 'Mr. Syed Ayaz Gillani', 'Mr. Syed Uzair Hussain Naqvi', 'Ms. Umm E Ammarah', 'Mr. Usman Anwer', 'Mr. Waqas Ali', 'Mr. Zeeshan Nazar', 'Mr. Ahmad Jawad Mustasim', 'Ms. Amina Qaiser', 'Mr. Aqib Zeeshan', 'Mr. Durraiz Waseem', 'Ms. Eisha Khan', 'Mr. Hashir Mohsineen', 'Mr. Junaid Hussain Muzammal', 'Mr. Muhammad Faheem', 'Mr. Muhammad Hasan', 'Mr. Muhammad Kamran', 'Ms. Sukhan Amir', 'Ms. Syeda Zehra Batool', 'Ms. Zoha Waheed', 'Mr. Zulqarnain', 'Mr. Amir Iqbal', 'Mr. Nauman Moazzam Hayat', 'Ms. Samman Ashraf', 'Dr. Saima Zafar', 'Dr. S.M. Sajid', 'Dr. Syed Aun Abbas', 'Dr. Omer Saleem', 'Dr. Afzal Ahmed', 'Dr. Kashif Saeed', 'Dr. Muhammad Akmal', 'Dr. Muhammad Naeem', 'Mr. Abdul Majid', 'Ms. Beenish Fatima', 'Mr. Haris Mujtaba', 'Mr. Mohsin Yousaf', 'Ms. Shazia Haque', 'Ms. Tamania Javed', 'Ms. Abeer Bashir', 'Mr. Ahmad Hamza Nayyar', 'Ms. Akbare Yaqub', 'Ms. Aroosa Umair', 'Mr. Khalid Ijaz', 'Ms. Sara Kiran', 'Mr. Syed Maaz Ahmed Rizvi', 'Mr. Syed Muhammad Ismail', 'Mr. Umer Altaf', 'Mr. Usama Faiz', 'Ms. Aliha Tanveer', 'Mr. Daniyal Ahmed', 'Ms. Eman Dar', 'Mr. Hafiz Muhammad Muiz Malik', 'Ms. Haniya Waheed', 'Ms. Syeda Sughra Kamran', 'Dr. Tauqir Ahmed', 'Dr. Shahid Ali', 'Dr. Syed Ali Rizwan Bukhari', 'Dr. Mubashir Aziz', 'Dr. Muhammad Umar', 'Dr. Muhammad Azam', 'Mr. Ali Raza Khalid', 'Mr. Umar Khan Niazi', 'Mr. Anns Tahir', 'Mr. Asim Iqbal', 'Mr. Asim Sharif', 'Mr. Fahad Haseeb', 'Mr. Hamza Ali', 'Ms. Mahnoor Akram', 'Ms. Sania Khalid', 'Mr. Abdur Rehman Zahid', 'Mr. Abu Huraira', 'Mr. Kashif Hameed', 'Mr. M. Umer Amin Khan', 'Ms. Maham Akram', 'Mr. Zaid Bin Shahid', 'Dr. Hamid Hassan', 'Dr. Akbar Azam', 'Dr. Munazza Saeed', 'Dr. Amna Farrukh', 'Dr. Beenish Arshad', 'Dr. Brig Mujahid Hussain', 'Dr. Fatima Omer', 'Dr. Komal Kamran', 'Dr. Mian Muhammad Atif', 'Dr. Muhammad Wasif Zafar', 'Dr. Saif Maqbool', 'Dr. Umer Iqbal', 'Dr. Zia Khan', 'Mr. Aamer Allauddin', 'Mr. Shakeel Ahmad', 'Ms. Aiza Aftab', 'Ms. Aroosa Safdar', 'Mr. Bilal Qaisar', 'Ms. Fatima Habib', 'Ms. Ghulam Fatima', 'Ms. Iman Ilyas', 'Ms. Irma Tariq', 'Ms. Khadija Aslam', 'Ms. Misal Hasan', 'Mr. Muhammad Mobeen Ajmal', 'Ms. Noor Zahid', 'Mr. Salmaan Khalil Rahman', 'Ms. Sidra Salman', 'Ms. Sundas Munir', 'Ms. Zunaira Ahmed', 'Ms. Alishba Nisar', 'Ms. Attiqa Sohail', 'Ms. Fatima Zeb', 'Ms. Sadia Manzoor', 'Ms. Syeda Fatima Jaffery', 'Ms. Syeda Fatima Naqvi', 'Ms. Saleena Gul', 'Dr. Mubashir Qayyum', 'Dr. Akhlaq Ahmad Bhatti', 'Dr. Mazhar Hussain', 'Dr. Saman Shahid', 'Dr. Summaira Sarfraz', 'Dr. Farasat Shamir', 'Dr. Saeeda Zia', 'Dr. Hina Firdous', 'Dr. Hira Iqbal', 'Dr. Iram Amjad', 'Dr. Muhammad Tahir Rashid', 'Dr. Sara Khan', 'Dr. Tayyaba Naz', 'Dr. Zahida Mansoor', 'Ms. Hajira Ikram Butt', 'Mr. Zulfiqar Ali', 'Mr. Abdul Sattar', 'Ms. Aisha Bano', 'Ms. Aqsa Naz', 'Ms. Ayesha Saeed', 'Mr. Hafiz Hamza Janjua', 'Ms. Hafiza Qurat Ul Ain Fatima', 'Ms. Kanwal Saleem', 'Mr. Muhammad Yaseen', 'Ms. Muznah Saleha', 'Ms. Namra Fazal', 'Ms. Nokhaiz Zahra', 'Mr. Razm-ul-Zafar', 'Ms. Rubab Arshad', 'Ms. Sarah Ahmad', 'Mr. Tasaduque Hussain Shah', 'Ms. Mahnoor Chaudhry']\n"
          ]
        }
      ]
    },
    {
      "cell_type": "code",
      "source": [
        "#Extracting designation from html\n",
        "lhrDesignations = []\n",
        "for designation in soup.find_all('p', class_='small text-center font-italic'):\n",
        "  d=designation.text.strip().split('\\n')\n",
        "  lhrDesignations.append(d[0])\n",
        "\n",
        "print(lhrDesignations)"
      ],
      "metadata": {
        "colab": {
          "base_uri": "https://localhost:8080/"
        },
        "id": "KOXSmTzv_sil",
        "outputId": "84269aab-d517-44ec-e290-919db60ce058"
      },
      "execution_count": 5,
      "outputs": [
        {
          "output_type": "stream",
          "name": "stdout",
          "text": [
            "['Professor & HOD', 'Professor', 'Professor', 'Professor', 'Professor', 'Professor', 'Associate Professor', 'Associate Professor', 'Associate Professor', 'Associate Professor', 'Associate Professor', 'Associate Professor', 'Associate Professor', 'Assistant Professor', 'Assistant Professor', 'Assistant Professor', 'Assistant Professor', 'Assistant Professor', 'Assistant Professor', 'Assistant Professor', 'Assistant Professor', 'Assistant Professor', 'Assistant Professor', 'Assistant Professor', 'Assistant Professor', 'Adj. Professor', 'Assistant Professor', 'Assistant Professor', 'Assistant Professor', 'Assistant Professor', 'Assistant Professor', 'Assistant Professor', 'Assistant Professor', 'Assistant Professor', 'Assistant Professor', 'Assistant Professor', 'Assistant Professor', 'Lecturer', 'Lecturer', 'Lecturer', 'Lecturer', 'Lecturer', 'Lecturer', 'Lecturer', 'Lecturer', 'Lecturer', 'Lecturer', 'Lecturer', 'Lecturer', 'Lecturer', 'Lecturer', 'Lecturer', 'Lecturer', 'Lecturer', 'Lecturer', 'Lecturer', 'Lecturer', 'Lecturer', 'Lecturer', 'Lecturer', 'Lecturer', 'Lecturer', 'Lecturer', 'Lecturer', 'Lecturer', 'Lecturer', 'Lecturer', 'Lecturer', 'Lecturer', 'Lecturer', 'Lecturer', 'Lecturer', 'Lecturer', 'Lecturer', 'Lecturer', 'Lecturer', 'Lecturer', 'Lecturer', 'Lecturer', 'Lecturer', 'Lecturer', 'Instructor', 'Instructor', 'Instructor', 'Instructor', 'Instructor', 'Instructor', 'Instructor', 'Instructor', 'Instructor', 'Instructor', 'Instructor', 'Instructor', 'Instructor', 'Instructor', 'Adj. Faculty', 'Adj. Faculty', 'Junior Lecturer', 'Professor & HOD', 'Professor', 'Professor', 'Associate Professor', 'Assistant Professor', 'Assistant Professor', 'Assistant Professor', 'Assistant Professor', 'Assistant Professor', 'Assistant Professor', 'Assistant Professor', 'Assistant Professor', 'Assistant Professor', 'Assistant Professor', 'Lecturer', 'Lecturer', 'Lecturer', 'Lecturer', 'Lecturer', 'Lecturer', 'Lecturer', 'Lecturer', 'Lecturer', 'Lecturer', 'Lab Engineer', 'Lab Engineer', 'Lab Engineer', 'Lab Engineer', 'Lab Engineer', 'Lab Engineer', 'Professor & HOD', 'Professor', 'Professor', 'Associate Professor', 'Associate Professor', 'Assistant Professor', 'Assistant Professor', 'Assistant Professor', 'Lecturer', 'Lecturer', 'Lecturer', 'Lecturer', 'Lecturer', 'Lecturer', 'Lecturer', 'Lab Engineer', 'Lab Engineer', 'Lab Engineer', 'Lab Engineer', 'Lab Engineer', 'Lab Engineer', 'Professor & HOD', 'Professor', 'Associate Professor', 'Assistant Professor', 'Assistant Professor', 'Assistant Professor', 'Assistant Professor', 'Assistant Professor', 'Assistant Professor', 'Assistant Professor', 'Assistant Professor', 'Assistant Professor', 'Assistant Professor', 'Assistant Professor', 'Assistant Professor', 'Lecturer', 'Lecturer', 'Lecturer', 'Lecturer', 'Lecturer', 'Lecturer', 'Lecturer', 'Lecturer', 'Lecturer', 'Lecturer', 'Lecturer', 'Adjunct Lecturer', 'Lecturer', 'Lecturer', 'Lecturer', 'Instructor', 'Instructor', 'Instructor', 'Instructor', 'Instructor', 'Instructor', 'Faculty (Adjunct)', 'Professor & HOD', 'Professor', 'Professor', 'Professor', 'Professor', 'Associate Professor', 'Associate Professor', 'Assistant Professor', 'Assistant Professor', 'Assistant Professor', 'Assistant Professor', 'Assistant Professor', 'Assistant Professor', 'Assistant Professor', 'Assistant Professor', 'Assistant Professor', 'Lecturer', 'Lecturer', 'Lecturer', 'Lecturer', 'Lecturer', 'Lecturer', 'Lecturer', 'Lecturer', 'Lecturer', 'Lecturer', 'Lecturer', 'Lecturer', 'Lecturer', 'Lecturer', 'Lecturer', 'Lecturer (English)']\n"
          ]
        }
      ]
    },
    {
      "cell_type": "code",
      "source": [
        "#Setting approval status according to whether or not hec approved is found in the class\n",
        "lhrApproved = []\n",
        "for approval in soup.find_all('p', class_='small text-center font-italic'):\n",
        "  if \"HEC Approved\" in approval.text:\n",
        "      lhrApproved.append(True)\n",
        "  else:\n",
        "    lhrApproved.append(False)\n",
        "\n",
        "print(lhrApproved)"
      ],
      "metadata": {
        "colab": {
          "base_uri": "https://localhost:8080/"
        },
        "id": "oGpGX9T2_vHN",
        "outputId": "d359c2e8-d847-4f4f-acb1-347e7a959f11"
      },
      "execution_count": 6,
      "outputs": [
        {
          "output_type": "stream",
          "name": "stdout",
          "text": [
            "[True, True, True, True, True, True, True, True, True, True, True, True, True, True, False, True, False, False, False, True, True, True, True, True, True, True, False, False, False, False, False, False, False, False, False, False, False, False, False, False, False, False, False, False, False, False, False, False, False, False, False, False, False, False, False, False, False, False, False, False, False, False, False, False, False, False, False, False, False, False, False, False, False, False, False, False, False, False, False, False, False, False, False, False, False, False, False, False, False, False, False, False, False, False, False, False, False, False, True, True, False, True, False, False, False, False, False, False, False, False, False, False, False, False, False, False, False, False, False, False, False, False, False, False, False, False, False, False, True, True, True, False, True, False, False, False, False, False, False, False, False, False, False, False, False, False, False, False, False, True, True, True, False, False, True, False, False, True, False, True, True, True, False, False, False, False, False, False, False, False, False, False, False, False, False, False, False, False, False, False, False, False, False, False, False, False, True, True, True, True, True, True, True, True, True, False, True, True, True, True, False, False, False, False, False, False, False, False, False, False, False, False, False, False, False, False, False, False]\n"
          ]
        }
      ]
    },
    {
      "cell_type": "code",
      "source": [
        "#Extracting ids from the profile link\n",
        "lhrIDs = []\n",
        "for line in soup.find_all('a', class_='faculty-link'):\n",
        "    link = line.get('href')\n",
        "    id = link.split('/')[-1]\n",
        "    lhrIDs.append(int(id))\n",
        "\n",
        "print(lhrIDs)"
      ],
      "metadata": {
        "colab": {
          "base_uri": "https://localhost:8080/"
        },
        "id": "Ea4iPc-M_xZ3",
        "outputId": "68e4e3b7-abda-46e5-8546-337bcf5d6de7"
      },
      "execution_count": 7,
      "outputs": [
        {
          "output_type": "stream",
          "name": "stdout",
          "text": [
            "[1238, 4027, 4391, 6113, 9540, 4329, 6968, 9113, 6174, 4335, 5181, 4261, 6048, 5116, 6811, 4236, 6418, 6667, 4677, 6562, 9539, 5114, 6302, 6255, 5466, 5424, 3720, 5054, 4234, 4015, 4507, 4239, 5103, 5221, 5115, 4232, 5230, 6172, 6311, 6379, 6924, 6305, 6723, 6553, 6788, 6274, 6308, 6307, 6551, 6419, 6820, 6588, 6277, 6253, 6549, 7059, 6770, 6560, 6295, 6415, 6114, 7060, 6554, 7136, 7107, 5967, 6552, 7057, 5787, 6771, 6268, 6773, 5986, 6171, 6719, 6925, 6309, 6559, 6722, 6927, 6662, 7064, 6928, 6791, 7063, 6665, 6838, 6422, 7062, 6767, 7065, 6718, 6568, 6663, 6943, 6772, 6176, 6558, 4198, 4108, 5421, 4609, 7121, 9452, 7084, 7087, 4023, 4233, 3669, 3461, 4484, 3778, 7025, 6289, 3779, 5218, 7143, 4809, 6843, 5231, 6557, 7066, 7005, 7141, 7058, 6830, 7142, 7002, 5818, 9451, 5705, 5613, 6047, 6941, 9513, 5360, 6041, 4300, 6839, 5553, 6569, 6573, 7026, 6818, 6816, 6934, 6769, 6571, 6933, 3924, 4685, 5559, 6563, 5227, 5712, 4629, 6561, 5423, 7085, 5427, 6426, 9495, 4483, 4647, 6815, 5517, 6930, 5518, 6115, 6709, 6565, 6664, 7061, 6812, 6566, 5713, 6813, 6303, 6931, 7016, 7017, 6789, 7015, 6964, 6790, 6932, 4332, 4020, 3712, 4250, 4018, 4584, 1250, 4608, 9172, 6768, 5437, 6926, 9173, 4243, 4244, 4245, 5438, 5622, 6555, 5203, 4397, 7056, 6421, 6365, 7067, 6178, 6420, 5795, 6548, 5337, 6363, 6567]\n"
          ]
        }
      ]
    },
    {
      "cell_type": "code",
      "source": [
        "#extracting src attribute of images for image urls\n",
        "lhrImageURLs = []\n",
        "for url in soup.find_all('img', class_='card-img-top rounded-circle mt-3 mb-0 d-block mx-auto'):\n",
        "  source = \"https://lhr.nu.edu.pk\"\n",
        "  lhrImageURLs.append(source + url.get('src'))\n",
        "\n",
        "print(lhrImageURLs)"
      ],
      "metadata": {
        "colab": {
          "base_uri": "https://localhost:8080/"
        },
        "id": "_jQfg2g__zky",
        "outputId": "65143261-ef44-49f1-920b-b24805c575ae"
      },
      "execution_count": 8,
      "outputs": [
        {
          "output_type": "stream",
          "name": "stdout",
          "text": [
            "['https://lhr.nu.edu.pk/media/Faculty/01._Dr_Kashif_Zafar_Prof._CS.JPG', 'https://lhr.nu.edu.pk/media/Faculty/51._Dr_Aamir_Wali_Prof._AIDS.JPG', 'https://lhr.nu.edu.pk/media/Faculty/02._Dr_Asif_Mehmood_Gilani_Prof._CS.JPG', 'https://lhr.nu.edu.pk/media/Faculty/07._Dr_Asma_Naseer_Assoc._Prof._CS.png', 'https://lhr.nu.edu.pk/media/Faculty/52._Dr_Maryam_Bashir_Asst._Prof._AIDS_1jSZW7K.JPG', 'https://lhr.nu.edu.pk/media/Faculty/03._Dr_Zareen_Alamgir_Prof._CS.JPG', 'https://lhr.nu.edu.pk/media/Faculty/Dr._Muhammad_Aasim_Qureshi-removebg-preview.png', 'https://lhr.nu.edu.pk/media/Faculty/65._Dr_Ali_Afzal_Malik_Asst._Prof._SE_SM6VFgQ.JPG', 'https://lhr.nu.edu.pk/media/Faculty/04._Sr_Arshad_Ali_Assoc._Prof._CS.JPG', 'https://lhr.nu.edu.pk/media/Faculty/54._Dr_Asma_Ahmad_Asst._Prof._AIDS_RWyt2iB.png', 'https://lhr.nu.edu.pk/media/Faculty/05-_Dr_Rana_Asif_Rehman_Assoc._Prof._CS.JPG', 'https://lhr.nu.edu.pk/media/Faculty/06._Dr_Saira_Karim_Assoc._Prof._CS.JPG', 'https://lhr.nu.edu.pk/media/Faculty/08._Dr_Zeeshan_Ali_Khan_Assoc._Prof._CS.JPG', 'https://lhr.nu.edu.pk/media/Faculty/12._Dr_Aatira_Anum_Asst._Prof._CS.JPG', 'https://lhr.nu.edu.pk/media/Faculty/13._Dr_Abdul_Qadeer_Asst._Prof._CS.JPG', 'https://lhr.nu.edu.pk/media/Faculty/14._Dr_Ahmad_Raza_Asst._Prof._CS_T2lFicM.JPG', 'https://lhr.nu.edu.pk/media/Faculty/10._Dr_Ammar_Haider_Assist._Prof._CS.png', 'https://lhr.nu.edu.pk/media/Faculty/11._Dr_Faisal_Aslam_Asst._Prof._CS.JPG', 'https://lhr.nu.edu.pk/media/Faculty/64._Dr_Farooq_Ahmed_Asst._Prof._SE.JPG', 'https://lhr.nu.edu.pk/media/Faculty/55._Dr_Hajra_Waheed_Asst._Prof._AIDS_zvotU88.png', 'https://lhr.nu.edu.pk/media/Faculty/08_-_Dr._Haroon_Mahmood_Asst_Prof_CS__1_-removebg-preview.png', 'https://lhr.nu.edu.pk/media/Faculty/53._Dr_Mirza_Mubasher_Baig_Asst._Prof._AIDS.JPG', 'https://lhr.nu.edu.pk/media/Faculty/6302_5wrK2JS-removebg-preview.png', 'https://lhr.nu.edu.pk/media/Faculty/09._Dr_Tahir_Ejaz_Asst._Prof._CS.JPG', 'https://lhr.nu.edu.pk/media/Faculty/66_Dr_Zeeshan_Ali_Rana_Asst._Prof._SE_PatO3hE.JPG', 'https://lhr.nu.edu.pk/media/Faculty/01_-_Dr._Hammad_Naveed_Professor_CS__Director__1_-removebg-preview.png', 'https://lhr.nu.edu.pk/media/Faculty/16._Aamir_Raheem_Asst._Prof._CS.JPG', 'https://lhr.nu.edu.pk/media/Faculty/20._Abeeda_Akram_Asst._Prof._CS.png', 'https://lhr.nu.edu.pk/media/Faculty/24._Bushra_Rashid_Asst._Prof._CS.png', 'https://lhr.nu.edu.pk/media/Faculty/15._Ishaq_Raza_Asst._Prof._CS.JPG', 'https://lhr.nu.edu.pk/media/Faculty/21._Lehmia_Kiran_Asst._Prof._CS.png', 'https://lhr.nu.edu.pk/media/Faculty/23._Maimoona_Akram_Asst._Prof._CS.png', 'https://lhr.nu.edu.pk/media/Faculty/22._Mirza_Waqar_Baig_Asst._Prof._CS_hvK0Pyz.png', 'https://lhr.nu.edu.pk/media/Faculty/028_Noshaba_Nasir_AP_CS-removebg-preview_1-removebg-preview.png', 'https://lhr.nu.edu.pk/media/Faculty/17._Samin_Iftikhar_Asst_Prof._CS.png', 'https://lhr.nu.edu.pk/media/Faculty/19._Sobia_Tariq_Javed_Asst._Prof._CS.JPG', 'https://lhr.nu.edu.pk/media/Faculty/18._Waqas_Manzoor_Assit_Prof._CS.png', 'https://lhr.nu.edu.pk/media/Faculty/30._Aleena_Ahmad_Lecturer_CS.png', 'https://lhr.nu.edu.pk/media/Faculty/71._Anoosha_Khan_Lecturer_SE.JPG', 'https://lhr.nu.edu.pk/media/Faculty/62._Ansa_Liaqat_Lecturer_AIDS.JPG', 'https://lhr.nu.edu.pk/media/Faculty/Aqsa_Khalid-removebg-preview.png', 'https://lhr.nu.edu.pk/media/Faculty/70._Arooj_Khalil_Lecturer_SE.JPG', 'https://lhr.nu.edu.pk/media/Faculty/38._Asbah_Khalid_Lecturer_CS.jpg', 'https://lhr.nu.edu.pk/media/Faculty/34._Danyal_Farhat_Lecturer_CS_oDWYVFu.png', 'https://lhr.nu.edu.pk/media/Faculty/61._Eesha_Tur_Raziz_Baber_Lecturer_AIDS.png', 'https://lhr.nu.edu.pk/media/Faculty/72._Fraz_Yousaf_Lecturer_SE.JPG', 'https://lhr.nu.edu.pk/media/Faculty/26._Usama_Hassan_Alvi_Lecturer_CS.png', 'https://lhr.nu.edu.pk/media/Faculty/59._Hamad_Ul_Qudous_Lecturer_AIDS.JPG', 'https://lhr.nu.edu.pk/media/Faculty/73._Hina_Iqbal_Lecturer_SE.png', 'https://lhr.nu.edu.pk/media/Faculty/36._Hira_Butt_Lecturer_CS.JPG', 'https://lhr.nu.edu.pk/media/Faculty/40._Kiran_Khurshid_Lecturer_CS.JPG', 'https://lhr.nu.edu.pk/media/Faculty/56._M_Saif_Ul_Islam_Lecturer_AIDS.JPG', 'https://lhr.nu.edu.pk/media/Faculty/35._Maham_Naeem_Lecturer_CS.png', 'https://lhr.nu.edu.pk/media/Faculty/42._Mamoona_Akbar_Jun._Lect._CS.JPG', 'https://lhr.nu.edu.pk/media/Faculty/74._Mamoona_Majid_Lecturer_SE.png', 'https://lhr.nu.edu.pk/media/Faculty/7059-removebg-preview.png', 'https://lhr.nu.edu.pk/media/Faculty/44._Marwa_Khan_Jun._Lect._CS.JPG', 'https://lhr.nu.edu.pk/media/Faculty/75._Mehroze_Khan_Lecturer_SE.JPG', 'https://lhr.nu.edu.pk/media/Faculty/69._Momna_Zaneb_Lecturer_SE.png', 'https://lhr.nu.edu.pk/media/Faculty/31._Mubashar_Hussain_Lecturer_CS.png', 'https://lhr.nu.edu.pk/media/Faculty/29._Muhammad_Naveed_Lecturer_CS_la7oUg9.JPG', 'https://lhr.nu.edu.pk/media/Faculty/7060-removebg-preview.png', 'https://lhr.nu.edu.pk/media/Faculty/33._Namra_Absar_Lecturer_CS.png', 'https://lhr.nu.edu.pk/media/Faculty/7136-removebg-preview.png', 'https://lhr.nu.edu.pk/media/Faculty/7107-removebg-preview.png', 'https://lhr.nu.edu.pk/media/Faculty/68._Razi_Uddin_Lectrurer_SE.JPG', 'https://lhr.nu.edu.pk/media/Faculty/32._Rubab_Anam_Janjua_Lecturer_CS.JPG', 'https://lhr.nu.edu.pk/media/Faculty/7057-removebg-preview.png', 'https://lhr.nu.edu.pk/media/Faculty/5787-removebg-preview.png', 'https://lhr.nu.edu.pk/media/Faculty/43._Saba_Tariq_Junior_Lecturer_CS.png', 'https://lhr.nu.edu.pk/media/Faculty/28._Saifullah_Tanvir_Lecturer_CS.jpeg', 'https://lhr.nu.edu.pk/media/Faculty/39._Sajid_Ali_Kazmi_Lecturer_CS.JPG', 'https://lhr.nu.edu.pk/media/Faculty/41._Salman_Shoaib_jun._Lect_CS.JPG', 'https://lhr.nu.edu.pk/media/Faculty/57._Sana_Fatima_Lecturer_AIDS.png', 'https://lhr.nu.edu.pk/media/Faculty/48._Seemab_Ayub_Instructor_CS.JPG', 'https://lhr.nu.edu.pk/media/Faculty/Syed_Ayaz_Gillani-removebg-preview.png', 'https://lhr.nu.edu.pk/media/Faculty/27._Syed_Uzair_Hussain_Lecturer_CS.JPG', 'https://lhr.nu.edu.pk/media/Faculty/60._Umm_e_Ammarah_Lecturer_AIDS.JPG', 'https://lhr.nu.edu.pk/media/Faculty/47._Usman_Anwar_Instructor_CS.JPG', 'https://lhr.nu.edu.pk/media/Faculty/Waqas_Ali-removebg-preview.png', 'https://lhr.nu.edu.pk/media/Faculty/37._Zeeshan_Nazar_Lecturer_CS.JPG', 'https://lhr.nu.edu.pk/media/Faculty/7064-removebg-preview.png', 'https://lhr.nu.edu.pk/media/Faculty/Amina_Qaiser-removebg-preview_fJER9uf.png', 'https://lhr.nu.edu.pk/media/Faculty/63._Aqib_Zeeshan_Instructor_AIDS.JPG', 'https://lhr.nu.edu.pk/media/Faculty/WhatsApp_Image_2025-02-17_at_3.48.38_PM-removebg-preview.png', 'https://lhr.nu.edu.pk/media/Faculty/119._Eisha_Khan_Lab._Engineer_EE.jpg', 'https://lhr.nu.edu.pk/media/Faculty/50._Hashir_Mohsineen_Instructor_CS.JPG', 'https://lhr.nu.edu.pk/media/Faculty/46._Junaid_Hussain_Muzamal_Instructor_CS.png', 'https://lhr.nu.edu.pk/media/Faculty/7062-removebg-preview.png', 'https://lhr.nu.edu.pk/media/Faculty/76._Muhammad_Hasan_Instructor_SE.JPG', 'https://lhr.nu.edu.pk/media/Faculty/7065-removebg-preview.png', 'https://lhr.nu.edu.pk/media/Faculty/49._Sukhan_Amir_Instructor_CS_ax2daD0.JPG', 'https://lhr.nu.edu.pk/media/Faculty/6568.jpg', 'https://lhr.nu.edu.pk/media/Faculty/45._Zoha_Waheed_Instructor_CS.JPG', 'https://lhr.nu.edu.pk/media/Faculty/Zulqarnain-removebg-preview.png', 'https://lhr.nu.edu.pk/media/Faculty/67._Amir_Iqbal_Adj._Faculty_SE.JPG', 'https://lhr.nu.edu.pk/media/Faculty/25._Nauman_Moazzam_Hayat_Adj_Faculty_CS.png', 'https://lhr.nu.edu.pk/media/Faculty/39-_Samman_Ashraf_Jun._Lect._CS-removebg-preview.png', 'https://lhr.nu.edu.pk/media/Faculty/98._Dr_Saima_Zafar_Prof._EE-removebg-preview.png', 'https://lhr.nu.edu.pk/media/Faculty/99._Dr_S_M_Sajid_Prof._EE.JPG', 'https://lhr.nu.edu.pk/media/Faculty/100._Dr_Syed_Aun_Abbas_Prof._EE.JPG', 'https://lhr.nu.edu.pk/media/Faculty/101._Dr_Omer_Saleem_Associate_Professor_EE.JPG', 'https://lhr.nu.edu.pk/media/Faculty/WhatsApp_Image_2025-02-12_at_2.29.17_PM-removebg-preview_1.png', 'https://lhr.nu.edu.pk/media/Faculty/102._Dr_Kashif_Saeed_Asst._Prof._EE.JPG', 'https://lhr.nu.edu.pk/media/Faculty/WhatsApp_Image_2025-02-12_at_2.29.50_PM-removebg-preview_1.png', 'https://lhr.nu.edu.pk/media/Faculty/WhatsApp_Image_2025-02-12_at_2.29.34_PM-removebg-preview.png', 'https://lhr.nu.edu.pk/media/Faculty/104._Abdul_Majid_Asst._Prof._EE.JPG', 'https://lhr.nu.edu.pk/media/Faculty/108._Beenish_Fatima_Asst._Prof._EE.JPG', 'https://lhr.nu.edu.pk/media/Faculty/109._Syed_Haris_Mujtaba_Asst._Prof._EE.JPG', 'https://lhr.nu.edu.pk/media/Faculty/106._Mohsin_Yousaf_Asst._Prof._EE.JPG', 'https://lhr.nu.edu.pk/media/Faculty/105._Shazia_Haque_Asst._Prof._EE.JPG', 'https://lhr.nu.edu.pk/media/Faculty/107._Tamania_Javaid_Asst._Prof._EE.JPG', 'https://lhr.nu.edu.pk/media/Faculty/Abeer_Bashir-removebg-preview_1.png', 'https://lhr.nu.edu.pk/media/Faculty/116._Ahmad_Hamza_Nayyar_Lecturer_EE.JPG', 'https://lhr.nu.edu.pk/media/Faculty/110._Akbare_Yaqub_Lecturer_EE.JPG', 'https://lhr.nu.edu.pk/media/Faculty/112._Aroosa_Umair_Lecturer_EE.JPG', 'https://lhr.nu.edu.pk/media/Faculty/WhatsApp_Image_2025-02-17_at_2.49.14_PM-removebg-preview.png', 'https://lhr.nu.edu.pk/media/Faculty/111._Sara_Kiran_Lecturer_EE.JPG', 'https://lhr.nu.edu.pk/media/Faculty/118._Syed_Maaz_Ahmed_Rizvi_Lecturer_EE__1_-removebg-preview_LX53KFM.png', 'https://lhr.nu.edu.pk/media/Faculty/113._Syed_M._Ismail_Lecturer_EE.JPG', 'https://lhr.nu.edu.pk/media/Faculty/115._Umer_Altaf_Lecturer_EE.JPG', 'https://lhr.nu.edu.pk/media/Faculty/WhatsApp_Image_2025-02-12_at_2.31.24_PM-removebg-preview.png', 'https://lhr.nu.edu.pk/media/Faculty/Aliha_Tanveer-removebg-preview.png', 'https://lhr.nu.edu.pk/media/Faculty/WhatsApp_Image_2025-02-17_at_2.56.28_PM-removebg-preview.png', 'https://lhr.nu.edu.pk/media/Faculty/WhatsApp_Image_2025-02-12_at_2.30.22_PM__1_-removebg-preview_1.png', 'https://lhr.nu.edu.pk/media/Faculty/120._Hafiz_M._Muiz_Malik_Lab._Engineer_EE-removebg-preview.png', 'https://lhr.nu.edu.pk/media/Faculty/WhatsApp_Image_2025-02-17_at_2.54.49_PM-removebg-preview_1.png', 'https://lhr.nu.edu.pk/media/Faculty/Syeda_Sughra_Kamran-removebg-preview.png', 'https://lhr.nu.edu.pk/media/Faculty/77._Dr_Tauqir_Ahmed_Prof._CvL.jpg', 'https://lhr.nu.edu.pk/media/Faculty/78._Dr_Shahid_Ali_Prof._CvL.JPG', 'https://lhr.nu.edu.pk/media/Faculty/79._Dr_Syed_Ali_Rizwan_Prof._CvL.JPG', 'https://lhr.nu.edu.pk/media/Faculty/WhatsApp_Image_2025-02-19_at_9.31.23_AM.jpeg', 'https://lhr.nu.edu.pk/media/Faculty/80._Dr_Muhammad_Umar_Asst._Prof._CvL.JPG', 'https://lhr.nu.edu.pk/media/Faculty/Dr._Muhammad_Azam-removebg-preview.png', 'https://lhr.nu.edu.pk/media/Faculty/83._Ali_Raza_Khalid_Asst._Prof._CvL.JPG', 'https://lhr.nu.edu.pk/media/Faculty/82._Umar_Khan_Niazi_Asst._Prof._CvL.JPG', 'https://lhr.nu.edu.pk/media/Faculty/87._Anns_Tahir_Lecturer_CvL.JPG', 'https://lhr.nu.edu.pk/media/Faculty/86._Asim_Iqbal_Lecturer_CvL.JPG', 'https://lhr.nu.edu.pk/media/Faculty/90._Asim_Sharif_Lecturer_CvL.JPG', 'https://lhr.nu.edu.pk/media/Faculty/85._Fahad_Haseeb_Lecturer_CvL.JPG', 'https://lhr.nu.edu.pk/media/Faculty/91._Hamza_Ali_Lab_Engineer_CvL.JPG', 'https://lhr.nu.edu.pk/media/Faculty/88._Mah_Noor_Lecturer_CvL.JPG', 'https://lhr.nu.edu.pk/media/Faculty/Sania_Khalid-removebg-preview.png', 'https://lhr.nu.edu.pk/media/Faculty/97._Abdur_Rehman_Zahid_Lab._Engineer_CvL.JPG', 'https://lhr.nu.edu.pk/media/Faculty/96._Abu_Huraira_Lab._Engineer_CvL.JPG', 'https://lhr.nu.edu.pk/media/Faculty/Kashif_Hameed-removebg-preview.png', 'https://lhr.nu.edu.pk/media/Faculty/95._Umer_Amin_Khan_Lab_EnginerCvL.png', 'https://lhr.nu.edu.pk/media/Faculty/94._Maham_Akram_Lab_Engineer_CvL.JPG', 'https://lhr.nu.edu.pk/media/Faculty/Muhammad_Zaid_Bin_Shahid-removebg-preview.png', 'https://lhr.nu.edu.pk/media/Faculty/121._Dr_Hamid_Hassan_Prof_MG.JPG', 'https://lhr.nu.edu.pk/media/Faculty/122.Dr_Akbar_Azam_Assoc._Prof._MG.png', 'https://lhr.nu.edu.pk/media/Faculty/129._Dr_Munazza_Saeed_Asst._Prof._MG.JPG', 'https://lhr.nu.edu.pk/media/Faculty/126._Amna_Farrukh_Assit_Prof._MG.png', 'https://lhr.nu.edu.pk/media/Faculty/133._Beenish_Arshad_Lecturer_MG.JPG', 'https://lhr.nu.edu.pk/media/Faculty/128._Dr_Mujahid_Hussain_Asst._Prof._MG.JPG', 'https://lhr.nu.edu.pk/media/Faculty/125._Dr_Fatima_Omer_Asst._Prof._MG.JPG', 'https://lhr.nu.edu.pk/media/Faculty/127._Dr_Komal_Kamran_Asst._Prof._MG.JPG', 'https://lhr.nu.edu.pk/media/Faculty/123._Dr_Mian_M._Atif_Asst._Prof._MG.JPG', 'https://lhr.nu.edu.pk/media/Faculty/7085-removebg-preview.png', 'https://lhr.nu.edu.pk/media/Faculty/5427-removebg-preview.png', 'https://lhr.nu.edu.pk/media/Faculty/120_-_Dr._Umer_Iqbal_Asst_Prof_MG_nr59AV5-removebg-preview.png', 'https://lhr.nu.edu.pk/media/Faculty/124._Dr_Zia_Ullah_Khan_Asst._Prof._MG.JPG', 'https://lhr.nu.edu.pk/media/Faculty/130._Aamer_Allauddin_Asst._Prof._MG.JPG', 'https://lhr.nu.edu.pk/media/Faculty/131._Shakeel_Ahmad_Asst._Prof._MG.JPG', 'https://lhr.nu.edu.pk/media/Faculty/6815__1_-removebg-preview.png', 'https://lhr.nu.edu.pk/media/Faculty/135._Aroosa_Safdar_Lecturer_MG.JPG', 'https://lhr.nu.edu.pk/media/Faculty/Bilal_Qaisar-removebg-preview.png', 'https://lhr.nu.edu.pk/media/Faculty/132._Fatima_Habib_Lecturer_MG.JPG', 'https://lhr.nu.edu.pk/media/Faculty/144._Ghulam_Fatima_Instructor_MG.JPG', 'https://lhr.nu.edu.pk/media/Faculty/145._Iman_Ilyas_Instructor_MG.JPG', 'https://lhr.nu.edu.pk/media/Faculty/138._Irma_Tariq_Lecturer_MG.JPG', 'https://lhr.nu.edu.pk/media/Faculty/139._Khadija_Aslam_Lecturer_MG.JPG', 'https://lhr.nu.edu.pk/media/Faculty/7061-removebg-preview.png', 'https://lhr.nu.edu.pk/media/Faculty/140._M_Mubeen_Ajmal_Lecturer_MG.JPG', 'https://lhr.nu.edu.pk/media/Faculty/137._Noor_Zahid_Lecture_MG.JPG', 'https://lhr.nu.edu.pk/media/Faculty/142._Salman_Khalil_Rehman_Adj_Fcaulty_MG.jpg', 'https://lhr.nu.edu.pk/media/Faculty/141._Sidra_Salman_Lecturer_MG.JPG', 'https://lhr.nu.edu.pk/media/Faculty/134._Sundas_Munir_Lecturer_MG.JPG', 'https://lhr.nu.edu.pk/media/Faculty/Zunaira_Ahmed-removebg-preview.png', 'https://lhr.nu.edu.pk/media/Faculty/Alishba_Nisar-removebg-preview.png', 'https://lhr.nu.edu.pk/media/Faculty/Attiqa_Sohail-removebg-preview.png', 'https://lhr.nu.edu.pk/media/Faculty/147._Fatima_Zeb_Instructor_MG.JPG', 'https://lhr.nu.edu.pk/media/Faculty/Sadia_Manzoor-removebg-preview.png', 'https://lhr.nu.edu.pk/media/Faculty/Syeda_Fatima_Jaffery-removebg-preview.png', 'https://lhr.nu.edu.pk/media/Faculty/146._Syeda_Fatima_Naqvi_Instructor_MG.JPG', 'https://lhr.nu.edu.pk/media/Faculty/Saleena_Gul-removebg-preview.png', 'https://lhr.nu.edu.pk/media/Faculty/149._Dr_Mubashir_Qayyum_Prof._SH.JPG', 'https://lhr.nu.edu.pk/media/Faculty/150._Dr._Akhlaq_Ahmad_Bhatti_Prof._SH.JPG', 'https://lhr.nu.edu.pk/media/Faculty/151._Dr_Mazhar_Hussain_Prof._SH.JPG', 'https://lhr.nu.edu.pk/media/Faculty/152._Dr._Saman_Shahid_Prof._SH.jpg', 'https://lhr.nu.edu.pk/media/Faculty/148._Dr_Summaira_Sarfraz_Prof._SH.png', 'https://lhr.nu.edu.pk/media/Faculty/137_-_Dr._Farasat_Shamir_Assoc._Prof_Math__HoD_SH-removebg-preview.png', 'https://lhr.nu.edu.pk/media/Faculty/153._Dr_Saeeda_Zia_Assoc._Prof._SH.JPG', 'https://lhr.nu.edu.pk/media/Faculty/159._Dr_Hina_Firdous_Asst._Prof._SH.JPG', 'https://lhr.nu.edu.pk/media/Faculty/156._Dr_Hira_Iqbal_Asst._Prof._SH.JPG', 'https://lhr.nu.edu.pk/media/Faculty/158._Dr_Iram_Amjad_Asst._Prof._SH.JPG', 'https://lhr.nu.edu.pk/media/Faculty/157._Dr_Tahir_Rashid_Asst._Prof._SH.JPG', 'https://lhr.nu.edu.pk/media/Faculty/Dr._Sara_Khan__1_-removebg-preview_1.png', 'https://lhr.nu.edu.pk/media/Faculty/155._Dr_Tayyaba_Naz_Asst._Prof._SH.JPG', 'https://lhr.nu.edu.pk/media/Faculty/154._Dr_Zahida_Mansoor_Asst._Prof._SH.JPG', 'https://lhr.nu.edu.pk/media/Faculty/161._Hajra_Ikram_Butt_Asst._Prof._SH.JPG', 'https://lhr.nu.edu.pk/media/Faculty/160._Zulfiqar_Ali_Asst._Prof._SH.JPG', 'https://lhr.nu.edu.pk/media/Faculty/165._Abdul_Sattar_Lecturer_SH.JPG', 'https://lhr.nu.edu.pk/media/Faculty/164_-_Aisha_Bano_Lecturer_SH-removebg-preview.png', 'https://lhr.nu.edu.pk/media/Faculty/171_Aqsa_Naz_Lecturer_SH.JPG', 'https://lhr.nu.edu.pk/media/Faculty/164._Ayesha_Saeed_Lecturer_SH.JPG', 'https://lhr.nu.edu.pk/media/Faculty/162._Hafiz_M._Hamza_Janjua_Lecturer_SH.JPG', 'https://lhr.nu.edu.pk/media/Faculty/7056-removebg-preview.png', 'https://lhr.nu.edu.pk/media/Faculty/170._Kanwal_Saleem_Lecturer_SH.JPG', 'https://lhr.nu.edu.pk/media/Faculty/169._Muhammad_Yaseen_Lecturer_SH.JPG', 'https://lhr.nu.edu.pk/media/Faculty/7067-removebg-preview.png', 'https://lhr.nu.edu.pk/media/Faculty/167._Namra_Fazal_Lecturer_SH.JPG', 'https://lhr.nu.edu.pk/media/Faculty/174._Nokhaiz_Zahra_Lecturer_SH.JPG', 'https://lhr.nu.edu.pk/media/Faculty/166._Razm-ul-Zafar_Lecturer_SH.JPG', 'https://lhr.nu.edu.pk/media/Faculty/172._Rubab_Arshad_Lecturer_SH.JPG', 'https://lhr.nu.edu.pk/media/Faculty/163._Sarah_Ahmad_Lecturer_SH.JPG', 'https://lhr.nu.edu.pk/media/Faculty/168._Tasaduque_Hussain_Shah_Lecturer_SH.JPG', 'https://lhr.nu.edu.pk/media/Faculty/175._Mahnoor_Chaudhry_Instructor_SH.JPG']\n"
          ]
        }
      ]
    },
    {
      "cell_type": "code",
      "source": [
        "#Extracting emails from html\n",
        "lhrEmails = []\n",
        "for email in soup.find_all('p', class_='mb-0 text-center'):\n",
        "  if(email):\n",
        "    lhrEmails.append(email.text.strip())\n",
        "  else:\n",
        "    lhrEmails.append('unknown')\n",
        "\n",
        "\n",
        "print(lhrEmails)"
      ],
      "metadata": {
        "colab": {
          "base_uri": "https://localhost:8080/"
        },
        "id": "NDc9qojs_2HJ",
        "outputId": "b15b4423-729d-4fff-ff0e-db88185158b4"
      },
      "execution_count": 9,
      "outputs": [
        {
          "output_type": "stream",
          "name": "stdout",
          "text": [
            "['kashif.zafar@nu.edu.pk', 'aamir.wali@nu.edu.pk', 'asif.gilani@nu.edu.pk', 'asma.naseer@nu.edu.pk', 'maryam.bashir@nu.edu.pk', 'zareen.alamgir@nu.edu.pk', 'aasim.qureshi@nu.edu.pk', 'ali.afzal@nu.edu.pk', 'arshad.ali1@nu.edu.pk', 'asma.ahmad@nu.edu.pk', 'r.asif@nu.edu.pk', 'saira.karim@nu.edu.pk', 'zeeshanali.khan@nu.edu.pk', 'aatira.anum@nu.edu.pk', 'aqadeer@nu.edu.pk', 'muhammad.ahmadraza@nu.edu.pk', 'ammar.haider@nu.edu.pk', 'faisal.aslam@nu.edu.pk', 'farooq.ahmad@nu.edu.pk', 'hajra.waheed@nu.edu.pk', 'haroon.mahmood@nu.edu.pk', 'mubasher.baig@nu.edu.pk', 'm.Irteza@nu.edu.pk', 'tahir.ejaz@nu.edu.pk', 'zeeshan.rana@nu.edu.pk', 'hammad.naveed@nu.edu.pk', 'aamir.raheem@nu.edu.pk', 'abeeda.akram@nu.edu.pk', 'bushra.rashid@nu.edu.pk', 'ishaq.raza@nu.edu.pk', 'lehmia.kiran@nu.edu.pk', 'maimoona.akram@nu.edu.pk', 'waqar.baig@nu.edu.pk', 'noshaba.nasir@nu.edu.pk', 'samin.iftikhar@nu.edu.pk', 'sobia.tariq@nu.edu.pk', 'waqas.manzoor@nu.edu.pk', 'aleena.ahmad@nu.edu.pk', 'anosha.khan@nu.edu.pk', 'ansa.liaqat@nu.edu.pk', 'aqsa.khalid@nu.edu.pk', 'arooj.khalil@nu.edu.pk', 'asbah.khalid@lhr.nu.edu.pk', 'danyal.farhat@nu.edu.pk', 'esha.razia@nu.edu.pk', 'fraz.yousaf@nu.edu.pk', 'usama.hassan@nu.edu.pk', 'hamad.ulqudous@nu.edu.pk', 'hina.iqbal@nu.edu.pk', 'hira.butt@nu.edu.pk', 'kiran.khurshid@nu.edu.pk', 'muhammad.saif@nu.edu.pk', 'maham.naeem@nu.edu.pk', 'mamoona.akbar@nu.edu.pk', 'mamoona.majid@nu.edu.pk', 'maryam.nasim@nu.edu.pk', 'marwa.khan@nu.edu.pk', 'mehroze.khan@nu.edu.pk', 'momna.zaneb@nu.edu.pk', 'mubashar.hussain@nu.edu.pk', 'muhammad.naveed@nu.edu.pk', 'umarbin.farooq@nu.edu.pk', 'namra.absar@nu.edu.pk', 'nosheen.manzoor@nu.edu.pk', 'rakhshan.imtiaz@nu.edu.pk', 'razi.uddin@nu.edu.pk', 'rubab.anam@nu.edu.pk', 'rushda.muneer@nu.edu.pk', 'saba.ghani@nu.edu.pk', 'saba.tariq@nu.edu.pk', 'saifullah.tanvir@nu.edu.pk', 'sajid.kazmi@nu.edu.pk', 'salman.shoaib@nu.edu.pk', 'sana.fatima@nu.edu.pk', 'seemab.ayub@nu.edu.pk', 'ayaz.gillani@nu.edu.pk', 'uzair.naqvi@nu.edu.pk', 'umme.ammarah@nu.edu.pk', 'usman.anwer@lhr.nu.edu.pk', 'rana.waqasali@nu.edu.pk', 'zeeshan.nazar@nu.edu.pk', 'jawad.mustasim@nu.edu.pk', 'amina.qaiser@nu.edu.pk', 'aqib.zeeshan@nu.edu.pk', 'durraiz.waseem@nu.edu.pk', 'eisha.khan@nu.edu.pk', 'hashir.mhsineen@lhr.nu.edu.pk', 'junaid.hussain@nu.edu.pk', 'm.faheem@nu.edu.pk', 'm.hasan@nu.edu.pk', 'm.kamran@nu.edu.pk', 'sukhan.amir@nu.edu.pk', 'zehra.batool@nu.edu.pk', 'zoha.waheed@nu.edu.pk', 'zulqarnain.Ishaq@nu.edu.pk', 'amir.iqbal@nu.edu.pk', 'nauman.moazzam@nu.edu.pk', 'samman.ashraf@nu.edu.pk', 'saima.zafar@nu.edu.pk', 'sm.sajid@nu.edu.pk', 'aun.abbas@nu.edu.pk', 'omer.saleem@nu.edu.pk', 'afzal.ahmed@nu.edu.pk', 'kashif.saeed@nu.edu.pk', 'm.akmal@nu.edu.pk', 'm.naeem@nu.edu.pk', 'abdul.majid@nu.edu.pk', 'beenish.fatima@nu.edu.pk', 'haris.kazmi@nu.edu.pk', 'mohsin.yousuf@nu.edu.pk', 'shazia.haque@nu.edu.pk', 'tamania.javaid@nu.edu.pk', 'abeer.bashir@nu.edu.pk', 'ahmad.hamza@nu.edu.pk', 'akbari.yaqoob@nu.edu.pk', 'aroosa.umair@nu.edu.pk', 'khalid.ijaz@nu.edu.pk', 'sara.kiran@nu.edu.pk', 'maaz.ahmed@nu.edu.pk', 'muhammad.ismail@nu.edu.pk', 'umer.altaf@nu.edu.pk', 'usama.faiz@nu.edu.pk', 'aliha.tanveer@nu.edu.pk', 'daniyal.ahmed@nu.edu.pk', 'eman.dar@nu.edu.pk', 'muiz.malik@nu.edu.pk', 'haniya.waheed@nu.edu.pk', 'sughra.kamran@nu.edu.pk', 'tauqir.ahmed@nu.edu.pk', 'shahid.ali@nu.edu.pk', 'syed.ali@nu.edu.pk', 'mubashir.aziz@nu.edu.pk', 'm.umar@nu.edu.pk', 'muhammad.azam@nu.edu.pk', 'aliraza.khalid@nu.edu.pk', 'umar.niazi@nu.edu.pk', 'anns.tahir@nu.edu.pk', 'asim.iqbal@nu.edu.pk', 'asim.sharif@nu.edu.pk', 'fahad.haseeb@nu.edu.pk', 'hamza.ali@nu.edu.pk', 'mahnoor.akram@nu.edu.pk', 'sania.khalid@nu.edu.pk', 'abdur.rehman@nu.edu.pk', 'abu.huraira@nu.edu.pk', 'kashif.hameed@nu.edu.pk', 'umer.amin@nu.edu.pk', 'maham.akram@nu.edu.pk', 'muhammad.zaid@nu.edu.pk', 'hamid.hassan@nu.edu.pk', 'akbar.azam@nu.edu.pk', 'munazza.saeed@nu.edu.pk', 'amna.farrukh@nu.edu.pk', 'beenish.arshad@nu.edu.pk', 'mujahid.hussain@nu.edu.pk', 'fatima.omer@nu.edu.pk', 'komal.kamran@nu.edu.pk', 'mian.atif @nu.edu.pk', 'wasif.zafar@nu.edu.pk', 'saif.maqbool@nu.edu.pk', 'umer.iqbal@nu.edu.pk', 'zia.khan@nu.edu.pk', 'allauddin@gmail.com', 'shakeel.ahmad@nu.edu.pk', 'aiza.aftab@nu.edu.pk', 'aroosa.safdar@nu.edu.pk', 'bilal.qaisar@nu.edu.pk', 'fatima.habib@nu.edu.pk', 'ghulam.fatima@nu.edu.pk', 'iman.ilyas@nu.edu.pk', 'irma.tariq@nu.edu.pk', 'khadija.aslam@nu.edu.pk', 'misal.hasan@nu.edu.pk', 'mobeen.ajmal@nu.edu.pk', 'noor.zahid@nu.edu.pk', 'salmaan.rahman@nu.edu.pk', 'sidra.salman@nu.edu.pk', 'sundas.munir@nu.edu.pk', 'zunaira.ahmed@nu.edu.pk', 'alishba.nisar@nu.edu.pk', 'attiqa.sohail@nu.edu.pk', 'fatima.zeb@nu.edu.pk', 'sadia.manzoor@nu.edu.pk', 'fatima.jaffery@nu.edu.pk', 'fatima.naqvi@nu.edu.pk', 'saleena@nu.edu.pk', 'mubashir.qayyum@nu.edu.pk', 'akhlaq.ahmad@nu.edu.pk', 'mazhar.hussain@nu.edu.pk', 'saman.shahid@nu.edu.pk', 'sumaira.sarfraz@nu.edu.pk', 'farasat.shamir@nu.edu.pk', 'saeeda.zia@nu.edu.pk', 'hina.firdous@nu.edu.pk', 'hira.iqbal@nu.edu.pk', 'iram.amjad@nu.edu.pk', 'tahir.rashid@nu.edu.pk', 'sara.khan1@nu.edu.pk', 'tayyaba.naz@nu.edu.pk', 'zahida.mansoor@nu.edu.pk', 'hajra.ikram@nu.edu.pk', 'ali.zulfiqar@nu.edu.pk', 'abdul.sattar@nu.edu.pk', 'aisha.bano@nu.edu.pk', 'aqsa.naz@nu.edu.pk', 'ayesha.saeed@nu.edu.pk', 'hamza.janjua@nu.edu.pk', 'quratulain.fatima@nu.edu.pk', 'kanwal.saleem@nu.edu.pk', 'm.yaseen@nu.edu.pk', 'muznah.saleha@nu.edu.pk', 'namra.fazal@nu.edu.pk', 'nokhaiz.zahra@nu.edu.pk', 'razm.zafar@nu.edu.pk', 'rubab.arshad@nu.edu.pk', 'Sarah.ahmad@nu.edu.pk', 'tasduque.hussain@nu.edu.pk', 'mahnoor.chaudhary@nu.edu.pk']\n"
          ]
        }
      ]
    },
    {
      "cell_type": "code",
      "source": [
        "#highest education, department and extension need to be found from a new url\n",
        "#(ie the one that opens when we click upon the faculty member) so we store those in new list\n",
        "lhrProfiles = []\n",
        "\n",
        "source=\"https://lhr.nu.edu.pk\"\n",
        "for link in soup.find_all('a', class_='faculty-link'):\n",
        "  lhrProfiles.append(source + link.get('href'))\n",
        "\n",
        "print(lhrProfiles)"
      ],
      "metadata": {
        "colab": {
          "base_uri": "https://localhost:8080/"
        },
        "id": "EM24G6wb_4qY",
        "outputId": "2759fc94-711c-4545-ef13-1ea3bd0b0bee"
      },
      "execution_count": 10,
      "outputs": [
        {
          "output_type": "stream",
          "name": "stdout",
          "text": [
            "['https://lhr.nu.edu.pk/fsc/facultyProfile/1238', 'https://lhr.nu.edu.pk/fsc/facultyProfile/4027', 'https://lhr.nu.edu.pk/fsc/facultyProfile/4391', 'https://lhr.nu.edu.pk/fsc/facultyProfile/6113', 'https://lhr.nu.edu.pk/fsc/facultyProfile/9540', 'https://lhr.nu.edu.pk/fsc/facultyProfile/4329', 'https://lhr.nu.edu.pk/fsc/facultyProfile/6968', 'https://lhr.nu.edu.pk/fsc/facultyProfile/9113', 'https://lhr.nu.edu.pk/fsc/facultyProfile/6174', 'https://lhr.nu.edu.pk/fsc/facultyProfile/4335', 'https://lhr.nu.edu.pk/fsc/facultyProfile/5181', 'https://lhr.nu.edu.pk/fsc/facultyProfile/4261', 'https://lhr.nu.edu.pk/fsc/facultyProfile/6048', 'https://lhr.nu.edu.pk/fsc/facultyProfile/5116', 'https://lhr.nu.edu.pk/fsc/facultyProfile/6811', 'https://lhr.nu.edu.pk/fsc/facultyProfile/4236', 'https://lhr.nu.edu.pk/fsc/facultyProfile/6418', 'https://lhr.nu.edu.pk/fsc/facultyProfile/6667', 'https://lhr.nu.edu.pk/fsc/facultyProfile/4677', 'https://lhr.nu.edu.pk/fsc/facultyProfile/6562', 'https://lhr.nu.edu.pk/fsc/facultyProfile/9539', 'https://lhr.nu.edu.pk/fsc/facultyProfile/5114', 'https://lhr.nu.edu.pk/fsc/facultyProfile/6302', 'https://lhr.nu.edu.pk/fsc/facultyProfile/6255', 'https://lhr.nu.edu.pk/fsc/facultyProfile/5466', 'https://lhr.nu.edu.pk/fsc/facultyProfile/5424', 'https://lhr.nu.edu.pk/fsc/facultyProfile/3720', 'https://lhr.nu.edu.pk/fsc/facultyProfile/5054', 'https://lhr.nu.edu.pk/fsc/facultyProfile/4234', 'https://lhr.nu.edu.pk/fsc/facultyProfile/4015', 'https://lhr.nu.edu.pk/fsc/facultyProfile/4507', 'https://lhr.nu.edu.pk/fsc/facultyProfile/4239', 'https://lhr.nu.edu.pk/fsc/facultyProfile/5103', 'https://lhr.nu.edu.pk/fsc/facultyProfile/5221', 'https://lhr.nu.edu.pk/fsc/facultyProfile/5115', 'https://lhr.nu.edu.pk/fsc/facultyProfile/4232', 'https://lhr.nu.edu.pk/fsc/facultyProfile/5230', 'https://lhr.nu.edu.pk/fsc/facultyProfile/6172', 'https://lhr.nu.edu.pk/fsc/facultyProfile/6311', 'https://lhr.nu.edu.pk/fsc/facultyProfile/6379', 'https://lhr.nu.edu.pk/fsc/facultyProfile/6924', 'https://lhr.nu.edu.pk/fsc/facultyProfile/6305', 'https://lhr.nu.edu.pk/fsc/facultyProfile/6723', 'https://lhr.nu.edu.pk/fsc/facultyProfile/6553', 'https://lhr.nu.edu.pk/fsc/facultyProfile/6788', 'https://lhr.nu.edu.pk/fsc/facultyProfile/6274', 'https://lhr.nu.edu.pk/fsc/facultyProfile/6308', 'https://lhr.nu.edu.pk/fsc/facultyProfile/6307', 'https://lhr.nu.edu.pk/fsc/facultyProfile/6551', 'https://lhr.nu.edu.pk/fsc/facultyProfile/6419', 'https://lhr.nu.edu.pk/fsc/facultyProfile/6820', 'https://lhr.nu.edu.pk/fsc/facultyProfile/6588', 'https://lhr.nu.edu.pk/fsc/facultyProfile/6277', 'https://lhr.nu.edu.pk/fsc/facultyProfile/6253', 'https://lhr.nu.edu.pk/fsc/facultyProfile/6549', 'https://lhr.nu.edu.pk/fsc/facultyProfile/7059', 'https://lhr.nu.edu.pk/fsc/facultyProfile/6770', 'https://lhr.nu.edu.pk/fsc/facultyProfile/6560', 'https://lhr.nu.edu.pk/fsc/facultyProfile/6295', 'https://lhr.nu.edu.pk/fsc/facultyProfile/6415', 'https://lhr.nu.edu.pk/fsc/facultyProfile/6114', 'https://lhr.nu.edu.pk/fsc/facultyProfile/7060', 'https://lhr.nu.edu.pk/fsc/facultyProfile/6554', 'https://lhr.nu.edu.pk/fsc/facultyProfile/7136', 'https://lhr.nu.edu.pk/fsc/facultyProfile/7107', 'https://lhr.nu.edu.pk/fsc/facultyProfile/5967', 'https://lhr.nu.edu.pk/fsc/facultyProfile/6552', 'https://lhr.nu.edu.pk/fsc/facultyProfile/7057', 'https://lhr.nu.edu.pk/fsc/facultyProfile/5787', 'https://lhr.nu.edu.pk/fsc/facultyProfile/6771', 'https://lhr.nu.edu.pk/fsc/facultyProfile/6268', 'https://lhr.nu.edu.pk/fsc/facultyProfile/6773', 'https://lhr.nu.edu.pk/fsc/facultyProfile/5986', 'https://lhr.nu.edu.pk/fsc/facultyProfile/6171', 'https://lhr.nu.edu.pk/fsc/facultyProfile/6719', 'https://lhr.nu.edu.pk/fsc/facultyProfile/6925', 'https://lhr.nu.edu.pk/fsc/facultyProfile/6309', 'https://lhr.nu.edu.pk/fsc/facultyProfile/6559', 'https://lhr.nu.edu.pk/fsc/facultyProfile/6722', 'https://lhr.nu.edu.pk/fsc/facultyProfile/6927', 'https://lhr.nu.edu.pk/fsc/facultyProfile/6662', 'https://lhr.nu.edu.pk/fsc/facultyProfile/7064', 'https://lhr.nu.edu.pk/fsc/facultyProfile/6928', 'https://lhr.nu.edu.pk/fsc/facultyProfile/6791', 'https://lhr.nu.edu.pk/fsc/facultyProfile/7063', 'https://lhr.nu.edu.pk/fsc/facultyProfile/6665', 'https://lhr.nu.edu.pk/fsc/facultyProfile/6838', 'https://lhr.nu.edu.pk/fsc/facultyProfile/6422', 'https://lhr.nu.edu.pk/fsc/facultyProfile/7062', 'https://lhr.nu.edu.pk/fsc/facultyProfile/6767', 'https://lhr.nu.edu.pk/fsc/facultyProfile/7065', 'https://lhr.nu.edu.pk/fsc/facultyProfile/6718', 'https://lhr.nu.edu.pk/fsc/facultyProfile/6568', 'https://lhr.nu.edu.pk/fsc/facultyProfile/6663', 'https://lhr.nu.edu.pk/fsc/facultyProfile/6943', 'https://lhr.nu.edu.pk/fsc/facultyProfile/6772', 'https://lhr.nu.edu.pk/fsc/facultyProfile/6176', 'https://lhr.nu.edu.pk/fsc/facultyProfile/6558', 'https://lhr.nu.edu.pk/ee/facultyProfile/4198', 'https://lhr.nu.edu.pk/ee/facultyProfile/4108', 'https://lhr.nu.edu.pk/ee/facultyProfile/5421', 'https://lhr.nu.edu.pk/ee/facultyProfile/4609', 'https://lhr.nu.edu.pk/ee/facultyProfile/7121', 'https://lhr.nu.edu.pk/ee/facultyProfile/9452', 'https://lhr.nu.edu.pk/ee/facultyProfile/7084', 'https://lhr.nu.edu.pk/ee/facultyProfile/7087', 'https://lhr.nu.edu.pk/ee/facultyProfile/4023', 'https://lhr.nu.edu.pk/ee/facultyProfile/4233', 'https://lhr.nu.edu.pk/ee/facultyProfile/3669', 'https://lhr.nu.edu.pk/ee/facultyProfile/3461', 'https://lhr.nu.edu.pk/ee/facultyProfile/4484', 'https://lhr.nu.edu.pk/ee/facultyProfile/3778', 'https://lhr.nu.edu.pk/ee/facultyProfile/7025', 'https://lhr.nu.edu.pk/ee/facultyProfile/6289', 'https://lhr.nu.edu.pk/ee/facultyProfile/3779', 'https://lhr.nu.edu.pk/ee/facultyProfile/5218', 'https://lhr.nu.edu.pk/ee/facultyProfile/7143', 'https://lhr.nu.edu.pk/ee/facultyProfile/4809', 'https://lhr.nu.edu.pk/ee/facultyProfile/6843', 'https://lhr.nu.edu.pk/ee/facultyProfile/5231', 'https://lhr.nu.edu.pk/ee/facultyProfile/6557', 'https://lhr.nu.edu.pk/ee/facultyProfile/7066', 'https://lhr.nu.edu.pk/ee/facultyProfile/7005', 'https://lhr.nu.edu.pk/ee/facultyProfile/7141', 'https://lhr.nu.edu.pk/ee/facultyProfile/7058', 'https://lhr.nu.edu.pk/ee/facultyProfile/6830', 'https://lhr.nu.edu.pk/ee/facultyProfile/7142', 'https://lhr.nu.edu.pk/ee/facultyProfile/7002', 'https://lhr.nu.edu.pk/cv/facultyProfile/5818', 'https://lhr.nu.edu.pk/cv/facultyProfile/9451', 'https://lhr.nu.edu.pk/cv/facultyProfile/5705', 'https://lhr.nu.edu.pk/cv/facultyProfile/5613', 'https://lhr.nu.edu.pk/cv/facultyProfile/6047', 'https://lhr.nu.edu.pk/cv/facultyProfile/6941', 'https://lhr.nu.edu.pk/cv/facultyProfile/9513', 'https://lhr.nu.edu.pk/cv/facultyProfile/5360', 'https://lhr.nu.edu.pk/cv/facultyProfile/6041', 'https://lhr.nu.edu.pk/cv/facultyProfile/4300', 'https://lhr.nu.edu.pk/cv/facultyProfile/6839', 'https://lhr.nu.edu.pk/cv/facultyProfile/5553', 'https://lhr.nu.edu.pk/cv/facultyProfile/6569', 'https://lhr.nu.edu.pk/cv/facultyProfile/6573', 'https://lhr.nu.edu.pk/cv/facultyProfile/7026', 'https://lhr.nu.edu.pk/cv/facultyProfile/6818', 'https://lhr.nu.edu.pk/cv/facultyProfile/6816', 'https://lhr.nu.edu.pk/cv/facultyProfile/6934', 'https://lhr.nu.edu.pk/cv/facultyProfile/6769', 'https://lhr.nu.edu.pk/cv/facultyProfile/6571', 'https://lhr.nu.edu.pk/cv/facultyProfile/6933', 'https://lhr.nu.edu.pk/fsm/facultyProfile/3924', 'https://lhr.nu.edu.pk/fsm/facultyProfile/4685', 'https://lhr.nu.edu.pk/fsm/facultyProfile/5559', 'https://lhr.nu.edu.pk/fsm/facultyProfile/6563', 'https://lhr.nu.edu.pk/fsm/facultyProfile/5227', 'https://lhr.nu.edu.pk/fsm/facultyProfile/5712', 'https://lhr.nu.edu.pk/fsm/facultyProfile/4629', 'https://lhr.nu.edu.pk/fsm/facultyProfile/6561', 'https://lhr.nu.edu.pk/fsm/facultyProfile/5423', 'https://lhr.nu.edu.pk/fsm/facultyProfile/7085', 'https://lhr.nu.edu.pk/fsm/facultyProfile/5427', 'https://lhr.nu.edu.pk/fsm/facultyProfile/6426', 'https://lhr.nu.edu.pk/fsm/facultyProfile/9495', 'https://lhr.nu.edu.pk/fsm/facultyProfile/4483', 'https://lhr.nu.edu.pk/fsm/facultyProfile/4647', 'https://lhr.nu.edu.pk/fsm/facultyProfile/6815', 'https://lhr.nu.edu.pk/fsm/facultyProfile/5517', 'https://lhr.nu.edu.pk/fsm/facultyProfile/6930', 'https://lhr.nu.edu.pk/fsm/facultyProfile/5518', 'https://lhr.nu.edu.pk/fsm/facultyProfile/6115', 'https://lhr.nu.edu.pk/fsm/facultyProfile/6709', 'https://lhr.nu.edu.pk/fsm/facultyProfile/6565', 'https://lhr.nu.edu.pk/fsm/facultyProfile/6664', 'https://lhr.nu.edu.pk/fsm/facultyProfile/7061', 'https://lhr.nu.edu.pk/fsm/facultyProfile/6812', 'https://lhr.nu.edu.pk/fsm/facultyProfile/6566', 'https://lhr.nu.edu.pk/fsm/facultyProfile/5713', 'https://lhr.nu.edu.pk/fsm/facultyProfile/6813', 'https://lhr.nu.edu.pk/fsm/facultyProfile/6303', 'https://lhr.nu.edu.pk/fsm/facultyProfile/6931', 'https://lhr.nu.edu.pk/fsm/facultyProfile/7016', 'https://lhr.nu.edu.pk/fsm/facultyProfile/7017', 'https://lhr.nu.edu.pk/fsm/facultyProfile/6789', 'https://lhr.nu.edu.pk/fsm/facultyProfile/7015', 'https://lhr.nu.edu.pk/fsm/facultyProfile/6964', 'https://lhr.nu.edu.pk/fsm/facultyProfile/6790', 'https://lhr.nu.edu.pk/fsm/facultyProfile/6932', 'https://lhr.nu.edu.pk/ss/facultyProfile/4332', 'https://lhr.nu.edu.pk/ss/facultyProfile/4020', 'https://lhr.nu.edu.pk/ss/facultyProfile/3712', 'https://lhr.nu.edu.pk/ss/facultyProfile/4250', 'https://lhr.nu.edu.pk/ss/facultyProfile/4018', 'https://lhr.nu.edu.pk/ss/facultyProfile/4584', 'https://lhr.nu.edu.pk/ss/facultyProfile/1250', 'https://lhr.nu.edu.pk/ss/facultyProfile/4608', 'https://lhr.nu.edu.pk/ss/facultyProfile/9172', 'https://lhr.nu.edu.pk/ss/facultyProfile/6768', 'https://lhr.nu.edu.pk/ss/facultyProfile/5437', 'https://lhr.nu.edu.pk/ss/facultyProfile/6926', 'https://lhr.nu.edu.pk/ss/facultyProfile/9173', 'https://lhr.nu.edu.pk/ss/facultyProfile/4243', 'https://lhr.nu.edu.pk/ss/facultyProfile/4244', 'https://lhr.nu.edu.pk/ss/facultyProfile/4245', 'https://lhr.nu.edu.pk/ss/facultyProfile/5438', 'https://lhr.nu.edu.pk/ss/facultyProfile/5622', 'https://lhr.nu.edu.pk/ss/facultyProfile/6555', 'https://lhr.nu.edu.pk/ss/facultyProfile/5203', 'https://lhr.nu.edu.pk/ss/facultyProfile/4397', 'https://lhr.nu.edu.pk/ss/facultyProfile/7056', 'https://lhr.nu.edu.pk/ss/facultyProfile/6421', 'https://lhr.nu.edu.pk/ss/facultyProfile/6365', 'https://lhr.nu.edu.pk/ss/facultyProfile/7067', 'https://lhr.nu.edu.pk/ss/facultyProfile/6178', 'https://lhr.nu.edu.pk/ss/facultyProfile/6420', 'https://lhr.nu.edu.pk/ss/facultyProfile/5795', 'https://lhr.nu.edu.pk/ss/facultyProfile/6548', 'https://lhr.nu.edu.pk/ss/facultyProfile/5337', 'https://lhr.nu.edu.pk/ss/facultyProfile/6363', 'https://lhr.nu.edu.pk/ss/facultyProfile/6567']\n"
          ]
        }
      ]
    },
    {
      "cell_type": "code",
      "source": [
        "#now using the list of profile urls we will visit each and get the data dynamically\n",
        "lhrEducation = []\n",
        "lhrDepartments = []\n",
        "lhrExtensions = []\n",
        "\n",
        "for profile in lhrProfiles:\n",
        "    response=requests.get(profile)\n",
        "    soup2 = BeautifulSoup(response.text, 'html.parser')\n",
        "    for dept in soup2.find_all('a', id='navbar-logo'):\n",
        "        #we use contents so that the entire text (which contains extra name of uni) is not stores\n",
        "        lhrDepartments.append(dept.contents[0].strip())\n",
        "\n",
        "    #Now breaking down find('div',class_='container').find('ul').find('li'):\n",
        "    edu_section = soup2.find('div', class_='container')\n",
        "    if edu_section:\n",
        "        ulList = edu_section.find('ul')\n",
        "        item = ulList.find('li') if ulList else None\n",
        "\n",
        "        lhrEducation.append(item.text.strip() if item else \"Unknown\")\n",
        "    else:\n",
        "        lhrEducation.append(\"Unknown\")\n",
        "\n",
        "    #Now scraping the extensions\n",
        "    for line in soup2.find_all('span', class_='small'):\n",
        "        if line:\n",
        "            extension = line.text.strip()\n",
        "            ext = extension.split(':')\n",
        "            if(ext[-1].isdigit()):\n",
        "                lhrExtensions.append(int(ext[-1]))\n",
        "            else:\n",
        "                lhrExtensions.append('none')\n",
        "        else:\n",
        "            lhrExtensions.append('none')\n",
        "\n",
        "print(lhrDepartments)\n",
        "print(lhrEducation)\n",
        "print(lhrExtensions)"
      ],
      "metadata": {
        "colab": {
          "base_uri": "https://localhost:8080/"
        },
        "id": "7DAyhfyw_8VQ",
        "outputId": "b4d2182b-bc99-46b0-ae82-8a6c51b486f1"
      },
      "execution_count": 11,
      "outputs": [
        {
          "output_type": "stream",
          "name": "stdout",
          "text": [
            "['FAST School of Computing', 'FAST School of Computing', 'FAST School of Computing', 'FAST School of Computing', 'FAST School of Computing', 'FAST School of Computing', 'FAST School of Computing', 'FAST School of Computing', 'FAST School of Computing', 'FAST School of Computing', 'FAST School of Computing', 'FAST School of Computing', 'FAST School of Computing', 'FAST School of Computing', 'FAST School of Computing', 'FAST School of Computing', 'FAST School of Computing', 'FAST School of Computing', 'FAST School of Computing', 'FAST School of Computing', 'FAST School of Computing', 'FAST School of Computing', 'FAST School of Computing', 'FAST School of Computing', 'FAST School of Computing', 'FAST School of Computing', 'FAST School of Computing', 'FAST School of Computing', 'FAST School of Computing', 'FAST School of Computing', 'FAST School of Computing', 'FAST School of Computing', 'FAST School of Computing', 'FAST School of Computing', 'FAST School of Computing', 'FAST School of Computing', 'FAST School of Computing', 'FAST School of Computing', 'FAST School of Computing', 'FAST School of Computing', 'FAST School of Computing', 'FAST School of Computing', 'FAST School of Computing', 'FAST School of Computing', 'FAST School of Computing', 'FAST School of Computing', 'FAST School of Computing', 'FAST School of Computing', 'FAST School of Computing', 'FAST School of Computing', 'FAST School of Computing', 'FAST School of Computing', 'FAST School of Computing', 'FAST School of Computing', 'FAST School of Computing', 'FAST School of Computing', 'FAST School of Computing', 'FAST School of Computing', 'FAST School of Computing', 'FAST School of Computing', 'FAST School of Computing', 'FAST School of Computing', 'FAST School of Computing', 'FAST School of Computing', 'FAST School of Computing', 'FAST School of Computing', 'FAST School of Computing', 'FAST School of Computing', 'FAST School of Computing', 'FAST School of Computing', 'FAST School of Computing', 'FAST School of Computing', 'FAST School of Computing', 'FAST School of Computing', 'FAST School of Computing', 'FAST School of Computing', 'FAST School of Computing', 'FAST School of Computing', 'FAST School of Computing', 'FAST School of Computing', 'FAST School of Computing', 'FAST School of Computing', 'FAST School of Computing', 'FAST School of Computing', 'FAST School of Computing', 'FAST School of Computing', 'FAST School of Computing', 'FAST School of Computing', 'FAST School of Computing', 'FAST School of Computing', 'FAST School of Computing', 'FAST School of Computing', 'FAST School of Computing', 'FAST School of Computing', 'FAST School of Computing', 'FAST School of Computing', 'FAST School of Computing', 'FAST School of Computing', 'Department of Electrical Engineering', 'Department of Electrical Engineering', 'Department of Electrical Engineering', 'Department of Electrical Engineering', 'Department of Electrical Engineering', 'Department of Electrical Engineering', 'Department of Electrical Engineering', 'Department of Electrical Engineering', 'Department of Electrical Engineering', 'Department of Electrical Engineering', 'Department of Electrical Engineering', 'Department of Electrical Engineering', 'Department of Electrical Engineering', 'Department of Electrical Engineering', 'Department of Electrical Engineering', 'Department of Electrical Engineering', 'Department of Electrical Engineering', 'Department of Electrical Engineering', 'Department of Electrical Engineering', 'Department of Electrical Engineering', 'Department of Electrical Engineering', 'Department of Electrical Engineering', 'Department of Electrical Engineering', 'Department of Electrical Engineering', 'Department of Electrical Engineering', 'Department of Electrical Engineering', 'Department of Electrical Engineering', 'Department of Electrical Engineering', 'Department of Electrical Engineering', 'Department of Electrical Engineering', 'Department of Civil Engineering', 'Department of Civil Engineering', 'Department of Civil Engineering', 'Department of Civil Engineering', 'Department of Civil Engineering', 'Department of Civil Engineering', 'Department of Civil Engineering', 'Department of Civil Engineering', 'Department of Civil Engineering', 'Department of Civil Engineering', 'Department of Civil Engineering', 'Department of Civil Engineering', 'Department of Civil Engineering', 'Department of Civil Engineering', 'Department of Civil Engineering', 'Department of Civil Engineering', 'Department of Civil Engineering', 'Department of Civil Engineering', 'Department of Civil Engineering', 'Department of Civil Engineering', 'Department of Civil Engineering', 'FAST School of Management', 'FAST School of Management', 'FAST School of Management', 'FAST School of Management', 'FAST School of Management', 'FAST School of Management', 'FAST School of Management', 'FAST School of Management', 'FAST School of Management', 'FAST School of Management', 'FAST School of Management', 'FAST School of Management', 'FAST School of Management', 'FAST School of Management', 'FAST School of Management', 'FAST School of Management', 'FAST School of Management', 'FAST School of Management', 'FAST School of Management', 'FAST School of Management', 'FAST School of Management', 'FAST School of Management', 'FAST School of Management', 'FAST School of Management', 'FAST School of Management', 'FAST School of Management', 'FAST School of Management', 'FAST School of Management', 'FAST School of Management', 'FAST School of Management', 'FAST School of Management', 'FAST School of Management', 'FAST School of Management', 'FAST School of Management', 'FAST School of Management', 'FAST School of Management', 'FAST School of Management', 'Department of Science & Humanities', 'Department of Science & Humanities', 'Department of Science & Humanities', 'Department of Science & Humanities', 'Department of Science & Humanities', 'Department of Science & Humanities', 'Department of Science & Humanities', 'Department of Science & Humanities', 'Department of Science & Humanities', 'Department of Science & Humanities', 'Department of Science & Humanities', 'Department of Science & Humanities', 'Department of Science & Humanities', 'Department of Science & Humanities', 'Department of Science & Humanities', 'Department of Science & Humanities', 'Department of Science & Humanities', 'Department of Science & Humanities', 'Department of Science & Humanities', 'Department of Science & Humanities', 'Department of Science & Humanities', 'Department of Science & Humanities', 'Department of Science & Humanities', 'Department of Science & Humanities', 'Department of Science & Humanities', 'Department of Science & Humanities', 'Department of Science & Humanities', 'Department of Science & Humanities', 'Department of Science & Humanities', 'Department of Science & Humanities', 'Department of Science & Humanities', 'Department of Science & Humanities']\n",
            "['PhD (CS), NUCES, Islamabad (2010)', 'PhD (CS), NUCES, Lahore (2019)', 'Ph.D(Computing), University of Patras , Greece (2002)', 'PhD (CS), NUCES, Lahore (2018)', 'Ph.D (CS), Northeastern University, Boston, USA (2014)', 'Ph.D (CS), NUCES, Lahore (2014)', 'PhD (CS), University Teknologi, Malaysia, (2015)', 'Ph.D (CS), University of Southern, California, United States (2010)', 'PhD (CS),UPMC (Paris VI ), France, (2012)', 'PhD (CS), University of Connecticut, USA (2016)', 'PhD (Electronics & Computer Engineering), Hongik University, South Korea (2016)', 'PhD (CS), NUCES, Lahore (2013)', 'PhD (Distributed Embedded Systems), University of Nice-Sophia Antipolis, France (2011)', 'PhD (CS), LUMS, Lahore (2023)', 'PhD (CS), University of Southern, California (2021)', 'PhD (Engineering & IT), University of Technology Sydney (UTS), Australia (2023)', 'PhD (CS), Monash University, Australia (2013)', 'PhD (PL), University of Frieburg, Germany (2011)', 'PhD (CS) NUCES, Lahore (2022)', 'PhD (CS), ITU, Lahore (2022)', 'Ph.D(Computer and Control Engineering), Politecno di Torino, Italy (2014)', 'Ph.D (CS), LUMS, Lahore (2016)', 'PhD (CS), LUMS, Lahore (2018)', 'PhD (Natural Science), TU Dortmund University, Germany (2016)', 'Ph.D (CS), LUMS, Lahore (2016)', 'Ph.D. (Bioengineering), The University of Illinois at Chicago, USA (2012)', 'MS (CS), NUCES, Lahore (2006)', 'MS(CS), NUCES, Lahore (2015)', 'M.S (TE), NUCES, Lahore (2012)', 'MS(CS), UCP, Lahore (2013)', 'MS (CS), NUCES, Lahore  (2010)', 'M.S (EE), NU- Lahore, Pakistan (2013)', 'MS (E& CE), Hanyang University, South Korea, Republic of (2011)', 'M.S(CS), FAST-NUCES Lahore, Pakistan (2016)', 'MS(CS), NUCES, Lahore (2014)', 'MS (CS), NUCES, Lahore (2007)', 'MS (CS), NUCES, Lahore (2015)', 'MS (Software Engineering), NUST, Islamabad (2020)', 'M PHIL (CS), PUCIT, Lahore (2020)', 'MS (AI), NUCES, Islamabad (2023)', 'MS (DS), ITU, Lahore (2023)', 'MS (CS), NUCES, Lahore (2020)', 'MS (Data Science), NUCES, Lahore (2023)', 'MS (CS), UCP, Lahore (2021)', 'MSc ( Electrical and Computer Engineering),  University of California Irvine, USA (2023)', 'MS (CS),NUCES, Lahore (2022)', 'MPhil (CS), PUCIT, Lahore (2019)', 'MS (CS), NUCES, Lahore (2016)', 'MS (SE), UET, Taxila (2015)', 'MS (CS), UCP, Lahore (2022)', 'MS (Software Project Management), NUCES, Lahore (2008)', 'MS (DS), NUCES, Karachi (2019)', 'MS (CS), NUCES, Lahore (2020)', 'MS (CS), NUCES, Lahore (2021)', 'MS (CS), UET, Lahore (2019)', 'MS (DS), NUST, Islamabad (2024)', 'MS (Computer Science), NUCES, Lahore (2022)', 'MS (CS), NUCES, Lahore (2021)', 'MS (SPM), NUCES, Lahore (2021)', 'MS (CS), COMSATS, Lahore (2021)', 'Unknown', 'MS (Electrical and Computer Science), University of Oklahoma, Tulsa (2021)', 'MPhil (CS), PUCIT, Lahore (2019)', 'MS (Information Security), NUST, Islamabad (2019)', 'MS (CS), NUCES, Lahore (2023)', 'MS (CS), NUCES, Lahore (2020)', 'MS (CS), LCWU, Lahore (2017)', 'MS (CS), Hanyang University, South Korea (2023)', 'MS (Computer Science), NUCES, Faisalabad (2019)', 'MS (CS), NUCES, Lahore (2023)', 'MS (CS), NUCES, Lahore (2021)', 'MPhil (CS), PUCIT, Lahore (2023)', 'MS (EE), NUCES, Lahore (2019)', 'MS (CS), NUCES, Lahore (2021)', 'BS (CS), PU, Lahore (2018)', 'MS (CS), UCP, Lahore (2022)', 'MS (CS), LUMS, Lahore (2020)', 'MPhil (CS), PU, Lahore (2020)', 'BS (CSE), Islamia University,  Bahawalpur (2015)', 'MS (SE), UMT, Lahore (2018)', 'MS (CS), NUCES, Peshawar (2021)', 'BS (Software Engineering), UCP, Lahore (2024)', 'BS (CS), NUCES Lahore (2023)', 'BS (Computer Science), UMT, Lahore (2015)', 'BS (CS), NUCES, Lahore (2021)', 'BS (Electrical Engineering), NUCES, Lahore (2023)', 'BS (Computer Science), NUCES, Chiniot- Faisalabad (2021)', 'BS (CS), NUCES, Lahore (2018)', 'BS (CS), NUCES, Lahore (2019)', 'MSc (CS), COMSATS, Sahiwal (2019)', 'BS (CS), NUCES, Lahore (2021)', 'BS (CS), NUCES, Lahore (2023)', 'MS (CS), NUCES, Lahore (2021)', 'BS (EE), NUCES, Lahore (2018)', 'BS (CS), NUCES, Lahore 2023', 'MS (CS), NUCES, Lahore (2007)', 'MS (EE), University of Southern California, USA (2001)', 'MS (CS), UCP, Lahore (2020)', 'PhD (Electrical Engineering), UET, Lahore (2011)', 'PhD (Electrical Engineering), Graz University of Technology , Austria (2007)', 'PhD (Electrical Engineering),Carleton University, Canada (1997)', 'PhD (Electrical Engineering), UET, Lahore (2021)', 'PhD (Communication and Information systems), Nanjing University of Aeronautics, China (2024)', 'PhD (Mechanical Engineering), ARTS ET METIERS PARIS TECH (ENSAM), France (2010)', 'PhD (EE), International Islamic University, Islamabad (2020)', 'PhD (EE), Capital University of Science and Technology, Islamabad (2022)', 'MSc (Electrical Engineering), UET, Lahore (2006)', 'MS (Telecom Engineering), NUCES, Lahore (2010)', 'ME (Engineering), Hamdard University, Karachi (2009)', 'MS (Electrical Engineering), NUCES, Lahore (2010)', 'MS (Information Technology), University of Melbourne , Australia (2006)', 'MS (Electrical Engineering), UET, Lahore (2008)', 'MS (Electrical Engineering), NUCES, Lahore (2015)', 'MS (Electrical Engineering), NUCES, Lahore (2021)', 'MS (Electrical Engineering), UMT, Lahore (2014)', 'MS (Electrical Engineering), NUCES, CFD (2017)', 'MS (EE), UMT, Lahore (2017)', 'MS (Electrical Engineering), NUCES, Lahore (2015)', 'ME (Electronic System Design), Sukkur IBA University (2023)', 'MSc (Power Electric Machines & Drives), University of Manchester, UK (2015)', 'MS (EE), Northwestern Polytechnical University, China (2017)', 'MS (EE), NUST, Islamabad (2024)', 'BS (Electrical Engineering), NUCES, Lahore (2024)', 'BS (EE), NUCES, Lahore (2024)', 'BS (Computer Engineering), COMSATS University, Islamabad (2023)', 'BS (Electrical Engineering), NUCES, Lahore (2023)', 'BS (EE), NUCES, Chiniot-Faisalabad (2024)', 'BS (Electrical Engineering), NUCES, Lahore (2024)', 'PhD (Civil Engineering), The University of Tokyo, Japan (2012)', 'PhD (Hydraulics), Delft University of Technology, Norway (2013)', 'Post-Doctorate (High Early Strength Self-Compacting Grout Systems), Technical University, Freiberg, Germany (2009)', 'PhD (Civil Engineering), University of Tokyo, Japan (20100-', 'PhD (Civil Engineering), University of Tokyo, Japan (2019)', 'PhD (Civil Engineering), Universiti Teknologi, Malaysia (2024)', 'MS (Structural Engineering), NUST, Islamabad (2014)', 'MS (Steel Construction), University of Sheffield, UK (2010)', 'MS (Civil Engineering), NUCES, Lahore (2023)', 'MPhil (Engg. Geology), PU, Lahore (2015)', 'MS (Civil Engineering), NUCES, Lahore (2018)', 'MS (Civil Engineering), NUCES, Lahore (2020)', 'MS (Structural Engineering), NUST, Islamabad (2024)', 'MS (Civil Engineering), NUCES, Lahore (2023)', 'M.Sc. (Hydraulics and Irrigation), UET, Lahore (2023)', 'BS (Civil Engineering), NUCES, Lahore (2023)', 'BS (Civil Engineering), NUCES, Lahore (2022)', 'BS (Civil Engineering), UMT, Lahore (2023)', 'BS (Civil Engineering), NUST, Islamabad (2023)', 'BS (Civil Engineering), NUCES, Lahore (2022)', 'BS (Civil Engineering), NUCES, Lahore, (2022)', 'PhD (HRM/Finance), University of Tsukuba, Japan (2007)', 'PhD (General Management), University of Bologna, Italy (2015)', 'PhD (Marketing), University of Malaya, Kuala Lumpur (2017)', 'PhD (Engineering Management), Massey University, Auckland, New Zealand (2023)', 'PhD (Management Science), NUCES, Lahore (2024)', 'PhD (Management Science), NUCES, Lahore (2018)', 'PhD (Management Science), NUCES, Lahore , Pakistan (2021)', 'PhD (Management Science), NUCES, Lahore (2022)', 'PhD (Finance), Massey University, New Zealand (2014)', 'PhD (Management Sciences), Beijing Institute Of Technology, China (2019)', 'PhD (MAS) University of Udine (2017)', 'Ph.D. in Accounting and Finance, Lincoln University, New Zealand (2020)', 'PhD (Management Sciences), Asian Institute of Technology (AIT), Thailand (2015)', 'CPA (Accounting & Finance), ACCA, UK (1988)', 'MS (Accounting & Finance), NUCES, Lahore (2020)', 'MS (Business Analytics), NUCES, Lahore (2023)', 'MBA (Finance), NUCES, Lahore (2016)', 'MS (Business Analytics),NUCES, Lahore (2024)', 'MBIT, PU, Lahore (2014)', 'MBA (AF), NUCES, Lahore (2022)', 'MS (Business Analytics), NUCES, Lahore (2023)', 'MBA, NUCES, Lahore (2023)', 'MS (Business Analytics), NUCES, Lahore (2023)', 'MBA (Marketing), LUMS, Lahore (2010)', 'MBA (Finance), LUMS, Lahore (2012)', 'MBA, NUCES, Lahore (2023)', 'MBA, Western Michigan University, USA (2009)', 'MSc (Accounting & Finance), BPP University, UK(2017)', 'CA, ICAP, Lahore (2017)', 'M.Phil (Applied Economics) FC College, Lahore (2018)', 'MBA (General), NUCES, Lahore (2024)', 'MBA (General), NUCES, Lahore (2024)', 'BBA, NUCES, Lahore (2023)', 'MBA (Marketing), NUCES, Lahore (2024)', 'MA (Economics), PU, Lahore (2004)', 'MBA (Marketing), NUCES, Lahore (2023)', 'ACMA (Accounts),  ICMAP (2003)', 'PhD (Applied Mathematics), NUCES, Peshawar (2018)', 'PhD (Mathematics/ Hypergraph Theory), GCU Lahore (2007)', 'PhD (Mathematics), QAU, Islamabad (2008)', 'PhD (Environmental Science), PU, Lahore (2015)', 'PhD (English), AJ&K University, Pakistan (2013)', 'Ph.D(Mathematics), National University of Computer and Emerging Sciences, Pakistan (2015)', 'PhD (Mathematics), NUCES Lahore (2020)', 'MPhil (Applied Mathematics), QAU, Islamabad (2007)', 'PhD (Mathematics), NUCES, Lahore (2020)', 'PhD (Linguistics), UMT, Lahore (2021)', 'PhD (Political Science), PU, Lahore (2022)', 'PhD (Linguistics), UMT, Lahore, (2022)', 'PhD (Mathematics), NUCES, Lahore (2020)', 'PhD (English), A&J University, Pakistan (2013)', 'MS (Applied Linguistics ), NUCES, Lahore (2017)', 'MPhil (Applied Linguistics), UMT, Lahore (2013)', 'MPhil (Pakistan Studies), QAU, Islamabad (2013)', 'MPhil,hazara university,MANSEHRA(2016)', 'MPhil (Eng. Lit.), UCP, Lahore (2022)', 'MPhil (Eng. Ling), Kinnaird College, Lahore (2013)', 'MPhil (Islamic Studies), Lahore Leads University (2017)', 'M.Phil (Islamic Studies), Government College University, Lahore (2019)', 'MPhil (Statistics), PU, Lahore (2018)', 'MS (Mathematics), University of Education, Lahore (2021)', 'MS (Political Science), Lahore College for Woman University, Lahore (2014)', 'MS (Applied Linguistics), NUCES, Lahore (2021)', 'MS (Applied Linguistics), NUCES, Lahore (2023)', 'MPhil (English), UMT, Lahore (2017)', 'MS (Applied Linguistics), NUCES, Lahore (2022)', 'MPhil (Statistics), PU, Lahore (2013)', 'MS (Mathematics), COMSATS, Islamabad (2022)', 'MPhil (Applied Linguistics), UMT, Lahore (2022)']\n",
            "[569, 572, 558, 634, 635, 612, 558, 311, 607, 212, 595, 617, 606, 586, 644, 621, 597, 614, 577, 625, 237, 591, 247, 553, 562, 227, 559, 593, 247, 214, 604, 247, 414, 219, 581, 641, 618, 552, 626, 'none', 551, 633, 360, 642, 556, 598, 582, 620, 560, 580, 594, 603, 615, 587, 602, 'none', 610, 629, 590, 638, 554, 'none', 557, 'none', 'none', 592, 637, 'none', 'none', 610, 575, 600, 570, 589, 627, 'none', 304, 631, 630, 600, 588, 'none', 599, 611, 'none', 'none', 630, 906, 'none', 611, 'none', 627, 525, 632, 'none', 'none', 619, 'none', 265, 315, 254, 364, 272, 244, 247, 235, 146, 314, 421, 317, 269, 309, 237, 'none', 309, 286, 248, 276, 'none', 287, 287, 104, 'none', 'none', 'none', 'none', 'none', 'none', 417, 339, 228, 'none', 450, 414, 433, 218, 426, 448, 446, 330, 'none', 236, 433, 'none', 'none', 447, 'none', 'none', 422, 252, 343, 445, 405, 444, 255, 295, 316, 408, 'none', 250, 242, 409, 360, 258, 431, 325, 354, 349, 301, 256, 306, 256, 'none', 354, 306, 'none', 324, 324, 353, 'none', 'none', 301, 'none', 451, 431, 353, 283, 284, 313, 206, 227, 317, 223, 340, 363, 518, 442, 526, 226, 412, 432, 310, 249, 'none', 236, 526, 524, 'none', 525, 465, 'none', 456, 456, 527, 236, 525, 524, 'none']\n"
          ]
        }
      ]
    },
    {
      "cell_type": "code",
      "source": [
        "lhrData = {\n",
        "  \"ID\": lhrIDs,\n",
        "  \"Name\": lhrNames,\n",
        "  \"Designation\": lhrDesignations,\n",
        "  \"HEC Approved Supervisor\": lhrApproved,\n",
        "  \"Highest Education\": lhrEducation,\n",
        "  \"Email\": lhrEmails,\n",
        "  \"Department\": lhrDepartments,\n",
        "  \"Extension\": lhrExtensions,\n",
        "  \"Image URL\": lhrImageURLs\n",
        "}"
      ],
      "metadata": {
        "id": "ojgznCmrADT-"
      },
      "execution_count": 12,
      "outputs": []
    },
    {
      "cell_type": "code",
      "source": [
        "#passing the data structure into dataframe for lahore\n",
        "dfLHR = pd.DataFrame(lhrData)\n",
        "print(dfLHR)"
      ],
      "metadata": {
        "colab": {
          "base_uri": "https://localhost:8080/"
        },
        "collapsed": true,
        "id": "zTV0fzdMAGcU",
        "outputId": "fd4f7348-9bfd-4be8-b059-204130bab46f"
      },
      "execution_count": 13,
      "outputs": [
        {
          "output_type": "stream",
          "name": "stdout",
          "text": [
            "       ID                        Name         Designation  \\\n",
            "0    1238            Dr. Kashif Zafar     Professor & HOD   \n",
            "1    4027              Dr. Aamir Wali           Professor   \n",
            "2    4391    Dr. Asif Mahmood Gillani           Professor   \n",
            "3    6113             Dr. Asma Naseer           Professor   \n",
            "4    9540           Dr. Maryam Bashir           Professor   \n",
            "..    ...                         ...                 ...   \n",
            "213  5795           Mr. Razm-ul-Zafar            Lecturer   \n",
            "214  6548            Ms. Rubab Arshad            Lecturer   \n",
            "215  5337             Ms. Sarah Ahmad            Lecturer   \n",
            "216  6363  Mr. Tasaduque Hussain Shah            Lecturer   \n",
            "217  6567        Ms. Mahnoor Chaudhry  Lecturer (English)   \n",
            "\n",
            "     HEC Approved Supervisor  \\\n",
            "0                       True   \n",
            "1                       True   \n",
            "2                       True   \n",
            "3                       True   \n",
            "4                       True   \n",
            "..                       ...   \n",
            "213                    False   \n",
            "214                    False   \n",
            "215                    False   \n",
            "216                    False   \n",
            "217                    False   \n",
            "\n",
            "                                     Highest Education  \\\n",
            "0                    PhD (CS), NUCES, Islamabad (2010)   \n",
            "1                       PhD (CS), NUCES, Lahore (2019)   \n",
            "2    Ph.D(Computing), University of Patras , Greece...   \n",
            "3                       PhD (CS), NUCES, Lahore (2018)   \n",
            "4    Ph.D (CS), Northeastern University, Boston, US...   \n",
            "..                                                 ...   \n",
            "213                MPhil (English), UMT, Lahore (2017)   \n",
            "214     MS (Applied Linguistics), NUCES, Lahore (2022)   \n",
            "215              MPhil (Statistics), PU, Lahore (2013)   \n",
            "216        MS (Mathematics), COMSATS, Islamabad (2022)   \n",
            "217    MPhil (Applied Linguistics), UMT, Lahore (2022)   \n",
            "\n",
            "                           Email                          Department  \\\n",
            "0         kashif.zafar@nu.edu.pk            FAST School of Computing   \n",
            "1           aamir.wali@nu.edu.pk            FAST School of Computing   \n",
            "2          asif.gilani@nu.edu.pk            FAST School of Computing   \n",
            "3          asma.naseer@nu.edu.pk            FAST School of Computing   \n",
            "4        maryam.bashir@nu.edu.pk            FAST School of Computing   \n",
            "..                           ...                                 ...   \n",
            "213         razm.zafar@nu.edu.pk  Department of Science & Humanities   \n",
            "214       rubab.arshad@nu.edu.pk  Department of Science & Humanities   \n",
            "215        Sarah.ahmad@nu.edu.pk  Department of Science & Humanities   \n",
            "216   tasduque.hussain@nu.edu.pk  Department of Science & Humanities   \n",
            "217  mahnoor.chaudhary@nu.edu.pk  Department of Science & Humanities   \n",
            "\n",
            "    Extension                                          Image URL  \n",
            "0         569  https://lhr.nu.edu.pk/media/Faculty/01._Dr_Kas...  \n",
            "1         572  https://lhr.nu.edu.pk/media/Faculty/51._Dr_Aam...  \n",
            "2         558  https://lhr.nu.edu.pk/media/Faculty/02._Dr_Asi...  \n",
            "3         634  https://lhr.nu.edu.pk/media/Faculty/07._Dr_Asm...  \n",
            "4         635  https://lhr.nu.edu.pk/media/Faculty/52._Dr_Mar...  \n",
            "..        ...                                                ...  \n",
            "213       527  https://lhr.nu.edu.pk/media/Faculty/166._Razm-...  \n",
            "214       236  https://lhr.nu.edu.pk/media/Faculty/172._Rubab...  \n",
            "215       525  https://lhr.nu.edu.pk/media/Faculty/163._Sarah...  \n",
            "216       524  https://lhr.nu.edu.pk/media/Faculty/168._Tasad...  \n",
            "217      none  https://lhr.nu.edu.pk/media/Faculty/175._Mahno...  \n",
            "\n",
            "[218 rows x 9 columns]\n"
          ]
        }
      ]
    },
    {
      "cell_type": "code",
      "source": [
        "#saving it to csv for lahore\n",
        "dfLHR.to_csv('lhr.csv', index=False)"
      ],
      "metadata": {
        "id": "tiFxKq2uAOCD"
      },
      "execution_count": 14,
      "outputs": []
    },
    {
      "cell_type": "markdown",
      "source": [
        "## **KARACHI FACULTY DATA SCRAPING**:"
      ],
      "metadata": {
        "id": "6fVr8xEA4UhU"
      }
    },
    {
      "cell_type": "code",
      "source": [
        "#KARACHI DATA\n",
        "URL_khi = 'https://khi.nu.edu.pk/faculty-php/'\n",
        "r = requests.get(URL_khi)\n",
        "print(r);"
      ],
      "metadata": {
        "colab": {
          "base_uri": "https://localhost:8080/"
        },
        "id": "OgbgIL98Krat",
        "outputId": "82347584-89e7-4136-e3a6-cb25cd8199c3"
      },
      "execution_count": 15,
      "outputs": [
        {
          "output_type": "stream",
          "name": "stdout",
          "text": [
            "<Response [200]>\n"
          ]
        }
      ]
    },
    {
      "cell_type": "code",
      "source": [
        "soup2 = BeautifulSoup(r.content, 'html.parser')"
      ],
      "metadata": {
        "id": "IOrmZqTGMct1"
      },
      "execution_count": 16,
      "outputs": []
    },
    {
      "cell_type": "code",
      "source": [
        "#Storing the list of faculty divs for karachi\n",
        "karachiFaculty = soup2.find_all('div', class_='gdlr-core-personnel-list')\n",
        "print(karachiFaculty)"
      ],
      "metadata": {
        "colab": {
          "base_uri": "https://localhost:8080/"
        },
        "id": "pjKp5wSQMf76",
        "outputId": "708e1ee0-fc58-41bd-d3ae-1f37d46b51c2"
      },
      "execution_count": 17,
      "outputs": [
        {
          "output_type": "stream",
          "name": "stdout",
          "text": [
            "[<div class=\"gdlr-core-personnel-list gdlr-core-outer-frame-element clearfix\" style=\"box-shadow: 5px 5px 5px rgba(214, 214, 214,0.2) ; -moz-box-shadow: 5px 5px 5px rgba(214, 214, 214,0.2) ; -webkit-box-shadow: 5px 5px 5px rgba(214, 214, 214,0.2) ; \"><div class=\"gdlr-core-personnel-list-image gdlr-core-media-image gdlr-core-hover-element gdlr-core-zoom-on-hover\"><a href=\"https://khi.nu.edu.pk/personnel/prof-dr-zulfiqar-ali-memon-phd/\"><img alt=\"\" data-lazyloaded=\"1\" data-src=\"https://khi.nu.edu.pk/wp-content/uploads/2023/01/Dr.-Zulfiqar-New-Image-287x300.jpg\" height=\"300\" src=\"data:image/svg+xml;base64,PHN2ZyB4bWxucz0iaHR0cDovL3d3dy53My5vcmcvMjAwMC9zdmciIHdpZHRoPSIyODciIGhlaWdodD0iMzAwIiB2aWV3Qm94PSIwIDAgMjg3IDMwMCI+PHJlY3Qgd2lkdGg9IjEwMCUiIGhlaWdodD0iMTAwJSIgc3R5bGU9ImZpbGw6I2NmZDRkYjtmaWxsLW9wYWNpdHk6IDAuMTsiLz48L3N2Zz4=\" title=\"Dr. Zulfiqar New Image\" width=\"287\"/></a><div class=\"gdlr-core-hover-opacity\"></div></div><div class=\"gdlr-core-personnel-list-content-wrap\"><h3 class=\"gdlr-core-personnel-list-title\" style=\"font-size: 14px ;\"><a href=\"https://khi.nu.edu.pk/personnel/prof-dr-zulfiqar-ali-memon-phd/\">Prof. Dr. Zulfiqar Ali Memon , PhD</a></h3><div class=\"gdlr-core-personnel-list-position gdlr-core-info-font gdlr-core-skin-caption\" style=\"font-style: normal ;\">Professor &amp; Director</div><div class=\"gdlr-core-personnel-info\"><div class=\"kingster-personnel-info-list kingster-type-email\"><i class=\"kingster-personnel-info-list-icon fa fa-envelope-open\"></i>zulfiqar.memon@nu.edu.pk</div><div class=\"kingster-personnel-info-list kingster-type-phone\"><i class=\"kingster-personnel-info-list-icon fa fa-phone\"></i>213</div></div><a class=\"gdlr-core-personnel-list-button gdlr-core-button\" href=\"https://khi.nu.edu.pk/personnel/prof-dr-zulfiqar-ali-memon-phd/\">More Detail</a></div></div>, <div class=\"gdlr-core-personnel-list gdlr-core-outer-frame-element clearfix\" style=\"box-shadow: 5px 5px 5px rgba(214, 214, 214,0.2) ; -moz-box-shadow: 5px 5px 5px rgba(214, 214, 214,0.2) ; -webkit-box-shadow: 5px 5px 5px rgba(214, 214, 214,0.2) ; \"><div class=\"gdlr-core-personnel-list-image gdlr-core-media-image gdlr-core-hover-element gdlr-core-zoom-on-hover\"><a href=\"https://khi.nu.edu.pk/personnel/dr-jawwad-a-shamsi-phd/\"><img alt=\"\" data-lazyloaded=\"1\" data-src=\"https://khi.nu.edu.pk/wp-content/uploads/2023/01/Dr.-Jawwad-A-Shamsi-Professor-226x300.png\" height=\"300\" src=\"data:image/svg+xml;base64,PHN2ZyB4bWxucz0iaHR0cDovL3d3dy53My5vcmcvMjAwMC9zdmciIHdpZHRoPSIyMjYiIGhlaWdodD0iMzAwIiB2aWV3Qm94PSIwIDAgMjI2IDMwMCI+PHJlY3Qgd2lkdGg9IjEwMCUiIGhlaWdodD0iMTAwJSIgc3R5bGU9ImZpbGw6I2NmZDRkYjtmaWxsLW9wYWNpdHk6IDAuMTsiLz48L3N2Zz4=\" title=\"Dr. Jawwad A Shamsi Professor\" width=\"226\"/></a><div class=\"gdlr-core-hover-opacity\"></div></div><div class=\"gdlr-core-personnel-list-content-wrap\"><h3 class=\"gdlr-core-personnel-list-title\" style=\"font-size: 14px ;\"><a href=\"https://khi.nu.edu.pk/personnel/dr-jawwad-a-shamsi-phd/\">Dr. Jawwad A. Shamsi, PhD</a></h3><div class=\"gdlr-core-personnel-list-position gdlr-core-info-font gdlr-core-skin-caption\" style=\"font-style: normal ;\">Professor &amp; Dean</div><div class=\"gdlr-core-personnel-info\"><div class=\"kingster-personnel-info-list kingster-type-email\"><i class=\"kingster-personnel-info-list-icon fa fa-envelope-open\"></i>jawwad.shamsi@nu.edu.pk</div><div class=\"kingster-personnel-info-list kingster-type-phone\"><i class=\"kingster-personnel-info-list-icon fa fa-phone\"></i>218</div></div><a class=\"gdlr-core-personnel-list-button gdlr-core-button\" href=\"https://khi.nu.edu.pk/personnel/dr-jawwad-a-shamsi-phd/\">More Detail</a></div></div>, <div class=\"gdlr-core-personnel-list gdlr-core-outer-frame-element clearfix\" style=\"box-shadow: 5px 5px 5px rgba(214, 214, 214,0.2) ; -moz-box-shadow: 5px 5px 5px rgba(214, 214, 214,0.2) ; -webkit-box-shadow: 5px 5px 5px rgba(214, 214, 214,0.2) ; \"><div class=\"gdlr-core-personnel-list-image gdlr-core-media-image gdlr-core-hover-element gdlr-core-zoom-on-hover\"><a href=\"https://khi.nu.edu.pk/personnel/dr-ghufran-ahmed-phd/\"><img alt=\"\" data-lazyloaded=\"1\" data-src=\"https://khi.nu.edu.pk/wp-content/uploads/2023/02/Dr.-Ghufran-Ahmed-Associate-Professor-226x300.jpg\" height=\"300\" src=\"data:image/svg+xml;base64,PHN2ZyB4bWxucz0iaHR0cDovL3d3dy53My5vcmcvMjAwMC9zdmciIHdpZHRoPSIyMjYiIGhlaWdodD0iMzAwIiB2aWV3Qm94PSIwIDAgMjI2IDMwMCI+PHJlY3Qgd2lkdGg9IjEwMCUiIGhlaWdodD0iMTAwJSIgc3R5bGU9ImZpbGw6I2NmZDRkYjtmaWxsLW9wYWNpdHk6IDAuMTsiLz48L3N2Zz4=\" title=\"Dr. Ghufran Ahmed, Associate Professor\" width=\"226\"/></a><div class=\"gdlr-core-hover-opacity\"></div></div><div class=\"gdlr-core-personnel-list-content-wrap\"><h3 class=\"gdlr-core-personnel-list-title\" style=\"font-size: 14px ;\"><a href=\"https://khi.nu.edu.pk/personnel/dr-ghufran-ahmed-phd/\">Dr. Ghufran Ahmed, PhD</a></h3><div class=\"gdlr-core-personnel-list-position gdlr-core-info-font gdlr-core-skin-caption\" style=\"font-style: normal ;\">Professor &amp; HoD Computer Science</div><div class=\"gdlr-core-personnel-info\"><div class=\"kingster-personnel-info-list kingster-type-email\"><i class=\"kingster-personnel-info-list-icon fa fa-envelope-open\"></i>ghufran.ahmed@nu.edu.pk</div><div class=\"kingster-personnel-info-list kingster-type-phone\"><i class=\"kingster-personnel-info-list-icon fa fa-phone\"></i>233</div></div><a class=\"gdlr-core-personnel-list-button gdlr-core-button\" href=\"https://khi.nu.edu.pk/personnel/dr-ghufran-ahmed-phd/\">More Detail</a></div></div>, <div class=\"gdlr-core-personnel-list gdlr-core-outer-frame-element clearfix\" style=\"box-shadow: 5px 5px 5px rgba(214, 214, 214,0.2) ; -moz-box-shadow: 5px 5px 5px rgba(214, 214, 214,0.2) ; -webkit-box-shadow: 5px 5px 5px rgba(214, 214, 214,0.2) ; \"><div class=\"gdlr-core-personnel-list-image gdlr-core-media-image gdlr-core-hover-element gdlr-core-zoom-on-hover\"><a href=\"https://khi.nu.edu.pk/personnel/dr-nouman-durrani-phd/\"><img alt=\"\" data-lazyloaded=\"1\" data-src=\"https://khi.nu.edu.pk/wp-content/uploads/2023/02/Dr.-M-Nouman-Durrani-Assistant-Professor-226x300.jpg\" height=\"300\" src=\"data:image/svg+xml;base64,PHN2ZyB4bWxucz0iaHR0cDovL3d3dy53My5vcmcvMjAwMC9zdmciIHdpZHRoPSIyMjYiIGhlaWdodD0iMzAwIiB2aWV3Qm94PSIwIDAgMjI2IDMwMCI+PHJlY3Qgd2lkdGg9IjEwMCUiIGhlaWdodD0iMTAwJSIgc3R5bGU9ImZpbGw6I2NmZDRkYjtmaWxsLW9wYWNpdHk6IDAuMTsiLz48L3N2Zz4=\" title=\"Dr. M Nouman Durrani Assistant Professor\" width=\"226\"/></a><div class=\"gdlr-core-hover-opacity\"></div></div><div class=\"gdlr-core-personnel-list-content-wrap\"><h3 class=\"gdlr-core-personnel-list-title\" style=\"font-size: 14px ;\"><a href=\"https://khi.nu.edu.pk/personnel/dr-nouman-durrani-phd/\">Dr. Nouman Durrani, PhD</a></h3><div class=\"gdlr-core-personnel-list-position gdlr-core-info-font gdlr-core-skin-caption\" style=\"font-style: normal ;\">Associate Professor</div><div class=\"gdlr-core-personnel-info\"><div class=\"kingster-personnel-info-list kingster-type-email\"><i class=\"kingster-personnel-info-list-icon fa fa-envelope-open\"></i>muhammad.nouman@nu.edu.pk</div><div class=\"kingster-personnel-info-list kingster-type-phone\"><i class=\"kingster-personnel-info-list-icon fa fa-phone\"></i>133</div></div><a class=\"gdlr-core-personnel-list-button gdlr-core-button\" href=\"https://khi.nu.edu.pk/personnel/dr-nouman-durrani-phd/\">More Detail</a></div></div>, <div class=\"gdlr-core-personnel-list gdlr-core-outer-frame-element clearfix\" style=\"box-shadow: 5px 5px 5px rgba(214, 214, 214,0.2) ; -moz-box-shadow: 5px 5px 5px rgba(214, 214, 214,0.2) ; -webkit-box-shadow: 5px 5px 5px rgba(214, 214, 214,0.2) ; \"><div class=\"gdlr-core-personnel-list-image gdlr-core-media-image gdlr-core-hover-element gdlr-core-zoom-on-hover\"><a href=\"https://khi.nu.edu.pk/personnel/dr-fahad-sherwani-phd/\"><img alt=\"\" data-lazyloaded=\"1\" data-src=\"https://khi.nu.edu.pk/wp-content/uploads/2023/03/Mr.-Fahad-Sherwani-Assistant-Professor-226x300.jpg\" height=\"300\" src=\"data:image/svg+xml;base64,PHN2ZyB4bWxucz0iaHR0cDovL3d3dy53My5vcmcvMjAwMC9zdmciIHdpZHRoPSIyMjYiIGhlaWdodD0iMzAwIiB2aWV3Qm94PSIwIDAgMjI2IDMwMCI+PHJlY3Qgd2lkdGg9IjEwMCUiIGhlaWdodD0iMTAwJSIgc3R5bGU9ImZpbGw6I2NmZDRkYjtmaWxsLW9wYWNpdHk6IDAuMTsiLz48L3N2Zz4=\" title=\"Mr. Fahad Sherwani, Assistant Professor\" width=\"226\"/></a><div class=\"gdlr-core-hover-opacity\"></div></div><div class=\"gdlr-core-personnel-list-content-wrap\"><h3 class=\"gdlr-core-personnel-list-title\" style=\"font-size: 14px ;\"><a href=\"https://khi.nu.edu.pk/personnel/dr-fahad-sherwani-phd/\">Dr. Fahad Sherwani , PhD</a></h3><div class=\"gdlr-core-personnel-list-position gdlr-core-info-font gdlr-core-skin-caption\" style=\"font-style: normal ;\">Assistant Professor</div><div class=\"gdlr-core-personnel-info\"><div class=\"kingster-personnel-info-list kingster-type-email\"><i class=\"kingster-personnel-info-list-icon fa fa-envelope-open\"></i>fahad.sherwani@nu.edu.pk</div><div class=\"kingster-personnel-info-list kingster-type-phone\"><i class=\"kingster-personnel-info-list-icon fa fa-phone\"></i>219</div></div><a class=\"gdlr-core-personnel-list-button gdlr-core-button\" href=\"https://khi.nu.edu.pk/personnel/dr-fahad-sherwani-phd/\">More Detail</a></div></div>, <div class=\"gdlr-core-personnel-list gdlr-core-outer-frame-element clearfix\" style=\"box-shadow: 5px 5px 5px rgba(214, 214, 214,0.2) ; -moz-box-shadow: 5px 5px 5px rgba(214, 214, 214,0.2) ; -webkit-box-shadow: 5px 5px 5px rgba(214, 214, 214,0.2) ; \"><div class=\"gdlr-core-personnel-list-image gdlr-core-media-image gdlr-core-hover-element gdlr-core-zoom-on-hover\"><a href=\"https://khi.nu.edu.pk/personnel/dr-nadeem-kafi-phd/\"><img alt=\"\" data-lazyloaded=\"1\" data-src=\"https://khi.nu.edu.pk/wp-content/uploads/2023/02/Dr.-Nadeem-Kafi-Khan-Assistant-Professor-1-233x300.jpg\" height=\"300\" src=\"data:image/svg+xml;base64,PHN2ZyB4bWxucz0iaHR0cDovL3d3dy53My5vcmcvMjAwMC9zdmciIHdpZHRoPSIyMzMiIGhlaWdodD0iMzAwIiB2aWV3Qm94PSIwIDAgMjMzIDMwMCI+PHJlY3Qgd2lkdGg9IjEwMCUiIGhlaWdodD0iMTAwJSIgc3R5bGU9ImZpbGw6I2NmZDRkYjtmaWxsLW9wYWNpdHk6IDAuMTsiLz48L3N2Zz4=\" title=\"Dr. Nadeem Kafi Khan Assistant Professor\" width=\"233\"/></a><div class=\"gdlr-core-hover-opacity\"></div></div><div class=\"gdlr-core-personnel-list-content-wrap\"><h3 class=\"gdlr-core-personnel-list-title\" style=\"font-size: 14px ;\"><a href=\"https://khi.nu.edu.pk/personnel/dr-nadeem-kafi-phd/\">Dr. Nadeem Kafi, PhD</a></h3><div class=\"gdlr-core-personnel-list-position gdlr-core-info-font gdlr-core-skin-caption\" style=\"font-style: normal ;\">Assistant Professor</div><div class=\"gdlr-core-personnel-info\"><div class=\"kingster-personnel-info-list kingster-type-email\"><i class=\"kingster-personnel-info-list-icon fa fa-envelope-open\"></i>nadeem.kafi@nu.edu.pk</div><div class=\"kingster-personnel-info-list kingster-type-phone\"><i class=\"kingster-personnel-info-list-icon fa fa-phone\"></i>131</div></div><a class=\"gdlr-core-personnel-list-button gdlr-core-button\" href=\"https://khi.nu.edu.pk/personnel/dr-nadeem-kafi-phd/\">More Detail</a></div></div>, <div class=\"gdlr-core-personnel-list gdlr-core-outer-frame-element clearfix\" style=\"box-shadow: 5px 5px 5px rgba(214, 214, 214,0.2) ; -moz-box-shadow: 5px 5px 5px rgba(214, 214, 214,0.2) ; -webkit-box-shadow: 5px 5px 5px rgba(214, 214, 214,0.2) ; \"><div class=\"gdlr-core-personnel-list-image gdlr-core-media-image gdlr-core-hover-element gdlr-core-zoom-on-hover\"><a href=\"https://khi.nu.edu.pk/personnel/dr-farrukh-hasan-syed-phd/\"><img alt=\"\" data-lazyloaded=\"1\" data-src=\"https://khi.nu.edu.pk/wp-content/uploads/2023/05/Dr.-Farrukh-Hassan-Syed-Assistant-Professor-226x300.jpg\" height=\"300\" src=\"data:image/svg+xml;base64,PHN2ZyB4bWxucz0iaHR0cDovL3d3dy53My5vcmcvMjAwMC9zdmciIHdpZHRoPSIyMjYiIGhlaWdodD0iMzAwIiB2aWV3Qm94PSIwIDAgMjI2IDMwMCI+PHJlY3Qgd2lkdGg9IjEwMCUiIGhlaWdodD0iMTAwJSIgc3R5bGU9ImZpbGw6I2NmZDRkYjtmaWxsLW9wYWNpdHk6IDAuMTsiLz48L3N2Zz4=\" title=\"Dr. Farrukh Hassan Syed Assistant Professor\" width=\"226\"/></a><div class=\"gdlr-core-hover-opacity\"></div></div><div class=\"gdlr-core-personnel-list-content-wrap\"><h3 class=\"gdlr-core-personnel-list-title\" style=\"font-size: 14px ;\"><a href=\"https://khi.nu.edu.pk/personnel/dr-farrukh-hasan-syed-phd/\">Dr. Farrukh Hasan Syed , PhD</a></h3><div class=\"gdlr-core-personnel-list-position gdlr-core-info-font gdlr-core-skin-caption\" style=\"font-style: normal ;\">Assistant Professor</div><div class=\"gdlr-core-personnel-info\"><div class=\"kingster-personnel-info-list kingster-type-email\"><i class=\"kingster-personnel-info-list-icon fa fa-envelope-open\"></i>farrukh.hasan@nu.edu.pk</div><div class=\"kingster-personnel-info-list kingster-type-phone\"><i class=\"kingster-personnel-info-list-icon fa fa-phone\"></i>132</div></div><a class=\"gdlr-core-personnel-list-button gdlr-core-button\" href=\"https://khi.nu.edu.pk/personnel/dr-farrukh-hasan-syed-phd/\">More Detail</a></div></div>, <div class=\"gdlr-core-personnel-list gdlr-core-outer-frame-element clearfix\" style=\"box-shadow: 5px 5px 5px rgba(214, 214, 214,0.2) ; -moz-box-shadow: 5px 5px 5px rgba(214, 214, 214,0.2) ; -webkit-box-shadow: 5px 5px 5px rgba(214, 214, 214,0.2) ; \"><div class=\"gdlr-core-personnel-list-image gdlr-core-media-image gdlr-core-hover-element gdlr-core-zoom-on-hover\"><a href=\"https://khi.nu.edu.pk/personnel/dr-farrukh-salim-shaikh-phd/\"><img alt=\"\" data-lazyloaded=\"1\" data-src=\"https://khi.nu.edu.pk/wp-content/uploads/2023/05/Dr-Farrukh-Salim-Shaikh-Assistant-Professor-CS-226x300.jpg\" height=\"300\" src=\"data:image/svg+xml;base64,PHN2ZyB4bWxucz0iaHR0cDovL3d3dy53My5vcmcvMjAwMC9zdmciIHdpZHRoPSIyMjYiIGhlaWdodD0iMzAwIiB2aWV3Qm94PSIwIDAgMjI2IDMwMCI+PHJlY3Qgd2lkdGg9IjEwMCUiIGhlaWdodD0iMTAwJSIgc3R5bGU9ImZpbGw6I2NmZDRkYjtmaWxsLW9wYWNpdHk6IDAuMTsiLz48L3N2Zz4=\" title=\"Dr Farrukh Salim Shaikh Assistant Professor CS\" width=\"226\"/></a><div class=\"gdlr-core-hover-opacity\"></div></div><div class=\"gdlr-core-personnel-list-content-wrap\"><h3 class=\"gdlr-core-personnel-list-title\" style=\"font-size: 14px ;\"><a href=\"https://khi.nu.edu.pk/personnel/dr-farrukh-salim-shaikh-phd/\">Dr. Farrukh Salim Shaikh, PhD</a></h3><div class=\"gdlr-core-personnel-list-position gdlr-core-info-font gdlr-core-skin-caption\" style=\"font-style: normal ;\">Assistant Professor</div><div class=\"gdlr-core-personnel-info\"><div class=\"kingster-personnel-info-list kingster-type-email\"><i class=\"kingster-personnel-info-list-icon fa fa-envelope-open\"></i>farrukh.salim@nu.edu.pk</div><div class=\"kingster-personnel-info-list kingster-type-phone\"><i class=\"kingster-personnel-info-list-icon fa fa-phone\"></i>167</div></div><a class=\"gdlr-core-personnel-list-button gdlr-core-button\" href=\"https://khi.nu.edu.pk/personnel/dr-farrukh-salim-shaikh-phd/\">More Detail</a></div></div>, <div class=\"gdlr-core-personnel-list gdlr-core-outer-frame-element clearfix\" style=\"box-shadow: 5px 5px 5px rgba(214, 214, 214,0.2) ; -moz-box-shadow: 5px 5px 5px rgba(214, 214, 214,0.2) ; -webkit-box-shadow: 5px 5px 5px rgba(214, 214, 214,0.2) ; \"><div class=\"gdlr-core-personnel-list-image gdlr-core-media-image gdlr-core-hover-element gdlr-core-zoom-on-hover\"><a href=\"https://khi.nu.edu.pk/personnel/dr-nausheen-shoaib-phd/\"><img alt=\"\" data-lazyloaded=\"1\" data-src=\"https://khi.nu.edu.pk/wp-content/uploads/2023/06/Dr-Nausheen-Shoaib-Assistant-Professor-226x300.jpg\" height=\"300\" src=\"data:image/svg+xml;base64,PHN2ZyB4bWxucz0iaHR0cDovL3d3dy53My5vcmcvMjAwMC9zdmciIHdpZHRoPSIyMjYiIGhlaWdodD0iMzAwIiB2aWV3Qm94PSIwIDAgMjI2IDMwMCI+PHJlY3Qgd2lkdGg9IjEwMCUiIGhlaWdodD0iMTAwJSIgc3R5bGU9ImZpbGw6I2NmZDRkYjtmaWxsLW9wYWNpdHk6IDAuMTsiLz48L3N2Zz4=\" title=\"Dr Nausheen Shoaib Assistant Professor\" width=\"226\"/></a><div class=\"gdlr-core-hover-opacity\"></div></div><div class=\"gdlr-core-personnel-list-content-wrap\"><h3 class=\"gdlr-core-personnel-list-title\" style=\"font-size: 14px ;\"><a href=\"https://khi.nu.edu.pk/personnel/dr-nausheen-shoaib-phd/\">Dr. Nausheen Shoaib , PhD</a></h3><div class=\"gdlr-core-personnel-list-position gdlr-core-info-font gdlr-core-skin-caption\" style=\"font-style: normal ;\">Assistant Professor</div><div class=\"gdlr-core-personnel-info\"><div class=\"kingster-personnel-info-list kingster-type-email\"><i class=\"kingster-personnel-info-list-icon fa fa-envelope-open\"></i>nausheen.shoaib@nu.edu.pk</div><div class=\"kingster-personnel-info-list kingster-type-phone\"><i class=\"kingster-personnel-info-list-icon fa fa-phone\"></i>280</div></div><a class=\"gdlr-core-personnel-list-button gdlr-core-button\" href=\"https://khi.nu.edu.pk/personnel/dr-nausheen-shoaib-phd/\">More Detail</a></div></div>, <div class=\"gdlr-core-personnel-list gdlr-core-outer-frame-element clearfix\" style=\"box-shadow: 5px 5px 5px rgba(214, 214, 214,0.2) ; -moz-box-shadow: 5px 5px 5px rgba(214, 214, 214,0.2) ; -webkit-box-shadow: 5px 5px 5px rgba(214, 214, 214,0.2) ; \"><div class=\"gdlr-core-personnel-list-image gdlr-core-media-image gdlr-core-hover-element gdlr-core-zoom-on-hover\"><a href=\"https://khi.nu.edu.pk/personnel/dr-aqsa-aslam-phd/\"><img alt=\"\" data-lazyloaded=\"1\" data-src=\"https://khi.nu.edu.pk/wp-content/uploads/2023/05/Dr.-Aqsa-Aslam-Assistant-Professor-233x300.jpg\" height=\"300\" src=\"data:image/svg+xml;base64,PHN2ZyB4bWxucz0iaHR0cDovL3d3dy53My5vcmcvMjAwMC9zdmciIHdpZHRoPSIyMzMiIGhlaWdodD0iMzAwIiB2aWV3Qm94PSIwIDAgMjMzIDMwMCI+PHJlY3Qgd2lkdGg9IjEwMCUiIGhlaWdodD0iMTAwJSIgc3R5bGU9ImZpbGw6I2NmZDRkYjtmaWxsLW9wYWNpdHk6IDAuMTsiLz48L3N2Zz4=\" title=\"Dr. Aqsa Aslam, Assistant Professor\" width=\"233\"/></a><div class=\"gdlr-core-hover-opacity\"></div></div><div class=\"gdlr-core-personnel-list-content-wrap\"><h3 class=\"gdlr-core-personnel-list-title\" style=\"font-size: 14px ;\"><a href=\"https://khi.nu.edu.pk/personnel/dr-aqsa-aslam-phd/\">Dr. Aqsa Aslam , PhD</a></h3><div class=\"gdlr-core-personnel-list-position gdlr-core-info-font gdlr-core-skin-caption\" style=\"font-style: normal ;\">Assistant Professor</div><div class=\"gdlr-core-personnel-info\"><div class=\"kingster-personnel-info-list kingster-type-email\"><i class=\"kingster-personnel-info-list-icon fa fa-envelope-open\"></i>aqsa.aslam@nu.edu.pk</div><div class=\"kingster-personnel-info-list kingster-type-phone\"><i class=\"kingster-personnel-info-list-icon fa fa-phone\"></i>220</div></div><a class=\"gdlr-core-personnel-list-button gdlr-core-button\" href=\"https://khi.nu.edu.pk/personnel/dr-aqsa-aslam-phd/\">More Detail</a></div></div>, <div class=\"gdlr-core-personnel-list gdlr-core-outer-frame-element clearfix\" style=\"box-shadow: 5px 5px 5px rgba(214, 214, 214,0.2) ; -moz-box-shadow: 5px 5px 5px rgba(214, 214, 214,0.2) ; -webkit-box-shadow: 5px 5px 5px rgba(214, 214, 214,0.2) ; \"><div class=\"gdlr-core-personnel-list-image gdlr-core-media-image gdlr-core-hover-element gdlr-core-zoom-on-hover\"><a href=\"https://khi.nu.edu.pk/personnel/dr-nasir-uddin-phd/\"><img alt=\"\" data-lazyloaded=\"1\" data-src=\"https://khi.nu.edu.pk/wp-content/uploads/2023/05/Dr-Nasiruddin-233x300.png\" height=\"300\" src=\"data:image/svg+xml;base64,PHN2ZyB4bWxucz0iaHR0cDovL3d3dy53My5vcmcvMjAwMC9zdmciIHdpZHRoPSIyMzMiIGhlaWdodD0iMzAwIiB2aWV3Qm94PSIwIDAgMjMzIDMwMCI+PHJlY3Qgd2lkdGg9IjEwMCUiIGhlaWdodD0iMTAwJSIgc3R5bGU9ImZpbGw6I2NmZDRkYjtmaWxsLW9wYWNpdHk6IDAuMTsiLz48L3N2Zz4=\" title=\"Dr Nasiruddin\" width=\"233\"/></a><div class=\"gdlr-core-hover-opacity\"></div></div><div class=\"gdlr-core-personnel-list-content-wrap\"><h3 class=\"gdlr-core-personnel-list-title\" style=\"font-size: 14px ;\"><a href=\"https://khi.nu.edu.pk/personnel/dr-nasir-uddin-phd/\">Dr. Nasir Uddin , PhD</a></h3><div class=\"gdlr-core-personnel-list-position gdlr-core-info-font gdlr-core-skin-caption\" style=\"font-style: normal ;\">Assistant Professor</div><div class=\"gdlr-core-personnel-info\"><div class=\"kingster-personnel-info-list kingster-type-email\"><i class=\"kingster-personnel-info-list-icon fa fa-envelope-open\"></i>nasir.uddin@nu.edu.pk</div><div class=\"kingster-personnel-info-list kingster-type-phone\"><i class=\"kingster-personnel-info-list-icon fa fa-phone\"></i>164</div></div><a class=\"gdlr-core-personnel-list-button gdlr-core-button\" href=\"https://khi.nu.edu.pk/personnel/dr-nasir-uddin-phd/\">More Detail</a></div></div>, <div class=\"gdlr-core-personnel-list gdlr-core-outer-frame-element clearfix\" style=\"box-shadow: 5px 5px 5px rgba(214, 214, 214,0.2) ; -moz-box-shadow: 5px 5px 5px rgba(214, 214, 214,0.2) ; -webkit-box-shadow: 5px 5px 5px rgba(214, 214, 214,0.2) ; \"><div class=\"gdlr-core-personnel-list-image gdlr-core-media-image gdlr-core-hover-element gdlr-core-zoom-on-hover\"><a href=\"https://khi.nu.edu.pk/personnel/ms-anam-qureshi/\"><img alt=\"\" data-lazyloaded=\"1\" data-src=\"https://khi.nu.edu.pk/wp-content/uploads/2023/05/Ms.-Anam-Qureshi-233x300.png\" height=\"300\" src=\"data:image/svg+xml;base64,PHN2ZyB4bWxucz0iaHR0cDovL3d3dy53My5vcmcvMjAwMC9zdmciIHdpZHRoPSIyMzMiIGhlaWdodD0iMzAwIiB2aWV3Qm94PSIwIDAgMjMzIDMwMCI+PHJlY3Qgd2lkdGg9IjEwMCUiIGhlaWdodD0iMTAwJSIgc3R5bGU9ImZpbGw6I2NmZDRkYjtmaWxsLW9wYWNpdHk6IDAuMTsiLz48L3N2Zz4=\" title=\"Ms.-Anam-Qureshi\" width=\"233\"/></a><div class=\"gdlr-core-hover-opacity\"></div></div><div class=\"gdlr-core-personnel-list-content-wrap\"><h3 class=\"gdlr-core-personnel-list-title\" style=\"font-size: 14px ;\"><a href=\"https://khi.nu.edu.pk/personnel/ms-anam-qureshi/\">Dr. Anam Qureshi , PhD</a></h3><div class=\"gdlr-core-personnel-list-position gdlr-core-info-font gdlr-core-skin-caption\" style=\"font-style: normal ;\">Assistant Professor</div><div class=\"gdlr-core-personnel-info\"><div class=\"kingster-personnel-info-list kingster-type-email\"><i class=\"kingster-personnel-info-list-icon fa fa-envelope-open\"></i>anam.qureshi@nu.edu.pk</div><div class=\"kingster-personnel-info-list kingster-type-phone\"><i class=\"kingster-personnel-info-list-icon fa fa-phone\"></i>231</div></div><a class=\"gdlr-core-personnel-list-button gdlr-core-button\" href=\"https://khi.nu.edu.pk/personnel/ms-anam-qureshi/\">More Detail</a></div></div>, <div class=\"gdlr-core-personnel-list gdlr-core-outer-frame-element clearfix\" style=\"box-shadow: 5px 5px 5px rgba(214, 214, 214,0.2) ; -moz-box-shadow: 5px 5px 5px rgba(214, 214, 214,0.2) ; -webkit-box-shadow: 5px 5px 5px rgba(214, 214, 214,0.2) ; \"><div class=\"gdlr-core-personnel-list-image gdlr-core-media-image gdlr-core-hover-element gdlr-core-zoom-on-hover\"><a href=\"https://khi.nu.edu.pk/personnel/dr-waheed-ahmed-abro/\"><img alt=\"\" data-lazyloaded=\"1\" data-src=\"https://khi.nu.edu.pk/wp-content/uploads/2023/05/Mr.-Waheed-Ahmed-Lecturer--226x300.jpg\" height=\"300\" src=\"data:image/svg+xml;base64,PHN2ZyB4bWxucz0iaHR0cDovL3d3dy53My5vcmcvMjAwMC9zdmciIHdpZHRoPSIyMjYiIGhlaWdodD0iMzAwIiB2aWV3Qm94PSIwIDAgMjI2IDMwMCI+PHJlY3Qgd2lkdGg9IjEwMCUiIGhlaWdodD0iMTAwJSIgc3R5bGU9ImZpbGw6I2NmZDRkYjtmaWxsLW9wYWNpdHk6IDAuMTsiLz48L3N2Zz4=\" title=\"Mr. Waheed Ahmed Lecturer\" width=\"226\"/></a><div class=\"gdlr-core-hover-opacity\"></div></div><div class=\"gdlr-core-personnel-list-content-wrap\"><h3 class=\"gdlr-core-personnel-list-title\" style=\"font-size: 14px ;\"><a href=\"https://khi.nu.edu.pk/personnel/dr-waheed-ahmed-abro/\">Dr. Waheed Ahmed Abro (On Leave)</a></h3><div class=\"gdlr-core-personnel-list-position gdlr-core-info-font gdlr-core-skin-caption\" style=\"font-style: normal ;\">Assistant Professor</div><div class=\"gdlr-core-personnel-info\"><div class=\"kingster-personnel-info-list kingster-type-email\"><i class=\"kingster-personnel-info-list-icon fa fa-envelope-open\"></i>waheedahmed@nu.edu.pk</div><div class=\"kingster-personnel-info-list kingster-type-phone\"><i class=\"kingster-personnel-info-list-icon fa fa-phone\"></i>-</div></div><a class=\"gdlr-core-personnel-list-button gdlr-core-button\" href=\"https://khi.nu.edu.pk/personnel/dr-waheed-ahmed-abro/\">More Detail</a></div></div>, <div class=\"gdlr-core-personnel-list gdlr-core-outer-frame-element clearfix\" style=\"box-shadow: 5px 5px 5px rgba(214, 214, 214,0.2) ; -moz-box-shadow: 5px 5px 5px rgba(214, 214, 214,0.2) ; -webkit-box-shadow: 5px 5px 5px rgba(214, 214, 214,0.2) ; \"><div class=\"gdlr-core-personnel-list-image gdlr-core-media-image gdlr-core-hover-element gdlr-core-zoom-on-hover\"><a href=\"https://khi.nu.edu.pk/personnel/engr-abdul-rahman/\"><img alt=\"\" data-lazyloaded=\"1\" data-src=\"https://khi.nu.edu.pk/wp-content/uploads/2023/05/Abdul-Rehman-1-233x300.png\" height=\"300\" src=\"data:image/svg+xml;base64,PHN2ZyB4bWxucz0iaHR0cDovL3d3dy53My5vcmcvMjAwMC9zdmciIHdpZHRoPSIyMzMiIGhlaWdodD0iMzAwIiB2aWV3Qm94PSIwIDAgMjMzIDMwMCI+PHJlY3Qgd2lkdGg9IjEwMCUiIGhlaWdodD0iMTAwJSIgc3R5bGU9ImZpbGw6I2NmZDRkYjtmaWxsLW9wYWNpdHk6IDAuMTsiLz48L3N2Zz4=\" title=\"Abdul-Rehman\" width=\"233\"/></a><div class=\"gdlr-core-hover-opacity\"></div></div><div class=\"gdlr-core-personnel-list-content-wrap\"><h3 class=\"gdlr-core-personnel-list-title\" style=\"font-size: 14px ;\"><a href=\"https://khi.nu.edu.pk/personnel/engr-abdul-rahman/\">Engr.  Abdul Rahman</a></h3><div class=\"gdlr-core-personnel-list-position gdlr-core-info-font gdlr-core-skin-caption\" style=\"font-style: normal ;\">Assistant Professor</div><div class=\"gdlr-core-personnel-info\"><div class=\"kingster-personnel-info-list kingster-type-email\"><i class=\"kingster-personnel-info-list-icon fa fa-envelope-open\"></i>abdulrahman@nu.edu.pk</div><div class=\"kingster-personnel-info-list kingster-type-phone\"><i class=\"kingster-personnel-info-list-icon fa fa-phone\"></i>236</div></div><a class=\"gdlr-core-personnel-list-button gdlr-core-button\" href=\"https://khi.nu.edu.pk/personnel/engr-abdul-rahman/\">More Detail</a></div></div>, <div class=\"gdlr-core-personnel-list gdlr-core-outer-frame-element clearfix\" style=\"box-shadow: 5px 5px 5px rgba(214, 214, 214,0.2) ; -moz-box-shadow: 5px 5px 5px rgba(214, 214, 214,0.2) ; -webkit-box-shadow: 5px 5px 5px rgba(214, 214, 214,0.2) ; \"><div class=\"gdlr-core-personnel-list-image gdlr-core-media-image gdlr-core-hover-element gdlr-core-zoom-on-hover\"><a href=\"https://khi.nu.edu.pk/personnel/mr-muhammad-jamil/\"><img alt=\"\" data-lazyloaded=\"1\" data-src=\"https://khi.nu.edu.pk/wp-content/uploads/2023/06/Mr-Jamil-Usmani-Assistant-Professor-CS-226x300.jpg\" height=\"300\" src=\"data:image/svg+xml;base64,PHN2ZyB4bWxucz0iaHR0cDovL3d3dy53My5vcmcvMjAwMC9zdmciIHdpZHRoPSIyMjYiIGhlaWdodD0iMzAwIiB2aWV3Qm94PSIwIDAgMjI2IDMwMCI+PHJlY3Qgd2lkdGg9IjEwMCUiIGhlaWdodD0iMTAwJSIgc3R5bGU9ImZpbGw6I2NmZDRkYjtmaWxsLW9wYWNpdHk6IDAuMTsiLz48L3N2Zz4=\" title=\"Mr Jamil Usmani Assistant Professor CS\" width=\"226\"/></a><div class=\"gdlr-core-hover-opacity\"></div></div><div class=\"gdlr-core-personnel-list-content-wrap\"><h3 class=\"gdlr-core-personnel-list-title\" style=\"font-size: 14px ;\"><a href=\"https://khi.nu.edu.pk/personnel/mr-muhammad-jamil/\">Mr. Muhammad Jamil</a></h3><div class=\"gdlr-core-personnel-list-position gdlr-core-info-font gdlr-core-skin-caption\" style=\"font-style: normal ;\">Assistant Professor</div><div class=\"gdlr-core-personnel-info\"><div class=\"kingster-personnel-info-list kingster-type-email\"><i class=\"kingster-personnel-info-list-icon fa fa-envelope-open\"></i>m.jamil@nu.edu.pk</div><div class=\"kingster-personnel-info-list kingster-type-phone\"><i class=\"kingster-personnel-info-list-icon fa fa-phone\"></i>245</div></div><a class=\"gdlr-core-personnel-list-button gdlr-core-button\" href=\"https://khi.nu.edu.pk/personnel/mr-muhammad-jamil/\">More Detail</a></div></div>, <div class=\"gdlr-core-personnel-list gdlr-core-outer-frame-element clearfix\" style=\"box-shadow: 5px 5px 5px rgba(214, 214, 214,0.2) ; -moz-box-shadow: 5px 5px 5px rgba(214, 214, 214,0.2) ; -webkit-box-shadow: 5px 5px 5px rgba(214, 214, 214,0.2) ; \"><div class=\"gdlr-core-personnel-list-image gdlr-core-media-image gdlr-core-hover-element gdlr-core-zoom-on-hover\"><a href=\"https://khi.nu.edu.pk/personnel/dr-nausheen-shoaib/\"><img alt=\"\" data-lazyloaded=\"1\" data-src=\"https://khi.nu.edu.pk/wp-content/uploads/2023/06/Ms-Rabia-Tabassum-Assistant-Professor-CS-226x300.jpg\" height=\"300\" src=\"data:image/svg+xml;base64,PHN2ZyB4bWxucz0iaHR0cDovL3d3dy53My5vcmcvMjAwMC9zdmciIHdpZHRoPSIyMjYiIGhlaWdodD0iMzAwIiB2aWV3Qm94PSIwIDAgMjI2IDMwMCI+PHJlY3Qgd2lkdGg9IjEwMCUiIGhlaWdodD0iMTAwJSIgc3R5bGU9ImZpbGw6I2NmZDRkYjtmaWxsLW9wYWNpdHk6IDAuMTsiLz48L3N2Zz4=\" title=\"Ms Rabia Tabassum Assistant Professor CS\" width=\"226\"/></a><div class=\"gdlr-core-hover-opacity\"></div></div><div class=\"gdlr-core-personnel-list-content-wrap\"><h3 class=\"gdlr-core-personnel-list-title\" style=\"font-size: 14px ;\"><a href=\"https://khi.nu.edu.pk/personnel/dr-nausheen-shoaib/\">Ms. Rabia Tabassum</a></h3><div class=\"gdlr-core-personnel-list-position gdlr-core-info-font gdlr-core-skin-caption\" style=\"font-style: normal ;\">Assistant Professor</div><div class=\"gdlr-core-personnel-info\"><div class=\"kingster-personnel-info-list kingster-type-email\"><i class=\"kingster-personnel-info-list-icon fa fa-envelope-open\"></i>rabia.tabassum@nu.edu.pk</div><div class=\"kingster-personnel-info-list kingster-type-phone\"><i class=\"kingster-personnel-info-list-icon fa fa-phone\"></i>235</div></div><a class=\"gdlr-core-personnel-list-button gdlr-core-button\" href=\"https://khi.nu.edu.pk/personnel/dr-nausheen-shoaib/\">More Detail</a></div></div>, <div class=\"gdlr-core-personnel-list gdlr-core-outer-frame-element clearfix\" style=\"box-shadow: 5px 5px 5px rgba(214, 214, 214,0.2) ; -moz-box-shadow: 5px 5px 5px rgba(214, 214, 214,0.2) ; -webkit-box-shadow: 5px 5px 5px rgba(214, 214, 214,0.2) ; \"><div class=\"gdlr-core-personnel-list-image gdlr-core-media-image gdlr-core-hover-element gdlr-core-zoom-on-hover\"><a href=\"https://khi.nu.edu.pk/personnel/mr-shahbaz-siddiqui/\"><img alt=\"\" data-lazyloaded=\"1\" data-src=\"https://khi.nu.edu.pk/wp-content/uploads/2023/06/Mr-Syed-Kashan-Hussain-Naqvi-Assistant-Professor-CS-226x300.jpg\" height=\"300\" src=\"data:image/svg+xml;base64,PHN2ZyB4bWxucz0iaHR0cDovL3d3dy53My5vcmcvMjAwMC9zdmciIHdpZHRoPSIyMjYiIGhlaWdodD0iMzAwIiB2aWV3Qm94PSIwIDAgMjI2IDMwMCI+PHJlY3Qgd2lkdGg9IjEwMCUiIGhlaWdodD0iMTAwJSIgc3R5bGU9ImZpbGw6I2NmZDRkYjtmaWxsLW9wYWNpdHk6IDAuMTsiLz48L3N2Zz4=\" title=\"Mr Syed Kashan Hussain Naqvi Assistant Professor CS\" width=\"226\"/></a><div class=\"gdlr-core-hover-opacity\"></div></div><div class=\"gdlr-core-personnel-list-content-wrap\"><h3 class=\"gdlr-core-personnel-list-title\" style=\"font-size: 14px ;\"><a href=\"https://khi.nu.edu.pk/personnel/mr-shahbaz-siddiqui/\">Mr. Syed Kashan Hussain Naqvi</a></h3><div class=\"gdlr-core-personnel-list-position gdlr-core-info-font gdlr-core-skin-caption\" style=\"font-style: normal ;\">Assistant Professor</div><div class=\"gdlr-core-personnel-info\"><div class=\"kingster-personnel-info-list kingster-type-email\"><i class=\"kingster-personnel-info-list-icon fa fa-envelope-open\"></i>kashan.hussain@nu.edu.pk</div><div class=\"kingster-personnel-info-list kingster-type-phone\"><i class=\"kingster-personnel-info-list-icon fa fa-phone\"></i>283</div></div><a class=\"gdlr-core-personnel-list-button gdlr-core-button\" href=\"https://khi.nu.edu.pk/personnel/mr-shahbaz-siddiqui/\">More Detail</a></div></div>, <div class=\"gdlr-core-personnel-list gdlr-core-outer-frame-element clearfix\" style=\"box-shadow: 5px 5px 5px rgba(214, 214, 214,0.2) ; -moz-box-shadow: 5px 5px 5px rgba(214, 214, 214,0.2) ; -webkit-box-shadow: 5px 5px 5px rgba(214, 214, 214,0.2) ; \"><div class=\"gdlr-core-personnel-list-image gdlr-core-media-image gdlr-core-hover-element gdlr-core-zoom-on-hover\"><a href=\"https://khi.nu.edu.pk/personnel/mr-ubaid-aftab/\"><img alt=\"\" data-lazyloaded=\"1\" data-src=\"https://khi.nu.edu.pk/wp-content/uploads/2023/06/Mr.-Ubaid-Aftab-Chawla-Adjunct-Assistant-Professor--240x300.jpg\" height=\"300\" src=\"data:image/svg+xml;base64,PHN2ZyB4bWxucz0iaHR0cDovL3d3dy53My5vcmcvMjAwMC9zdmciIHdpZHRoPSIyNDAiIGhlaWdodD0iMzAwIiB2aWV3Qm94PSIwIDAgMjQwIDMwMCI+PHJlY3Qgd2lkdGg9IjEwMCUiIGhlaWdodD0iMTAwJSIgc3R5bGU9ImZpbGw6I2NmZDRkYjtmaWxsLW9wYWNpdHk6IDAuMTsiLz48L3N2Zz4=\" title=\"Mr. Ubaid Aftab Chawla Adjunct Assistant Professor\" width=\"240\"/></a><div class=\"gdlr-core-hover-opacity\"></div></div><div class=\"gdlr-core-personnel-list-content-wrap\"><h3 class=\"gdlr-core-personnel-list-title\" style=\"font-size: 14px ;\"><a href=\"https://khi.nu.edu.pk/personnel/mr-ubaid-aftab/\">Mr. Ubaid Aftab</a></h3><div class=\"gdlr-core-personnel-list-position gdlr-core-info-font gdlr-core-skin-caption\" style=\"font-style: normal ;\">Assistant Professor (Adjunct)</div><div class=\"gdlr-core-personnel-info\"><div class=\"kingster-personnel-info-list kingster-type-email\"><i class=\"kingster-personnel-info-list-icon fa fa-envelope-open\"></i>ubaid.aftab@nu.edu.pk</div><div class=\"kingster-personnel-info-list kingster-type-phone\"><i class=\"kingster-personnel-info-list-icon fa fa-phone\"></i>225</div></div><a class=\"gdlr-core-personnel-list-button gdlr-core-button\" href=\"https://khi.nu.edu.pk/personnel/mr-ubaid-aftab/\">More Detail</a></div></div>, <div class=\"gdlr-core-personnel-list gdlr-core-outer-frame-element clearfix\" style=\"box-shadow: 5px 5px 5px rgba(214, 214, 214,0.2) ; -moz-box-shadow: 5px 5px 5px rgba(214, 214, 214,0.2) ; -webkit-box-shadow: 5px 5px 5px rgba(214, 214, 214,0.2) ; \"><div class=\"gdlr-core-personnel-list-image gdlr-core-media-image gdlr-core-hover-element gdlr-core-zoom-on-hover\"><a href=\"https://khi.nu.edu.pk/personnel/ms-shahar-bano-husnine/\"><img alt=\"\" data-lazyloaded=\"1\" data-src=\"https://khi.nu.edu.pk/wp-content/uploads/2023/06/Ms-Shaharbano-Lecturer-CS-226x300.jpg\" height=\"300\" src=\"data:image/svg+xml;base64,PHN2ZyB4bWxucz0iaHR0cDovL3d3dy53My5vcmcvMjAwMC9zdmciIHdpZHRoPSIyMjYiIGhlaWdodD0iMzAwIiB2aWV3Qm94PSIwIDAgMjI2IDMwMCI+PHJlY3Qgd2lkdGg9IjEwMCUiIGhlaWdodD0iMTAwJSIgc3R5bGU9ImZpbGw6I2NmZDRkYjtmaWxsLW9wYWNpdHk6IDAuMTsiLz48L3N2Zz4=\" title=\"Ms Shaharbano Lecturer CS\" width=\"226\"/></a><div class=\"gdlr-core-hover-opacity\"></div></div><div class=\"gdlr-core-personnel-list-content-wrap\"><h3 class=\"gdlr-core-personnel-list-title\" style=\"font-size: 14px ;\"><a href=\"https://khi.nu.edu.pk/personnel/ms-shahar-bano-husnine/\">Ms. Shahar Bano Husnine</a></h3><div class=\"gdlr-core-personnel-list-position gdlr-core-info-font gdlr-core-skin-caption\" style=\"font-style: normal ;\">Lecturer</div><div class=\"gdlr-core-personnel-info\"><div class=\"kingster-personnel-info-list kingster-type-email\"><i class=\"kingster-personnel-info-list-icon fa fa-envelope-open\"></i>shahar.bano@nu.edu.pk</div><div class=\"kingster-personnel-info-list kingster-type-phone\"><i class=\"kingster-personnel-info-list-icon fa fa-phone\"></i>220</div></div><a class=\"gdlr-core-personnel-list-button gdlr-core-button\" href=\"https://khi.nu.edu.pk/personnel/ms-shahar-bano-husnine/\">More Detail</a></div></div>, <div class=\"gdlr-core-personnel-list gdlr-core-outer-frame-element clearfix\" style=\"box-shadow: 5px 5px 5px rgba(214, 214, 214,0.2) ; -moz-box-shadow: 5px 5px 5px rgba(214, 214, 214,0.2) ; -webkit-box-shadow: 5px 5px 5px rgba(214, 214, 214,0.2) ; \"><div class=\"gdlr-core-personnel-list-image gdlr-core-media-image gdlr-core-hover-element gdlr-core-zoom-on-hover\"><a href=\"https://khi.nu.edu.pk/personnel/mr-shoaib-rauf/\"><img alt=\"\" data-lazyloaded=\"1\" data-src=\"https://khi.nu.edu.pk/wp-content/uploads/2023/06/Mr-Shoaib-Rauf-Lecturer-CS-226x300.jpg\" height=\"300\" src=\"data:image/svg+xml;base64,PHN2ZyB4bWxucz0iaHR0cDovL3d3dy53My5vcmcvMjAwMC9zdmciIHdpZHRoPSIyMjYiIGhlaWdodD0iMzAwIiB2aWV3Qm94PSIwIDAgMjI2IDMwMCI+PHJlY3Qgd2lkdGg9IjEwMCUiIGhlaWdodD0iMTAwJSIgc3R5bGU9ImZpbGw6I2NmZDRkYjtmaWxsLW9wYWNpdHk6IDAuMTsiLz48L3N2Zz4=\" title=\"Mr Shoaib Rauf Lecturer CS\" width=\"226\"/></a><div class=\"gdlr-core-hover-opacity\"></div></div><div class=\"gdlr-core-personnel-list-content-wrap\"><h3 class=\"gdlr-core-personnel-list-title\" style=\"font-size: 14px ;\"><a href=\"https://khi.nu.edu.pk/personnel/mr-shoaib-rauf/\">Mr. Shoaib Rauf</a></h3><div class=\"gdlr-core-personnel-list-position gdlr-core-info-font gdlr-core-skin-caption\" style=\"font-style: normal ;\">Lecturer</div><div class=\"gdlr-core-personnel-info\"><div class=\"kingster-personnel-info-list kingster-type-email\"><i class=\"kingster-personnel-info-list-icon fa fa-envelope-open\"></i>shoaib.rauf@nu.edu.pk</div><div class=\"kingster-personnel-info-list kingster-type-phone\"><i class=\"kingster-personnel-info-list-icon fa fa-phone\"></i>258</div></div><a class=\"gdlr-core-personnel-list-button gdlr-core-button\" href=\"https://khi.nu.edu.pk/personnel/mr-shoaib-rauf/\">More Detail</a></div></div>, <div class=\"gdlr-core-personnel-list gdlr-core-outer-frame-element clearfix\" style=\"box-shadow: 5px 5px 5px rgba(214, 214, 214,0.2) ; -moz-box-shadow: 5px 5px 5px rgba(214, 214, 214,0.2) ; -webkit-box-shadow: 5px 5px 5px rgba(214, 214, 214,0.2) ; \"><div class=\"gdlr-core-personnel-list-image gdlr-core-media-image gdlr-core-hover-element gdlr-core-zoom-on-hover\"><a href=\"https://khi.nu.edu.pk/personnel/mr-basit-ali/\"><img alt=\"\" data-lazyloaded=\"1\" data-src=\"https://khi.nu.edu.pk/wp-content/uploads/2023/06/Mr-Basit-Ali-Lecturer-CS-226x300.jpg\" height=\"300\" src=\"data:image/svg+xml;base64,PHN2ZyB4bWxucz0iaHR0cDovL3d3dy53My5vcmcvMjAwMC9zdmciIHdpZHRoPSIyMjYiIGhlaWdodD0iMzAwIiB2aWV3Qm94PSIwIDAgMjI2IDMwMCI+PHJlY3Qgd2lkdGg9IjEwMCUiIGhlaWdodD0iMTAwJSIgc3R5bGU9ImZpbGw6I2NmZDRkYjtmaWxsLW9wYWNpdHk6IDAuMTsiLz48L3N2Zz4=\" title=\"Mr Basit Ali Lecturer CS\" width=\"226\"/></a><div class=\"gdlr-core-hover-opacity\"></div></div><div class=\"gdlr-core-personnel-list-content-wrap\"><h3 class=\"gdlr-core-personnel-list-title\" style=\"font-size: 14px ;\"><a href=\"https://khi.nu.edu.pk/personnel/mr-basit-ali/\">Mr. Basit Ali</a></h3><div class=\"gdlr-core-personnel-list-position gdlr-core-info-font gdlr-core-skin-caption\" style=\"font-style: normal ;\">Lecturer</div><div class=\"gdlr-core-personnel-info\"><div class=\"kingster-personnel-info-list kingster-type-email\"><i class=\"kingster-personnel-info-list-icon fa fa-envelope-open\"></i>basit.jasani@nu.edu.pk</div><div class=\"kingster-personnel-info-list kingster-type-phone\"><i class=\"kingster-personnel-info-list-icon fa fa-phone\"></i>130</div></div><a class=\"gdlr-core-personnel-list-button gdlr-core-button\" href=\"https://khi.nu.edu.pk/personnel/mr-basit-ali/\">More Detail</a></div></div>, <div class=\"gdlr-core-personnel-list gdlr-core-outer-frame-element clearfix\" style=\"box-shadow: 5px 5px 5px rgba(214, 214, 214,0.2) ; -moz-box-shadow: 5px 5px 5px rgba(214, 214, 214,0.2) ; -webkit-box-shadow: 5px 5px 5px rgba(214, 214, 214,0.2) ; \"><div class=\"gdlr-core-personnel-list-image gdlr-core-media-image gdlr-core-hover-element gdlr-core-zoom-on-hover\"><a href=\"https://khi.nu.edu.pk/personnel/mr-syed-zain-ul-hassan/\"><img alt=\"\" data-lazyloaded=\"1\" data-src=\"https://khi.nu.edu.pk/wp-content/uploads/2023/06/Mr.-Syed-Zain-Ul-Hassan-Lecturer-233x300.jpg\" height=\"300\" src=\"data:image/svg+xml;base64,PHN2ZyB4bWxucz0iaHR0cDovL3d3dy53My5vcmcvMjAwMC9zdmciIHdpZHRoPSIyMzMiIGhlaWdodD0iMzAwIiB2aWV3Qm94PSIwIDAgMjMzIDMwMCI+PHJlY3Qgd2lkdGg9IjEwMCUiIGhlaWdodD0iMTAwJSIgc3R5bGU9ImZpbGw6I2NmZDRkYjtmaWxsLW9wYWNpdHk6IDAuMTsiLz48L3N2Zz4=\" title=\"Mr. Syed Zain Ul Hassan Lecturer\" width=\"233\"/></a><div class=\"gdlr-core-hover-opacity\"></div></div><div class=\"gdlr-core-personnel-list-content-wrap\"><h3 class=\"gdlr-core-personnel-list-title\" style=\"font-size: 14px ;\"><a href=\"https://khi.nu.edu.pk/personnel/mr-syed-zain-ul-hassan/\">Mr. Syed Zain Ul Hassan</a></h3><div class=\"gdlr-core-personnel-list-position gdlr-core-info-font gdlr-core-skin-caption\" style=\"font-style: normal ;\">Lecturer</div><div class=\"gdlr-core-personnel-info\"><div class=\"kingster-personnel-info-list kingster-type-email\"><i class=\"kingster-personnel-info-list-icon fa fa-envelope-open\"></i>zain.hassan@nu.edu.pk</div><div class=\"kingster-personnel-info-list kingster-type-phone\"><i class=\"kingster-personnel-info-list-icon fa fa-phone\"></i>197</div></div><a class=\"gdlr-core-personnel-list-button gdlr-core-button\" href=\"https://khi.nu.edu.pk/personnel/mr-syed-zain-ul-hassan/\">More Detail</a></div></div>, <div class=\"gdlr-core-personnel-list gdlr-core-outer-frame-element clearfix\" style=\"box-shadow: 5px 5px 5px rgba(214, 214, 214,0.2) ; -moz-box-shadow: 5px 5px 5px rgba(214, 214, 214,0.2) ; -webkit-box-shadow: 5px 5px 5px rgba(214, 214, 214,0.2) ; \"><div class=\"gdlr-core-personnel-list-image gdlr-core-media-image gdlr-core-hover-element gdlr-core-zoom-on-hover\"><a href=\"https://khi.nu.edu.pk/personnel/ms-sobia-iftikhar/\"><img alt=\"\" data-lazyloaded=\"1\" data-src=\"https://khi.nu.edu.pk/wp-content/uploads/2023/06/Ms-Sobia-Iftikhar-Lecturer-CS-226x300.jpg\" height=\"300\" src=\"data:image/svg+xml;base64,PHN2ZyB4bWxucz0iaHR0cDovL3d3dy53My5vcmcvMjAwMC9zdmciIHdpZHRoPSIyMjYiIGhlaWdodD0iMzAwIiB2aWV3Qm94PSIwIDAgMjI2IDMwMCI+PHJlY3Qgd2lkdGg9IjEwMCUiIGhlaWdodD0iMTAwJSIgc3R5bGU9ImZpbGw6I2NmZDRkYjtmaWxsLW9wYWNpdHk6IDAuMTsiLz48L3N2Zz4=\" title=\"Ms Sobia Iftikhar Lecturer CS\" width=\"226\"/></a><div class=\"gdlr-core-hover-opacity\"></div></div><div class=\"gdlr-core-personnel-list-content-wrap\"><h3 class=\"gdlr-core-personnel-list-title\" style=\"font-size: 14px ;\"><a href=\"https://khi.nu.edu.pk/personnel/ms-sobia-iftikhar/\">Ms. Sobia Iftikhar</a></h3><div class=\"gdlr-core-personnel-list-position gdlr-core-info-font gdlr-core-skin-caption\" style=\"font-style: normal ;\">Lecturer</div><div class=\"gdlr-core-personnel-info\"><div class=\"kingster-personnel-info-list kingster-type-email\"><i class=\"kingster-personnel-info-list-icon fa fa-envelope-open\"></i>sobia.iftikhar@nu.edu.pk</div><div class=\"kingster-personnel-info-list kingster-type-phone\"><i class=\"kingster-personnel-info-list-icon fa fa-phone\"></i>237</div></div><a class=\"gdlr-core-personnel-list-button gdlr-core-button\" href=\"https://khi.nu.edu.pk/personnel/ms-sobia-iftikhar/\">More Detail</a></div></div>, <div class=\"gdlr-core-personnel-list gdlr-core-outer-frame-element clearfix\" style=\"box-shadow: 5px 5px 5px rgba(214, 214, 214,0.2) ; -moz-box-shadow: 5px 5px 5px rgba(214, 214, 214,0.2) ; -webkit-box-shadow: 5px 5px 5px rgba(214, 214, 214,0.2) ; \"><div class=\"gdlr-core-personnel-list-image gdlr-core-media-image gdlr-core-hover-element gdlr-core-zoom-on-hover\"><a href=\"https://khi.nu.edu.pk/personnel/ms-anaum-hamid/\"><img alt=\"\" data-lazyloaded=\"1\" data-src=\"https://khi.nu.edu.pk/wp-content/uploads/2023/06/Anaum-Hamid-Lecturer-226x300.jpg\" height=\"300\" src=\"data:image/svg+xml;base64,PHN2ZyB4bWxucz0iaHR0cDovL3d3dy53My5vcmcvMjAwMC9zdmciIHdpZHRoPSIyMjYiIGhlaWdodD0iMzAwIiB2aWV3Qm94PSIwIDAgMjI2IDMwMCI+PHJlY3Qgd2lkdGg9IjEwMCUiIGhlaWdodD0iMTAwJSIgc3R5bGU9ImZpbGw6I2NmZDRkYjtmaWxsLW9wYWNpdHk6IDAuMTsiLz48L3N2Zz4=\" title=\"Anaum Hamid Lecturer\" width=\"226\"/></a><div class=\"gdlr-core-hover-opacity\"></div></div><div class=\"gdlr-core-personnel-list-content-wrap\"><h3 class=\"gdlr-core-personnel-list-title\" style=\"font-size: 14px ;\"><a href=\"https://khi.nu.edu.pk/personnel/ms-anaum-hamid/\">Ms. Anaum Hamid</a></h3><div class=\"gdlr-core-personnel-list-position gdlr-core-info-font gdlr-core-skin-caption\" style=\"font-style: normal ;\">Lecturer</div><div class=\"gdlr-core-personnel-info\"><div class=\"kingster-personnel-info-list kingster-type-email\"><i class=\"kingster-personnel-info-list-icon fa fa-envelope-open\"></i>anaum.hamid@nu.edu.pk</div><div class=\"kingster-personnel-info-list kingster-type-phone\"><i class=\"kingster-personnel-info-list-icon fa fa-phone\"></i>237</div></div><a class=\"gdlr-core-personnel-list-button gdlr-core-button\" href=\"https://khi.nu.edu.pk/personnel/ms-anaum-hamid/\">More Detail</a></div></div>, <div class=\"gdlr-core-personnel-list gdlr-core-outer-frame-element clearfix\" style=\"box-shadow: 5px 5px 5px rgba(214, 214, 214,0.2) ; -moz-box-shadow: 5px 5px 5px rgba(214, 214, 214,0.2) ; -webkit-box-shadow: 5px 5px 5px rgba(214, 214, 214,0.2) ; \"><div class=\"gdlr-core-personnel-list-image gdlr-core-media-image gdlr-core-hover-element gdlr-core-zoom-on-hover\"><a href=\"https://khi.nu.edu.pk/personnel/ms-nida-munawar/\"><img alt=\"\" data-lazyloaded=\"1\" data-src=\"https://khi.nu.edu.pk/wp-content/uploads/2023/06/Ms-Nida-Munawar-Lecturer-CS-226x300.jpg\" height=\"300\" src=\"data:image/svg+xml;base64,PHN2ZyB4bWxucz0iaHR0cDovL3d3dy53My5vcmcvMjAwMC9zdmciIHdpZHRoPSIyMjYiIGhlaWdodD0iMzAwIiB2aWV3Qm94PSIwIDAgMjI2IDMwMCI+PHJlY3Qgd2lkdGg9IjEwMCUiIGhlaWdodD0iMTAwJSIgc3R5bGU9ImZpbGw6I2NmZDRkYjtmaWxsLW9wYWNpdHk6IDAuMTsiLz48L3N2Zz4=\" title=\"Ms Nida Munawar Lecturer CS\" width=\"226\"/></a><div class=\"gdlr-core-hover-opacity\"></div></div><div class=\"gdlr-core-personnel-list-content-wrap\"><h3 class=\"gdlr-core-personnel-list-title\" style=\"font-size: 14px ;\"><a href=\"https://khi.nu.edu.pk/personnel/ms-nida-munawar/\">Ms. Nida Munawar</a></h3><div class=\"gdlr-core-personnel-list-position gdlr-core-info-font gdlr-core-skin-caption\" style=\"font-style: normal ;\">Lecturer</div><div class=\"gdlr-core-personnel-info\"><div class=\"kingster-personnel-info-list kingster-type-email\"><i class=\"kingster-personnel-info-list-icon fa fa-envelope-open\"></i>nida.munawwar@nu.edu.pk</div><div class=\"kingster-personnel-info-list kingster-type-phone\"><i class=\"kingster-personnel-info-list-icon fa fa-phone\"></i>136</div></div><a class=\"gdlr-core-personnel-list-button gdlr-core-button\" href=\"https://khi.nu.edu.pk/personnel/ms-nida-munawar/\">More Detail</a></div></div>, <div class=\"gdlr-core-personnel-list gdlr-core-outer-frame-element clearfix\" style=\"box-shadow: 5px 5px 5px rgba(214, 214, 214,0.2) ; -moz-box-shadow: 5px 5px 5px rgba(214, 214, 214,0.2) ; -webkit-box-shadow: 5px 5px 5px rgba(214, 214, 214,0.2) ; \"><div class=\"gdlr-core-personnel-list-image gdlr-core-media-image gdlr-core-hover-element gdlr-core-zoom-on-hover\"><a href=\"https://khi.nu.edu.pk/personnel/ms-sumaiyah/\"><img alt=\"\" data-lazyloaded=\"1\" data-src=\"https://khi.nu.edu.pk/wp-content/uploads/2023/06/Ms-Sumaiyah-Zahid-Lecturer-CS-226x300.jpg\" height=\"300\" src=\"data:image/svg+xml;base64,PHN2ZyB4bWxucz0iaHR0cDovL3d3dy53My5vcmcvMjAwMC9zdmciIHdpZHRoPSIyMjYiIGhlaWdodD0iMzAwIiB2aWV3Qm94PSIwIDAgMjI2IDMwMCI+PHJlY3Qgd2lkdGg9IjEwMCUiIGhlaWdodD0iMTAwJSIgc3R5bGU9ImZpbGw6I2NmZDRkYjtmaWxsLW9wYWNpdHk6IDAuMTsiLz48L3N2Zz4=\" title=\"Ms Sumaiyah Zahid Lecturer CS\" width=\"226\"/></a><div class=\"gdlr-core-hover-opacity\"></div></div><div class=\"gdlr-core-personnel-list-content-wrap\"><h3 class=\"gdlr-core-personnel-list-title\" style=\"font-size: 14px ;\"><a href=\"https://khi.nu.edu.pk/personnel/ms-sumaiyah/\">Ms. Sumaiyah</a></h3><div class=\"gdlr-core-personnel-list-position gdlr-core-info-font gdlr-core-skin-caption\" style=\"font-style: normal ;\">Lecturer</div><div class=\"gdlr-core-personnel-info\"><div class=\"kingster-personnel-info-list kingster-type-email\"><i class=\"kingster-personnel-info-list-icon fa fa-envelope-open\"></i>sumaiyah@nu.edu.pk</div><div class=\"kingster-personnel-info-list kingster-type-phone\"><i class=\"kingster-personnel-info-list-icon fa fa-phone\"></i>266</div></div><a class=\"gdlr-core-personnel-list-button gdlr-core-button\" href=\"https://khi.nu.edu.pk/personnel/ms-sumaiyah/\">More Detail</a></div></div>, <div class=\"gdlr-core-personnel-list gdlr-core-outer-frame-element clearfix\" style=\"box-shadow: 5px 5px 5px rgba(214, 214, 214,0.2) ; -moz-box-shadow: 5px 5px 5px rgba(214, 214, 214,0.2) ; -webkit-box-shadow: 5px 5px 5px rgba(214, 214, 214,0.2) ; \"><div class=\"gdlr-core-personnel-list-image gdlr-core-media-image gdlr-core-hover-element gdlr-core-zoom-on-hover\"><a href=\"https://khi.nu.edu.pk/personnel/ms-mubashra-fayyaz/\"><img alt=\"\" data-lazyloaded=\"1\" data-src=\"https://khi.nu.edu.pk/wp-content/uploads/2023/06/Ms-Mubashra-Fayyaz-Lecturer-CS-226x300.jpg\" height=\"300\" src=\"data:image/svg+xml;base64,PHN2ZyB4bWxucz0iaHR0cDovL3d3dy53My5vcmcvMjAwMC9zdmciIHdpZHRoPSIyMjYiIGhlaWdodD0iMzAwIiB2aWV3Qm94PSIwIDAgMjI2IDMwMCI+PHJlY3Qgd2lkdGg9IjEwMCUiIGhlaWdodD0iMTAwJSIgc3R5bGU9ImZpbGw6I2NmZDRkYjtmaWxsLW9wYWNpdHk6IDAuMTsiLz48L3N2Zz4=\" title=\"Ms Mubashra Fayyaz Lecturer CS\" width=\"226\"/></a><div class=\"gdlr-core-hover-opacity\"></div></div><div class=\"gdlr-core-personnel-list-content-wrap\"><h3 class=\"gdlr-core-personnel-list-title\" style=\"font-size: 14px ;\"><a href=\"https://khi.nu.edu.pk/personnel/ms-mubashra-fayyaz/\">Ms. Mubashra Fayyaz</a></h3><div class=\"gdlr-core-personnel-list-position gdlr-core-info-font gdlr-core-skin-caption\" style=\"font-style: normal ;\">Lecturer</div><div class=\"gdlr-core-personnel-info\"><div class=\"kingster-personnel-info-list kingster-type-email\"><i class=\"kingster-personnel-info-list-icon fa fa-envelope-open\"></i>mubashra.fayyaz@nu.edu.pk</div><div class=\"kingster-personnel-info-list kingster-type-phone\"><i class=\"kingster-personnel-info-list-icon fa fa-phone\"></i>172</div></div><a class=\"gdlr-core-personnel-list-button gdlr-core-button\" href=\"https://khi.nu.edu.pk/personnel/ms-mubashra-fayyaz/\">More Detail</a></div></div>, <div class=\"gdlr-core-personnel-list gdlr-core-outer-frame-element clearfix\" style=\"box-shadow: 5px 5px 5px rgba(214, 214, 214,0.2) ; -moz-box-shadow: 5px 5px 5px rgba(214, 214, 214,0.2) ; -webkit-box-shadow: 5px 5px 5px rgba(214, 214, 214,0.2) ; \"><div class=\"gdlr-core-personnel-list-image gdlr-core-media-image gdlr-core-hover-element gdlr-core-zoom-on-hover\"><a href=\"https://khi.nu.edu.pk/personnel/ms-hajra-ahmed/\"><img alt=\"\" data-lazyloaded=\"1\" data-src=\"https://khi.nu.edu.pk/wp-content/uploads/2023/06/Ms-Hajra-Ahmed-Lecturer-CS-226x300.jpg\" height=\"300\" src=\"data:image/svg+xml;base64,PHN2ZyB4bWxucz0iaHR0cDovL3d3dy53My5vcmcvMjAwMC9zdmciIHdpZHRoPSIyMjYiIGhlaWdodD0iMzAwIiB2aWV3Qm94PSIwIDAgMjI2IDMwMCI+PHJlY3Qgd2lkdGg9IjEwMCUiIGhlaWdodD0iMTAwJSIgc3R5bGU9ImZpbGw6I2NmZDRkYjtmaWxsLW9wYWNpdHk6IDAuMTsiLz48L3N2Zz4=\" title=\"Ms Hajra Ahmed Lecturer CS\" width=\"226\"/></a><div class=\"gdlr-core-hover-opacity\"></div></div><div class=\"gdlr-core-personnel-list-content-wrap\"><h3 class=\"gdlr-core-personnel-list-title\" style=\"font-size: 14px ;\"><a href=\"https://khi.nu.edu.pk/personnel/ms-hajra-ahmed/\">Ms. Hajra Ahmed</a></h3><div class=\"gdlr-core-personnel-list-position gdlr-core-info-font gdlr-core-skin-caption\" style=\"font-style: normal ;\">Lecturer</div><div class=\"gdlr-core-personnel-info\"><div class=\"kingster-personnel-info-list kingster-type-email\"><i class=\"kingster-personnel-info-list-icon fa fa-envelope-open\"></i>hajra.ahmed@nu.edu.pk</div><div class=\"kingster-personnel-info-list kingster-type-phone\"><i class=\"kingster-personnel-info-list-icon fa fa-phone\"></i>142</div></div><a class=\"gdlr-core-personnel-list-button gdlr-core-button\" href=\"https://khi.nu.edu.pk/personnel/ms-hajra-ahmed/\">More Detail</a></div></div>, <div class=\"gdlr-core-personnel-list gdlr-core-outer-frame-element clearfix\" style=\"box-shadow: 5px 5px 5px rgba(214, 214, 214,0.2) ; -moz-box-shadow: 5px 5px 5px rgba(214, 214, 214,0.2) ; -webkit-box-shadow: 5px 5px 5px rgba(214, 214, 214,0.2) ; \"><div class=\"gdlr-core-personnel-list-image gdlr-core-media-image gdlr-core-hover-element gdlr-core-zoom-on-hover\"><a href=\"https://khi.nu.edu.pk/personnel/mr-shahbaz-siddiqui-2/\"><img alt=\"\" data-lazyloaded=\"1\" data-src=\"https://khi.nu.edu.pk/wp-content/uploads/2023/06/Mr-Aashir-Mahboob-Lecturer-226x300.jpg\" height=\"300\" src=\"data:image/svg+xml;base64,PHN2ZyB4bWxucz0iaHR0cDovL3d3dy53My5vcmcvMjAwMC9zdmciIHdpZHRoPSIyMjYiIGhlaWdodD0iMzAwIiB2aWV3Qm94PSIwIDAgMjI2IDMwMCI+PHJlY3Qgd2lkdGg9IjEwMCUiIGhlaWdodD0iMTAwJSIgc3R5bGU9ImZpbGw6I2NmZDRkYjtmaWxsLW9wYWNpdHk6IDAuMTsiLz48L3N2Zz4=\" title=\"Mr Aashir Mahboob Lecturer\" width=\"226\"/></a><div class=\"gdlr-core-hover-opacity\"></div></div><div class=\"gdlr-core-personnel-list-content-wrap\"><h3 class=\"gdlr-core-personnel-list-title\" style=\"font-size: 14px ;\"><a href=\"https://khi.nu.edu.pk/personnel/mr-shahbaz-siddiqui-2/\">Mr. Aashir Mahboob</a></h3><div class=\"gdlr-core-personnel-list-position gdlr-core-info-font gdlr-core-skin-caption\" style=\"font-style: normal ;\">Lecturer</div><div class=\"gdlr-core-personnel-info\"><div class=\"kingster-personnel-info-list kingster-type-email\"><i class=\"kingster-personnel-info-list-icon fa fa-envelope-open\"></i>aashir.mahboob@nu.edu.pk</div><div class=\"kingster-personnel-info-list kingster-type-phone\"><i class=\"kingster-personnel-info-list-icon fa fa-phone\"></i>113</div></div><a class=\"gdlr-core-personnel-list-button gdlr-core-button\" href=\"https://khi.nu.edu.pk/personnel/mr-shahbaz-siddiqui-2/\">More Detail</a></div></div>, <div class=\"gdlr-core-personnel-list gdlr-core-outer-frame-element clearfix\" style=\"box-shadow: 5px 5px 5px rgba(214, 214, 214,0.2) ; -moz-box-shadow: 5px 5px 5px rgba(214, 214, 214,0.2) ; -webkit-box-shadow: 5px 5px 5px rgba(214, 214, 214,0.2) ; \"><div class=\"gdlr-core-personnel-list-image gdlr-core-media-image gdlr-core-hover-element gdlr-core-zoom-on-hover\"><a href=\"https://khi.nu.edu.pk/personnel/ms-abeeha-sattar/\"><img alt=\"\" data-lazyloaded=\"1\" data-src=\"https://khi.nu.edu.pk/wp-content/uploads/2023/06/Ms-Abeeha-Sattar-Lecturer-CS-226x300.jpg\" height=\"300\" src=\"data:image/svg+xml;base64,PHN2ZyB4bWxucz0iaHR0cDovL3d3dy53My5vcmcvMjAwMC9zdmciIHdpZHRoPSIyMjYiIGhlaWdodD0iMzAwIiB2aWV3Qm94PSIwIDAgMjI2IDMwMCI+PHJlY3Qgd2lkdGg9IjEwMCUiIGhlaWdodD0iMTAwJSIgc3R5bGU9ImZpbGw6I2NmZDRkYjtmaWxsLW9wYWNpdHk6IDAuMTsiLz48L3N2Zz4=\" title=\"Ms Abeeha Sattar Lecturer CS\" width=\"226\"/></a><div class=\"gdlr-core-hover-opacity\"></div></div><div class=\"gdlr-core-personnel-list-content-wrap\"><h3 class=\"gdlr-core-personnel-list-title\" style=\"font-size: 14px ;\"><a href=\"https://khi.nu.edu.pk/personnel/ms-abeeha-sattar/\">Ms. Abeeha Sattar</a></h3><div class=\"gdlr-core-personnel-list-position gdlr-core-info-font gdlr-core-skin-caption\" style=\"font-style: normal ;\">Lecturer</div><div class=\"gdlr-core-personnel-info\"><div class=\"kingster-personnel-info-list kingster-type-email\"><i class=\"kingster-personnel-info-list-icon fa fa-envelope-open\"></i>abeeha.sattar@nu.edu.pk</div><div class=\"kingster-personnel-info-list kingster-type-phone\"><i class=\"kingster-personnel-info-list-icon fa fa-phone\"></i>160</div></div><a class=\"gdlr-core-personnel-list-button gdlr-core-button\" href=\"https://khi.nu.edu.pk/personnel/ms-abeeha-sattar/\">More Detail</a></div></div>, <div class=\"gdlr-core-personnel-list gdlr-core-outer-frame-element clearfix\" style=\"box-shadow: 5px 5px 5px rgba(214, 214, 214,0.2) ; -moz-box-shadow: 5px 5px 5px rgba(214, 214, 214,0.2) ; -webkit-box-shadow: 5px 5px 5px rgba(214, 214, 214,0.2) ; \"><div class=\"gdlr-core-personnel-list-image gdlr-core-media-image gdlr-core-hover-element gdlr-core-zoom-on-hover\"><a href=\"https://khi.nu.edu.pk/personnel/ms-bakhtawer/\"><img alt=\"\" data-lazyloaded=\"1\" data-src=\"https://khi.nu.edu.pk/wp-content/uploads/2023/06/Ms-Bakhtawer-Lecturer-CS-226x300.jpg\" height=\"300\" src=\"data:image/svg+xml;base64,PHN2ZyB4bWxucz0iaHR0cDovL3d3dy53My5vcmcvMjAwMC9zdmciIHdpZHRoPSIyMjYiIGhlaWdodD0iMzAwIiB2aWV3Qm94PSIwIDAgMjI2IDMwMCI+PHJlY3Qgd2lkdGg9IjEwMCUiIGhlaWdodD0iMTAwJSIgc3R5bGU9ImZpbGw6I2NmZDRkYjtmaWxsLW9wYWNpdHk6IDAuMTsiLz48L3N2Zz4=\" title=\"Ms Bakhtawer Lecturer CS\" width=\"226\"/></a><div class=\"gdlr-core-hover-opacity\"></div></div><div class=\"gdlr-core-personnel-list-content-wrap\"><h3 class=\"gdlr-core-personnel-list-title\" style=\"font-size: 14px ;\"><a href=\"https://khi.nu.edu.pk/personnel/ms-bakhtawer/\">Ms. Bakhtawer</a></h3><div class=\"gdlr-core-personnel-list-position gdlr-core-info-font gdlr-core-skin-caption\" style=\"font-style: normal ;\">Lecturer</div><div class=\"gdlr-core-personnel-info\"><div class=\"kingster-personnel-info-list kingster-type-email\"><i class=\"kingster-personnel-info-list-icon fa fa-envelope-open\"></i>bakhtawar.abbasi@nu.edu.pk</div><div class=\"kingster-personnel-info-list kingster-type-phone\"><i class=\"kingster-personnel-info-list-icon fa fa-phone\"></i>136</div></div><a class=\"gdlr-core-personnel-list-button gdlr-core-button\" href=\"https://khi.nu.edu.pk/personnel/ms-bakhtawer/\">More Detail</a></div></div>, <div class=\"gdlr-core-personnel-list gdlr-core-outer-frame-element clearfix\" style=\"box-shadow: 5px 5px 5px rgba(214, 214, 214,0.2) ; -moz-box-shadow: 5px 5px 5px rgba(214, 214, 214,0.2) ; -webkit-box-shadow: 5px 5px 5px rgba(214, 214, 214,0.2) ; \"><div class=\"gdlr-core-personnel-list-image gdlr-core-media-image gdlr-core-hover-element gdlr-core-zoom-on-hover\"><a href=\"https://khi.nu.edu.pk/personnel/ms-javeria-farooq/\"><img alt=\"\" data-lazyloaded=\"1\" data-src=\"https://khi.nu.edu.pk/wp-content/uploads/2023/06/Ms.-Javeria-Farooq-Lecturer--240x300.jpg\" height=\"300\" src=\"data:image/svg+xml;base64,PHN2ZyB4bWxucz0iaHR0cDovL3d3dy53My5vcmcvMjAwMC9zdmciIHdpZHRoPSIyNDAiIGhlaWdodD0iMzAwIiB2aWV3Qm94PSIwIDAgMjQwIDMwMCI+PHJlY3Qgd2lkdGg9IjEwMCUiIGhlaWdodD0iMTAwJSIgc3R5bGU9ImZpbGw6I2NmZDRkYjtmaWxsLW9wYWNpdHk6IDAuMTsiLz48L3N2Zz4=\" title=\"Ms. Javeria Farooq Lecturer\" width=\"240\"/></a><div class=\"gdlr-core-hover-opacity\"></div></div><div class=\"gdlr-core-personnel-list-content-wrap\"><h3 class=\"gdlr-core-personnel-list-title\" style=\"font-size: 14px ;\"><a href=\"https://khi.nu.edu.pk/personnel/ms-javeria-farooq/\">Ms. Javeria Farooq</a></h3><div class=\"gdlr-core-personnel-list-position gdlr-core-info-font gdlr-core-skin-caption\" style=\"font-style: normal ;\">Lecturer</div><div class=\"gdlr-core-personnel-info\"><div class=\"kingster-personnel-info-list kingster-type-email\"><i class=\"kingster-personnel-info-list-icon fa fa-envelope-open\"></i>javeria.farooq@nu.edu.pk</div><div class=\"kingster-personnel-info-list kingster-type-phone\"><i class=\"kingster-personnel-info-list-icon fa fa-phone\"></i>220</div></div><a class=\"gdlr-core-personnel-list-button gdlr-core-button\" href=\"https://khi.nu.edu.pk/personnel/ms-javeria-farooq/\">More Detail</a></div></div>, <div class=\"gdlr-core-personnel-list gdlr-core-outer-frame-element clearfix\" style=\"box-shadow: 5px 5px 5px rgba(214, 214, 214,0.2) ; -moz-box-shadow: 5px 5px 5px rgba(214, 214, 214,0.2) ; -webkit-box-shadow: 5px 5px 5px rgba(214, 214, 214,0.2) ; \"><div class=\"gdlr-core-personnel-list-image gdlr-core-media-image gdlr-core-hover-element gdlr-core-zoom-on-hover\"><a href=\"https://khi.nu.edu.pk/personnel/ms-mafaza-mohi/\"><img alt=\"\" data-lazyloaded=\"1\" data-src=\"https://khi.nu.edu.pk/wp-content/uploads/2023/06/Ms.-Mafaza-Mohi-Lecturer-CS-1-226x300.jpg\" height=\"300\" src=\"data:image/svg+xml;base64,PHN2ZyB4bWxucz0iaHR0cDovL3d3dy53My5vcmcvMjAwMC9zdmciIHdpZHRoPSIyMjYiIGhlaWdodD0iMzAwIiB2aWV3Qm94PSIwIDAgMjI2IDMwMCI+PHJlY3Qgd2lkdGg9IjEwMCUiIGhlaWdodD0iMTAwJSIgc3R5bGU9ImZpbGw6I2NmZDRkYjtmaWxsLW9wYWNpdHk6IDAuMTsiLz48L3N2Zz4=\" title=\"Ms. Mafaza Mohi Lecturer CS\" width=\"226\"/></a><div class=\"gdlr-core-hover-opacity\"></div></div><div class=\"gdlr-core-personnel-list-content-wrap\"><h3 class=\"gdlr-core-personnel-list-title\" style=\"font-size: 14px ;\"><a href=\"https://khi.nu.edu.pk/personnel/ms-mafaza-mohi/\">Ms. Mafaza Mohi (ON LEAVE)</a></h3><div class=\"gdlr-core-personnel-list-position gdlr-core-info-font gdlr-core-skin-caption\" style=\"font-style: normal ;\">Lecturer</div><div class=\"gdlr-core-personnel-info\"><div class=\"kingster-personnel-info-list kingster-type-email\"><i class=\"kingster-personnel-info-list-icon fa fa-envelope-open\"></i>mafaza.mohi@nu.edu.pk</div><div class=\"kingster-personnel-info-list kingster-type-phone\"><i class=\"kingster-personnel-info-list-icon fa fa-phone\"></i>293</div></div><a class=\"gdlr-core-personnel-list-button gdlr-core-button\" href=\"https://khi.nu.edu.pk/personnel/ms-mafaza-mohi/\">More Detail</a></div></div>, <div class=\"gdlr-core-personnel-list gdlr-core-outer-frame-element clearfix\" style=\"box-shadow: 5px 5px 5px rgba(214, 214, 214,0.2) ; -moz-box-shadow: 5px 5px 5px rgba(214, 214, 214,0.2) ; -webkit-box-shadow: 5px 5px 5px rgba(214, 214, 214,0.2) ; \"><div class=\"gdlr-core-personnel-list-image gdlr-core-media-image gdlr-core-hover-element gdlr-core-zoom-on-hover\"><a href=\"https://khi.nu.edu.pk/personnel/ms-fizza-aqeel/\"><img alt=\"\" data-lazyloaded=\"1\" data-src=\"https://khi.nu.edu.pk/wp-content/uploads/2023/06/Ms.-Fizza-Aqeel-Instructor-233x300.jpg\" height=\"300\" src=\"data:image/svg+xml;base64,PHN2ZyB4bWxucz0iaHR0cDovL3d3dy53My5vcmcvMjAwMC9zdmciIHdpZHRoPSIyMzMiIGhlaWdodD0iMzAwIiB2aWV3Qm94PSIwIDAgMjMzIDMwMCI+PHJlY3Qgd2lkdGg9IjEwMCUiIGhlaWdodD0iMTAwJSIgc3R5bGU9ImZpbGw6I2NmZDRkYjtmaWxsLW9wYWNpdHk6IDAuMTsiLz48L3N2Zz4=\" title=\"Ms. Fizza Aqeel, Instructor\" width=\"233\"/></a><div class=\"gdlr-core-hover-opacity\"></div></div><div class=\"gdlr-core-personnel-list-content-wrap\"><h3 class=\"gdlr-core-personnel-list-title\" style=\"font-size: 14px ;\"><a href=\"https://khi.nu.edu.pk/personnel/ms-fizza-aqeel/\">Ms. Fizza Aqeel</a></h3><div class=\"gdlr-core-personnel-list-position gdlr-core-info-font gdlr-core-skin-caption\" style=\"font-style: normal ;\">Lecturer</div><div class=\"gdlr-core-personnel-info\"><div class=\"kingster-personnel-info-list kingster-type-email\"><i class=\"kingster-personnel-info-list-icon fa fa-envelope-open\"></i>fizza.aqeel@nu.edu.pk</div><div class=\"kingster-personnel-info-list kingster-type-phone\"><i class=\"kingster-personnel-info-list-icon fa fa-phone\"></i>153</div></div><a class=\"gdlr-core-personnel-list-button gdlr-core-button\" href=\"https://khi.nu.edu.pk/personnel/ms-fizza-aqeel/\">More Detail</a></div></div>, <div class=\"gdlr-core-personnel-list gdlr-core-outer-frame-element clearfix\" style=\"box-shadow: 5px 5px 5px rgba(214, 214, 214,0.2) ; -moz-box-shadow: 5px 5px 5px rgba(214, 214, 214,0.2) ; -webkit-box-shadow: 5px 5px 5px rgba(214, 214, 214,0.2) ; \"><div class=\"gdlr-core-personnel-list-image gdlr-core-media-image gdlr-core-hover-element gdlr-core-zoom-on-hover\"><a href=\"https://khi.nu.edu.pk/personnel/ms-atiya-jokhio/\"><img alt=\"\" data-lazyloaded=\"1\" data-src=\"https://khi.nu.edu.pk/wp-content/uploads/2023/06/Ms.-Atiya-Jokhio-Lecturer-233x300.jpg\" height=\"300\" src=\"data:image/svg+xml;base64,PHN2ZyB4bWxucz0iaHR0cDovL3d3dy53My5vcmcvMjAwMC9zdmciIHdpZHRoPSIyMzMiIGhlaWdodD0iMzAwIiB2aWV3Qm94PSIwIDAgMjMzIDMwMCI+PHJlY3Qgd2lkdGg9IjEwMCUiIGhlaWdodD0iMTAwJSIgc3R5bGU9ImZpbGw6I2NmZDRkYjtmaWxsLW9wYWNpdHk6IDAuMTsiLz48L3N2Zz4=\" title=\"Ms. Atiya Jokhio Lecturer\" width=\"233\"/></a><div class=\"gdlr-core-hover-opacity\"></div></div><div class=\"gdlr-core-personnel-list-content-wrap\"><h3 class=\"gdlr-core-personnel-list-title\" style=\"font-size: 14px ;\"><a href=\"https://khi.nu.edu.pk/personnel/ms-atiya-jokhio/\">Ms. Atiya Jokhio</a></h3><div class=\"gdlr-core-personnel-list-position gdlr-core-info-font gdlr-core-skin-caption\" style=\"font-style: normal ;\">Lecturer</div><div class=\"gdlr-core-personnel-info\"><div class=\"kingster-personnel-info-list kingster-type-email\"><i class=\"kingster-personnel-info-list-icon fa fa-envelope-open\"></i>atiya.jokhiyo@nu.edu.pk</div><div class=\"kingster-personnel-info-list kingster-type-phone\"><i class=\"kingster-personnel-info-list-icon fa fa-phone\"></i>399</div></div><a class=\"gdlr-core-personnel-list-button gdlr-core-button\" href=\"https://khi.nu.edu.pk/personnel/ms-atiya-jokhio/\">More Detail</a></div></div>, <div class=\"gdlr-core-personnel-list gdlr-core-outer-frame-element clearfix\" style=\"box-shadow: 5px 5px 5px rgba(214, 214, 214,0.2) ; -moz-box-shadow: 5px 5px 5px rgba(214, 214, 214,0.2) ; -webkit-box-shadow: 5px 5px 5px rgba(214, 214, 214,0.2) ; \"><div class=\"gdlr-core-personnel-list-image gdlr-core-media-image gdlr-core-hover-element gdlr-core-zoom-on-hover\"><a href=\"https://khi.nu.edu.pk/personnel/ms-romasha-khurshid-on-leave/\"><img alt=\"\" data-lazyloaded=\"1\" data-src=\"https://khi.nu.edu.pk/wp-content/uploads/2023/06/Ms.-Romasha-Khurshid-Lecturer-233x300.jpg\" height=\"300\" src=\"data:image/svg+xml;base64,PHN2ZyB4bWxucz0iaHR0cDovL3d3dy53My5vcmcvMjAwMC9zdmciIHdpZHRoPSIyMzMiIGhlaWdodD0iMzAwIiB2aWV3Qm94PSIwIDAgMjMzIDMwMCI+PHJlY3Qgd2lkdGg9IjEwMCUiIGhlaWdodD0iMTAwJSIgc3R5bGU9ImZpbGw6I2NmZDRkYjtmaWxsLW9wYWNpdHk6IDAuMTsiLz48L3N2Zz4=\" title=\"Ms. Romasha Khurshid Lecturer\" width=\"233\"/></a><div class=\"gdlr-core-hover-opacity\"></div></div><div class=\"gdlr-core-personnel-list-content-wrap\"><h3 class=\"gdlr-core-personnel-list-title\" style=\"font-size: 14px ;\"><a href=\"https://khi.nu.edu.pk/personnel/ms-romasha-khurshid-on-leave/\">Ms. Romasha Khurshid</a></h3><div class=\"gdlr-core-personnel-list-position gdlr-core-info-font gdlr-core-skin-caption\" style=\"font-style: normal ;\">Lecturer</div><div class=\"gdlr-core-personnel-info\"><div class=\"kingster-personnel-info-list kingster-type-email\"><i class=\"kingster-personnel-info-list-icon fa fa-envelope-open\"></i>romasha.khurshid@nu.edu.pk</div><div class=\"kingster-personnel-info-list kingster-type-phone\"><i class=\"kingster-personnel-info-list-icon fa fa-phone\"></i>-</div></div><a class=\"gdlr-core-personnel-list-button gdlr-core-button\" href=\"https://khi.nu.edu.pk/personnel/ms-romasha-khurshid-on-leave/\">More Detail</a></div></div>, <div class=\"gdlr-core-personnel-list gdlr-core-outer-frame-element clearfix\" style=\"box-shadow: 5px 5px 5px rgba(214, 214, 214,0.2) ; -moz-box-shadow: 5px 5px 5px rgba(214, 214, 214,0.2) ; -webkit-box-shadow: 5px 5px 5px rgba(214, 214, 214,0.2) ; \"><div class=\"gdlr-core-personnel-list-image gdlr-core-media-image gdlr-core-hover-element gdlr-core-zoom-on-hover\"><a href=\"https://khi.nu.edu.pk/personnel/mr-musawar-ali/\"><img alt=\"\" data-lazyloaded=\"1\" data-src=\"https://khi.nu.edu.pk/wp-content/uploads/2023/06/Mr.-Musawar-Ali-Jhatial-Lecturer-233x300.jpg\" height=\"300\" src=\"data:image/svg+xml;base64,PHN2ZyB4bWxucz0iaHR0cDovL3d3dy53My5vcmcvMjAwMC9zdmciIHdpZHRoPSIyMzMiIGhlaWdodD0iMzAwIiB2aWV3Qm94PSIwIDAgMjMzIDMwMCI+PHJlY3Qgd2lkdGg9IjEwMCUiIGhlaWdodD0iMTAwJSIgc3R5bGU9ImZpbGw6I2NmZDRkYjtmaWxsLW9wYWNpdHk6IDAuMTsiLz48L3N2Zz4=\" title=\"Mr. Musawar Ali Jhatial, Lecturer\" width=\"233\"/></a><div class=\"gdlr-core-hover-opacity\"></div></div><div class=\"gdlr-core-personnel-list-content-wrap\"><h3 class=\"gdlr-core-personnel-list-title\" style=\"font-size: 14px ;\"><a href=\"https://khi.nu.edu.pk/personnel/mr-musawar-ali/\">Mr. Musawar Ali (On Leave)</a></h3><div class=\"gdlr-core-personnel-list-position gdlr-core-info-font gdlr-core-skin-caption\" style=\"font-style: normal ;\">Lecturer</div><div class=\"gdlr-core-personnel-info\"><div class=\"kingster-personnel-info-list kingster-type-email\"><i class=\"kingster-personnel-info-list-icon fa fa-envelope-open\"></i>musawar.ali@nu.edu.pk</div><div class=\"kingster-personnel-info-list kingster-type-phone\"><i class=\"kingster-personnel-info-list-icon fa fa-phone\"></i>-</div></div><a class=\"gdlr-core-personnel-list-button gdlr-core-button\" href=\"https://khi.nu.edu.pk/personnel/mr-musawar-ali/\">More Detail</a></div></div>, <div class=\"gdlr-core-personnel-list gdlr-core-outer-frame-element clearfix\" style=\"box-shadow: 5px 5px 5px rgba(214, 214, 214,0.2) ; -moz-box-shadow: 5px 5px 5px rgba(214, 214, 214,0.2) ; -webkit-box-shadow: 5px 5px 5px rgba(214, 214, 214,0.2) ; \"><div class=\"gdlr-core-personnel-list-image gdlr-core-media-image gdlr-core-hover-element gdlr-core-zoom-on-hover\"><a href=\"https://khi.nu.edu.pk/personnel/ms-noureen-fatima/\"><img alt=\"\" data-lazyloaded=\"1\" data-src=\"https://khi.nu.edu.pk/wp-content/uploads/2023/06/Ms-Noureen-Fatima-Lecturer-CS-226x300.jpg\" height=\"300\" src=\"data:image/svg+xml;base64,PHN2ZyB4bWxucz0iaHR0cDovL3d3dy53My5vcmcvMjAwMC9zdmciIHdpZHRoPSIyMjYiIGhlaWdodD0iMzAwIiB2aWV3Qm94PSIwIDAgMjI2IDMwMCI+PHJlY3Qgd2lkdGg9IjEwMCUiIGhlaWdodD0iMTAwJSIgc3R5bGU9ImZpbGw6I2NmZDRkYjtmaWxsLW9wYWNpdHk6IDAuMTsiLz48L3N2Zz4=\" title=\"Ms Noureen Fatima Lecturer CS\" width=\"226\"/></a><div class=\"gdlr-core-hover-opacity\"></div></div><div class=\"gdlr-core-personnel-list-content-wrap\"><h3 class=\"gdlr-core-personnel-list-title\" style=\"font-size: 14px ;\"><a href=\"https://khi.nu.edu.pk/personnel/ms-noureen-fatima/\">Ms. Noureen Fatima (ON LEAVE)</a></h3><div class=\"gdlr-core-personnel-list-position gdlr-core-info-font gdlr-core-skin-caption\" style=\"font-style: normal ;\">Lecturer</div><div class=\"gdlr-core-personnel-info\"><div class=\"kingster-personnel-info-list kingster-type-email\"><i class=\"kingster-personnel-info-list-icon fa fa-envelope-open\"></i>nida.munawwar@nu.edu.pk</div><div class=\"kingster-personnel-info-list kingster-type-phone\"><i class=\"kingster-personnel-info-list-icon fa fa-phone\"></i>160</div></div><a class=\"gdlr-core-personnel-list-button gdlr-core-button\" href=\"https://khi.nu.edu.pk/personnel/ms-noureen-fatima/\">More Detail</a></div></div>, <div class=\"gdlr-core-personnel-list gdlr-core-outer-frame-element clearfix\" style=\"box-shadow: 5px 5px 5px rgba(214, 214, 214,0.2) ; -moz-box-shadow: 5px 5px 5px rgba(214, 214, 214,0.2) ; -webkit-box-shadow: 5px 5px 5px rgba(214, 214, 214,0.2) ; \"><div class=\"gdlr-core-personnel-list-image gdlr-core-media-image gdlr-core-hover-element gdlr-core-zoom-on-hover\"><a href=\"https://khi.nu.edu.pk/personnel/ms-yusra-kaleem/\"><img alt=\"\" data-lazyloaded=\"1\" data-src=\"https://khi.nu.edu.pk/wp-content/uploads/2023/06/Ms-Yusra-Kaleem-Lecturer-CS-226x300.jpg\" height=\"300\" src=\"data:image/svg+xml;base64,PHN2ZyB4bWxucz0iaHR0cDovL3d3dy53My5vcmcvMjAwMC9zdmciIHdpZHRoPSIyMjYiIGhlaWdodD0iMzAwIiB2aWV3Qm94PSIwIDAgMjI2IDMwMCI+PHJlY3Qgd2lkdGg9IjEwMCUiIGhlaWdodD0iMTAwJSIgc3R5bGU9ImZpbGw6I2NmZDRkYjtmaWxsLW9wYWNpdHk6IDAuMTsiLz48L3N2Zz4=\" title=\"Ms Yusra Kaleem Lecturer CS\" width=\"226\"/></a><div class=\"gdlr-core-hover-opacity\"></div></div><div class=\"gdlr-core-personnel-list-content-wrap\"><h3 class=\"gdlr-core-personnel-list-title\" style=\"font-size: 14px ;\"><a href=\"https://khi.nu.edu.pk/personnel/ms-yusra-kaleem/\">Ms. Yusra Kaleem</a></h3><div class=\"gdlr-core-personnel-list-position gdlr-core-info-font gdlr-core-skin-caption\" style=\"font-style: normal ;\">Lecturer</div><div class=\"gdlr-core-personnel-info\"><div class=\"kingster-personnel-info-list kingster-type-email\"><i class=\"kingster-personnel-info-list-icon fa fa-envelope-open\"></i>yusra.kaleem@nu.edu.pk</div><div class=\"kingster-personnel-info-list kingster-type-phone\"><i class=\"kingster-personnel-info-list-icon fa fa-phone\"></i>280</div></div><a class=\"gdlr-core-personnel-list-button gdlr-core-button\" href=\"https://khi.nu.edu.pk/personnel/ms-yusra-kaleem/\">More Detail</a></div></div>, <div class=\"gdlr-core-personnel-list gdlr-core-outer-frame-element clearfix\" style=\"box-shadow: 5px 5px 5px rgba(214, 214, 214,0.2) ; -moz-box-shadow: 5px 5px 5px rgba(214, 214, 214,0.2) ; -webkit-box-shadow: 5px 5px 5px rgba(214, 214, 214,0.2) ; \"><div class=\"gdlr-core-personnel-list-image gdlr-core-media-image gdlr-core-hover-element gdlr-core-zoom-on-hover\"><a href=\"https://khi.nu.edu.pk/personnel/mr-syed-faisal-ali/\"><img alt=\"\" data-lazyloaded=\"1\" data-src=\"https://khi.nu.edu.pk/wp-content/uploads/2023/06/Syed-Faisal-Ali-233x300.png\" height=\"300\" src=\"data:image/svg+xml;base64,PHN2ZyB4bWxucz0iaHR0cDovL3d3dy53My5vcmcvMjAwMC9zdmciIHdpZHRoPSIyMzMiIGhlaWdodD0iMzAwIiB2aWV3Qm94PSIwIDAgMjMzIDMwMCI+PHJlY3Qgd2lkdGg9IjEwMCUiIGhlaWdodD0iMTAwJSIgc3R5bGU9ImZpbGw6I2NmZDRkYjtmaWxsLW9wYWNpdHk6IDAuMTsiLz48L3N2Zz4=\" title=\"Syed Faisal Ali\" width=\"233\"/></a><div class=\"gdlr-core-hover-opacity\"></div></div><div class=\"gdlr-core-personnel-list-content-wrap\"><h3 class=\"gdlr-core-personnel-list-title\" style=\"font-size: 14px ;\"><a href=\"https://khi.nu.edu.pk/personnel/mr-syed-faisal-ali/\">Mr. Syed Faisal Ali</a></h3><div class=\"gdlr-core-personnel-list-position gdlr-core-info-font gdlr-core-skin-caption\" style=\"font-style: normal ;\">Lecturer</div><div class=\"gdlr-core-personnel-info\"><div class=\"kingster-personnel-info-list kingster-type-email\"><i class=\"kingster-personnel-info-list-icon fa fa-envelope-open\"></i>faisal.ali@nu.edu.pk</div><div class=\"kingster-personnel-info-list kingster-type-phone\"><i class=\"kingster-personnel-info-list-icon fa fa-phone\"></i>159</div></div><a class=\"gdlr-core-personnel-list-button gdlr-core-button\" href=\"https://khi.nu.edu.pk/personnel/mr-syed-faisal-ali/\">More Detail</a></div></div>, <div class=\"gdlr-core-personnel-list gdlr-core-outer-frame-element clearfix\" style=\"box-shadow: 5px 5px 5px rgba(214, 214, 214,0.2) ; -moz-box-shadow: 5px 5px 5px rgba(214, 214, 214,0.2) ; -webkit-box-shadow: 5px 5px 5px rgba(214, 214, 214,0.2) ; \"><div class=\"gdlr-core-personnel-list-image gdlr-core-media-image gdlr-core-hover-element gdlr-core-zoom-on-hover\"><a href=\"https://khi.nu.edu.pk/personnel/ms-zain-noreen/\"><img alt=\"\" data-lazyloaded=\"1\" data-src=\"https://khi.nu.edu.pk/wp-content/uploads/2023/06/Ms.-Zain-Noreen-6825-300x300.jpg\" height=\"300\" src=\"data:image/svg+xml;base64,PHN2ZyB4bWxucz0iaHR0cDovL3d3dy53My5vcmcvMjAwMC9zdmciIHdpZHRoPSIzMDAiIGhlaWdodD0iMzAwIiB2aWV3Qm94PSIwIDAgMzAwIDMwMCI+PHJlY3Qgd2lkdGg9IjEwMCUiIGhlaWdodD0iMTAwJSIgc3R5bGU9ImZpbGw6I2NmZDRkYjtmaWxsLW9wYWNpdHk6IDAuMTsiLz48L3N2Zz4=\" title=\"Ms. Zain Noreen (6825)\" width=\"300\"/></a><div class=\"gdlr-core-hover-opacity\"></div></div><div class=\"gdlr-core-personnel-list-content-wrap\"><h3 class=\"gdlr-core-personnel-list-title\" style=\"font-size: 14px ;\"><a href=\"https://khi.nu.edu.pk/personnel/ms-zain-noreen/\">Ms. Zain Noreen</a></h3><div class=\"gdlr-core-personnel-list-position gdlr-core-info-font gdlr-core-skin-caption\" style=\"font-style: normal ;\">Lecturer</div><div class=\"gdlr-core-personnel-info\"><div class=\"kingster-personnel-info-list kingster-type-email\"><i class=\"kingster-personnel-info-list-icon fa fa-envelope-open\"></i>zain.noreen@nu.edu.pk</div><div class=\"kingster-personnel-info-list kingster-type-phone\"><i class=\"kingster-personnel-info-list-icon fa fa-phone\"></i>-</div></div><a class=\"gdlr-core-personnel-list-button gdlr-core-button\" href=\"https://khi.nu.edu.pk/personnel/ms-zain-noreen/\">More Detail</a></div></div>, <div class=\"gdlr-core-personnel-list gdlr-core-outer-frame-element clearfix\" style=\"box-shadow: 5px 5px 5px rgba(214, 214, 214,0.2) ; -moz-box-shadow: 5px 5px 5px rgba(214, 214, 214,0.2) ; -webkit-box-shadow: 5px 5px 5px rgba(214, 214, 214,0.2) ; \"><div class=\"gdlr-core-personnel-list-image gdlr-core-media-image gdlr-core-hover-element gdlr-core-zoom-on-hover\"><a href=\"https://khi.nu.edu.pk/personnel/mr-nauraiz-subhan/\"><img alt=\"\" data-lazyloaded=\"1\" data-src=\"https://khi.nu.edu.pk/wp-content/uploads/2024/10/Nauraiz-Subhan-226x300.jpg\" height=\"300\" src=\"data:image/svg+xml;base64,PHN2ZyB4bWxucz0iaHR0cDovL3d3dy53My5vcmcvMjAwMC9zdmciIHdpZHRoPSIyMjYiIGhlaWdodD0iMzAwIiB2aWV3Qm94PSIwIDAgMjI2IDMwMCI+PHJlY3Qgd2lkdGg9IjEwMCUiIGhlaWdodD0iMTAwJSIgc3R5bGU9ImZpbGw6I2NmZDRkYjtmaWxsLW9wYWNpdHk6IDAuMTsiLz48L3N2Zz4=\" title=\"Nauraiz Subhan\" width=\"226\"/></a><div class=\"gdlr-core-hover-opacity\"></div></div><div class=\"gdlr-core-personnel-list-content-wrap\"><h3 class=\"gdlr-core-personnel-list-title\" style=\"font-size: 14px ;\"><a href=\"https://khi.nu.edu.pk/personnel/mr-nauraiz-subhan/\">Mr. Nauraiz Subhan</a></h3><div class=\"gdlr-core-personnel-list-position gdlr-core-info-font gdlr-core-skin-caption\" style=\"font-style: normal ;\">Lecturer</div><div class=\"gdlr-core-personnel-info\"><div class=\"kingster-personnel-info-list kingster-type-email\"><i class=\"kingster-personnel-info-list-icon fa fa-envelope-open\"></i>nauraiz.subhan@nu.edu.pk</div><div class=\"kingster-personnel-info-list kingster-type-phone\"><i class=\"kingster-personnel-info-list-icon fa fa-phone\"></i>159</div></div><a class=\"gdlr-core-personnel-list-button gdlr-core-button\" href=\"https://khi.nu.edu.pk/personnel/mr-nauraiz-subhan/\">More Detail</a></div></div>, <div class=\"gdlr-core-personnel-list gdlr-core-outer-frame-element clearfix\" style=\"box-shadow: 5px 5px 5px rgba(214, 214, 214,0.2) ; -moz-box-shadow: 5px 5px 5px rgba(214, 214, 214,0.2) ; -webkit-box-shadow: 5px 5px 5px rgba(214, 214, 214,0.2) ; \"><div class=\"gdlr-core-personnel-list-image gdlr-core-media-image gdlr-core-hover-element gdlr-core-zoom-on-hover\"><a href=\"https://khi.nu.edu.pk/personnel/mr-muhammad-kashif/\"><img alt=\"\" data-lazyloaded=\"1\" data-src=\"https://khi.nu.edu.pk/wp-content/uploads/2023/06/Muhammad-Kashif-226x300.jpg\" height=\"300\" src=\"data:image/svg+xml;base64,PHN2ZyB4bWxucz0iaHR0cDovL3d3dy53My5vcmcvMjAwMC9zdmciIHdpZHRoPSIyMjYiIGhlaWdodD0iMzAwIiB2aWV3Qm94PSIwIDAgMjI2IDMwMCI+PHJlY3Qgd2lkdGg9IjEwMCUiIGhlaWdodD0iMTAwJSIgc3R5bGU9ImZpbGw6I2NmZDRkYjtmaWxsLW9wYWNpdHk6IDAuMTsiLz48L3N2Zz4=\" title=\"Muhammad Kashif\" width=\"226\"/></a><div class=\"gdlr-core-hover-opacity\"></div></div><div class=\"gdlr-core-personnel-list-content-wrap\"><h3 class=\"gdlr-core-personnel-list-title\" style=\"font-size: 14px ;\"><a href=\"https://khi.nu.edu.pk/personnel/mr-muhammad-kashif/\">Mr. Muhammad Kashif</a></h3><div class=\"gdlr-core-personnel-list-position gdlr-core-info-font gdlr-core-skin-caption\" style=\"font-style: normal ;\">Lecturer</div><div class=\"gdlr-core-personnel-info\"><div class=\"kingster-personnel-info-list kingster-type-email\"><i class=\"kingster-personnel-info-list-icon fa fa-envelope-open\"></i>kashif.shaikh@nu.edu.pk</div><div class=\"kingster-personnel-info-list kingster-type-phone\"><i class=\"kingster-personnel-info-list-icon fa fa-phone\"></i>136</div></div><a class=\"gdlr-core-personnel-list-button gdlr-core-button\" href=\"https://khi.nu.edu.pk/personnel/mr-muhammad-kashif/\">More Detail</a></div></div>, <div class=\"gdlr-core-personnel-list gdlr-core-outer-frame-element clearfix\" style=\"box-shadow: 5px 5px 5px rgba(214, 214, 214,0.2) ; -moz-box-shadow: 5px 5px 5px rgba(214, 214, 214,0.2) ; -webkit-box-shadow: 5px 5px 5px rgba(214, 214, 214,0.2) ; \"><div class=\"gdlr-core-personnel-list-image gdlr-core-media-image gdlr-core-hover-element gdlr-core-zoom-on-hover\"><a href=\"https://khi.nu.edu.pk/personnel/mr-muhammad-monis/\"><img alt=\"\" data-lazyloaded=\"1\" data-src=\"https://khi.nu.edu.pk/wp-content/uploads/2023/06/Muhammad-Monis-Instructor-CS-226x300.jpg\" height=\"300\" src=\"data:image/svg+xml;base64,PHN2ZyB4bWxucz0iaHR0cDovL3d3dy53My5vcmcvMjAwMC9zdmciIHdpZHRoPSIyMjYiIGhlaWdodD0iMzAwIiB2aWV3Qm94PSIwIDAgMjI2IDMwMCI+PHJlY3Qgd2lkdGg9IjEwMCUiIGhlaWdodD0iMTAwJSIgc3R5bGU9ImZpbGw6I2NmZDRkYjtmaWxsLW9wYWNpdHk6IDAuMTsiLz48L3N2Zz4=\" title=\"Muhammad Monis Instructor CS\" width=\"226\"/></a><div class=\"gdlr-core-hover-opacity\"></div></div><div class=\"gdlr-core-personnel-list-content-wrap\"><h3 class=\"gdlr-core-personnel-list-title\" style=\"font-size: 14px ;\"><a href=\"https://khi.nu.edu.pk/personnel/mr-muhammad-monis/\">Mr. Muhammad Monis</a></h3><div class=\"gdlr-core-personnel-list-position gdlr-core-info-font gdlr-core-skin-caption\" style=\"font-style: normal ;\">Lab Instructor</div><div class=\"gdlr-core-personnel-info\"><div class=\"kingster-personnel-info-list kingster-type-email\"><i class=\"kingster-personnel-info-list-icon fa fa-envelope-open\"></i>muhammad.monis@nu.edu.pk</div><div class=\"kingster-personnel-info-list kingster-type-phone\"><i class=\"kingster-personnel-info-list-icon fa fa-phone\"></i>284</div></div><a class=\"gdlr-core-personnel-list-button gdlr-core-button\" href=\"https://khi.nu.edu.pk/personnel/mr-muhammad-monis/\">More Detail</a></div></div>, <div class=\"gdlr-core-personnel-list gdlr-core-outer-frame-element clearfix\" style=\"box-shadow: 5px 5px 5px rgba(214, 214, 214,0.2) ; -moz-box-shadow: 5px 5px 5px rgba(214, 214, 214,0.2) ; -webkit-box-shadow: 5px 5px 5px rgba(214, 214, 214,0.2) ; \"><div class=\"gdlr-core-personnel-list-image gdlr-core-media-image gdlr-core-hover-element gdlr-core-zoom-on-hover\"><a href=\"https://khi.nu.edu.pk/personnel/mr-shaheer-ahmad-khan/\"><img alt=\"\" data-lazyloaded=\"1\" data-src=\"https://khi.nu.edu.pk/wp-content/uploads/2023/06/Mr.-Shaheer-Ahmad-Khan-Instructor-CS-226x300.jpg\" height=\"300\" src=\"data:image/svg+xml;base64,PHN2ZyB4bWxucz0iaHR0cDovL3d3dy53My5vcmcvMjAwMC9zdmciIHdpZHRoPSIyMjYiIGhlaWdodD0iMzAwIiB2aWV3Qm94PSIwIDAgMjI2IDMwMCI+PHJlY3Qgd2lkdGg9IjEwMCUiIGhlaWdodD0iMTAwJSIgc3R5bGU9ImZpbGw6I2NmZDRkYjtmaWxsLW9wYWNpdHk6IDAuMTsiLz48L3N2Zz4=\" title=\"Mr. Shaheer Ahmad Khan Instructor CS\" width=\"226\"/></a><div class=\"gdlr-core-hover-opacity\"></div></div><div class=\"gdlr-core-personnel-list-content-wrap\"><h3 class=\"gdlr-core-personnel-list-title\" style=\"font-size: 14px ;\"><a href=\"https://khi.nu.edu.pk/personnel/mr-shaheer-ahmad-khan/\">Mr. Shaheer Ahmad Khan</a></h3><div class=\"gdlr-core-personnel-list-position gdlr-core-info-font gdlr-core-skin-caption\" style=\"font-style: normal ;\">Lecturer</div><div class=\"gdlr-core-personnel-info\"><div class=\"kingster-personnel-info-list kingster-type-email\"><i class=\"kingster-personnel-info-list-icon fa fa-envelope-open\"></i>shaheer.khan@nu.edu.pk</div><div class=\"kingster-personnel-info-list kingster-type-phone\"><i class=\"kingster-personnel-info-list-icon fa fa-phone\"></i>284</div></div><a class=\"gdlr-core-personnel-list-button gdlr-core-button\" href=\"https://khi.nu.edu.pk/personnel/mr-shaheer-ahmad-khan/\">More Detail</a></div></div>, <div class=\"gdlr-core-personnel-list gdlr-core-outer-frame-element clearfix\" style=\"box-shadow: 5px 5px 5px rgba(214, 214, 214,0.2) ; -moz-box-shadow: 5px 5px 5px rgba(214, 214, 214,0.2) ; -webkit-box-shadow: 5px 5px 5px rgba(214, 214, 214,0.2) ; \"><div class=\"gdlr-core-personnel-list-image gdlr-core-media-image gdlr-core-hover-element gdlr-core-zoom-on-hover\"><a href=\"https://khi.nu.edu.pk/personnel/ms-zainab-asif-jawed/\"><img alt=\"\" data-lazyloaded=\"1\" data-src=\"https://khi.nu.edu.pk/wp-content/uploads/2023/06/Zainab-Asif-Jawed-Instructor-CS--226x300.jpg\" height=\"300\" src=\"data:image/svg+xml;base64,PHN2ZyB4bWxucz0iaHR0cDovL3d3dy53My5vcmcvMjAwMC9zdmciIHdpZHRoPSIyMjYiIGhlaWdodD0iMzAwIiB2aWV3Qm94PSIwIDAgMjI2IDMwMCI+PHJlY3Qgd2lkdGg9IjEwMCUiIGhlaWdodD0iMTAwJSIgc3R5bGU9ImZpbGw6I2NmZDRkYjtmaWxsLW9wYWNpdHk6IDAuMTsiLz48L3N2Zz4=\" title=\"Zainab Asif Jawed Instructor CS\" width=\"226\"/></a><div class=\"gdlr-core-hover-opacity\"></div></div><div class=\"gdlr-core-personnel-list-content-wrap\"><h3 class=\"gdlr-core-personnel-list-title\" style=\"font-size: 14px ;\"><a href=\"https://khi.nu.edu.pk/personnel/ms-zainab-asif-jawed/\">Ms. Zainab Asif Jawed</a></h3><div class=\"gdlr-core-personnel-list-position gdlr-core-info-font gdlr-core-skin-caption\" style=\"font-style: normal ;\">Lab Instructor</div><div class=\"gdlr-core-personnel-info\"><div class=\"kingster-personnel-info-list kingster-type-email\"><i class=\"kingster-personnel-info-list-icon fa fa-envelope-open\"></i>zainab.asif@nu.edu.pk</div><div class=\"kingster-personnel-info-list kingster-type-phone\"><i class=\"kingster-personnel-info-list-icon fa fa-phone\"></i>293</div></div><a class=\"gdlr-core-personnel-list-button gdlr-core-button\" href=\"https://khi.nu.edu.pk/personnel/ms-zainab-asif-jawed/\">More Detail</a></div></div>, <div class=\"gdlr-core-personnel-list gdlr-core-outer-frame-element clearfix\" style=\"box-shadow: 5px 5px 5px rgba(214, 214, 214,0.2) ; -moz-box-shadow: 5px 5px 5px rgba(214, 214, 214,0.2) ; -webkit-box-shadow: 5px 5px 5px rgba(214, 214, 214,0.2) ; \"><div class=\"gdlr-core-personnel-list-image gdlr-core-media-image gdlr-core-hover-element gdlr-core-zoom-on-hover\"><a href=\"https://khi.nu.edu.pk/personnel/ms-syeda-mahnoor-javed/\"><img alt=\"\" data-lazyloaded=\"1\" data-src=\"https://khi.nu.edu.pk/wp-content/uploads/2023/06/Syeda-mahnoor-233x300.png\" height=\"300\" src=\"data:image/svg+xml;base64,PHN2ZyB4bWxucz0iaHR0cDovL3d3dy53My5vcmcvMjAwMC9zdmciIHdpZHRoPSIyMzMiIGhlaWdodD0iMzAwIiB2aWV3Qm94PSIwIDAgMjMzIDMwMCI+PHJlY3Qgd2lkdGg9IjEwMCUiIGhlaWdodD0iMTAwJSIgc3R5bGU9ImZpbGw6I2NmZDRkYjtmaWxsLW9wYWNpdHk6IDAuMTsiLz48L3N2Zz4=\" title=\"Syeda mahnoor\" width=\"233\"/></a><div class=\"gdlr-core-hover-opacity\"></div></div><div class=\"gdlr-core-personnel-list-content-wrap\"><h3 class=\"gdlr-core-personnel-list-title\" style=\"font-size: 14px ;\"><a href=\"https://khi.nu.edu.pk/personnel/ms-syeda-mahnoor-javed/\">Ms. Syeda Mahnoor Javed</a></h3><div class=\"gdlr-core-personnel-list-position gdlr-core-info-font gdlr-core-skin-caption\" style=\"font-style: normal ;\">Lab Instructor</div><div class=\"gdlr-core-personnel-info\"><div class=\"kingster-personnel-info-list kingster-type-email\"><i class=\"kingster-personnel-info-list-icon fa fa-envelope-open\"></i>mahnoor.javed@nu.edu.pk</div><div class=\"kingster-personnel-info-list kingster-type-phone\"><i class=\"kingster-personnel-info-list-icon fa fa-phone\"></i>293</div></div><a class=\"gdlr-core-personnel-list-button gdlr-core-button\" href=\"https://khi.nu.edu.pk/personnel/ms-syeda-mahnoor-javed/\">More Detail</a></div></div>, <div class=\"gdlr-core-personnel-list gdlr-core-outer-frame-element clearfix\" style=\"box-shadow: 5px 5px 5px rgba(214, 214, 214,0.2) ; -moz-box-shadow: 5px 5px 5px rgba(214, 214, 214,0.2) ; -webkit-box-shadow: 5px 5px 5px rgba(214, 214, 214,0.2) ; \"><div class=\"gdlr-core-personnel-list-image gdlr-core-media-image gdlr-core-hover-element gdlr-core-zoom-on-hover\"><a href=\"https://khi.nu.edu.pk/personnel/mr-shafique-rahman/\"><img alt=\"\" data-lazyloaded=\"1\" data-src=\"https://khi.nu.edu.pk/wp-content/uploads/2023/06/Mr.-Shafique-Rehman-Instructor-CS-226x300.jpg\" height=\"300\" src=\"data:image/svg+xml;base64,PHN2ZyB4bWxucz0iaHR0cDovL3d3dy53My5vcmcvMjAwMC9zdmciIHdpZHRoPSIyMjYiIGhlaWdodD0iMzAwIiB2aWV3Qm94PSIwIDAgMjI2IDMwMCI+PHJlY3Qgd2lkdGg9IjEwMCUiIGhlaWdodD0iMTAwJSIgc3R5bGU9ImZpbGw6I2NmZDRkYjtmaWxsLW9wYWNpdHk6IDAuMTsiLz48L3N2Zz4=\" title=\"Mr. Shafique Rehman Instructor CS\" width=\"226\"/></a><div class=\"gdlr-core-hover-opacity\"></div></div><div class=\"gdlr-core-personnel-list-content-wrap\"><h3 class=\"gdlr-core-personnel-list-title\" style=\"font-size: 14px ;\"><a href=\"https://khi.nu.edu.pk/personnel/mr-shafique-rahman/\">Mr. Shafique Rahman</a></h3><div class=\"gdlr-core-personnel-list-position gdlr-core-info-font gdlr-core-skin-caption\" style=\"font-style: normal ;\">Lab Instructor</div><div class=\"gdlr-core-personnel-info\"><div class=\"kingster-personnel-info-list kingster-type-email\"><i class=\"kingster-personnel-info-list-icon fa fa-envelope-open\"></i>shafique.rehman@nu.edu.pk</div><div class=\"kingster-personnel-info-list kingster-type-phone\"><i class=\"kingster-personnel-info-list-icon fa fa-phone\"></i>284</div></div><a class=\"gdlr-core-personnel-list-button gdlr-core-button\" href=\"https://khi.nu.edu.pk/personnel/mr-shafique-rahman/\">More Detail</a></div></div>, <div class=\"gdlr-core-personnel-list gdlr-core-outer-frame-element clearfix\" style=\"box-shadow: 5px 5px 5px rgba(214, 214, 214,0.2) ; -moz-box-shadow: 5px 5px 5px rgba(214, 214, 214,0.2) ; -webkit-box-shadow: 5px 5px 5px rgba(214, 214, 214,0.2) ; \"><div class=\"gdlr-core-personnel-list-image gdlr-core-media-image gdlr-core-hover-element gdlr-core-zoom-on-hover\"><a href=\"https://khi.nu.edu.pk/personnel/ms-fatima-gado/\"><img alt=\"\" data-lazyloaded=\"1\" data-src=\"https://khi.nu.edu.pk/wp-content/uploads/2024/04/fatima-gado-233x300.png\" height=\"300\" src=\"data:image/svg+xml;base64,PHN2ZyB4bWxucz0iaHR0cDovL3d3dy53My5vcmcvMjAwMC9zdmciIHdpZHRoPSIyMzMiIGhlaWdodD0iMzAwIiB2aWV3Qm94PSIwIDAgMjMzIDMwMCI+PHJlY3Qgd2lkdGg9IjEwMCUiIGhlaWdodD0iMTAwJSIgc3R5bGU9ImZpbGw6I2NmZDRkYjtmaWxsLW9wYWNpdHk6IDAuMTsiLz48L3N2Zz4=\" title=\"fatima gado\" width=\"233\"/></a><div class=\"gdlr-core-hover-opacity\"></div></div><div class=\"gdlr-core-personnel-list-content-wrap\"><h3 class=\"gdlr-core-personnel-list-title\" style=\"font-size: 14px ;\"><a href=\"https://khi.nu.edu.pk/personnel/ms-fatima-gado/\">Ms. Fatima Gado</a></h3><div class=\"gdlr-core-personnel-list-position gdlr-core-info-font gdlr-core-skin-caption\" style=\"font-style: normal ;\">Instructor</div><div class=\"gdlr-core-personnel-info\"><div class=\"kingster-personnel-info-list kingster-type-email\"><i class=\"kingster-personnel-info-list-icon fa fa-envelope-open\"></i>fatima.gado@nu.edu.pk</div><div class=\"kingster-personnel-info-list kingster-type-phone\"><i class=\"kingster-personnel-info-list-icon fa fa-phone\"></i>293</div></div><a class=\"gdlr-core-personnel-list-button gdlr-core-button\" href=\"https://khi.nu.edu.pk/personnel/ms-fatima-gado/\">More Detail</a></div></div>, <div class=\"gdlr-core-personnel-list gdlr-core-outer-frame-element clearfix\" style=\"box-shadow: 5px 5px 5px rgba(214, 214, 214,0.2) ; -moz-box-shadow: 5px 5px 5px rgba(214, 214, 214,0.2) ; -webkit-box-shadow: 5px 5px 5px rgba(214, 214, 214,0.2) ; \"><div class=\"gdlr-core-personnel-list-image gdlr-core-media-image gdlr-core-hover-element gdlr-core-zoom-on-hover\"><a href=\"https://khi.nu.edu.pk/personnel/ms-hafiza-bushra-sattar/\"><img alt=\"\" data-lazyloaded=\"1\" data-src=\"https://khi.nu.edu.pk/wp-content/uploads/2024/04/Ms.-Bushra-Sattar-6806-233x300.jpg\" height=\"300\" src=\"data:image/svg+xml;base64,PHN2ZyB4bWxucz0iaHR0cDovL3d3dy53My5vcmcvMjAwMC9zdmciIHdpZHRoPSIyMzMiIGhlaWdodD0iMzAwIiB2aWV3Qm94PSIwIDAgMjMzIDMwMCI+PHJlY3Qgd2lkdGg9IjEwMCUiIGhlaWdodD0iMTAwJSIgc3R5bGU9ImZpbGw6I2NmZDRkYjtmaWxsLW9wYWNpdHk6IDAuMTsiLz48L3N2Zz4=\" title=\"Ms. Bushra Sattar (6806)\" width=\"233\"/></a><div class=\"gdlr-core-hover-opacity\"></div></div><div class=\"gdlr-core-personnel-list-content-wrap\"><h3 class=\"gdlr-core-personnel-list-title\" style=\"font-size: 14px ;\"><a href=\"https://khi.nu.edu.pk/personnel/ms-hafiza-bushra-sattar/\">Ms. Hafiza Bushra Sattar</a></h3><div class=\"gdlr-core-personnel-list-position gdlr-core-info-font gdlr-core-skin-caption\" style=\"font-style: normal ;\">Instructor</div><div class=\"gdlr-core-personnel-info\"><div class=\"kingster-personnel-info-list kingster-type-email\"><i class=\"kingster-personnel-info-list-icon fa fa-envelope-open\"></i>bushra.sattar@nu.edu.pk</div><div class=\"kingster-personnel-info-list kingster-type-phone\"><i class=\"kingster-personnel-info-list-icon fa fa-phone\"></i>237</div></div><a class=\"gdlr-core-personnel-list-button gdlr-core-button\" href=\"https://khi.nu.edu.pk/personnel/ms-hafiza-bushra-sattar/\">More Detail</a></div></div>, <div class=\"gdlr-core-personnel-list gdlr-core-outer-frame-element clearfix\" style=\"box-shadow: 5px 5px 5px rgba(214, 214, 214,0.2) ; -moz-box-shadow: 5px 5px 5px rgba(214, 214, 214,0.2) ; -webkit-box-shadow: 5px 5px 5px rgba(214, 214, 214,0.2) ; \"><div class=\"gdlr-core-personnel-list-image gdlr-core-media-image gdlr-core-hover-element gdlr-core-zoom-on-hover\"><a href=\"https://khi.nu.edu.pk/personnel/mr-ubaidullah/\"><img alt=\"\" data-lazyloaded=\"1\" data-src=\"https://khi.nu.edu.pk/wp-content/uploads/2024/04/Ubaidullah-233x300.png\" height=\"300\" src=\"data:image/svg+xml;base64,PHN2ZyB4bWxucz0iaHR0cDovL3d3dy53My5vcmcvMjAwMC9zdmciIHdpZHRoPSIyMzMiIGhlaWdodD0iMzAwIiB2aWV3Qm94PSIwIDAgMjMzIDMwMCI+PHJlY3Qgd2lkdGg9IjEwMCUiIGhlaWdodD0iMTAwJSIgc3R5bGU9ImZpbGw6I2NmZDRkYjtmaWxsLW9wYWNpdHk6IDAuMTsiLz48L3N2Zz4=\" title=\"Ubaidullah\" width=\"233\"/></a><div class=\"gdlr-core-hover-opacity\"></div></div><div class=\"gdlr-core-personnel-list-content-wrap\"><h3 class=\"gdlr-core-personnel-list-title\" style=\"font-size: 14px ;\"><a href=\"https://khi.nu.edu.pk/personnel/mr-ubaidullah/\">Mr. Ubaidullah</a></h3><div class=\"gdlr-core-personnel-list-position gdlr-core-info-font gdlr-core-skin-caption\" style=\"font-style: normal ;\">Lecturer</div><div class=\"gdlr-core-personnel-info\"><div class=\"kingster-personnel-info-list kingster-type-email\"><i class=\"kingster-personnel-info-list-icon fa fa-envelope-open\"></i>ubaid.ullah.v@nu.edu.pk</div><div class=\"kingster-personnel-info-list kingster-type-phone\"><i class=\"kingster-personnel-info-list-icon fa fa-phone\"></i>-</div></div><a class=\"gdlr-core-personnel-list-button gdlr-core-button\" href=\"https://khi.nu.edu.pk/personnel/mr-ubaidullah/\">More Detail</a></div></div>, <div class=\"gdlr-core-personnel-list gdlr-core-outer-frame-element clearfix\" style=\"box-shadow: 5px 5px 5px rgba(214, 214, 214,0.2) ; -moz-box-shadow: 5px 5px 5px rgba(214, 214, 214,0.2) ; -webkit-box-shadow: 5px 5px 5px rgba(214, 214, 214,0.2) ; \"><div class=\"gdlr-core-personnel-list-image gdlr-core-media-image gdlr-core-hover-element gdlr-core-zoom-on-hover\"><a href=\"https://khi.nu.edu.pk/personnel/ms-ramsha-iqbal/\"><img alt=\"\" data-lazyloaded=\"1\" data-src=\"https://khi.nu.edu.pk/wp-content/uploads/2024/10/Ramsha-Iqbal-Final-300x300.png\" height=\"300\" src=\"data:image/svg+xml;base64,PHN2ZyB4bWxucz0iaHR0cDovL3d3dy53My5vcmcvMjAwMC9zdmciIHdpZHRoPSIzMDAiIGhlaWdodD0iMzAwIiB2aWV3Qm94PSIwIDAgMzAwIDMwMCI+PHJlY3Qgd2lkdGg9IjEwMCUiIGhlaWdodD0iMTAwJSIgc3R5bGU9ImZpbGw6I2NmZDRkYjtmaWxsLW9wYWNpdHk6IDAuMTsiLz48L3N2Zz4=\" title=\"Ramsha Iqbal Final\" width=\"300\"/></a><div class=\"gdlr-core-hover-opacity\"></div></div><div class=\"gdlr-core-personnel-list-content-wrap\"><h3 class=\"gdlr-core-personnel-list-title\" style=\"font-size: 14px ;\"><a href=\"https://khi.nu.edu.pk/personnel/ms-ramsha-iqbal/\">Ms Ramsha Iqbal</a></h3><div class=\"gdlr-core-personnel-list-position gdlr-core-info-font gdlr-core-skin-caption\" style=\"font-style: normal ;\">Instructor</div><div class=\"gdlr-core-personnel-info\"><div class=\"kingster-personnel-info-list kingster-type-email\"><i class=\"kingster-personnel-info-list-icon fa fa-envelope-open\"></i>ramsha.iqbal@nu.edu.pk</div><div class=\"kingster-personnel-info-list kingster-type-phone\"><i class=\"kingster-personnel-info-list-icon fa fa-phone\"></i>293</div></div><a class=\"gdlr-core-personnel-list-button gdlr-core-button\" href=\"https://khi.nu.edu.pk/personnel/ms-ramsha-iqbal/\">More Detail</a></div></div>, <div class=\"gdlr-core-personnel-list gdlr-core-outer-frame-element clearfix\" style=\"box-shadow: 5px 5px 5px rgba(214, 214, 214,0.2) ; -moz-box-shadow: 5px 5px 5px rgba(214, 214, 214,0.2) ; -webkit-box-shadow: 5px 5px 5px rgba(214, 214, 214,0.2) ; \"><div class=\"gdlr-core-personnel-list-image gdlr-core-media-image gdlr-core-hover-element gdlr-core-zoom-on-hover\"><a href=\"https://khi.nu.edu.pk/personnel/mr-ghulam-qadir-bhurgari/\"><img alt=\"\" data-lazyloaded=\"1\" data-src=\"https://khi.nu.edu.pk/wp-content/uploads/2024/10/Ghulam-Qadir-Bhugari-300x300.png\" height=\"300\" src=\"data:image/svg+xml;base64,PHN2ZyB4bWxucz0iaHR0cDovL3d3dy53My5vcmcvMjAwMC9zdmciIHdpZHRoPSIzMDAiIGhlaWdodD0iMzAwIiB2aWV3Qm94PSIwIDAgMzAwIDMwMCI+PHJlY3Qgd2lkdGg9IjEwMCUiIGhlaWdodD0iMTAwJSIgc3R5bGU9ImZpbGw6I2NmZDRkYjtmaWxsLW9wYWNpdHk6IDAuMTsiLz48L3N2Zz4=\" title=\"Ghulam Qadir Bhugari\" width=\"300\"/></a><div class=\"gdlr-core-hover-opacity\"></div></div><div class=\"gdlr-core-personnel-list-content-wrap\"><h3 class=\"gdlr-core-personnel-list-title\" style=\"font-size: 14px ;\"><a href=\"https://khi.nu.edu.pk/personnel/mr-ghulam-qadir-bhurgari/\">Mr. Ghulam Qadir Bhurgari</a></h3><div class=\"gdlr-core-personnel-list-position gdlr-core-info-font gdlr-core-skin-caption\" style=\"font-style: normal ;\">Instructor</div><div class=\"gdlr-core-personnel-info\"><div class=\"kingster-personnel-info-list kingster-type-email\"><i class=\"kingster-personnel-info-list-icon fa fa-envelope-open\"></i>ghulam.qadir@nu.edu.pk</div><div class=\"kingster-personnel-info-list kingster-type-phone\"><i class=\"kingster-personnel-info-list-icon fa fa-phone\"></i>284</div></div><a class=\"gdlr-core-personnel-list-button gdlr-core-button\" href=\"https://khi.nu.edu.pk/personnel/mr-ghulam-qadir-bhurgari/\">More Detail</a></div></div>, <div class=\"gdlr-core-personnel-list gdlr-core-outer-frame-element clearfix\" style=\"box-shadow: 5px 5px 5px rgba(214, 214, 214,0.2) ; -moz-box-shadow: 5px 5px 5px rgba(214, 214, 214,0.2) ; -webkit-box-shadow: 5px 5px 5px rgba(214, 214, 214,0.2) ; \"><div class=\"gdlr-core-personnel-list-image gdlr-core-media-image gdlr-core-hover-element gdlr-core-zoom-on-hover\"><a href=\"https://khi.nu.edu.pk/personnel/mr-mubashir/\"><img alt=\"\" data-lazyloaded=\"1\" data-src=\"https://khi.nu.edu.pk/wp-content/uploads/2024/10/Mubashar-Final-300x300.png\" height=\"300\" src=\"data:image/svg+xml;base64,PHN2ZyB4bWxucz0iaHR0cDovL3d3dy53My5vcmcvMjAwMC9zdmciIHdpZHRoPSIzMDAiIGhlaWdodD0iMzAwIiB2aWV3Qm94PSIwIDAgMzAwIDMwMCI+PHJlY3Qgd2lkdGg9IjEwMCUiIGhlaWdodD0iMTAwJSIgc3R5bGU9ImZpbGw6I2NmZDRkYjtmaWxsLW9wYWNpdHk6IDAuMTsiLz48L3N2Zz4=\" title=\"Mubashar Final\" width=\"300\"/></a><div class=\"gdlr-core-hover-opacity\"></div></div><div class=\"gdlr-core-personnel-list-content-wrap\"><h3 class=\"gdlr-core-personnel-list-title\" style=\"font-size: 14px ;\"><a href=\"https://khi.nu.edu.pk/personnel/mr-mubashir/\">Mr. Mubashir</a></h3><div class=\"gdlr-core-personnel-list-position gdlr-core-info-font gdlr-core-skin-caption\" style=\"font-style: normal ;\">Instructor</div><div class=\"gdlr-core-personnel-info\"><div class=\"kingster-personnel-info-list kingster-type-email\"><i class=\"kingster-personnel-info-list-icon fa fa-envelope-open\"></i>mubashir@nu.edu.pk</div><div class=\"kingster-personnel-info-list kingster-type-phone\"><i class=\"kingster-personnel-info-list-icon fa fa-phone\"></i>284</div></div><a class=\"gdlr-core-personnel-list-button gdlr-core-button\" href=\"https://khi.nu.edu.pk/personnel/mr-mubashir/\">More Detail</a></div></div>, <div class=\"gdlr-core-personnel-list gdlr-core-outer-frame-element clearfix\" style=\"box-shadow: 5px 5px 5px rgba(214, 214, 214,0.2) ; -moz-box-shadow: 5px 5px 5px rgba(214, 214, 214,0.2) ; -webkit-box-shadow: 5px 5px 5px rgba(214, 214, 214,0.2) ; \"><div class=\"gdlr-core-personnel-list-image gdlr-core-media-image gdlr-core-hover-element gdlr-core-zoom-on-hover\"><a href=\"https://khi.nu.edu.pk/personnel/ms-khadija-tul-kubra/\"><img alt=\"\" data-lazyloaded=\"1\" data-src=\"https://khi.nu.edu.pk/wp-content/uploads/2024/10/Khadija-Tul-Kubra-300x300.png\" height=\"300\" src=\"data:image/svg+xml;base64,PHN2ZyB4bWxucz0iaHR0cDovL3d3dy53My5vcmcvMjAwMC9zdmciIHdpZHRoPSIzMDAiIGhlaWdodD0iMzAwIiB2aWV3Qm94PSIwIDAgMzAwIDMwMCI+PHJlY3Qgd2lkdGg9IjEwMCUiIGhlaWdodD0iMTAwJSIgc3R5bGU9ImZpbGw6I2NmZDRkYjtmaWxsLW9wYWNpdHk6IDAuMTsiLz48L3N2Zz4=\" title=\"Khadija Tul Kubra\" width=\"300\"/></a><div class=\"gdlr-core-hover-opacity\"></div></div><div class=\"gdlr-core-personnel-list-content-wrap\"><h3 class=\"gdlr-core-personnel-list-title\" style=\"font-size: 14px ;\"><a href=\"https://khi.nu.edu.pk/personnel/ms-khadija-tul-kubra/\">Ms. Khadija tul Kubra</a></h3><div class=\"gdlr-core-personnel-list-position gdlr-core-info-font gdlr-core-skin-caption\" style=\"font-style: normal ;\">Instructor</div><div class=\"gdlr-core-personnel-info\"><div class=\"kingster-personnel-info-list kingster-type-email\"><i class=\"kingster-personnel-info-list-icon fa fa-envelope-open\"></i>khadija@nu.edu.pk</div><div class=\"kingster-personnel-info-list kingster-type-phone\"><i class=\"kingster-personnel-info-list-icon fa fa-phone\"></i>293</div></div><a class=\"gdlr-core-personnel-list-button gdlr-core-button\" href=\"https://khi.nu.edu.pk/personnel/ms-khadija-tul-kubra/\">More Detail</a></div></div>, <div class=\"gdlr-core-personnel-list gdlr-core-outer-frame-element clearfix\" style=\"box-shadow: 5px 5px 5px rgba(214, 214, 214,0.2) ; -moz-box-shadow: 5px 5px 5px rgba(214, 214, 214,0.2) ; -webkit-box-shadow: 5px 5px 5px rgba(214, 214, 214,0.2) ; \"><div class=\"gdlr-core-personnel-list-image gdlr-core-media-image gdlr-core-hover-element gdlr-core-zoom-on-hover\"><a href=\"https://khi.nu.edu.pk/personnel/ms-filza-akhlaq/\"><img alt=\"\" data-lazyloaded=\"1\" data-src=\"https://khi.nu.edu.pk/wp-content/uploads/2024/10/Filza-Ikhlaque-Final-300x300.png\" height=\"300\" src=\"data:image/svg+xml;base64,PHN2ZyB4bWxucz0iaHR0cDovL3d3dy53My5vcmcvMjAwMC9zdmciIHdpZHRoPSIzMDAiIGhlaWdodD0iMzAwIiB2aWV3Qm94PSIwIDAgMzAwIDMwMCI+PHJlY3Qgd2lkdGg9IjEwMCUiIGhlaWdodD0iMTAwJSIgc3R5bGU9ImZpbGw6I2NmZDRkYjtmaWxsLW9wYWNpdHk6IDAuMTsiLz48L3N2Zz4=\" title=\"Filza Ikhlaque Final\" width=\"300\"/></a><div class=\"gdlr-core-hover-opacity\"></div></div><div class=\"gdlr-core-personnel-list-content-wrap\"><h3 class=\"gdlr-core-personnel-list-title\" style=\"font-size: 14px ;\"><a href=\"https://khi.nu.edu.pk/personnel/ms-filza-akhlaq/\">Ms. Filza Akhlaq (On Leave)</a></h3><div class=\"gdlr-core-personnel-list-position gdlr-core-info-font gdlr-core-skin-caption\" style=\"font-style: normal ;\">Instructor</div><div class=\"gdlr-core-personnel-info\"><div class=\"kingster-personnel-info-list kingster-type-email\"><i class=\"kingster-personnel-info-list-icon fa fa-envelope-open\"></i>filza.akhlaq@nu.edu.pk</div><div class=\"kingster-personnel-info-list kingster-type-phone\"><i class=\"kingster-personnel-info-list-icon fa fa-phone\"></i>132</div></div><a class=\"gdlr-core-personnel-list-button gdlr-core-button\" href=\"https://khi.nu.edu.pk/personnel/ms-filza-akhlaq/\">More Detail</a></div></div>, <div class=\"gdlr-core-personnel-list gdlr-core-outer-frame-element clearfix\" style=\"box-shadow: 5px 5px 5px rgba(214, 214, 214,0.2) ; -moz-box-shadow: 5px 5px 5px rgba(214, 214, 214,0.2) ; -webkit-box-shadow: 5px 5px 5px rgba(214, 214, 214,0.2) ; \"><div class=\"gdlr-core-personnel-list-image gdlr-core-media-image gdlr-core-hover-element gdlr-core-zoom-on-hover\"><a href=\"https://khi.nu.edu.pk/personnel/ms-syeda-tehreem-gilani/\"><img alt=\"\" data-lazyloaded=\"1\" data-src=\"https://khi.nu.edu.pk/wp-content/uploads/2024/10/Syeda-Tehreem-Gilani-Final-300x300.png\" height=\"300\" src=\"data:image/svg+xml;base64,PHN2ZyB4bWxucz0iaHR0cDovL3d3dy53My5vcmcvMjAwMC9zdmciIHdpZHRoPSIzMDAiIGhlaWdodD0iMzAwIiB2aWV3Qm94PSIwIDAgMzAwIDMwMCI+PHJlY3Qgd2lkdGg9IjEwMCUiIGhlaWdodD0iMTAwJSIgc3R5bGU9ImZpbGw6I2NmZDRkYjtmaWxsLW9wYWNpdHk6IDAuMTsiLz48L3N2Zz4=\" title=\"Syeda Tehreem Gilani Final\" width=\"300\"/></a><div class=\"gdlr-core-hover-opacity\"></div></div><div class=\"gdlr-core-personnel-list-content-wrap\"><h3 class=\"gdlr-core-personnel-list-title\" style=\"font-size: 14px ;\"><a href=\"https://khi.nu.edu.pk/personnel/ms-syeda-tehreem-gilani/\">Ms. Syeda Tehreem Gilani</a></h3><div class=\"gdlr-core-personnel-list-position gdlr-core-info-font gdlr-core-skin-caption\" style=\"font-style: normal ;\">Instructor</div><div class=\"gdlr-core-personnel-info\"><div class=\"kingster-personnel-info-list kingster-type-email\"><i class=\"kingster-personnel-info-list-icon fa fa-envelope-open\"></i>syeda.tehreem@nu.edu.pk</div><div class=\"kingster-personnel-info-list kingster-type-phone\"><i class=\"kingster-personnel-info-list-icon fa fa-phone\"></i>293</div></div><a class=\"gdlr-core-personnel-list-button gdlr-core-button\" href=\"https://khi.nu.edu.pk/personnel/ms-syeda-tehreem-gilani/\">More Detail</a></div></div>]\n"
          ]
        }
      ]
    },
    {
      "cell_type": "code",
      "source": [
        "#Extracting names from html\n",
        "khiNames = []\n",
        "for member in karachiFaculty:\n",
        "        # Extract Name\n",
        "        name = member.find('h3', class_='gdlr-core-personnel-list-title')\n",
        "        khiNames.append(name.text.strip() if name else 'N/A')\n",
        "\n",
        "print(khiNames)"
      ],
      "metadata": {
        "colab": {
          "base_uri": "https://localhost:8080/"
        },
        "id": "m0j3L0QnQZK7",
        "outputId": "b5421ae7-9bc4-45f2-b6e0-51b4685a97f7"
      },
      "execution_count": 32,
      "outputs": [
        {
          "output_type": "stream",
          "name": "stdout",
          "text": [
            "['Prof. Dr. Zulfiqar Ali Memon , PhD', 'Dr. Jawwad A. Shamsi, PhD', 'Dr. Ghufran Ahmed, PhD', 'Dr. Nouman Durrani, PhD', 'Dr. Fahad Sherwani , PhD', 'Dr. Nadeem Kafi, PhD', 'Dr. Farrukh Hasan Syed , PhD', 'Dr. Farrukh Salim Shaikh, PhD', 'Dr. Nausheen Shoaib , PhD', 'Dr. Aqsa Aslam , PhD', 'Dr. Nasir Uddin , PhD', 'Dr. Anam Qureshi , PhD', 'Dr. Waheed Ahmed Abro (On Leave)', 'Engr.  Abdul Rahman', 'Mr. Muhammad Jamil', 'Ms. Rabia Tabassum', 'Mr. Syed Kashan Hussain Naqvi', 'Mr. Ubaid Aftab', 'Ms. Shahar Bano Husnine', 'Mr. Shoaib Rauf', 'Mr. Basit Ali', 'Mr. Syed Zain Ul Hassan', 'Ms. Sobia Iftikhar', 'Ms. Anaum Hamid', 'Ms. Nida Munawar', 'Ms. Sumaiyah', 'Ms. Mubashra Fayyaz', 'Ms. Hajra Ahmed', 'Mr. Aashir Mahboob', 'Ms. Abeeha Sattar', 'Ms. Bakhtawer', 'Ms. Javeria Farooq', 'Ms. Mafaza Mohi (ON LEAVE)', 'Ms. Fizza Aqeel', 'Ms. Atiya Jokhio', 'Ms. Romasha Khurshid', 'Mr. Musawar Ali (On Leave)', 'Ms. Noureen Fatima (ON LEAVE)', 'Ms. Yusra Kaleem', 'Mr. Syed Faisal Ali', 'Ms. Zain Noreen', 'Mr. Nauraiz Subhan', 'Mr. Muhammad Kashif', 'Mr. Muhammad Monis', 'Mr. Shaheer Ahmad Khan', 'Ms. Zainab Asif Jawed', 'Ms. Syeda Mahnoor Javed', 'Mr. Shafique Rahman', 'Ms. Fatima Gado', 'Ms. Hafiza Bushra Sattar', 'Mr. Ubaidullah', 'Ms Ramsha Iqbal', 'Mr. Ghulam Qadir Bhurgari', 'Mr. Mubashir', 'Ms. Khadija tul Kubra', 'Ms. Filza Akhlaq (On Leave)', 'Ms. Syeda Tehreem Gilani']\n"
          ]
        }
      ]
    },
    {
      "cell_type": "code",
      "source": [
        "#Extracting designation from html\n",
        "khiDesignations = []\n",
        "for member in karachiFaculty:\n",
        "  # Extract Designation\n",
        "  designation = member.find('div', class_='gdlr-core-personnel-list-position')\n",
        "  khiDesignations.append(designation.text.strip() if designation else 'N/A')\n",
        "\n",
        "print(khiDesignations)"
      ],
      "metadata": {
        "colab": {
          "base_uri": "https://localhost:8080/"
        },
        "id": "ukgQGDh7Qw-H",
        "outputId": "0ced1045-5b77-43f1-b8a9-d3e7c4adf132"
      },
      "execution_count": 19,
      "outputs": [
        {
          "output_type": "stream",
          "name": "stdout",
          "text": [
            "['Professor & Director', 'Professor & Dean', 'Professor & HoD Computer Science', 'Associate Professor', 'Assistant Professor', 'Assistant Professor', 'Assistant Professor', 'Assistant Professor', 'Assistant Professor', 'Assistant Professor', 'Assistant Professor', 'Assistant Professor', 'Assistant Professor', 'Assistant Professor', 'Assistant Professor', 'Assistant Professor', 'Assistant Professor', 'Assistant Professor (Adjunct)', 'Lecturer', 'Lecturer', 'Lecturer', 'Lecturer', 'Lecturer', 'Lecturer', 'Lecturer', 'Lecturer', 'Lecturer', 'Lecturer', 'Lecturer', 'Lecturer', 'Lecturer', 'Lecturer', 'Lecturer', 'Lecturer', 'Lecturer', 'Lecturer', 'Lecturer', 'Lecturer', 'Lecturer', 'Lecturer', 'Lecturer', 'Lecturer', 'Lecturer', 'Lab Instructor', 'Lecturer', 'Lab Instructor', 'Lab Instructor', 'Lab Instructor', 'Instructor', 'Instructor', 'Lecturer', 'Instructor', 'Instructor', 'Instructor', 'Instructor', 'Instructor', 'Instructor']\n"
          ]
        }
      ]
    },
    {
      "cell_type": "code",
      "source": [
        "#Extracting emails from html\n",
        "khiEmails = []\n",
        "for member in karachiFaculty:\n",
        "    # Extract Email\n",
        "    email = member.find('div', class_='kingster-type-email')\n",
        "    khiEmails.append(email.text.strip() if email else 'N/A')\n",
        "\n",
        "print(khiEmails)"
      ],
      "metadata": {
        "colab": {
          "base_uri": "https://localhost:8080/"
        },
        "id": "ZqHhkALcRHCP",
        "outputId": "ec0003b6-48ae-45c5-a1e5-a42adc5e5861"
      },
      "execution_count": 20,
      "outputs": [
        {
          "output_type": "stream",
          "name": "stdout",
          "text": [
            "['zulfiqar.memon@nu.edu.pk', 'jawwad.shamsi@nu.edu.pk', 'ghufran.ahmed@nu.edu.pk', 'muhammad.nouman@nu.edu.pk', 'fahad.sherwani@nu.edu.pk', 'nadeem.kafi@nu.edu.pk', 'farrukh.hasan@nu.edu.pk', 'farrukh.salim@nu.edu.pk', 'nausheen.shoaib@nu.edu.pk', 'aqsa.aslam@nu.edu.pk', 'nasir.uddin@nu.edu.pk', 'anam.qureshi@nu.edu.pk', 'waheedahmed@nu.edu.pk', 'abdulrahman@nu.edu.pk', 'm.jamil@nu.edu.pk', 'rabia.tabassum@nu.edu.pk', 'kashan.hussain@nu.edu.pk', 'ubaid.aftab@nu.edu.pk', 'shahar.bano@nu.edu.pk', 'shoaib.rauf@nu.edu.pk', 'basit.jasani@nu.edu.pk', 'zain.hassan@nu.edu.pk', 'sobia.iftikhar@nu.edu.pk', 'anaum.hamid@nu.edu.pk', 'nida.munawwar@nu.edu.pk', 'sumaiyah@nu.edu.pk', 'mubashra.fayyaz@nu.edu.pk', 'hajra.ahmed@nu.edu.pk', 'aashir.mahboob@nu.edu.pk', 'abeeha.sattar@nu.edu.pk', 'bakhtawar.abbasi@nu.edu.pk', 'javeria.farooq@nu.edu.pk', 'mafaza.mohi@nu.edu.pk', 'fizza.aqeel@nu.edu.pk', 'atiya.jokhiyo@nu.edu.pk', 'romasha.khurshid@nu.edu.pk', 'musawar.ali@nu.edu.pk', 'nida.munawwar@nu.edu.pk', 'yusra.kaleem@nu.edu.pk', 'faisal.ali@nu.edu.pk', 'zain.noreen@nu.edu.pk', 'nauraiz.subhan@nu.edu.pk', 'kashif.shaikh@nu.edu.pk', 'muhammad.monis@nu.edu.pk', 'shaheer.khan@nu.edu.pk', 'zainab.asif@nu.edu.pk', 'mahnoor.javed@nu.edu.pk', 'shafique.rehman@nu.edu.pk', 'fatima.gado@nu.edu.pk', 'bushra.sattar@nu.edu.pk', 'ubaid.ullah.v@nu.edu.pk', 'ramsha.iqbal@nu.edu.pk', 'ghulam.qadir@nu.edu.pk', 'mubashir@nu.edu.pk', 'khadija@nu.edu.pk', 'filza.akhlaq@nu.edu.pk', 'syeda.tehreem@nu.edu.pk']\n"
          ]
        }
      ]
    },
    {
      "cell_type": "code",
      "source": [
        "#Extracting extensions as int from html\n",
        "khiExtensions = []\n",
        "for member in karachiFaculty:\n",
        "    # Extract Extension\n",
        "    extension_tag = member.find('div', class_='kingster-type-phone')\n",
        "    # Attempt to convert to integer, handle any errors (e.g., if it's 'N/A')\n",
        "    if extension_tag:\n",
        "        try:\n",
        "            extension = int(extension_tag.text.strip())  # Convert to integer\n",
        "        except ValueError:\n",
        "            extension = None\n",
        "    else:\n",
        "        extension = None\n",
        "    khiExtensions.append(extension)\n",
        "print(khiExtensions)\n"
      ],
      "metadata": {
        "colab": {
          "base_uri": "https://localhost:8080/"
        },
        "id": "zPfd8PVPRfEx",
        "outputId": "028cf75a-8ca8-48be-e58b-b4cda2e2fd40"
      },
      "execution_count": 23,
      "outputs": [
        {
          "output_type": "stream",
          "name": "stdout",
          "text": [
            "[213, 218, 233, 133, 219, 131, 132, 167, 280, 220, 164, 231, None, 236, 245, 235, 283, 225, 220, 258, 130, 197, 237, 237, 136, 266, 172, 142, 113, 160, 136, 220, 293, 153, 399, None, None, 160, 280, 159, None, 159, 136, 284, 284, 293, 293, 284, 293, 237, None, 293, 284, 284, 293, 132, 293]\n"
          ]
        }
      ]
    },
    {
      "cell_type": "code",
      "source": [
        "# Extract Faculty Images\n",
        "khiImageURLs = []\n",
        "faculty_containers = soup2.find_all('div', class_='gdlr-core-personnel-list-image')\n",
        "\n",
        "for container in faculty_containers:\n",
        "    img_tag = container.find('img')\n",
        "    if img_tag:\n",
        "        src = img_tag.get(\"data-src\") or img_tag.get(\"data-lazy-src\") or img_tag.get(\"src\")\n",
        "        if src and not src.startswith(\"data:image\"):  # Skip Base64 placeholders\n",
        "            if src.startswith(\"/\"):\n",
        "                src = URL_khi + src  # Convert relative to absolute URL\n",
        "            khiImageURLs.append(src)\n",
        "\n",
        "print(khiImageURLs)\n"
      ],
      "metadata": {
        "colab": {
          "base_uri": "https://localhost:8080/"
        },
        "id": "nhBYm0KdjuIE",
        "outputId": "501f6bad-8a6a-435e-e7fc-bf97e4be3171"
      },
      "execution_count": 24,
      "outputs": [
        {
          "output_type": "stream",
          "name": "stdout",
          "text": [
            "['https://khi.nu.edu.pk/wp-content/uploads/2023/01/Dr.-Zulfiqar-New-Image-287x300.jpg', 'https://khi.nu.edu.pk/wp-content/uploads/2023/01/Dr.-Jawwad-A-Shamsi-Professor-226x300.png', 'https://khi.nu.edu.pk/wp-content/uploads/2023/02/Dr.-Ghufran-Ahmed-Associate-Professor-226x300.jpg', 'https://khi.nu.edu.pk/wp-content/uploads/2023/02/Dr.-M-Nouman-Durrani-Assistant-Professor-226x300.jpg', 'https://khi.nu.edu.pk/wp-content/uploads/2023/03/Mr.-Fahad-Sherwani-Assistant-Professor-226x300.jpg', 'https://khi.nu.edu.pk/wp-content/uploads/2023/02/Dr.-Nadeem-Kafi-Khan-Assistant-Professor-1-233x300.jpg', 'https://khi.nu.edu.pk/wp-content/uploads/2023/05/Dr.-Farrukh-Hassan-Syed-Assistant-Professor-226x300.jpg', 'https://khi.nu.edu.pk/wp-content/uploads/2023/05/Dr-Farrukh-Salim-Shaikh-Assistant-Professor-CS-226x300.jpg', 'https://khi.nu.edu.pk/wp-content/uploads/2023/06/Dr-Nausheen-Shoaib-Assistant-Professor-226x300.jpg', 'https://khi.nu.edu.pk/wp-content/uploads/2023/05/Dr.-Aqsa-Aslam-Assistant-Professor-233x300.jpg', 'https://khi.nu.edu.pk/wp-content/uploads/2023/05/Dr-Nasiruddin-233x300.png', 'https://khi.nu.edu.pk/wp-content/uploads/2023/05/Ms.-Anam-Qureshi-233x300.png', 'https://khi.nu.edu.pk/wp-content/uploads/2023/05/Mr.-Waheed-Ahmed-Lecturer--226x300.jpg', 'https://khi.nu.edu.pk/wp-content/uploads/2023/05/Abdul-Rehman-1-233x300.png', 'https://khi.nu.edu.pk/wp-content/uploads/2023/06/Mr-Jamil-Usmani-Assistant-Professor-CS-226x300.jpg', 'https://khi.nu.edu.pk/wp-content/uploads/2023/06/Ms-Rabia-Tabassum-Assistant-Professor-CS-226x300.jpg', 'https://khi.nu.edu.pk/wp-content/uploads/2023/06/Mr-Syed-Kashan-Hussain-Naqvi-Assistant-Professor-CS-226x300.jpg', 'https://khi.nu.edu.pk/wp-content/uploads/2023/06/Mr.-Ubaid-Aftab-Chawla-Adjunct-Assistant-Professor--240x300.jpg', 'https://khi.nu.edu.pk/wp-content/uploads/2023/06/Ms-Shaharbano-Lecturer-CS-226x300.jpg', 'https://khi.nu.edu.pk/wp-content/uploads/2023/06/Mr-Shoaib-Rauf-Lecturer-CS-226x300.jpg', 'https://khi.nu.edu.pk/wp-content/uploads/2023/06/Mr-Basit-Ali-Lecturer-CS-226x300.jpg', 'https://khi.nu.edu.pk/wp-content/uploads/2023/06/Mr.-Syed-Zain-Ul-Hassan-Lecturer-233x300.jpg', 'https://khi.nu.edu.pk/wp-content/uploads/2023/06/Ms-Sobia-Iftikhar-Lecturer-CS-226x300.jpg', 'https://khi.nu.edu.pk/wp-content/uploads/2023/06/Anaum-Hamid-Lecturer-226x300.jpg', 'https://khi.nu.edu.pk/wp-content/uploads/2023/06/Ms-Nida-Munawar-Lecturer-CS-226x300.jpg', 'https://khi.nu.edu.pk/wp-content/uploads/2023/06/Ms-Sumaiyah-Zahid-Lecturer-CS-226x300.jpg', 'https://khi.nu.edu.pk/wp-content/uploads/2023/06/Ms-Mubashra-Fayyaz-Lecturer-CS-226x300.jpg', 'https://khi.nu.edu.pk/wp-content/uploads/2023/06/Ms-Hajra-Ahmed-Lecturer-CS-226x300.jpg', 'https://khi.nu.edu.pk/wp-content/uploads/2023/06/Mr-Aashir-Mahboob-Lecturer-226x300.jpg', 'https://khi.nu.edu.pk/wp-content/uploads/2023/06/Ms-Abeeha-Sattar-Lecturer-CS-226x300.jpg', 'https://khi.nu.edu.pk/wp-content/uploads/2023/06/Ms-Bakhtawer-Lecturer-CS-226x300.jpg', 'https://khi.nu.edu.pk/wp-content/uploads/2023/06/Ms.-Javeria-Farooq-Lecturer--240x300.jpg', 'https://khi.nu.edu.pk/wp-content/uploads/2023/06/Ms.-Mafaza-Mohi-Lecturer-CS-1-226x300.jpg', 'https://khi.nu.edu.pk/wp-content/uploads/2023/06/Ms.-Fizza-Aqeel-Instructor-233x300.jpg', 'https://khi.nu.edu.pk/wp-content/uploads/2023/06/Ms.-Atiya-Jokhio-Lecturer-233x300.jpg', 'https://khi.nu.edu.pk/wp-content/uploads/2023/06/Ms.-Romasha-Khurshid-Lecturer-233x300.jpg', 'https://khi.nu.edu.pk/wp-content/uploads/2023/06/Mr.-Musawar-Ali-Jhatial-Lecturer-233x300.jpg', 'https://khi.nu.edu.pk/wp-content/uploads/2023/06/Ms-Noureen-Fatima-Lecturer-CS-226x300.jpg', 'https://khi.nu.edu.pk/wp-content/uploads/2023/06/Ms-Yusra-Kaleem-Lecturer-CS-226x300.jpg', 'https://khi.nu.edu.pk/wp-content/uploads/2023/06/Syed-Faisal-Ali-233x300.png', 'https://khi.nu.edu.pk/wp-content/uploads/2023/06/Ms.-Zain-Noreen-6825-300x300.jpg', 'https://khi.nu.edu.pk/wp-content/uploads/2024/10/Nauraiz-Subhan-226x300.jpg', 'https://khi.nu.edu.pk/wp-content/uploads/2023/06/Muhammad-Kashif-226x300.jpg', 'https://khi.nu.edu.pk/wp-content/uploads/2023/06/Muhammad-Monis-Instructor-CS-226x300.jpg', 'https://khi.nu.edu.pk/wp-content/uploads/2023/06/Mr.-Shaheer-Ahmad-Khan-Instructor-CS-226x300.jpg', 'https://khi.nu.edu.pk/wp-content/uploads/2023/06/Zainab-Asif-Jawed-Instructor-CS--226x300.jpg', 'https://khi.nu.edu.pk/wp-content/uploads/2023/06/Syeda-mahnoor-233x300.png', 'https://khi.nu.edu.pk/wp-content/uploads/2023/06/Mr.-Shafique-Rehman-Instructor-CS-226x300.jpg', 'https://khi.nu.edu.pk/wp-content/uploads/2024/04/fatima-gado-233x300.png', 'https://khi.nu.edu.pk/wp-content/uploads/2024/04/Ms.-Bushra-Sattar-6806-233x300.jpg', 'https://khi.nu.edu.pk/wp-content/uploads/2024/04/Ubaidullah-233x300.png', 'https://khi.nu.edu.pk/wp-content/uploads/2024/10/Ramsha-Iqbal-Final-300x300.png', 'https://khi.nu.edu.pk/wp-content/uploads/2024/10/Ghulam-Qadir-Bhugari-300x300.png', 'https://khi.nu.edu.pk/wp-content/uploads/2024/10/Mubashar-Final-300x300.png', 'https://khi.nu.edu.pk/wp-content/uploads/2024/10/Khadija-Tul-Kubra-300x300.png', 'https://khi.nu.edu.pk/wp-content/uploads/2024/10/Filza-Ikhlaque-Final-300x300.png', 'https://khi.nu.edu.pk/wp-content/uploads/2024/10/Syeda-Tehreem-Gilani-Final-300x300.png']\n"
          ]
        }
      ]
    },
    {
      "cell_type": "code",
      "source": [
        "#Extracting links of all faculty profiles for later use from html\n",
        "khiProfiles = []\n",
        "for member in karachiFaculty:\n",
        "    # Extract Name\n",
        "    name = member.find('h3', class_='gdlr-core-personnel-list-title')\n",
        "    khiNames.append(name.text.strip() if name else 'N/A')\n",
        "\n",
        "    # Extract Profile URL\n",
        "    profile_link = member.find('a', href=True)\n",
        "    khiProfiles.append(profile_link['href'] if profile_link else 'N/A')\n",
        "print(khiProfiles)"
      ],
      "metadata": {
        "colab": {
          "base_uri": "https://localhost:8080/"
        },
        "id": "yMy9qeNTa567",
        "outputId": "c41805ea-1d8c-443d-9eab-ee305a85f2e8"
      },
      "execution_count": 25,
      "outputs": [
        {
          "output_type": "stream",
          "name": "stdout",
          "text": [
            "['https://khi.nu.edu.pk/personnel/prof-dr-zulfiqar-ali-memon-phd/', 'https://khi.nu.edu.pk/personnel/dr-jawwad-a-shamsi-phd/', 'https://khi.nu.edu.pk/personnel/dr-ghufran-ahmed-phd/', 'https://khi.nu.edu.pk/personnel/dr-nouman-durrani-phd/', 'https://khi.nu.edu.pk/personnel/dr-fahad-sherwani-phd/', 'https://khi.nu.edu.pk/personnel/dr-nadeem-kafi-phd/', 'https://khi.nu.edu.pk/personnel/dr-farrukh-hasan-syed-phd/', 'https://khi.nu.edu.pk/personnel/dr-farrukh-salim-shaikh-phd/', 'https://khi.nu.edu.pk/personnel/dr-nausheen-shoaib-phd/', 'https://khi.nu.edu.pk/personnel/dr-aqsa-aslam-phd/', 'https://khi.nu.edu.pk/personnel/dr-nasir-uddin-phd/', 'https://khi.nu.edu.pk/personnel/ms-anam-qureshi/', 'https://khi.nu.edu.pk/personnel/dr-waheed-ahmed-abro/', 'https://khi.nu.edu.pk/personnel/engr-abdul-rahman/', 'https://khi.nu.edu.pk/personnel/mr-muhammad-jamil/', 'https://khi.nu.edu.pk/personnel/dr-nausheen-shoaib/', 'https://khi.nu.edu.pk/personnel/mr-shahbaz-siddiqui/', 'https://khi.nu.edu.pk/personnel/mr-ubaid-aftab/', 'https://khi.nu.edu.pk/personnel/ms-shahar-bano-husnine/', 'https://khi.nu.edu.pk/personnel/mr-shoaib-rauf/', 'https://khi.nu.edu.pk/personnel/mr-basit-ali/', 'https://khi.nu.edu.pk/personnel/mr-syed-zain-ul-hassan/', 'https://khi.nu.edu.pk/personnel/ms-sobia-iftikhar/', 'https://khi.nu.edu.pk/personnel/ms-anaum-hamid/', 'https://khi.nu.edu.pk/personnel/ms-nida-munawar/', 'https://khi.nu.edu.pk/personnel/ms-sumaiyah/', 'https://khi.nu.edu.pk/personnel/ms-mubashra-fayyaz/', 'https://khi.nu.edu.pk/personnel/ms-hajra-ahmed/', 'https://khi.nu.edu.pk/personnel/mr-shahbaz-siddiqui-2/', 'https://khi.nu.edu.pk/personnel/ms-abeeha-sattar/', 'https://khi.nu.edu.pk/personnel/ms-bakhtawer/', 'https://khi.nu.edu.pk/personnel/ms-javeria-farooq/', 'https://khi.nu.edu.pk/personnel/ms-mafaza-mohi/', 'https://khi.nu.edu.pk/personnel/ms-fizza-aqeel/', 'https://khi.nu.edu.pk/personnel/ms-atiya-jokhio/', 'https://khi.nu.edu.pk/personnel/ms-romasha-khurshid-on-leave/', 'https://khi.nu.edu.pk/personnel/mr-musawar-ali/', 'https://khi.nu.edu.pk/personnel/ms-noureen-fatima/', 'https://khi.nu.edu.pk/personnel/ms-yusra-kaleem/', 'https://khi.nu.edu.pk/personnel/mr-syed-faisal-ali/', 'https://khi.nu.edu.pk/personnel/ms-zain-noreen/', 'https://khi.nu.edu.pk/personnel/mr-nauraiz-subhan/', 'https://khi.nu.edu.pk/personnel/mr-muhammad-kashif/', 'https://khi.nu.edu.pk/personnel/mr-muhammad-monis/', 'https://khi.nu.edu.pk/personnel/mr-shaheer-ahmad-khan/', 'https://khi.nu.edu.pk/personnel/ms-zainab-asif-jawed/', 'https://khi.nu.edu.pk/personnel/ms-syeda-mahnoor-javed/', 'https://khi.nu.edu.pk/personnel/mr-shafique-rahman/', 'https://khi.nu.edu.pk/personnel/ms-fatima-gado/', 'https://khi.nu.edu.pk/personnel/ms-hafiza-bushra-sattar/', 'https://khi.nu.edu.pk/personnel/mr-ubaidullah/', 'https://khi.nu.edu.pk/personnel/ms-ramsha-iqbal/', 'https://khi.nu.edu.pk/personnel/mr-ghulam-qadir-bhurgari/', 'https://khi.nu.edu.pk/personnel/mr-mubashir/', 'https://khi.nu.edu.pk/personnel/ms-khadija-tul-kubra/', 'https://khi.nu.edu.pk/personnel/ms-filza-akhlaq/', 'https://khi.nu.edu.pk/personnel/ms-syeda-tehreem-gilani/']\n"
          ]
        }
      ]
    },
    {
      "cell_type": "code",
      "source": [
        "#Setting isApproved based on whether or not hec approved is found in text\n",
        "khiIsApprovedSupervisor = []\n",
        "\n",
        "for profile_url in khiProfiles:\n",
        "    if profile_url != 'N/A':\n",
        "        profile_response = requests.get(profile_url)\n",
        "        profile_soup = BeautifulSoup(profile_response.content, 'html.parser')\n",
        "\n",
        "        # Check for \"HEC Approved PhD Supervisor\" text\n",
        "        supervisor_text = profile_soup.find_all(text=lambda text: text and \"HEC Approved PhD Supervisor\" in text)\n",
        "        khiIsApprovedSupervisor.append(True if supervisor_text else False)\n",
        "    else:\n",
        "        khiIsApprovedSupervisor.append(False)\n",
        "\n",
        "print(khiIsApprovedSupervisor)"
      ],
      "metadata": {
        "colab": {
          "base_uri": "https://localhost:8080/"
        },
        "id": "Xl6UMou7cfrO",
        "outputId": "54cd89c7-3765-4f19-d1e7-9e98cce3ebbb"
      },
      "execution_count": 26,
      "outputs": [
        {
          "output_type": "stream",
          "name": "stderr",
          "text": [
            "<ipython-input-26-8b2a0c95a38d>:10: DeprecationWarning: The 'text' argument to find()-type methods is deprecated. Use 'string' instead.\n",
            "  supervisor_text = profile_soup.find_all(text=lambda text: text and \"HEC Approved PhD Supervisor\" in text)\n"
          ]
        },
        {
          "output_type": "stream",
          "name": "stdout",
          "text": [
            "[True, False, False, False, False, False, False, False, False, False, False, False, False, False, False, False, False, False, False, False, False, False, False, False, False, False, False, False, False, False, False, False, False, False, False, False, False, False, False, False, False, False, False, False, False, False, False, False, False, False, False, False, False, False, False, False, False]\n"
          ]
        }
      ]
    },
    {
      "cell_type": "code",
      "source": [
        "#Extracting highest education from html by iterating through profile links list\n",
        "khiEducation = []\n",
        "#Iterating dynamically through all the profile urls\n",
        "for profile_url in khiProfiles:\n",
        "    if profile_url != 'N/A':\n",
        "        profile_response = requests.get(profile_url)\n",
        "        profile_soup = BeautifulSoup(profile_response.content, 'html.parser')\n",
        "\n",
        "        # Locate the 'Education' section and store the first list item from the list\n",
        "        education_section = profile_soup.find('h3', string=\"Education\")\n",
        "        if education_section:\n",
        "            education_list = education_section.find_next('ul')\n",
        "            if education_list:\n",
        "                highest_education = education_list.find('li')\n",
        "                #if not found then set as not available\n",
        "                khiEducation.append(highest_education.text.strip() if highest_education else 'Not available')\n",
        "            else:\n",
        "                khiEducation.append('Not available')\n",
        "        else:\n",
        "            khiEducation.append('Not available')\n",
        "    else:\n",
        "        khiEducation.append('Not available')\n",
        "\n",
        "print(khiEducation)\n"
      ],
      "metadata": {
        "colab": {
          "base_uri": "https://localhost:8080/"
        },
        "id": "vgwCF7X2eXYo",
        "outputId": "82820435-5b79-4bf4-9ebf-27334705d499"
      },
      "execution_count": 27,
      "outputs": [
        {
          "output_type": "stream",
          "name": "stdout",
          "text": [
            "['PhD (Vrije University) Amsterdam, The Netherlands', 'Not available', 'PostDoc (UK), PhD (CS)', 'Not available', 'Not available', 'BE (Computer Systems), MS (Computer Science), PhD (EE)', 'Not available', 'Not available', 'PhD (CS), NUCES, Karachi', 'Not available', 'Not available', 'ME (CS&N), UET-Mehran , Jamshoro', 'Not available', 'Not available', 'MS (CNC), Hamdard University, Karachi', 'MPhil (Hhydr. & Sust. Water Res. Mgmt.), University of Karachi', 'ME (EE), NED-UET, Karachi', 'MS (IT), Monash University, Australia', 'MS (CS), NUCES, Lahore', 'MS (SE), Hamdard University, Karachi', 'MS (CS), NUCES, Karachi', 'MS (CS), NUCES, Karachi', 'ME (SE), UET-Mehran, Karachi', 'MS (CS&IT), NED-UET, Karachi', 'MS (CS), NUCES, Karachi', 'MS (DS), NUCES, Karachi', 'MS (CS), NUCES, Karachi', 'ME (CS), NED-UET, Karachi', 'MS (EE), NUCES, Karachi', 'MS (CS), IBA, Karachi', 'MS (CS), NUCES, Karachi', 'MS (CS), Bahria University, Karachi', 'BE (SE), MUET, Jamshoro', 'Not available', 'Not available', 'Not available', 'Not available', 'MS (CS), IBA, Karachi', 'MS (EE), NUST, Karachi', 'Not available', 'Not available', 'Not available', 'Not available', 'BS (SE), UET, Karachi', 'BS (IT), SS-UET, Karachi', 'BS (CS), Preston University, Karachi', 'Not available', 'BS (CS), IBA, Sukkur', 'Not available', 'Not available', 'Not available', 'Not available', 'Not available', 'Not available', 'Not available', 'Not available', 'Not available']\n"
          ]
        }
      ]
    },
    {
      "cell_type": "code",
      "source": [
        "#Extracting department name from html\n",
        "khiDepartment = []\n",
        "for profile in khiProfiles:\n",
        "  title_tag = soup2.find('title')\n",
        "  title_text = title_tag.text.strip()\n",
        "  dept = title_text.split(\" – \")[0]  # Extract part before \"–\" to not store campus name\n",
        "  khiDepartment.append(dept)\n",
        "\n",
        "print(khiDepartment)"
      ],
      "metadata": {
        "colab": {
          "base_uri": "https://localhost:8080/"
        },
        "id": "T1dQanKSgCOm",
        "outputId": "acc1330f-2366-44fe-f0a1-9674793f9fd6"
      },
      "execution_count": 28,
      "outputs": [
        {
          "output_type": "stream",
          "name": "stdout",
          "text": [
            "['Department of Computer Science', 'Department of Computer Science', 'Department of Computer Science', 'Department of Computer Science', 'Department of Computer Science', 'Department of Computer Science', 'Department of Computer Science', 'Department of Computer Science', 'Department of Computer Science', 'Department of Computer Science', 'Department of Computer Science', 'Department of Computer Science', 'Department of Computer Science', 'Department of Computer Science', 'Department of Computer Science', 'Department of Computer Science', 'Department of Computer Science', 'Department of Computer Science', 'Department of Computer Science', 'Department of Computer Science', 'Department of Computer Science', 'Department of Computer Science', 'Department of Computer Science', 'Department of Computer Science', 'Department of Computer Science', 'Department of Computer Science', 'Department of Computer Science', 'Department of Computer Science', 'Department of Computer Science', 'Department of Computer Science', 'Department of Computer Science', 'Department of Computer Science', 'Department of Computer Science', 'Department of Computer Science', 'Department of Computer Science', 'Department of Computer Science', 'Department of Computer Science', 'Department of Computer Science', 'Department of Computer Science', 'Department of Computer Science', 'Department of Computer Science', 'Department of Computer Science', 'Department of Computer Science', 'Department of Computer Science', 'Department of Computer Science', 'Department of Computer Science', 'Department of Computer Science', 'Department of Computer Science', 'Department of Computer Science', 'Department of Computer Science', 'Department of Computer Science', 'Department of Computer Science', 'Department of Computer Science', 'Department of Computer Science', 'Department of Computer Science', 'Department of Computer Science', 'Department of Computer Science']\n"
          ]
        }
      ]
    },
    {
      "cell_type": "code",
      "source": [
        "#since no ids were available they were set as the index value - Assumption\n",
        "khiIDs = []\n",
        "for index, profile in enumerate(khiProfiles):\n",
        "    khiIDs.append(index)\n",
        "\n",
        "print(khiIDs)"
      ],
      "metadata": {
        "colab": {
          "base_uri": "https://localhost:8080/"
        },
        "id": "Ss3Su1TahaWG",
        "outputId": "805ea948-b92f-4474-bb08-7af0ccdce4a4"
      },
      "execution_count": 29,
      "outputs": [
        {
          "output_type": "stream",
          "name": "stdout",
          "text": [
            "[0, 1, 2, 3, 4, 5, 6, 7, 8, 9, 10, 11, 12, 13, 14, 15, 16, 17, 18, 19, 20, 21, 22, 23, 24, 25, 26, 27, 28, 29, 30, 31, 32, 33, 34, 35, 36, 37, 38, 39, 40, 41, 42, 43, 44, 45, 46, 47, 48, 49, 50, 51, 52, 53, 54, 55, 56]\n"
          ]
        }
      ]
    },
    {
      "cell_type": "code",
      "source": [
        "#printing length to check its equal\n",
        "\n",
        "print(\"ID:\", len(khiIDs))\n",
        "print(\"Name:\", len(khiNames))\n",
        "print(\"Designation:\", len(khiDesignations))\n",
        "print(\"HEC Approved Supervisor:\", len(khiIsApprovedSupervisor))\n",
        "print(\"Highest Education:\", len(khiEducation))\n",
        "print(\"Email:\", len(khiEmails))\n",
        "print(\"Department:\", len(khiDepartment))\n",
        "print(\"Extension:\", len(khiExtensions))\n",
        "print(\"Image URL:\", len(khiImageURLs))"
      ],
      "metadata": {
        "colab": {
          "base_uri": "https://localhost:8080/"
        },
        "id": "A1U0jW_YiNNC",
        "outputId": "33aa6dfb-574d-44c2-acd5-1a3059320164"
      },
      "execution_count": 33,
      "outputs": [
        {
          "output_type": "stream",
          "name": "stdout",
          "text": [
            "ID: 57\n",
            "Name: 57\n",
            "Designation: 57\n",
            "HEC Approved Supervisor: 57\n",
            "Highest Education: 57\n",
            "Email: 57\n",
            "Department: 57\n",
            "Extension: 57\n",
            "Image URL: 57\n"
          ]
        }
      ]
    },
    {
      "cell_type": "code",
      "source": [
        "#data structure to store karachi data\n",
        "khiData = {\n",
        "  \"ID\": khiIDs,\n",
        "  \"Name\": khiNames,\n",
        "  \"Designation\": khiDesignations,\n",
        "  \"HEC Approved Supervisor\": khiIsApprovedSupervisor,\n",
        "  \"Highest Education\": khiEducation,\n",
        "  \"Email\": khiEmails,\n",
        "  \"Department\": khiDepartment,\n",
        "  \"Extension\": khiExtensions,\n",
        "  \"Image URL\": khiImageURLs\n",
        "}"
      ],
      "metadata": {
        "id": "VW7LTI_Oh8-C"
      },
      "execution_count": 34,
      "outputs": []
    },
    {
      "cell_type": "code",
      "source": [
        "dfKHI = pd.DataFrame(khiData)\n",
        "print(dfKHI)"
      ],
      "metadata": {
        "colab": {
          "base_uri": "https://localhost:8080/"
        },
        "collapsed": true,
        "id": "0lXImVbgj8Gf",
        "outputId": "520e701e-951b-44e2-9809-a6555fa921f8"
      },
      "execution_count": 35,
      "outputs": [
        {
          "output_type": "stream",
          "name": "stdout",
          "text": [
            "    ID                                Name                       Designation  \\\n",
            "0    0  Prof. Dr. Zulfiqar Ali Memon , PhD              Professor & Director   \n",
            "1    1           Dr. Jawwad A. Shamsi, PhD                  Professor & Dean   \n",
            "2    2              Dr. Ghufran Ahmed, PhD  Professor & HoD Computer Science   \n",
            "3    3             Dr. Nouman Durrani, PhD               Associate Professor   \n",
            "4    4            Dr. Fahad Sherwani , PhD               Assistant Professor   \n",
            "5    5                Dr. Nadeem Kafi, PhD               Assistant Professor   \n",
            "6    6        Dr. Farrukh Hasan Syed , PhD               Assistant Professor   \n",
            "7    7       Dr. Farrukh Salim Shaikh, PhD               Assistant Professor   \n",
            "8    8           Dr. Nausheen Shoaib , PhD               Assistant Professor   \n",
            "9    9                Dr. Aqsa Aslam , PhD               Assistant Professor   \n",
            "10  10               Dr. Nasir Uddin , PhD               Assistant Professor   \n",
            "11  11              Dr. Anam Qureshi , PhD               Assistant Professor   \n",
            "12  12    Dr. Waheed Ahmed Abro (On Leave)               Assistant Professor   \n",
            "13  13                 Engr.  Abdul Rahman               Assistant Professor   \n",
            "14  14                  Mr. Muhammad Jamil               Assistant Professor   \n",
            "15  15                  Ms. Rabia Tabassum               Assistant Professor   \n",
            "16  16       Mr. Syed Kashan Hussain Naqvi               Assistant Professor   \n",
            "17  17                     Mr. Ubaid Aftab     Assistant Professor (Adjunct)   \n",
            "18  18             Ms. Shahar Bano Husnine                          Lecturer   \n",
            "19  19                     Mr. Shoaib Rauf                          Lecturer   \n",
            "20  20                       Mr. Basit Ali                          Lecturer   \n",
            "21  21             Mr. Syed Zain Ul Hassan                          Lecturer   \n",
            "22  22                  Ms. Sobia Iftikhar                          Lecturer   \n",
            "23  23                     Ms. Anaum Hamid                          Lecturer   \n",
            "24  24                    Ms. Nida Munawar                          Lecturer   \n",
            "25  25                        Ms. Sumaiyah                          Lecturer   \n",
            "26  26                 Ms. Mubashra Fayyaz                          Lecturer   \n",
            "27  27                     Ms. Hajra Ahmed                          Lecturer   \n",
            "28  28                  Mr. Aashir Mahboob                          Lecturer   \n",
            "29  29                   Ms. Abeeha Sattar                          Lecturer   \n",
            "30  30                       Ms. Bakhtawer                          Lecturer   \n",
            "31  31                  Ms. Javeria Farooq                          Lecturer   \n",
            "32  32          Ms. Mafaza Mohi (ON LEAVE)                          Lecturer   \n",
            "33  33                     Ms. Fizza Aqeel                          Lecturer   \n",
            "34  34                    Ms. Atiya Jokhio                          Lecturer   \n",
            "35  35                Ms. Romasha Khurshid                          Lecturer   \n",
            "36  36          Mr. Musawar Ali (On Leave)                          Lecturer   \n",
            "37  37       Ms. Noureen Fatima (ON LEAVE)                          Lecturer   \n",
            "38  38                    Ms. Yusra Kaleem                          Lecturer   \n",
            "39  39                 Mr. Syed Faisal Ali                          Lecturer   \n",
            "40  40                     Ms. Zain Noreen                          Lecturer   \n",
            "41  41                  Mr. Nauraiz Subhan                          Lecturer   \n",
            "42  42                 Mr. Muhammad Kashif                          Lecturer   \n",
            "43  43                  Mr. Muhammad Monis                    Lab Instructor   \n",
            "44  44              Mr. Shaheer Ahmad Khan                          Lecturer   \n",
            "45  45               Ms. Zainab Asif Jawed                    Lab Instructor   \n",
            "46  46             Ms. Syeda Mahnoor Javed                    Lab Instructor   \n",
            "47  47                 Mr. Shafique Rahman                    Lab Instructor   \n",
            "48  48                     Ms. Fatima Gado                        Instructor   \n",
            "49  49            Ms. Hafiza Bushra Sattar                        Instructor   \n",
            "50  50                      Mr. Ubaidullah                          Lecturer   \n",
            "51  51                     Ms Ramsha Iqbal                        Instructor   \n",
            "52  52           Mr. Ghulam Qadir Bhurgari                        Instructor   \n",
            "53  53                        Mr. Mubashir                        Instructor   \n",
            "54  54               Ms. Khadija tul Kubra                        Instructor   \n",
            "55  55         Ms. Filza Akhlaq (On Leave)                        Instructor   \n",
            "56  56            Ms. Syeda Tehreem Gilani                        Instructor   \n",
            "\n",
            "    HEC Approved Supervisor  \\\n",
            "0                      True   \n",
            "1                     False   \n",
            "2                     False   \n",
            "3                     False   \n",
            "4                     False   \n",
            "5                     False   \n",
            "6                     False   \n",
            "7                     False   \n",
            "8                     False   \n",
            "9                     False   \n",
            "10                    False   \n",
            "11                    False   \n",
            "12                    False   \n",
            "13                    False   \n",
            "14                    False   \n",
            "15                    False   \n",
            "16                    False   \n",
            "17                    False   \n",
            "18                    False   \n",
            "19                    False   \n",
            "20                    False   \n",
            "21                    False   \n",
            "22                    False   \n",
            "23                    False   \n",
            "24                    False   \n",
            "25                    False   \n",
            "26                    False   \n",
            "27                    False   \n",
            "28                    False   \n",
            "29                    False   \n",
            "30                    False   \n",
            "31                    False   \n",
            "32                    False   \n",
            "33                    False   \n",
            "34                    False   \n",
            "35                    False   \n",
            "36                    False   \n",
            "37                    False   \n",
            "38                    False   \n",
            "39                    False   \n",
            "40                    False   \n",
            "41                    False   \n",
            "42                    False   \n",
            "43                    False   \n",
            "44                    False   \n",
            "45                    False   \n",
            "46                    False   \n",
            "47                    False   \n",
            "48                    False   \n",
            "49                    False   \n",
            "50                    False   \n",
            "51                    False   \n",
            "52                    False   \n",
            "53                    False   \n",
            "54                    False   \n",
            "55                    False   \n",
            "56                    False   \n",
            "\n",
            "                                    Highest Education  \\\n",
            "0   PhD (Vrije University) Amsterdam, The Netherlands   \n",
            "1                                       Not available   \n",
            "2                              PostDoc (UK), PhD (CS)   \n",
            "3                                       Not available   \n",
            "4                                       Not available   \n",
            "5   BE (Computer Systems), MS (Computer Science), ...   \n",
            "6                                       Not available   \n",
            "7                                       Not available   \n",
            "8                            PhD (CS), NUCES, Karachi   \n",
            "9                                       Not available   \n",
            "10                                      Not available   \n",
            "11                   ME (CS&N), UET-Mehran , Jamshoro   \n",
            "12                                      Not available   \n",
            "13                                      Not available   \n",
            "14              MS (CNC), Hamdard University, Karachi   \n",
            "15  MPhil (Hhydr. & Sust. Water Res. Mgmt.), Unive...   \n",
            "16                          ME (EE), NED-UET, Karachi   \n",
            "17              MS (IT), Monash University, Australia   \n",
            "18                             MS (CS), NUCES, Lahore   \n",
            "19               MS (SE), Hamdard University, Karachi   \n",
            "20                            MS (CS), NUCES, Karachi   \n",
            "21                            MS (CS), NUCES, Karachi   \n",
            "22                       ME (SE), UET-Mehran, Karachi   \n",
            "23                       MS (CS&IT), NED-UET, Karachi   \n",
            "24                            MS (CS), NUCES, Karachi   \n",
            "25                            MS (DS), NUCES, Karachi   \n",
            "26                            MS (CS), NUCES, Karachi   \n",
            "27                          ME (CS), NED-UET, Karachi   \n",
            "28                            MS (EE), NUCES, Karachi   \n",
            "29                              MS (CS), IBA, Karachi   \n",
            "30                            MS (CS), NUCES, Karachi   \n",
            "31                MS (CS), Bahria University, Karachi   \n",
            "32                            BE (SE), MUET, Jamshoro   \n",
            "33                                      Not available   \n",
            "34                                      Not available   \n",
            "35                                      Not available   \n",
            "36                                      Not available   \n",
            "37                              MS (CS), IBA, Karachi   \n",
            "38                             MS (EE), NUST, Karachi   \n",
            "39                                      Not available   \n",
            "40                                      Not available   \n",
            "41                                      Not available   \n",
            "42                                      Not available   \n",
            "43                              BS (SE), UET, Karachi   \n",
            "44                           BS (IT), SS-UET, Karachi   \n",
            "45               BS (CS), Preston University, Karachi   \n",
            "46                                      Not available   \n",
            "47                               BS (CS), IBA, Sukkur   \n",
            "48                                      Not available   \n",
            "49                                      Not available   \n",
            "50                                      Not available   \n",
            "51                                      Not available   \n",
            "52                                      Not available   \n",
            "53                                      Not available   \n",
            "54                                      Not available   \n",
            "55                                      Not available   \n",
            "56                                      Not available   \n",
            "\n",
            "                         Email                      Department  Extension  \\\n",
            "0     zulfiqar.memon@nu.edu.pk  Department of Computer Science      213.0   \n",
            "1      jawwad.shamsi@nu.edu.pk  Department of Computer Science      218.0   \n",
            "2      ghufran.ahmed@nu.edu.pk  Department of Computer Science      233.0   \n",
            "3    muhammad.nouman@nu.edu.pk  Department of Computer Science      133.0   \n",
            "4     fahad.sherwani@nu.edu.pk  Department of Computer Science      219.0   \n",
            "5        nadeem.kafi@nu.edu.pk  Department of Computer Science      131.0   \n",
            "6      farrukh.hasan@nu.edu.pk  Department of Computer Science      132.0   \n",
            "7      farrukh.salim@nu.edu.pk  Department of Computer Science      167.0   \n",
            "8    nausheen.shoaib@nu.edu.pk  Department of Computer Science      280.0   \n",
            "9         aqsa.aslam@nu.edu.pk  Department of Computer Science      220.0   \n",
            "10       nasir.uddin@nu.edu.pk  Department of Computer Science      164.0   \n",
            "11      anam.qureshi@nu.edu.pk  Department of Computer Science      231.0   \n",
            "12       waheedahmed@nu.edu.pk  Department of Computer Science        NaN   \n",
            "13       abdulrahman@nu.edu.pk  Department of Computer Science      236.0   \n",
            "14           m.jamil@nu.edu.pk  Department of Computer Science      245.0   \n",
            "15    rabia.tabassum@nu.edu.pk  Department of Computer Science      235.0   \n",
            "16    kashan.hussain@nu.edu.pk  Department of Computer Science      283.0   \n",
            "17       ubaid.aftab@nu.edu.pk  Department of Computer Science      225.0   \n",
            "18       shahar.bano@nu.edu.pk  Department of Computer Science      220.0   \n",
            "19       shoaib.rauf@nu.edu.pk  Department of Computer Science      258.0   \n",
            "20      basit.jasani@nu.edu.pk  Department of Computer Science      130.0   \n",
            "21       zain.hassan@nu.edu.pk  Department of Computer Science      197.0   \n",
            "22    sobia.iftikhar@nu.edu.pk  Department of Computer Science      237.0   \n",
            "23       anaum.hamid@nu.edu.pk  Department of Computer Science      237.0   \n",
            "24     nida.munawwar@nu.edu.pk  Department of Computer Science      136.0   \n",
            "25          sumaiyah@nu.edu.pk  Department of Computer Science      266.0   \n",
            "26   mubashra.fayyaz@nu.edu.pk  Department of Computer Science      172.0   \n",
            "27       hajra.ahmed@nu.edu.pk  Department of Computer Science      142.0   \n",
            "28    aashir.mahboob@nu.edu.pk  Department of Computer Science      113.0   \n",
            "29     abeeha.sattar@nu.edu.pk  Department of Computer Science      160.0   \n",
            "30  bakhtawar.abbasi@nu.edu.pk  Department of Computer Science      136.0   \n",
            "31    javeria.farooq@nu.edu.pk  Department of Computer Science      220.0   \n",
            "32       mafaza.mohi@nu.edu.pk  Department of Computer Science      293.0   \n",
            "33       fizza.aqeel@nu.edu.pk  Department of Computer Science      153.0   \n",
            "34     atiya.jokhiyo@nu.edu.pk  Department of Computer Science      399.0   \n",
            "35  romasha.khurshid@nu.edu.pk  Department of Computer Science        NaN   \n",
            "36       musawar.ali@nu.edu.pk  Department of Computer Science        NaN   \n",
            "37     nida.munawwar@nu.edu.pk  Department of Computer Science      160.0   \n",
            "38      yusra.kaleem@nu.edu.pk  Department of Computer Science      280.0   \n",
            "39        faisal.ali@nu.edu.pk  Department of Computer Science      159.0   \n",
            "40       zain.noreen@nu.edu.pk  Department of Computer Science        NaN   \n",
            "41    nauraiz.subhan@nu.edu.pk  Department of Computer Science      159.0   \n",
            "42     kashif.shaikh@nu.edu.pk  Department of Computer Science      136.0   \n",
            "43    muhammad.monis@nu.edu.pk  Department of Computer Science      284.0   \n",
            "44      shaheer.khan@nu.edu.pk  Department of Computer Science      284.0   \n",
            "45       zainab.asif@nu.edu.pk  Department of Computer Science      293.0   \n",
            "46     mahnoor.javed@nu.edu.pk  Department of Computer Science      293.0   \n",
            "47   shafique.rehman@nu.edu.pk  Department of Computer Science      284.0   \n",
            "48       fatima.gado@nu.edu.pk  Department of Computer Science      293.0   \n",
            "49     bushra.sattar@nu.edu.pk  Department of Computer Science      237.0   \n",
            "50     ubaid.ullah.v@nu.edu.pk  Department of Computer Science        NaN   \n",
            "51      ramsha.iqbal@nu.edu.pk  Department of Computer Science      293.0   \n",
            "52      ghulam.qadir@nu.edu.pk  Department of Computer Science      284.0   \n",
            "53          mubashir@nu.edu.pk  Department of Computer Science      284.0   \n",
            "54           khadija@nu.edu.pk  Department of Computer Science      293.0   \n",
            "55      filza.akhlaq@nu.edu.pk  Department of Computer Science      132.0   \n",
            "56     syeda.tehreem@nu.edu.pk  Department of Computer Science      293.0   \n",
            "\n",
            "                                            Image URL  \n",
            "0   https://khi.nu.edu.pk/wp-content/uploads/2023/...  \n",
            "1   https://khi.nu.edu.pk/wp-content/uploads/2023/...  \n",
            "2   https://khi.nu.edu.pk/wp-content/uploads/2023/...  \n",
            "3   https://khi.nu.edu.pk/wp-content/uploads/2023/...  \n",
            "4   https://khi.nu.edu.pk/wp-content/uploads/2023/...  \n",
            "5   https://khi.nu.edu.pk/wp-content/uploads/2023/...  \n",
            "6   https://khi.nu.edu.pk/wp-content/uploads/2023/...  \n",
            "7   https://khi.nu.edu.pk/wp-content/uploads/2023/...  \n",
            "8   https://khi.nu.edu.pk/wp-content/uploads/2023/...  \n",
            "9   https://khi.nu.edu.pk/wp-content/uploads/2023/...  \n",
            "10  https://khi.nu.edu.pk/wp-content/uploads/2023/...  \n",
            "11  https://khi.nu.edu.pk/wp-content/uploads/2023/...  \n",
            "12  https://khi.nu.edu.pk/wp-content/uploads/2023/...  \n",
            "13  https://khi.nu.edu.pk/wp-content/uploads/2023/...  \n",
            "14  https://khi.nu.edu.pk/wp-content/uploads/2023/...  \n",
            "15  https://khi.nu.edu.pk/wp-content/uploads/2023/...  \n",
            "16  https://khi.nu.edu.pk/wp-content/uploads/2023/...  \n",
            "17  https://khi.nu.edu.pk/wp-content/uploads/2023/...  \n",
            "18  https://khi.nu.edu.pk/wp-content/uploads/2023/...  \n",
            "19  https://khi.nu.edu.pk/wp-content/uploads/2023/...  \n",
            "20  https://khi.nu.edu.pk/wp-content/uploads/2023/...  \n",
            "21  https://khi.nu.edu.pk/wp-content/uploads/2023/...  \n",
            "22  https://khi.nu.edu.pk/wp-content/uploads/2023/...  \n",
            "23  https://khi.nu.edu.pk/wp-content/uploads/2023/...  \n",
            "24  https://khi.nu.edu.pk/wp-content/uploads/2023/...  \n",
            "25  https://khi.nu.edu.pk/wp-content/uploads/2023/...  \n",
            "26  https://khi.nu.edu.pk/wp-content/uploads/2023/...  \n",
            "27  https://khi.nu.edu.pk/wp-content/uploads/2023/...  \n",
            "28  https://khi.nu.edu.pk/wp-content/uploads/2023/...  \n",
            "29  https://khi.nu.edu.pk/wp-content/uploads/2023/...  \n",
            "30  https://khi.nu.edu.pk/wp-content/uploads/2023/...  \n",
            "31  https://khi.nu.edu.pk/wp-content/uploads/2023/...  \n",
            "32  https://khi.nu.edu.pk/wp-content/uploads/2023/...  \n",
            "33  https://khi.nu.edu.pk/wp-content/uploads/2023/...  \n",
            "34  https://khi.nu.edu.pk/wp-content/uploads/2023/...  \n",
            "35  https://khi.nu.edu.pk/wp-content/uploads/2023/...  \n",
            "36  https://khi.nu.edu.pk/wp-content/uploads/2023/...  \n",
            "37  https://khi.nu.edu.pk/wp-content/uploads/2023/...  \n",
            "38  https://khi.nu.edu.pk/wp-content/uploads/2023/...  \n",
            "39  https://khi.nu.edu.pk/wp-content/uploads/2023/...  \n",
            "40  https://khi.nu.edu.pk/wp-content/uploads/2023/...  \n",
            "41  https://khi.nu.edu.pk/wp-content/uploads/2024/...  \n",
            "42  https://khi.nu.edu.pk/wp-content/uploads/2023/...  \n",
            "43  https://khi.nu.edu.pk/wp-content/uploads/2023/...  \n",
            "44  https://khi.nu.edu.pk/wp-content/uploads/2023/...  \n",
            "45  https://khi.nu.edu.pk/wp-content/uploads/2023/...  \n",
            "46  https://khi.nu.edu.pk/wp-content/uploads/2023/...  \n",
            "47  https://khi.nu.edu.pk/wp-content/uploads/2023/...  \n",
            "48  https://khi.nu.edu.pk/wp-content/uploads/2024/...  \n",
            "49  https://khi.nu.edu.pk/wp-content/uploads/2024/...  \n",
            "50  https://khi.nu.edu.pk/wp-content/uploads/2024/...  \n",
            "51  https://khi.nu.edu.pk/wp-content/uploads/2024/...  \n",
            "52  https://khi.nu.edu.pk/wp-content/uploads/2024/...  \n",
            "53  https://khi.nu.edu.pk/wp-content/uploads/2024/...  \n",
            "54  https://khi.nu.edu.pk/wp-content/uploads/2024/...  \n",
            "55  https://khi.nu.edu.pk/wp-content/uploads/2024/...  \n",
            "56  https://khi.nu.edu.pk/wp-content/uploads/2024/...  \n"
          ]
        }
      ]
    },
    {
      "cell_type": "code",
      "source": [
        "#saving to csv file\n",
        "dfKHI.to_csv('khi.csv', index=False)"
      ],
      "metadata": {
        "id": "EjpzC5X8kUKy"
      },
      "execution_count": 36,
      "outputs": []
    },
    {
      "cell_type": "markdown",
      "source": [
        "## **CHINIOT FAISALABAD FACULTY DATA SCRAPING**:"
      ],
      "metadata": {
        "id": "vm6UguUq32om"
      }
    },
    {
      "cell_type": "code",
      "source": [
        "URL_cfd = 'https://cfd.nu.edu.pk/all-departments/'\n",
        "#to allow crawling\n",
        "headers = {\n",
        "    \"User-Agent\": \"Mozilla/5.0 (Windows NT 10.0; Win64; x64) AppleWebKit/537.36 (KHTML, like Gecko) Chrome/119.0.0.0 Safari/537.36\"\n",
        "}\n",
        "r = requests.get(URL_cfd, headers=headers)\n",
        "print(r.status_code)\n"
      ],
      "metadata": {
        "colab": {
          "base_uri": "https://localhost:8080/"
        },
        "id": "uAjC18s3pWfx",
        "outputId": "4bf96741-6473-4c06-ca25-4b902a27261a"
      },
      "execution_count": 37,
      "outputs": [
        {
          "output_type": "stream",
          "name": "stdout",
          "text": [
            "200\n"
          ]
        }
      ]
    },
    {
      "cell_type": "code",
      "source": [
        "soup3 = BeautifulSoup(r.content, 'html.parser')"
      ],
      "metadata": {
        "id": "5Ibf8jzcrkE_"
      },
      "execution_count": 38,
      "outputs": []
    },
    {
      "cell_type": "code",
      "source": [
        "#since the page contains departments we get the link of each dynamically\n",
        "cfdDepartmentLinks = []\n",
        "for link in soup3.select(\"ul.sub-menu > li > a\"):  # Selecting only department links\n",
        "    url = link.get(\"href\")\n",
        "    if url and \"/department-\" in url and \"#\" not in url:  # Exclude sub-URLs\n",
        "        cfdDepartmentLinks.append(url)\n",
        "\n",
        "#include administration as well\n",
        "cfdDepartmentLinks.append('https://cfd.nu.edu.pk/staff/')\n",
        "# Remove duplicates as the links need to be iterated over dynamically\n",
        "cfdDepartmentLinks = list(set(cfdDepartmentLinks))\n",
        "print(cfdDepartmentLinks)"
      ],
      "metadata": {
        "colab": {
          "base_uri": "https://localhost:8080/"
        },
        "id": "0DXsSa4Nrtpe",
        "outputId": "118be29e-c00d-49cc-9e95-54b316a177e4"
      },
      "execution_count": 39,
      "outputs": [
        {
          "output_type": "stream",
          "name": "stdout",
          "text": [
            "['https://cfd.nu.edu.pk/department-sh/', 'https://cfd.nu.edu.pk/department-fsm/', 'https://cfd.nu.edu.pk/department-se/', 'https://cfd.nu.edu.pk/staff/', 'https://cfd.nu.edu.pk/department-ee/', 'https://cfd.nu.edu.pk/department-ai/', 'https://cfd.nu.edu.pk/department-cs/']\n"
          ]
        }
      ]
    },
    {
      "cell_type": "code",
      "source": [
        "#EXTRACTING THE NAMES BY ITERATING OVER THE DEPARTMENT PAGES DYNAMICALLY\n",
        "cfdNames = []\n",
        "for link in cfdDepartmentLinks:\n",
        "    headers = {\n",
        "        \"User-Agent\": \"Mozilla/5.0 (Windows NT 10.0; Win64; x64) AppleWebKit/537.36 (KHTML, like Gecko) Chrome/119.0.0.0 Safari/537.36\"\n",
        "    }\n",
        "    r = requests.get(link, headers=headers)\n",
        "    cfdsoup = BeautifulSoup(r.content, 'html.parser')\n",
        "    # Find the <a> tag inside <h4> for each teacher only looking in the relevant div\n",
        "    for teacher in cfdsoup.find_all(\"div\", class_=\"unitech-teacher__inner\"):\n",
        "        name_tag = teacher.find(\"h4\").find(\"a\")\n",
        "        name = name_tag.text.strip()\n",
        "        cfdNames.append(name)\n",
        "\n",
        "print(cfdNames)"
      ],
      "metadata": {
        "colab": {
          "base_uri": "https://localhost:8080/"
        },
        "id": "Mf7yNROKwWpQ",
        "outputId": "2edadf60-8525-4c29-87ad-e0dfb79e170f"
      },
      "execution_count": 40,
      "outputs": [
        {
          "output_type": "stream",
          "name": "stdout",
          "text": [
            "['Dr. Mushtaq Ahmad', 'Dr. Haris Khurram', 'Mr. Amjad Hussain', 'Dr. Arfan Shahzad', 'Mr. M. Nouman', 'Ms. Munaza Akhter', 'Ms. Anoosha Rehan', 'Ms. Ghilmana Sarmad', 'Ms. Hadiqa Iqbal', 'Mr. Hassan Ali', 'Mr. Hayat Ali', 'Mr. Khalid Mehmood', 'Mr. Muhammad Iqbal', 'Mr. Muhammad Munawar', 'Mr. Muhammad Shoaib', 'Ms. Rida Akram', 'Ms. Rimsha Bashir', 'Mr. Rizwan Ullah', 'Ms. Sadia Ashfaq', 'Ms. Tehreem Wali', 'Ms. Zainab Mubarik', 'Ms. Zartash Naqvi', 'Mr. Abdul Rehman', 'Mr. Muhammad Hasnain', 'Mr. Muhammad Usama', 'Dr. Gulfam Haider', 'Dr. Muhammad Rafiq', 'Dr. Misbah Hayat', 'Dr. Saifullah', 'Mr. Syed Zeeshan', 'Mr. Ahmad Salah', 'Ms. Amna Babar', 'Mr. Hafiz Muhammad', 'Mr. Muhammad Nasif', 'Dr. Qamar uz', 'Dr. Affan Rauf', 'Dr. Amer Rasheed', 'Dr. Shamsa Abid', 'Dr. Shanza Abbas', 'Ms. Anmol Bilal', 'Mr. Awais Azam', 'Mr. Fraz Zaheer', 'Mr. Jawad Khalid', 'Ms. Kanwal Naz', 'Ms. Naba Rahim', 'Ms. Sahar Ajmal', 'Ms. Samia Aziz', 'Mr. Saqib Ameer', 'Ms. Tehreem Aslam', 'Mr. Umer Iqbal', 'Mr. Waseem Ahmad', 'Mr. Muhammad Usman Naeem', 'Ms. Aysha Shafiq', 'Mr. M. Atif Nadeem', 'Mr. Muhammad Shahid Iqbal', 'Mr. Muhammad Usman', 'Mr. Naveed Ahmed', 'Ms. Nooria Fatima', 'Mr. Asad Ali', 'Mr. Muhammad Khalid', 'Ms. Zunaira Ashiq', 'Ms. Maria Intizar', 'Mr. Safdar Abbas', 'Mr. Javaid Iqbal', 'Mr. Muhammad Khalid', 'Ms. Afshan Rani', 'Mr. Ghulam Shabbir', 'Mr. Muhammad Naeem', 'Mr. Muhammad Zulqarnain Ul Hassan', 'Mr. Irfan Ali', 'Ms. Meriam Chuhdary', 'Mr. Husnain Ali', 'Mr. Mudassar Rehman', 'Mr. Muhammad Mohsin Liaquat', 'Mr. Saad Salman', 'Mr. Sohail Afzal', 'Mr. Abdul Rehman', 'Mr. Faisal Javed', 'Mr. Shozab Zayab Malik', 'Mr. Waleed Hasan', 'Ms. Isma Bibi', 'Mr. M. Kashif Iqbal', 'Mr. Irfan Matloob Ahmad', 'Mr. Muhammad Saqib Murtaza', 'Mr. Ilyas Nazir', 'Mr. Muhammad Sadiq', 'Mr. Adnan Mehboob', 'Mr. Faheem Sajid', 'Mr. Abdul Rehman', 'Mr. Farooq Ahmad', 'Mr. Salman Hassan', 'Mr. Sekandar Riaz Khan', 'Mr. Azhar Masood', 'Mr. Muhammad Hussain', 'Mr. Ghulam Murtaza', 'Mr. M. Hassnain Ali', 'Mr. Ateeq Rafiq', 'Mr. Shahbaz Rasheed', 'Mr. Aftab Alam', 'Mr. Qaiser Razzaq', 'Mr. Hanif Shakir', 'Ms. Hira Riaz', 'Mr. Abrar Hussain', 'Mr. Akhtar Hussain Ali', 'Mr. Muhammad Asad', 'Mr. Syed Mohsin Raza', 'Mr. Muhammad Shahid Younas', 'Imtiaz Ahmed', 'Mr. Maratib Ali', 'Mr. Ammar Hanif', 'Mr. Omer Ali', 'Mr. Sajjad Hussain', 'Mr. Farhan Hassan', 'Mr. Farrukh Shehzad', 'Mr. Hafiz Zeeshan Ul Hassan', 'Mr. Usman Ahmad', 'Mr. Ali Hassan', 'Mr. Asad Ali', 'Mr. Haroon Haider', 'Mr. Javed Shafiq', 'Mr. Fraz Shazada', 'Dr. M. Shoaib', 'Dr. Arslan Ahmed', 'Dr. Adil Zulfiqar', 'Dr. Muhammad Adnan', 'Dr. Shahzad', 'Mr. Amir Zahoor', 'Mr. Habib Ullah', 'Mr. M. Irfan', 'Mr. Ameer Hamza', 'Ms. Amna Saghir', 'Ms. Bakhtawar Saeed', 'Mr. M. Abdullah', 'Mr. Muhammad Faisal', 'Mr. Sajid Iqbal', 'Ms. Ayesha Nadeem', 'Mr. Hafiz Muhammad', 'Dr. Hashim Yasin', 'Dr. Anwar Shah', 'Mr. Asif Ameer', 'Mr. Hamza Yousuf', 'Mr. Muhammad Yousaf', 'Ms. Rukhsana Zafar', 'Mr. Tahir Farooq', 'Ms. Isma Waheed', 'Dr. Muhammad Fayyaz', 'Dr. Muhammad Shahzad', 'Dr. Muhammad Umar', 'Dr. Muhammad Usama', 'Dr. Ammar Rafiq', 'Dr. Iqra Muhammad', 'Dr. Rabia Maqsood', 'Dr. Usman Ghous', 'Dr. Adeel Ashraf', 'Ms. Asma Sattar', 'Dr. Hafiz Tayyab', 'Ms. Maria Maqsood', 'Mr. Muhammad Atif', 'Ms. Rida Ghafoor', 'Mr. Rizwan Ul Haq', 'Ms. Zain Iqbal', 'Mr. Ahmad Ali', 'Mr. Ali Hamza', 'Mr. Ali Raza', 'Ms. Aliza Saeed', 'Ms. Aqsa Younas', 'Ms. Ayesha Liaqat', 'Ms. Faryal Saud', 'Ms. Juhinah Batool', 'Ms. Kashaf Shakoor', 'Ms. Mahzaib Younas', 'Mr. Masood Habib', 'Mr. Mazhar Hussain', 'Ms. Momna Javaid', 'Mr. Mughees Ismail', 'Mr. Muhammad Adeel', 'Mr. Muhammad Hannan', 'Mr. Muhammad Haseeb', 'Mr. Muhammad Shahbaz', 'Mr. Muhammad Suffian', 'Mr. Muiz Qadir', 'Ms. Nasreen Akhtar', 'Ms. Saba Aslam', 'Ms. Saba Naseem', 'Ms. Sadia Ramzan', 'Ms. Samia Mujahid', 'Mr. Saqib Hayat', 'Ms. Sumaira Mustafa', 'Ms. Wania Fatima', 'Ms. Amna Waheed', 'Ms. Areeba Waseem', 'Ms. Gul E', 'Mr. Hassan Ahmed', 'Ms. Maham Saleem', 'Ms. Rabia Anwar', 'Mr. Rana Mobeen', 'Mr. Talha Arif']\n"
          ]
        }
      ]
    },
    {
      "cell_type": "code",
      "source": [
        "#EXTRACTING THE EMAILS BY ITERATING OVER THE DEPARTMENT PAGES DYNAMICALLY\n",
        "cfdEmails = []\n",
        "\n",
        "for link in cfdDepartmentLinks:\n",
        "    headers = {\n",
        "        \"User-Agent\": \"Mozilla/5.0 (Windows NT 10.0; Win64; x64) AppleWebKit/537.36 (KHTML, like Gecko) Chrome/119.0.0.0 Safari/537.36\"\n",
        "    }\n",
        "    r = requests.get(link, headers=headers)\n",
        "    cfdsoup = BeautifulSoup(r.content, 'html.parser')\n",
        "    # First <p> inside this div contains the email\n",
        "    for teacher in cfdsoup.find_all(\"div\", class_=\"unitech-teacher__hover__info\"):\n",
        "        email = teacher.find(\"p\")\n",
        "        cfdEmails.append(email.text.strip() if email else \"Not Available\")\n",
        "\n",
        "print(cfdEmails)"
      ],
      "metadata": {
        "colab": {
          "base_uri": "https://localhost:8080/"
        },
        "id": "Y1din_lAR2Yo",
        "outputId": "bb82347f-dff3-420f-d200-6c53b9f5aaac"
      },
      "execution_count": 41,
      "outputs": [
        {
          "output_type": "stream",
          "name": "stdout",
          "text": [
            "['mushtaq.sial@nu.edu.pk', 'haris.khurram@nu.edu.pk', 'amjad.haider@nu.edu.pk', 'arfan.shahzad@nu.edu.pk', 'nouman.iftikhar@nu.edu.pk', 'munaza.akhter@nu.edu.pk', 'anoosha.rehan@nu.edu.pk', 'ghilmana.sarmad@nu.edu.pk', 'hadiqa.iqbal@nu.edu.pk', 'hassan.ali@nu.edu.pk', 'hayat.ali@nu.edu.pk', 'Khalid.Anjum@nu.edu.pk', 'iqbal.m@nu.edu.pk', 'm.munawar@nu.edu.pk', 'm.shoaib@nu.edu.pk', 'rida.akram@nu.edu.pk', 'rimsha.bashir@nu.edu.pk', 'rizwan.ullah@nu.edu.pk', 'Sadia.ashfaq@nu.edu.pk', 'wali.tahreem@nu.edu.pk', 'zainab.mubarik@nu.edu.pk', 'zartash.naqvi@nu.edu.pk', 'rehman.abdul@nu.edu.pk', 'hasnain.khan@nu.edu.pk', 'usama.ashfaq@nu.edu.pk', 'haider.gulfam@nu.edu.pk', '', 'misbah.hayat@nu.edu.pk', 'drsaif.ullah@nu.edu.pk', 'zeeshan.syed@nu.edu.pk', 'ahmad.salah@nu.edu.pk', 'amna.Tirmizey@nu.edu.pk', 'Zeeshan.raza@nu.edu.pk', 'm.nasif@nu.edu.pk', 'qamar.zaman@nu.edu.pk', 'affan.rauf@nu.edu.pk', 'amer.rasheed@nu.edu.pk', 'shamsa.abid@nu.edu.pk', 'shanza.abbas@nu.edu.pk', '', 'awais.azam@nu.edu.pk', 'fraz.zaheer@nu.edu.pk', 'jawad.khalid@nu.edu.pk', 'kanwal.naz@nu.edu.pk', 'naba.rahim@nu.edu.pk', 'sahar.ajmal@nu.edu.pk', 'samia.aziz@nu.edu.pk', 'saqib.ameer@nu.edu.pk', 'tehreem.aslam@nu.edu.pk', 'iqbal.umer@nu.edu.pk', 'waseem.ahmad@nu.edu.pk', 'usman.naeem@nu.edu.pk', 'aysha.shafiq@nu.edu.pk', 'atif.nadeem@nu.edu.pk', 'shahid.iqbal@nu.edu.pk', 'Mohammad.usman@nu.edu.pk', 'naveed.ahmed@nu.edu.pk', 'nooria.fatima@nu.edu.pk', 'asad.ali@nu.edu.pk', 'm.khalid@nu.edu.pk', 'zunaira.ashiq@nu.edu.pk', 'maria.intizar@nu.edu.pk', 'safdar.abbas@nu.edu.pk', 'javaid.iqbal@nu.edu.pk', '', 'Afshan.Rani@nu.edu.pk', 'g.shabbir@nu.edu.pk', 'muhammad.naeem@nu.edu.pk', 'm.zulqarnain@nu.edu.pk', 'ali.irfan@nu.edu.pk', 'meriam.chuhdary@nu.edu.pk', 'husnain.ali@nu.edu.pk', 'mudassar.rehman@nu.edu.pk', 'mohsin.liaquat@nu.edu.pk', 'm.saad@nu.edu.pk', 'sohail.afzal@nu.edu.pk', 'rehman.a@nu.edu.pk', 'faisal.javed@nu.edu.pk', 'shozab.malik@nu.edu.pk', 'Waleed.Hasan@nu.edu.pk', 'isma.khan@nu.edu.pk', 'kashif.iqbal@nu.edu.pk', 'irfan.matloob@nu.edu.pk', 'saqib.murtaza@nu.edu.pk', 'ilyas.nazir@nu.edu.pk', 'muhammad.sadiq@nu.edu.pk', 'adnan.mehboob@nu.edu.pk', 'fahim.sajid@nu.edu.pk', 'm.abdulrehman@nu.edu.pk', 'm.farooqahmad@nu.edu.pk', 'salman.hassan@nu.edu.pk', 'Sekandar.riaz@nu.edu.pk', 'azhar.masood@nu.edu.pk', 'm.hussain@nu.edu.pk', 'murtaza.nadeem@nu.edu.pk', 'h.ali@nu.edu.pk', 'atiq.rafiq@nu.edu.pk', 'shahbaz.rasheed@nu.edu.pk', 'aftab.alam@nu.edu.pk', 'qaiser.razzaq@nu.edu.pk', 'hanif.shakir@nu.edu.pk', 'hira.riaz@nu.edu.pk', 'abrar.hussain@nu.edu.pk', 'husain.ali@nu.edu.pk', 'm.asad@nu.edu.pk', 'mohsin.raza@nu.edu.pk', 'shahid.younas@nu.edu.pk', 'imtiaz.ahmed@nu.edu.pk', 'Maratib.zain@nu.edu.pk', 'ammar.hanif@nu.edu.pk', 'omer.ali@nu.edu.pk', 'sajjad.husain@nu.edu.pk', 'farhan.hassan@nu.edu.pk', 'farrukh.shehzad@nu.edu.pk', 'Zeeshan.hassan@nu.edu.pk', 'usman.ahmadit@nu.edu.pk', 'ali.hassan@nu.edu.pk', 'ali.asad@nu.edu.pk', 'haroon.haider@nu.edu.pk', '', 'fraz.shazada@nu.edu.pk', 'shoaib.khalid@nu.edu.pk', 'arslan.amin@nu.edu.pk', 'adil.zulfiqar@nu.edu.pk', 'm.adnan@nu.edu.pk', 'dr.shahzad@nu.edu.pk', 'amir.zahoor@nu.edu.pk', 'habib.wattoo@nu.edu.pk', 'Irfan.ishaq@nu.edu.pk', 'ameer.hamza@nu.edu.pk', 'amna.saghir@nu.edu.pk', 'bakhtawar.saeed@nu.edu.pk', 'muhammad.abdullah@nu.edu.pk', 'faisal.hayat@nu.edu.pk', 'iqbal.sajid@nu.edu.pk', 'ayesha.nadeem@nu.edu.pk', 'm.qasim@nu.edu.pk', 'hashim.yasin@nu.edu.pk', 'Anwar.Shah@nu.edu.pk', 'asif.ameer@nu.edu.pk', 'hamza.yousuf@nu.edu.pk', 'muhammad.yousaf@nu.edu.pk', 'rukhsana.zafar@nu.edu.pk', 'Tahir.farooq@nu.edu.pk', 'isma.waheed@nu.edu.pk', 'm.fayyaz@nu.edu.pk', 'shahzad.sarfraz@nu.edu.pk', 'umar.aftab@nu.edu.pk', 'm.usama@nu.edu.pk', 'ammar.rafiq@nu.edu.pk', 'Iqra.Muhammad@nu.edu.pk', 'rabia.maqsood@nu.edu.pk', 'usman.ghous@nu.edu.pk', 'adeel.cheema@nu.edu.pk', 'asma.sattar@nu.edu.pk', 'tayyeb.javed@nu.edu.pk', 'maria.maqsood@nu.edu.pk', 'atif.muhammad@nu.edu.pk', 'rida.ghafoor@nu.edu.pk', 'rizwan.haq@nu.edu.pk', 'zain.iqbal@nu.edu.pk', 'a.tabassam@nu.edu.pk', 'ali.Hamza@nu.edu.pk', 'aliraza@nu.edu.pk', 'aliza.saeed@nu.edu.pk', 'aqsa.younas@nu.edu.pk', 'ayesha.liaqat@nu.edu.pk', 'faryal.saud@nu.edu.pk', 'Juhinah.Batool@nu.edu.pk', 'kashaf.shakoor@nu.edu.pk', 'mahzaib.Younas@nu.edu.pk', 'm.habib@nu.edu.pk', 'mazhar.h@nu.edu.pk', 'Momna.Javaid@nu.edu.pk', 'mughees.ismail@nu.edu.pk', 'm.adeel@nu.edu.pk', 'hannan.farooq@nu.edu.pk', 'haseeb.arshad@nu.edu.pk', 'Shahbaz.Ayyaz@nu.edu.pk', 'm.suffian@nu.edu.pk', 'muiz.qadir@nu.edu.pk', 'nasreen.akhtar@nu.edu.pk', 'saba.aslam@nu.edu.pk', 'saba.naseem@nu.edu.pk', 'sadia.ramzan@nu.edu.pk', 'Samia.Mujahid@nu.edu.pk', 'saqib.hayat@nu.edu.pk', 'sumaira.mustafa@nu.edu.pk', 'wania.fatima@nu.edu.pk', 'Amna.Waheed@nu.edu.pk', 'Areeba.Waseem@nu.edu.pk', 'Gul.Zahra@nu.edu.pk', 'hassan.ahmed@nu.edu.pk', 'Maham.Saleem@nu.edu.pk', 'rabia.anwar@nu.edu.pk', 'mubeen.tariq@nu.edu.pk', 'm.talha@nu.edu.pk']\n"
          ]
        }
      ]
    },
    {
      "cell_type": "code",
      "source": [
        "cfdDesignations = []\n",
        "\n",
        "for link in cfdDepartmentLinks:\n",
        "    headers = {\n",
        "        \"User-Agent\": \"Mozilla/5.0 (Windows NT 10.0; Win64; x64) AppleWebKit/537.36 (KHTML, like Gecko) Chrome/119.0.0.0 Safari/537.36\"\n",
        "    }\n",
        "    r = requests.get(link, headers=headers)\n",
        "    cfdsoup = BeautifulSoup(r.content, 'html.parser')\n",
        "\n",
        "    # <h6> tag contains the designation inside the unitech div class\n",
        "    for teacher in cfdsoup.find_all(\"div\", class_=\"unitech-teacher__inner\"):\n",
        "        designation = teacher.find(\"h6\")\n",
        "        cfdDesignations.append(designation.text.strip())\n",
        "\n",
        "print(cfdDesignations)\n"
      ],
      "metadata": {
        "colab": {
          "base_uri": "https://localhost:8080/"
        },
        "id": "7gzkJcSuVqhb",
        "outputId": "7947478f-2464-4300-8fb5-37ff8b9201a2"
      },
      "execution_count": 42,
      "outputs": [
        {
          "output_type": "stream",
          "name": "stdout",
          "text": [
            "['Associate Professor & HOD', 'Assistant Professor', 'Assistant Professor', 'Assistant Professor', 'Assistant Professor', 'Assistant Professor', 'Lecturer', 'Lecturer', 'Lecturer', 'Lecturer', 'Lecturer', 'Lecturer', 'Lecturer', 'Lecturer', 'Lecturer', 'Lecturer', 'Lecturer', 'Lecturer', 'Lecturer', 'Lecturer', 'Lecturer', 'Lecturer', 'Instructor', 'Instructor', 'Instructor', 'Assistant Professor & Incharge', 'Associate Professor', 'Assistant Professor', 'Assistant Professor', 'Assistant Professor', 'Lecturer', 'Lecturer', 'Lecturer', 'Lecturer', 'Assistant Professor & Incharge', 'Assistant Professor', 'Assistant Professor', 'Assistant Professor', 'Assistant Professor', 'Lecturer', 'Lecturer', 'Lecturer', 'Lecturer', 'Lecturer', 'Lecturer', 'Lecturer', 'Lecturer', 'Lecturer', 'Lecturer', 'Lecturer', 'Manager (Admin/HR)', 'Deputy Manager (Admin)', 'Deputy Manager (Career Services)', 'Assistant Manager', 'Assistant Manager (Security)', 'Assistant Manager (Admin)', 'Assistant Manager (Admin)', 'Officer (HR)', 'Officer', 'Officer (Security)', 'Officer (HR)', 'Assistant Officer', 'Operator', 'Assistant', 'Assistant', 'Assistant', 'Assistant (Hostel)', 'Deputy Manager (Academics, FSM)', 'Deputy Manager (Academics, SE)', 'Assistant Manager (CS)', 'Assistant Manager (Academics)', 'Officer Academics, (EE)', 'Officer (S&H)', 'Officer (Academics, CS)', 'Officer  (AI & DS)', 'Officer (Academics, CS)', 'Assistant Officer (CS)', 'Assistant (SE)', 'Assistant (Academics)', 'Assistant', 'Assistant (Academics)', 'Deputy Manager (Accounts)', 'Assistant Manager', 'Officer (Accounts)', 'Assistant Officer (Accounts)', 'Assistant Manager', 'Officer (EE)', 'Assistant Officer', 'Senior Assistant Lab', 'Senior Assistant Lab', 'Senior Lab Technician', 'Deputy Manager (QEC)', 'Librarian', 'Assistant Officer (Library)', 'Assistant Librarian', 'Assistant (Library)', 'Senior Technician', 'Assistant', 'Electrician', 'Supervisor Maintenance', 'Assistant Manager (Sports)', 'Supervisor', 'Officer (Accounts)', 'Officer (IT)', 'Officer (Academics)', 'Assistant', 'Manager (IT)', 'Deputy Manager (IT)', 'Junior Supervisor', 'Officer (Networks)', 'Officer (System)', 'Officer (Systems)', 'Assistant Officer (Systems)', 'Assistant Officer (Systems)', 'Assistant Officer (Systems)', 'Assistant Officer (Lab)', 'Assistant', 'Assistant', 'Assistant', 'Assistant', 'Electrician', 'Professor & HOD', 'Associate Professor', 'Assistant Professor', 'Assistant Professor', 'Assistant Professor', 'Assistant Professor', 'Assistant Professor', 'Assistant Professor', 'Lecturer', 'Lecturer', 'Lecturer', 'Lecturer', 'Lecturer', 'Lecturer', 'Lab Engineer', 'Lab Engineer', 'Assistant Professor & Incharge', 'Assistant Professor', 'Lecturer', 'Lecturer', 'Lecturer', 'Lecturer', 'Lecturer', 'Instructor', 'Associate Professor & HOD', 'Professor', 'Associate Professor', 'Associate Professor', 'Assistant Professor', 'Assistant Professor', 'Assistant Professor', 'Assistant Professor', 'Assistant Professor', 'Assistant Professor', 'Assistant Professor', 'Assistant Professor', 'Assistant Professor', 'Assistant Professor', 'Assistant Professor', 'Assistant Professor', 'Lecturer', 'Lecturer', 'Lecturer', 'Lecturer', 'Lecturer', 'Lecturer', 'Lecturer', 'Lecturer', 'Lecturer', 'Lecturer', 'Lecturer', 'Lecturer', 'Lecturer', 'Lecturer', 'Lecturer', 'Lecturer', 'Lecturer', 'Lecturer', 'Lecturer', 'Lecturer', 'Lecturer', 'Lecturer', 'Lecturer', 'Lecturer', 'Lecturer', 'Lecturer', 'Lecturer', 'Lecturer', 'Instructor', 'Instructor', 'Instructor', 'Instructor', 'Instructor', 'Instructor', 'Instructor', 'Instructor']\n"
          ]
        }
      ]
    },
    {
      "cell_type": "code",
      "source": [
        "cfdIsApproved = []\n",
        "\n",
        "for link in cfdDepartmentLinks:\n",
        "    headers = {\n",
        "        \"User-Agent\": \"Mozilla/5.0 (Windows NT 10.0; Win64; x64) AppleWebKit/537.36 (KHTML, like Gecko) Chrome/119.0.0.0 Safari/537.36\"\n",
        "    }\n",
        "    r = requests.get(link, headers=headers)\n",
        "    cfdsoup = BeautifulSoup(r.content, 'html.parser')\n",
        "\n",
        "    # p tag with class hec contains if teacher os approved inside the unitech hover div class\n",
        "    for teacher in cfdsoup.find_all(\"div\", class_=\"unitech-teacher__hover__info\"):\n",
        "        isApproved = teacher.find(\"p\", class_=\"hec\")\n",
        "        if isApproved:\n",
        "            cfdIsApproved.append(True)\n",
        "        #the tag is absent if the teacher is not approved\n",
        "        else:\n",
        "            cfdIsApproved.append(False)\n",
        "\n",
        "print(cfdIsApproved)"
      ],
      "metadata": {
        "colab": {
          "base_uri": "https://localhost:8080/"
        },
        "id": "u8tbIIjCWC6s",
        "outputId": "b5f22262-51b4-4066-f40e-fe93ec0192ec"
      },
      "execution_count": 43,
      "outputs": [
        {
          "output_type": "stream",
          "name": "stdout",
          "text": [
            "[True, True, False, False, False, False, False, False, False, False, False, False, False, False, False, False, False, False, False, False, False, False, False, False, False, False, False, False, False, False, False, False, False, False, True, False, False, False, False, False, False, False, False, False, False, False, False, False, False, False, False, False, False, False, False, False, False, False, False, False, False, False, False, False, False, False, False, False, False, False, False, False, False, False, False, False, False, False, False, False, False, False, False, False, False, False, False, False, False, False, False, False, False, False, False, False, False, False, False, False, False, False, False, False, False, False, False, False, False, False, False, False, False, False, False, False, False, False, False, False, False, True, True, True, True, False, False, False, False, False, False, False, False, False, False, False, False, True, True, False, False, False, False, False, False, True, True, True, False, False, False, True, False, False, False, False, False, False, False, False, False, False, False, False, False, False, False, False, False, False, False, False, False, False, False, False, False, False, False, False, False, False, False, False, False, False, False, False, False, False, False, False, False, False, False, False, False]\n"
          ]
        }
      ]
    },
    {
      "cell_type": "code",
      "source": [
        "cfdImageURLs = []\n",
        "\n",
        "for link in cfdDepartmentLinks:\n",
        "    headers = {\n",
        "        \"User-Agent\": \"Mozilla/5.0 (Windows NT 10.0; Win64; x64) AppleWebKit/537.36 (KHTML, like Gecko) Chrome/119.0.0.0 Safari/537.36\"\n",
        "    }\n",
        "    r = requests.get(link, headers=headers)\n",
        "    cfdsoup = BeautifulSoup(r.content, 'html.parser')\n",
        "\n",
        "    # Finding all image tags within the div class and using get to access the src attribute\n",
        "    for teacher in cfdsoup.find_all(\"div\", class_=\"unitech-teacher__thumb\"):\n",
        "        img = teacher.find(\"img\")\n",
        "        cfdImageURLs.append(img.get(\"src\", \"\").strip())\n",
        "\n",
        "print(cfdImageURLs)\n"
      ],
      "metadata": {
        "colab": {
          "base_uri": "https://localhost:8080/"
        },
        "id": "1Ej6Jet9XZHG",
        "outputId": "893a01de-e29f-4751-e5ab-9bfeb6230d73"
      },
      "execution_count": 44,
      "outputs": [
        {
          "output_type": "stream",
          "name": "stdout",
          "text": [
            "['https://cfd.nu.edu.pk/wp-content/uploads/2021/06/Dr.-Mushtaq-Sial-Assistant-Professor-235x300.jpg', 'https://cfd.nu.edu.pk/wp-content/uploads/2019/09/Dr.-Haris-Khurram-scaled-e1740120440305-235x300.jpg', 'https://cfd.nu.edu.pk/wp-content/uploads/2019/09/amjad-235x300.jpg', 'https://cfd.nu.edu.pk/wp-content/uploads/2021/06/Mr-Arfan-Shahzad-Assistant-Professor-235x300.jpg', 'https://cfd.nu.edu.pk/wp-content/uploads/2019/09/4925-235x300.png', 'https://cfd.nu.edu.pk/wp-content/uploads/2019/09/Munaza-Akhter-1-1-235x300.jpg', 'https://cfd.nu.edu.pk/wp-content/uploads/2024/08/6940-scaled-e1723716512860-235x300.jpg', 'https://cfd.nu.edu.pk/wp-content/uploads/2019/09/gilmana-233x300-removebg-preview.png', 'https://cfd.nu.edu.pk/wp-content/uploads/2025/01/c40eebce-67b1-41a3-840d-cb9092b0a713-235x300.jpeg', 'https://cfd.nu.edu.pk/wp-content/uploads/2025/01/Screenshot_2025-01-06-12-17-59-33_6012fa4d4ddec268fc5c7112cbb265e7-e1736765317126-235x300.jpg', 'https://cfd.nu.edu.pk/wp-content/uploads/2019/10/5846-removebg-preview-235x300.png', 'https://cfd.nu.edu.pk/wp-content/uploads/2023/03/02-1-235x300.jpg', 'https://cfd.nu.edu.pk/wp-content/uploads/2021/02/IMG_8576-scaled-e1696404108172-235x300.jpg', 'https://cfd.nu.edu.pk/wp-content/uploads/2023/03/Muhammad-Munawar-235x300.jpg', 'https://cfd.nu.edu.pk/wp-content/uploads/2023/03/Muhammad-Shoaib-235x300.jpg', 'https://cfd.nu.edu.pk/wp-content/uploads/2022/01/6278-1-scaled-e1695639584543-235x300.jpg', 'https://cfd.nu.edu.pk/wp-content/uploads/2022/01/Rimsha-Bashir-Awan-e1643001886547-235x300.jpg', 'https://cfd.nu.edu.pk/wp-content/uploads/2023/08/WhatsApp-Image-2023-08-23-at-12.42.28-235x300.jpeg', 'https://cfd.nu.edu.pk/wp-content/uploads/2019/09/SADIA-235x300.jpg', 'https://cfd.nu.edu.pk/wp-content/uploads/2025/01/WhatsApp-Image-2025-01-07-at-3.19.03-PM-e1736245837975-235x300.jpeg', 'https://cfd.nu.edu.pk/wp-content/uploads/2023/03/Zainab-Mubarik-235x300.jpg', 'https://cfd.nu.edu.pk/wp-content/uploads/2022/08/IMG_1376-1-235x300.jpg', 'https://cfd.nu.edu.pk/wp-content/uploads/2025/01/IMG_1015-scaled-e1736313997405-235x300.jpg', 'https://cfd.nu.edu.pk/wp-content/uploads/2023/03/Muhammad-Hasnain-Khan-235x300.jpg', 'https://cfd.nu.edu.pk/wp-content/uploads/2023/03/Muhammad-Usama-235x300.jpg', 'https://cfd.nu.edu.pk/wp-content/uploads/2019/09/gul-235x300.jpg', 'https://cfd.nu.edu.pk/wp-content/uploads/2024/08/Dr-M-Rafiq-1-235x300.jpg', 'https://cfd.nu.edu.pk/wp-content/uploads/2024/08/Ms-Misbah-scaled-e1724412304464-235x300.jpg', 'https://cfd.nu.edu.pk/wp-content/uploads/2024/08/Dr-Saif-Ullah-scaled-e1724412630605-235x300.jpg', 'https://cfd.nu.edu.pk/wp-content/uploads/2019/09/9158-235x300.jpg', 'https://cfd.nu.edu.pk/wp-content/uploads/2023/08/Passport-Size-Picture-1-e1693468701408-235x300.jpg', 'https://cfd.nu.edu.pk/wp-content/uploads/2023/08/Passport_Size_Picture-1-e1712131003936.jpg', 'https://cfd.nu.edu.pk/wp-content/uploads/2019/09/9253-235x300.jpg', 'https://cfd.nu.edu.pk/wp-content/uploads/2019/09/Muhammad-Nasif-scaled-e1646721190788-235x300.jpg', 'https://cfd.nu.edu.pk/wp-content/uploads/2022/08/Dr-Qamar-e1720783513639-235x300.jpeg', 'https://cfd.nu.edu.pk/wp-content/uploads/2020/05/5906-e1646889042179-235x300.jpg', 'https://cfd.nu.edu.pk/wp-content/uploads/2025/01/IMG_1020-scaled-e1737090651921-235x300.jpg', 'https://cfd.nu.edu.pk/wp-content/uploads/2024/11/IMG_1018-scaled-e1736331916619-235x300.jpg', 'https://cfd.nu.edu.pk/wp-content/uploads/2023/02/Dr-Shanza-235x300.jpg', 'https://cfd.nu.edu.pk/wp-content/uploads/2020/09/5433-removebg-preview-235x300.png', 'https://cfd.nu.edu.pk/wp-content/uploads/2020/03/awaisNU-235x300.jpeg', 'https://cfd.nu.edu.pk/wp-content/uploads/2024/08/Picture-e1723545458946-235x300.png', 'https://cfd.nu.edu.pk/wp-content/uploads/2023/09/6400-1-scaled-e1694493735260-235x300.jpg', 'https://cfd.nu.edu.pk/wp-content/uploads/2025/01/IMG_1024-scaled-e1737451888897-235x300.jpg', 'https://cfd.nu.edu.pk/wp-content/uploads/2025/01/IMG_1016-scaled-e1736313718628-235x300.jpg', 'https://cfd.nu.edu.pk/wp-content/uploads/2022/08/94edaadb-2cc8-4fc1-9e0e-c4a15aa7a4bf-1-e1724911662509-235x300.jpg', 'https://cfd.nu.edu.pk/wp-content/uploads/2023/02/Samia_Aziz-1-removebg-preview-235x300.png', 'https://cfd.nu.edu.pk/wp-content/uploads/2023/02/Saqib_Ameer-removebg-preview-235x300.png', 'https://cfd.nu.edu.pk/wp-content/uploads/2020/05/5891-removebg-preview-235x300.png', 'https://cfd.nu.edu.pk/wp-content/uploads/2022/08/Umer-Iqbal-1-235x300.jpg', 'https://cfd.nu.edu.pk/wp-content/uploads/2019/09/5081-removebg-preview-e1678248290784-235x300.png', 'https://cfd.nu.edu.pk/wp-content/uploads/2020/01/5661-scaled-e1641885462424-235x300.jpg', 'https://cfd.nu.edu.pk/wp-content/uploads/2019/10/5721-scaled-e1646193942735-235x300.jpg', 'https://cfd.nu.edu.pk/wp-content/uploads/2019/09/9224-removebg-preview-235x274.png', 'https://cfd.nu.edu.pk/wp-content/uploads/2021/10/6205-removebg-preview-3.png', 'https://cfd.nu.edu.pk/wp-content/uploads/2020/03/Muhammad-Usman-e1711535169250-235x300.jpg', 'https://cfd.nu.edu.pk/wp-content/uploads/2019/09/4970-removebg-preview.png', 'https://cfd.nu.edu.pk/wp-content/uploads/2023/03/6461-235x300.jpg', 'https://cfd.nu.edu.pk/wp-content/uploads/2019/09/Asad-Ali-e1646194419593-235x300.jpg', 'https://cfd.nu.edu.pk/wp-content/uploads/2023/09/Muhammad-Khalid-scaled-e1695442510522-235x300.jpg', 'https://cfd.nu.edu.pk/wp-content/uploads/2023/03/Ms.-Zunaira-Ashiq-scaled-e1678257423897-235x300.jpg', 'https://cfd.nu.edu.pk/wp-content/uploads/2019/09/WhatsApp-Image-2024-09-26-at-12.32.22_e4ff9a4d-235x300.jpg', 'https://cfd.nu.edu.pk/wp-content/uploads/2021/10/4838-removebg-preview-235x232.png', 'https://cfd.nu.edu.pk/wp-content/uploads/2022/01/WhatsApp-Image-2024-03-01-at-10.10.21-AM-235x300.jpeg', 'https://cfd.nu.edu.pk/wp-content/uploads/2021/10/5282-removebg-preview-235x300.png', 'https://cfd.nu.edu.pk/wp-content/uploads/2023/07/IMG_5386-235x300.jpeg', 'https://cfd.nu.edu.pk/wp-content/uploads/2021/10/5588-2-scaled-e1641884155814-235x300.jpg', 'https://cfd.nu.edu.pk/wp-content/uploads/2019/09/4859-235x300.png', 'https://cfd.nu.edu.pk/wp-content/uploads/2019/09/5529-1-scaled-e1652778741155-235x300.jpg', 'https://cfd.nu.edu.pk/wp-content/uploads/2021/11/6217-removebg-preview.png', 'https://cfd.nu.edu.pk/wp-content/uploads/2019/09/9226.jpg', 'https://cfd.nu.edu.pk/wp-content/uploads/2022/03/6312-235x271.jpg', 'https://cfd.nu.edu.pk/wp-content/uploads/2019/09/9437-1-scaled-e1637817145457-235x300.jpg', 'https://cfd.nu.edu.pk/wp-content/uploads/2019/09/5530-2-scaled-e1652778300814-235x300.jpg', 'https://cfd.nu.edu.pk/wp-content/uploads/2020/03/5727-removebg-preview-235x300.png', 'https://cfd.nu.edu.pk/wp-content/uploads/2019/09/4450-removebg-preview-235x300.png', 'https://cfd.nu.edu.pk/wp-content/uploads/2022/08/IMG_8809-235x300.jpg', 'https://cfd.nu.edu.pk/wp-content/uploads/2022/01/5189-scaled-e1641805164938-235x300.jpg', 'https://cfd.nu.edu.pk/wp-content/uploads/2023/03/6463-235x300.jpg', 'https://cfd.nu.edu.pk/wp-content/uploads/2023/04/Waleed-Hasan-235x300.jpg', 'https://cfd.nu.edu.pk/wp-content/uploads/2023/09/WhatsApp-Image-2024-01-25-at-10.07.26-AM-235x300.jpeg', 'https://cfd.nu.edu.pk/wp-content/uploads/2019/09/9218-1-scaled-e1641887378139-235x300.jpg', 'https://cfd.nu.edu.pk/wp-content/uploads/2021/10/64987244_2697211623657339_8108513850980040704_n-removebg-preview-e1694584583462-235x300.png', 'https://cfd.nu.edu.pk/wp-content/uploads/2020/09/593401-235x300.jpg', 'https://cfd.nu.edu.pk/wp-content/uploads/2021/10/IMG_7393-235x300.jpg', 'https://cfd.nu.edu.pk/wp-content/uploads/2019/09/5142-1-scaled-e1641882096311-235x300.jpg', 'https://cfd.nu.edu.pk/wp-content/uploads/2020/03/9208-scaled-e1641812984812-235x300.jpg', 'https://cfd.nu.edu.pk/wp-content/uploads/2021/03/9207-1-235x300.jpg', 'https://cfd.nu.edu.pk/wp-content/uploads/2020/03/5397-scaled-e1641813226228-235x300.jpg', 'https://cfd.nu.edu.pk/wp-content/uploads/2019/09/5398-e1641880011445-235x300.jpeg', 'https://cfd.nu.edu.pk/wp-content/uploads/2019/09/5143-1-scaled-e1641882558468-235x300.jpg', 'https://cfd.nu.edu.pk/wp-content/uploads/2019/09/5523-removebg-preview-2-235x271.png', 'https://cfd.nu.edu.pk/wp-content/uploads/2019/09/Azhar-Masood-235x300.png', 'https://cfd.nu.edu.pk/wp-content/uploads/2021/03/9096-scaled-e1641884567124-235x300.jpg', 'https://cfd.nu.edu.pk/wp-content/uploads/2019/09/1356-235x300.png', 'https://cfd.nu.edu.pk/wp-content/uploads/2023/03/Hassnain-Ali-1-scaled-e1711946674441-235x300.jpg', 'https://cfd.nu.edu.pk/wp-content/uploads/2019/09/9209-scaled-e1641896984913-235x300.jpg', 'https://cfd.nu.edu.pk/wp-content/uploads/2023/03/5133-235x300.jpg', 'https://cfd.nu.edu.pk/wp-content/uploads/2023/09/Aftab-Alam-scaled-e1695443943215-235x300.jpg', 'https://cfd.nu.edu.pk/wp-content/uploads/2021/03/5284-removebg-preview.png', 'https://cfd.nu.edu.pk/wp-content/uploads/2019/09/9438-1-scaled-e1641804985769-235x300.jpg', 'https://cfd.nu.edu.pk/wp-content/uploads/2023/03/IMG_1017-scaled-e1736318487917-235x300.jpg', 'https://cfd.nu.edu.pk/wp-content/uploads/2019/09/5581-scaled-e1641887425747-235x300.jpg', 'https://cfd.nu.edu.pk/wp-content/uploads/2021/10/6188....-e1641898794651-235x300.jpg', 'https://cfd.nu.edu.pk/wp-content/uploads/2019/09/9227-235x300.jpg', 'https://cfd.nu.edu.pk/wp-content/uploads/2023/09/Mohsin-Raza-Naqvi-e1695443318596-235x300.jpeg', 'https://cfd.nu.edu.pk/wp-content/uploads/2021/10/WhatsApp-Image-2023-03-29-at-12.19.57-PM-235x300.jpeg', 'https://cfd.nu.edu.pk/wp-content/uploads/2022/08/Imtiaz-Ahmad-Deputy-Manager-IT-240x300-removebg-preview-235x300.png', 'https://cfd.nu.edu.pk/wp-content/uploads/2019/09/WhatsApp-Image-2024-12-04-at-12.46.32-PM-235x300.jpeg', 'https://cfd.nu.edu.pk/wp-content/uploads/2019/09/4863.jpg', 'https://cfd.nu.edu.pk/wp-content/uploads/2019/09/9225-235x300.png', 'https://cfd.nu.edu.pk/wp-content/uploads/2019/09/Sajjad_Hussain-removebg-preview.png', 'https://cfd.nu.edu.pk/wp-content/uploads/2019/09/Farhan-Hassan-e1657096118554-235x300.jpeg', 'https://cfd.nu.edu.pk/wp-content/uploads/2019/09/5488-removebg-preview.png', 'https://cfd.nu.edu.pk/wp-content/uploads/2019/09/IMG_7787-scaled-e1693547548461-235x300.jpg', 'https://cfd.nu.edu.pk/wp-content/uploads/2022/01/5299-removebg-preview.png', 'https://cfd.nu.edu.pk/wp-content/uploads/2024/12/Ali-Hassan-1-scaled-e1733290465798-235x300.jpg', 'https://cfd.nu.edu.pk/wp-content/uploads/2024/12/Asad-Ali-235x300.jpg', 'https://cfd.nu.edu.pk/wp-content/uploads/2024/12/Haroon-Haider-235x300.jpg', 'https://cfd.nu.edu.pk/wp-content/uploads/2022/08/Javed_Shafiq-removebg-preview-235x300.png', 'https://cfd.nu.edu.pk/wp-content/uploads/2022/02/6300-e1645426935334-209x300.png', 'https://cfd.nu.edu.pk/wp-content/uploads/2019/09/Dr.-Muhammad-Shoaib-Khalid-Associate-Professor-235x300.jpg', 'https://cfd.nu.edu.pk/wp-content/uploads/2019/09/5728-235x300.jpg', 'https://cfd.nu.edu.pk/wp-content/uploads/2020/02/5896-removebg-preview-235x300.png', 'https://cfd.nu.edu.pk/wp-content/uploads/2020/07/5894-removebg-preview-235x300.png', 'https://cfd.nu.edu.pk/wp-content/uploads/2025/01/passportpic25-235x300.png', 'https://cfd.nu.edu.pk/wp-content/uploads/2019/09/9407-removebg-preview-235x283.png', 'https://cfd.nu.edu.pk/wp-content/uploads/2019/09/9095.jpg', 'https://cfd.nu.edu.pk/wp-content/uploads/2019/09/5269-235x300.jpg', 'https://cfd.nu.edu.pk/wp-content/uploads/2019/10/Ameer-Hamza-235x300.jpg', 'https://cfd.nu.edu.pk/wp-content/uploads/2024/08/New-Doc-2024-07-21-14.32.32_1-235x300.jpg', 'https://cfd.nu.edu.pk/wp-content/uploads/2024/08/Ms-Bakhtawar-1-scaled-e1723718112200-235x300.jpg', 'https://cfd.nu.edu.pk/wp-content/uploads/2019/09/9112-removebg-preview-235x300.png', 'https://cfd.nu.edu.pk/wp-content/uploads/2022/01/Faisal-Hayat-e1692771089131-235x300.png', 'https://cfd.nu.edu.pk/wp-content/uploads/2019/09/4713-235x300.jpg', 'https://cfd.nu.edu.pk/wp-content/uploads/2024/08/Ms-Aisha-1-235x300.jpg', 'https://cfd.nu.edu.pk/wp-content/uploads/2024/08/Hafiz-Muhammad-Qasim-235x300.jpg', 'https://cfd.nu.edu.pk/wp-content/uploads/2019/09/hashim-235x300.jpg', 'https://cfd.nu.edu.pk/wp-content/uploads/2022/08/IMG_1381-scaled-e1660974348817-235x300.jpg', 'https://cfd.nu.edu.pk/wp-content/uploads/2020/05/Mr.-Asif-Ameer-Lecturer-235x300.jpg', 'https://cfd.nu.edu.pk/wp-content/uploads/2024/10/DSC05112-235x300.jpg', 'https://cfd.nu.edu.pk/wp-content/uploads/2021/09/Mr.-Yousaf-scaled-e1689926475297-235x300.jpg', 'https://cfd.nu.edu.pk/wp-content/uploads/2024/08/Ms-Rukhsana-Zafar-235x300.jpg', 'https://cfd.nu.edu.pk/wp-content/uploads/2019/09/tahir-235x300.jpg', 'https://cfd.nu.edu.pk/wp-content/uploads/2024/08/Ms-Isma-scaled-e1723717792710-235x300.jpg', 'https://cfd.nu.edu.pk/wp-content/uploads/2022/01/Profile-Pic-235x300.jpg', 'https://cfd.nu.edu.pk/wp-content/uploads/2019/09/PSX_20240307_194751-1-1-235x300.jpg', 'https://cfd.nu.edu.pk/wp-content/uploads/2020/09/5994-1-e1678168158795-235x300.png', 'https://cfd.nu.edu.pk/wp-content/uploads/2022/08/Dr-Usama-235x300.jpg', 'https://cfd.nu.edu.pk/wp-content/uploads/2025/02/Dr.-Ammar-Rafiq-235x300.jpeg', 'https://cfd.nu.edu.pk/wp-content/uploads/2023/12/6742.1-235x300.jpg', 'https://cfd.nu.edu.pk/wp-content/uploads/2019/09/Dr.-Rabia-Maqsood-235x300.jpg', 'https://cfd.nu.edu.pk/wp-content/uploads/2019/09/ghous-235x300.jpg', 'https://cfd.nu.edu.pk/wp-content/uploads/2019/09/adeel-235x300.jpg', 'https://cfd.nu.edu.pk/wp-content/uploads/2019/09/asra-235x300.jpg', 'https://cfd.nu.edu.pk/wp-content/uploads/2020/03/Mr.-Hafiz-Tayyab-Javed-Assistant-Professor-235x300.jpg', 'https://cfd.nu.edu.pk/wp-content/uploads/2019/09/maria-235x300.jpg', 'https://cfd.nu.edu.pk/wp-content/uploads/2019/09/atif-235x300.jpg', 'https://cfd.nu.edu.pk/wp-content/uploads/2019/09/rida-235x300.jpg', 'https://cfd.nu.edu.pk/wp-content/uploads/2019/09/Mr.-Rizwan-ul-Haq-scaled-e1689926209735-235x300.jpg', 'https://cfd.nu.edu.pk/wp-content/uploads/2019/09/ZAIN-235x300.jpg', 'https://cfd.nu.edu.pk/wp-content/uploads/2024/01/Ahmad-Ali-Tabassam_with-white-background_high-resolution-235x300.jpeg', 'https://cfd.nu.edu.pk/wp-content/uploads/2023/08/IMG_6685-235x300.jpg', 'https://cfd.nu.edu.pk/wp-content/uploads/2021/08/Mr.-Ali-Raza-scaled-e1689926748189-235x300.jpg', 'https://cfd.nu.edu.pk/wp-content/uploads/2019/09/5652-235x300.png', 'https://cfd.nu.edu.pk/wp-content/uploads/2021/09/IMG_7503-removebg-preview-1-e1689145379528-235x300.png', 'https://cfd.nu.edu.pk/wp-content/uploads/2020/10/Ayesha-Liaqat-235x300.jpg', 'https://cfd.nu.edu.pk/wp-content/uploads/2019/09/Ms-Faryal-1-scaled-e1712130657183-235x300.jpg', 'https://cfd.nu.edu.pk/wp-content/uploads/2024/01/390A6698-235x300.jpg', 'https://cfd.nu.edu.pk/wp-content/uploads/2022/08/Ms-Kashaf-Shakoor-e1739953067608-235x300.jpeg', 'https://cfd.nu.edu.pk/wp-content/uploads/2023/08/6687-235x300.jpg', 'https://cfd.nu.edu.pk/wp-content/uploads/2021/03/Masood-Habib-v2-1-235x300.jpeg', 'https://cfd.nu.edu.pk/wp-content/uploads/2019/09/mma-235x300.jpg', 'https://cfd.nu.edu.pk/wp-content/uploads/2023/08/Momna-javed-scaled-e1692359459274-235x300.jpg', 'https://cfd.nu.edu.pk/wp-content/uploads/2019/09/P2-235x300.jpg', 'https://cfd.nu.edu.pk/wp-content/uploads/2023/08/IMG_6685-2-235x300.jpg', 'https://cfd.nu.edu.pk/wp-content/uploads/2020/09/WhatsApp_Image_2023-10-17_at_16.09.19_51d0d4a4-removebg-preview-235x300.png', 'https://cfd.nu.edu.pk/wp-content/uploads/2021/09/Haseeb-Arshad-e1689677992262-235x300.png', 'https://cfd.nu.edu.pk/wp-content/uploads/2022/08/IMG_1367-scaled-e1660978839644-235x300.jpg', 'https://cfd.nu.edu.pk/wp-content/uploads/2020/03/Mr.-Muhammad-Suffian-Lecturer-235x300.jpg', 'https://cfd.nu.edu.pk/wp-content/uploads/2021/08/Mr.-Muiz-Qadir-scaled-e1689924430683-235x300.jpg', 'https://cfd.nu.edu.pk/wp-content/uploads/2019/09/nasreeen-235x300.jpg', 'https://cfd.nu.edu.pk/wp-content/uploads/2021/02/ID-pic-with-white-background-235x300.jpg', 'https://cfd.nu.edu.pk/wp-content/uploads/2022/02/Ms.-Saba-Naseem-scaled-e1689925989566-235x300.jpg', 'https://cfd.nu.edu.pk/wp-content/uploads/2024/11/Ms-Sadia-Ramzan-235x300.jpeg', 'https://cfd.nu.edu.pk/wp-content/uploads/2024/01/6766-235x300.jpg', 'https://cfd.nu.edu.pk/wp-content/uploads/2019/09/saqib-235x300.jpg', 'https://cfd.nu.edu.pk/wp-content/uploads/2019/09/5653-1-e1678358103205-235x300.jpg', 'https://cfd.nu.edu.pk/wp-content/uploads/2024/08/WhatsApp-Image-2024-08-08-at-12.31.59-PM-235x300.jpeg', 'https://cfd.nu.edu.pk/wp-content/uploads/2024/01/Ms-Amna-Waheed-235x300.jpg', 'https://cfd.nu.edu.pk/wp-content/uploads/2023/08/Areeba-Waseem-scaled-e1692359315131-235x300.jpg', 'https://cfd.nu.edu.pk/wp-content/uploads/2024/01/Zahra-6836-235x300.jpg', 'https://cfd.nu.edu.pk/wp-content/uploads/2024/08/Mr-Hassan-scaled-e1723718583207-235x300.jpg', 'https://cfd.nu.edu.pk/wp-content/uploads/2024/01/Ms-Maham-Saleem-235x300.jpg', 'https://cfd.nu.edu.pk/wp-content/uploads/2024/01/Ms-Rabia-Anwar-235x300.jpg', 'https://cfd.nu.edu.pk/wp-content/uploads/2022/08/IMG_1369-scaled-e1660979151429-235x300.jpg', 'https://cfd.nu.edu.pk/wp-content/uploads/2024/08/Untitled-3-copy-235x300.jpg']\n"
          ]
        }
      ]
    },
    {
      "cell_type": "code",
      "source": [
        "#now storing the profile urls so we can iterate over them to get the highest edu and extension\n",
        "cfdProfileLinks = []\n",
        "for link in cfdDepartmentLinks:\n",
        "    headers = {\n",
        "        \"User-Agent\": \"Mozilla/5.0 (Windows NT 10.0; Win64; x64) AppleWebKit/537.36 (KHTML, like Gecko) Chrome/119.0.0.0 Safari/537.36\"\n",
        "    }\n",
        "    r = requests.get(link, headers=headers)\n",
        "    cfdsoup = BeautifulSoup(r.content, 'html.parser')\n",
        "    # Find the <a> tag inside <h4> for each teacher only looking in the relevant div then access href attribute\n",
        "    for teacher in cfdsoup.find_all(\"div\", class_=\"unitech-teacher__inner\"):\n",
        "        name_tag = teacher.find(\"h4\").find(\"a\")\n",
        "        profileLink = name_tag.get(\"href\", \" \").strip()\n",
        "        cfdProfileLinks.append(profileLink)\n",
        "\n",
        "print(cfdProfileLinks)"
      ],
      "metadata": {
        "colab": {
          "base_uri": "https://localhost:8080/"
        },
        "id": "76iZKjvlbGhp",
        "outputId": "d53cc167-9d2f-4a3f-a9ae-2f11ffd3d8ec"
      },
      "execution_count": 45,
      "outputs": [
        {
          "output_type": "stream",
          "name": "stdout",
          "text": [
            "['https://cfd.nu.edu.pk/faculty/dr-mushtaq-ahmed/', 'https://cfd.nu.edu.pk/faculty/haris-khurram/', 'https://cfd.nu.edu.pk/faculty/amjad-hussain/', 'https://cfd.nu.edu.pk/faculty/arfan-shahzad/', 'https://cfd.nu.edu.pk/faculty/m-nouman-iftikhar/', 'https://cfd.nu.edu.pk/faculty/munaza-akhter/', 'https://cfd.nu.edu.pk/faculty/anoosha-rehan/', 'https://cfd.nu.edu.pk/faculty/ghilmana-sarmad/', 'https://cfd.nu.edu.pk/faculty/ms-hadiqa-iqbal/', 'https://cfd.nu.edu.pk/faculty/hassan-ali/', 'https://cfd.nu.edu.pk/faculty/hayat-ali/', 'https://cfd.nu.edu.pk/faculty/khalid-mehmood-anjum/', 'https://cfd.nu.edu.pk/faculty/muhammad-iqbal/', 'https://cfd.nu.edu.pk/faculty/muhammad-munawar/', 'https://cfd.nu.edu.pk/faculty/muhammad-shoaib/', 'https://cfd.nu.edu.pk/faculty/rida-akram/', 'https://cfd.nu.edu.pk/faculty/rimsha-bashir-awan/', 'https://cfd.nu.edu.pk/faculty/rizwan-ullah/', 'https://cfd.nu.edu.pk/faculty/sadia-ashfaq/', 'https://cfd.nu.edu.pk/faculty/ms-tehreem-wali/', 'https://cfd.nu.edu.pk/faculty/zainab-mubarik/', 'https://cfd.nu.edu.pk/faculty/zartash-naqvi/', 'https://cfd.nu.edu.pk/faculty/abdul-rehman/', 'https://cfd.nu.edu.pk/faculty/muhammad-hasnain/', 'https://cfd.nu.edu.pk/faculty/muhammad-usama-ashfaq/', 'https://cfd.nu.edu.pk/faculty/4852/', 'https://cfd.nu.edu.pk/faculty/muhammad-rafiq/', 'https://cfd.nu.edu.pk/faculty/misbah-hayat-bhatti/', 'https://cfd.nu.edu.pk/faculty/saifullah/', 'https://cfd.nu.edu.pk/faculty/mr-syed-zeeshan-haider/', 'https://cfd.nu.edu.pk/faculty/ahmad-salah-ud-din/', 'https://cfd.nu.edu.pk/faculty/amna-babar-tirmizey/', 'https://cfd.nu.edu.pk/faculty/mr-hafiz-muhammad-zeeshan-raza/', 'https://cfd.nu.edu.pk/faculty/mr-muhammad-nasif/', 'https://cfd.nu.edu.pk/faculty/qamar-uz-zaman/', 'https://cfd.nu.edu.pk/faculty/affan-rauf/', 'https://cfd.nu.edu.pk/faculty/amer-rasheed/', 'https://cfd.nu.edu.pk/faculty/shamsa-abid/', 'https://cfd.nu.edu.pk/faculty/shanza-abbas/', 'https://cfd.nu.edu.pk/faculty/anmol-bilal/', 'https://cfd.nu.edu.pk/faculty/awais-azam/', 'https://cfd.nu.edu.pk/faculty/fraz-zaheer-gorsi/', 'https://cfd.nu.edu.pk/faculty/jawad-khalid-cheema/', 'https://cfd.nu.edu.pk/faculty/kanwal-naz/', 'https://cfd.nu.edu.pk/faculty/naba-rahim/', 'https://cfd.nu.edu.pk/faculty/sahar-ajmal/', 'https://cfd.nu.edu.pk/faculty/samia-aziz/', 'https://cfd.nu.edu.pk/faculty/saqib-ameer/', 'https://cfd.nu.edu.pk/faculty/tehreem-aslam/', 'https://cfd.nu.edu.pk/faculty/umer-iqbal/', 'https://cfd.nu.edu.pk/staff/mr-waseem-ahmad/', 'https://cfd.nu.edu.pk/staff/usman-naeem/', 'https://cfd.nu.edu.pk/staff/aysha-shafiq/', 'https://cfd.nu.edu.pk/staff/mr-muhammad-atif-nadeem/', 'https://cfd.nu.edu.pk/staff/mr-muhammad-shahid-iqbal/', 'https://cfd.nu.edu.pk/staff/muhammad-usman/', 'https://cfd.nu.edu.pk/staff/mr-naveed-ahmed/', 'https://cfd.nu.edu.pk/staff/nooria-fatima/', 'https://cfd.nu.edu.pk/staff/mr-asad-ali/', 'https://cfd.nu.edu.pk/staff/muhammad-khalid/', 'https://cfd.nu.edu.pk/staff/zunaira-ashiq/', 'https://cfd.nu.edu.pk/staff/ms-maria-intizar/', 'https://cfd.nu.edu.pk/staff/mr-safdar-abbas/', 'https://cfd.nu.edu.pk/staff/javaid-iqbal/', 'https://cfd.nu.edu.pk/staff/mr-muhammad-khalid/', 'https://cfd.nu.edu.pk/staff/ms-afshan-rani/', 'https://cfd.nu.edu.pk/staff/ghulam-shabbir/', 'https://cfd.nu.edu.pk/staff/mr-muhammad-naeem/', 'https://cfd.nu.edu.pk/staff/mr-muhammad-zulqarnain-ul-hassan/', 'https://cfd.nu.edu.pk/staff/irfan-ali/', 'https://cfd.nu.edu.pk/staff/ms-meriam-chuhdary/', 'https://cfd.nu.edu.pk/staff/husnain-ali/', 'https://cfd.nu.edu.pk/staff/mr-mudassar-rehman/', 'https://cfd.nu.edu.pk/staff/mr-muhammad-mohsin-liaquat/', 'https://cfd.nu.edu.pk/staff/muhammad-saad-salman/', 'https://cfd.nu.edu.pk/staff/mr-sohail-afzal/', 'https://cfd.nu.edu.pk/staff/abdul-rehman-2/', 'https://cfd.nu.edu.pk/staff/faisal-javed/', 'https://cfd.nu.edu.pk/staff/shozab-zayab-malik/', 'https://cfd.nu.edu.pk/staff/mr-waleed-hasan/', 'https://cfd.nu.edu.pk/staff/ms-isma-bibi/', 'https://cfd.nu.edu.pk/staff/mr-m-kashif-iqbal/', 'https://cfd.nu.edu.pk/staff/mr-irfan-matloob-ahmad/', 'https://cfd.nu.edu.pk/staff/muhammad-saqib-murtaza/', 'https://cfd.nu.edu.pk/staff/mr-ilyas-nazir/', 'https://cfd.nu.edu.pk/staff/mr-muhammad-sadiq/', 'https://cfd.nu.edu.pk/staff/adnan-mehboob/', 'https://cfd.nu.edu.pk/staff/faheem-sajid/', 'https://cfd.nu.edu.pk/staff/abdul-rehman/', 'https://cfd.nu.edu.pk/staff/mr-farooq-ahmad/', 'https://cfd.nu.edu.pk/staff/mr-salman-hassan/', 'https://cfd.nu.edu.pk/staff/mr-sekandar-riaz-khan/', 'https://cfd.nu.edu.pk/staff/mr-azhar-masood/', 'https://cfd.nu.edu.pk/staff/muhammad-hussain/', 'https://cfd.nu.edu.pk/staff/mr-ghulam-murtaza/', 'https://cfd.nu.edu.pk/staff/muhammad-hassnain-ali/', 'https://cfd.nu.edu.pk/staff/mr-ateeq-rafiq/', 'https://cfd.nu.edu.pk/staff/mr-shahbaz-rasheed/', 'https://cfd.nu.edu.pk/staff/mr-aftab-alam/', 'https://cfd.nu.edu.pk/staff/electrician/', 'https://cfd.nu.edu.pk/staff/mr-hanif-shakir/', 'https://cfd.nu.edu.pk/staff/ms-hira-riaz/', 'https://cfd.nu.edu.pk/staff/mr-abrar-hussain/', 'https://cfd.nu.edu.pk/staff/mr-akhtar-hussain-ali/', 'https://cfd.nu.edu.pk/staff/mr-muhammad-asad/', 'https://cfd.nu.edu.pk/staff/mr-syed-mohsin-raza-naqvi/', 'https://cfd.nu.edu.pk/staff/muhammad-shahid-younas/', 'https://cfd.nu.edu.pk/staff/imtiaz-ahmed/', 'https://cfd.nu.edu.pk/staff/mr-maratib-ali/', 'https://cfd.nu.edu.pk/staff/mr-ammar-hanif/', 'https://cfd.nu.edu.pk/staff/mr-omer-ali/', 'https://cfd.nu.edu.pk/staff/mr-sajjad-hussain/', 'https://cfd.nu.edu.pk/staff/mr-farhan-hassan/', 'https://cfd.nu.edu.pk/staff/mr-farukh-shehzad/', 'https://cfd.nu.edu.pk/staff/mr-hafiz-zeeshan-ul-hassan/', 'https://cfd.nu.edu.pk/staff/usman-ahmad/', 'https://cfd.nu.edu.pk/staff/ali-hassan/', 'https://cfd.nu.edu.pk/staff/mr-asad-ali-2/', 'https://cfd.nu.edu.pk/staff/haroon-haider/', 'https://cfd.nu.edu.pk/staff/mr-javed-shafiq/', 'https://cfd.nu.edu.pk/staff/fraz-shazada/', 'https://cfd.nu.edu.pk/faculty/muhammad-shoaib-khalid/', 'https://cfd.nu.edu.pk/faculty/arslan-ahmed-amin/', 'https://cfd.nu.edu.pk/faculty/adil-zulfiqar/', 'https://cfd.nu.edu.pk/faculty/muhammad-adnan/', 'https://cfd.nu.edu.pk/faculty/shahzad/', 'https://cfd.nu.edu.pk/faculty/amir-zahoor/', 'https://cfd.nu.edu.pk/faculty/habib-ullah/', 'https://cfd.nu.edu.pk/faculty/muhammad-irfan-ishaq/', 'https://cfd.nu.edu.pk/faculty/ameer-hamza/', 'https://cfd.nu.edu.pk/faculty/amna-saghir/', 'https://cfd.nu.edu.pk/faculty/bakhtawar-saeed/', 'https://cfd.nu.edu.pk/faculty/muhammad-abdullah/', 'https://cfd.nu.edu.pk/faculty/muhammad-faisal-hayat/', 'https://cfd.nu.edu.pk/faculty/sajid-iqbal/', 'https://cfd.nu.edu.pk/faculty/ayesha-nadeem/', 'https://cfd.nu.edu.pk/faculty/hafiz-muhammad-qasim/', 'https://cfd.nu.edu.pk/faculty/hashim-yasin/', 'https://cfd.nu.edu.pk/faculty/anwar-shah/', 'https://cfd.nu.edu.pk/faculty/asif-ameer/', 'https://cfd.nu.edu.pk/faculty/hamza-yousaf/', 'https://cfd.nu.edu.pk/faculty/muhammad-yousaf/', 'https://cfd.nu.edu.pk/faculty/rukhsana-zafar/', 'https://cfd.nu.edu.pk/faculty/tahir-farooq/', 'https://cfd.nu.edu.pk/faculty/isma-waheed/', 'https://cfd.nu.edu.pk/faculty/muhammad-fayyaz/', 'https://cfd.nu.edu.pk/faculty/muhammad-shahzad-sarfraz/', 'https://cfd.nu.edu.pk/faculty/muhammad-umar-aftab/', 'https://cfd.nu.edu.pk/faculty/muhammad-usama/', 'https://cfd.nu.edu.pk/faculty/ammar-rafiq/', 'https://cfd.nu.edu.pk/faculty/iqra-muhammad/', 'https://cfd.nu.edu.pk/faculty/rabia-maqsood/', 'https://cfd.nu.edu.pk/faculty/usman-ghous/', 'https://cfd.nu.edu.pk/faculty/adeel-ashraf-cheema/', 'https://cfd.nu.edu.pk/faculty/asma-sattar/', 'https://cfd.nu.edu.pk/faculty/hafiz-tayyeb-javed/', 'https://cfd.nu.edu.pk/faculty/maria-maqsood/', 'https://cfd.nu.edu.pk/faculty/muhammad-atif/', 'https://cfd.nu.edu.pk/faculty/rida-ghafoor-hussain/', 'https://cfd.nu.edu.pk/faculty/rizwan-ul-haq/', 'https://cfd.nu.edu.pk/faculty/zain-iqbal/', 'https://cfd.nu.edu.pk/faculty/ahmad-ali-tabassam/', 'https://cfd.nu.edu.pk/faculty/ali-hamza/', 'https://cfd.nu.edu.pk/faculty/ali-raza/', 'https://cfd.nu.edu.pk/faculty/aliza-saeed/', 'https://cfd.nu.edu.pk/faculty/aqsa-younas/', 'https://cfd.nu.edu.pk/faculty/ayesha-liaqat/', 'https://cfd.nu.edu.pk/faculty/faryal-saud/', 'https://cfd.nu.edu.pk/faculty/juhinah-batool-asif/', 'https://cfd.nu.edu.pk/faculty/kashaf-shakoor/', 'https://cfd.nu.edu.pk/faculty/mahzaib-younas/', 'https://cfd.nu.edu.pk/faculty/masood-habib/', 'https://cfd.nu.edu.pk/faculty/mazhar-hussain/', 'https://cfd.nu.edu.pk/faculty/momna-javaid/', 'https://cfd.nu.edu.pk/faculty/mughees-ismail/', 'https://cfd.nu.edu.pk/faculty/muhammad-adeel/', 'https://cfd.nu.edu.pk/faculty/muhammad-hannan-farooq/', 'https://cfd.nu.edu.pk/faculty/haseeb-arshad/', 'https://cfd.nu.edu.pk/faculty/muhammad-shahbaz-ayyaz/', 'https://cfd.nu.edu.pk/faculty/muhammad-suffian/', 'https://cfd.nu.edu.pk/faculty/muiz-qadir/', 'https://cfd.nu.edu.pk/faculty/nasreen-akhtar/', 'https://cfd.nu.edu.pk/faculty/saba-aslam/', 'https://cfd.nu.edu.pk/faculty/507221/', 'https://cfd.nu.edu.pk/faculty/sadia-ramzan/', 'https://cfd.nu.edu.pk/faculty/samia-mujahid/', 'https://cfd.nu.edu.pk/faculty/saqib-hayat/', 'https://cfd.nu.edu.pk/faculty/sumaira-mustafa/', 'https://cfd.nu.edu.pk/faculty/ms-wania-fatima/', 'https://cfd.nu.edu.pk/faculty/amna-waheed/', 'https://cfd.nu.edu.pk/faculty/areeba-waseem/', 'https://cfd.nu.edu.pk/faculty/gul-e-zahra/', 'https://cfd.nu.edu.pk/faculty/hassan-ahmed/', 'https://cfd.nu.edu.pk/faculty/maham-saleem/', 'https://cfd.nu.edu.pk/faculty/rabia-anwar/', 'https://cfd.nu.edu.pk/faculty/rana-mobeen-tariq/', 'https://cfd.nu.edu.pk/faculty/509252/']\n"
          ]
        }
      ]
    },
    {
      "cell_type": "code",
      "source": [
        "#Scraping department from the profiles\n",
        "cfdDepartments = []\n",
        "\n",
        "for profile_link in cfdProfileLinks:\n",
        "    headers = {\n",
        "        \"User-Agent\": \"Mozilla/5.0 (Windows NT 10.0; Win64; x64) AppleWebKit/537.36 (KHTML, like Gecko) Chrome/119.0.0.0 Safari/537.36\"\n",
        "    }\n",
        "    r = requests.get(profile_link, headers=headers)\n",
        "    profile_soup = BeautifulSoup(r.content, 'html.parser')\n",
        "\n",
        "    # Locate the department (first <li> inside teacher__address)\n",
        "    department = \"Not Available\"\n",
        "    address_section = profile_soup.find(\"ul\", class_=\"teacher__address\")\n",
        "\n",
        "    if address_section:\n",
        "        first_li = address_section.find(\"li\")  # First <li> contains department name\n",
        "        if first_li:\n",
        "            department = first_li.text.strip()\n",
        "\n",
        "    cfdDepartments.append(department)\n",
        "\n",
        "print(cfdDepartments)\n"
      ],
      "metadata": {
        "colab": {
          "base_uri": "https://localhost:8080/"
        },
        "id": "naOt4q21vQCl",
        "outputId": "7ea05bc7-40e2-4325-f524-2066c1490ea1"
      },
      "execution_count": 46,
      "outputs": [
        {
          "output_type": "stream",
          "name": "stdout",
          "text": [
            "['Department of Sciences & Humanities', 'Department of Sciences & Humanities', 'Department of Sciences & Humanities', 'Department of Sciences & Humanities', 'Department of Sciences & Humanities', 'Department of Sciences & Humanities', 'Department of Sciences & Humanities', 'Department of Sciences & Humanities', 'Department of Sciences & Humanities', 'Department of Sciences & Humanities', 'Department of Sciences & Humanities', 'Department of Sciences & Humanities', 'Department of Sciences & Humanities', 'Department of Sciences & Humanities', 'Department of Sciences & Humanities', 'Department of Sciences & Humanities', 'Department of Sciences & Humanities', 'Department of Sciences & Humanities', 'Department of Sciences & Humanities', 'Department of Sciences & Humanities', 'Department of Sciences & Humanities', 'Department of Sciences & Humanities', 'Department of Sciences & Humanities', 'Department of Sciences & Humanities', 'Department of Sciences & Humanities', 'FAST School of Management', 'FAST School of Management', 'FAST School of Management', 'FAST School of Management', 'FAST School of Management', 'FAST School of Management', 'FAST School of Management', 'FAST School of Management', 'FAST School of Management', 'Department of Software Engineering', 'Department of Software Engineering', 'Department of Software Engineering', 'Department of Software Engineering', 'Department of Software Engineering', 'Department of Software Engineering', 'Department of Software Engineering', 'Department of Software Engineering', 'Department of Software Engineering', 'Department of Software Engineering', 'Department of Software Engineering', 'Department of Software Engineering', 'Department of Software Engineering', 'Department of Software Engineering', 'Department of Software Engineering', 'Department of Software Engineering', 'Admin Office', 'Admin Office', 'Admin Office', 'Admin Office', 'Admin Office', 'Admin Office', 'Admin Office', 'Admin Office', 'Admin Office', 'Admin Office', 'Admin Office', 'Admin Office', 'Admin Office', 'Admin Office', 'Admin Office', 'Admin Office', 'Admin Office', 'Academic Office', 'Academic Office', 'Academic Office', 'Academic Office', 'Academic Office', 'Academic Office', 'Academic Office', 'Academic Office', 'Academic Office', 'Academic Office', 'Academic Office', 'Academic Office', 'Academic Office', 'Academic Office', 'Accounts Office', 'Accounts Office', 'Accounts Office', 'Accounts Office', 'Engineering Labs', 'Engineering Labs', 'Engineering Labs', 'Engineering Labs', 'Engineering Labs', 'Engineering Labs', 'Quality Enhancement Cell', 'Library', 'Library', 'Library', 'Library', 'Maintenance and Workshop', 'Maintenance and Workshop', 'Maintenance and Workshop', 'Maintenance and Workshop', 'Student Affairs', 'Student Affairs', 'Student Affairs', 'Student Affairs', 'Student Affairs', 'Student Affairs', 'IT and Computing Labs', 'IT and Computing Labs', 'IT and Computing Labs', 'IT and Computing Labs', 'IT and Computing Labs', 'IT and Computing Labs', 'IT and Computing Labs', 'IT and Computing Labs', 'IT and Computing Labs', 'IT and Computing Labs', 'IT and Computing Labs', 'IT and Computing Labs', 'IT and Computing Labs', 'IT and Computing Labs', 'IT and Computing Labs', 'Department of Electrical Engineering', 'Department of Electrical Engineering', 'Department of Electrical Engineering', 'Department of Electrical Engineering', 'Department of Electrical Engineering', 'Department of Electrical Engineering', 'Department of Electrical Engineering', 'Department of Electrical Engineering', 'Department of Electrical Engineering', 'Department of Electrical Engineering', 'Department of Electrical Engineering', 'Department of Electrical Engineering', 'Department of Electrical Engineering', 'Department of Electrical Engineering', 'Department of Electrical Engineering', 'Department of Electrical Engineering', 'Department Of AI & Data Science', 'Department Of AI & Data Science', 'Department Of AI & Data Science', 'Department Of AI & Data Science', 'Department Of AI & Data Science', 'Department Of AI & Data Science', 'Department Of AI & Data Science', 'Department Of AI & Data Science', 'Department of Computer Science', 'Department of Computer Science', 'Department of Computer Science', 'Department of Computer Science', 'Department of Computer Science', 'Department of Computer Science', 'Department of Computer Science', 'Department of Computer Science', 'Department of Computer Science', 'Department of Computer Science', 'Department of Computer Science', 'Department of Computer Science', 'Department of Computer Science', 'Department of Computer Science', 'Department of Computer Science', 'Department of Computer Science', 'Department of Computer Science', 'Department of Computer Science', 'Department of Computer Science', 'Department of Computer Science', 'Department of Computer Science', 'Department of Computer Science', 'Department of Computer Science', 'Department of Computer Science', 'Department of Computer Science', 'Department of Computer Science', 'Department of Computer Science', 'Department of Computer Science', 'Department of Computer Science', 'Department of Computer Science', 'Department of Computer Science', 'Department of Computer Science', 'Department of Computer Science', 'Department of Computer Science', 'Department of Computer Science', 'Department of Computer Science', 'Department of Computer Science', 'Department of Computer Science', 'Department of Computer Science', 'Department of Computer Science', 'Department of Computer Science', 'Department of Computer Science', 'Department of Computer Science', 'Department of Computer Science', 'Department of Computer Science', 'Department of Computer Science', 'Department of Computer Science', 'Department of Computer Science', 'Department of Computer Science', 'Department of Computer Science', 'Department of Computer Science', 'Department of Computer Science']\n"
          ]
        }
      ]
    },
    {
      "cell_type": "code",
      "source": [
        "#scraping extensions as integers from the profiles\n",
        "cfdExtensions = []\n",
        "\n",
        "for profile_link in cfdProfileLinks:\n",
        "    headers = {\n",
        "        \"User-Agent\": \"Mozilla/5.0 (Windows NT 10.0; Win64; x64) AppleWebKit/537.36 (KHTML, like Gecko) Chrome/119.0.0.0 Safari/537.36\"\n",
        "    }\n",
        "    r = requests.get(profile_link, headers=headers)\n",
        "    profile_soup = BeautifulSoup(r.content, 'html.parser')\n",
        "\n",
        "    info = profile_soup.find(\"ul\", class_=\"teacher__address\")\n",
        "    extension = \"Not Available\"  # Default value if extension is not found\n",
        "\n",
        "    # Loop through the list to find the item containing \"Ext:\"\n",
        "    if info:\n",
        "        for li in info.find_all(\"li\"):\n",
        "            if \"Ext:\" in li.text:\n",
        "                extracted_ext = li.text.split(\"Ext:\")[-1].strip()\n",
        "                if extracted_ext.isdigit():\n",
        "                    extension = int(extracted_ext)  # Convert to int if it's a valid number\n",
        "                break\n",
        "    #making sure length is equal even if no ext found\n",
        "    cfdExtensions.append(extension)\n",
        "\n",
        "print(cfdExtensions)\n"
      ],
      "metadata": {
        "colab": {
          "base_uri": "https://localhost:8080/"
        },
        "id": "3cgZp5lRjHDD",
        "outputId": "5894ab5c-fac1-469d-a9e0-73f5822bf41a"
      },
      "execution_count": 47,
      "outputs": [
        {
          "output_type": "stream",
          "name": "stdout",
          "text": [
            "[270, 280, 193, 277, 196, 275, 'Not Available', 'Not Available', 281, 'Not Available', 175, 259, 282, 283, 283, 282, 282, 260, 'Not Available', 281, 281, 'Not Available', 572, 280, 280, 250, 258, 262, 264, 266, 256, 'Not Available', 265, 261, 127, 350, 190, 124, 304, 'Not Available', 199, 180, 286, 370, 142, 196, 153, 199, 179, 149, 116, 382, 194, 382, 231, 104, 115, 121, 117, 231, 121, 102, 242, 115, 100, 399, 382, 253, 666, 161, 113, 308, 271, 164, 581, 164, 161, 241, 666, 351, 114, 120, 343, 119, 119, 248, 141, 288, 214, 224, 228, 135, 240, 241, 241, 164, 333, 333, 333, 332, 138, 300, 215, 305, 151, 151, 200, 201, 213, 202, 206, 207, 203, 205, 206, 203, 204, 204, 204, 'Not Available', 204, 140, 148, 143, 132, 130, 150, 'Not Available', 144, 'Not Available', 301, 301, 145, 328, 133, 'Not Available', 340, 580, 118, 582, 149, 170, 370, 174, 304, 160, 102, 198, 311, 165, 361, 197, 180, 171, 'Not Available', 125, 'Not Available', 'Not Available', 'Not Available', 166, 'Not Available', 170, 122, 272, 168, 177, 167, 178, 132, 172, 177, 190, 'Not Available', 159, 292, 180, 176, 149, 176, 'Not Available', 219, 167, 177, 169, 304, 283, 'Not Available', 168, 167, 304, 'Not Available', 301, 'Not Available', 572, 283, 324, 304]\n"
          ]
        }
      ]
    },
    {
      "cell_type": "code",
      "source": [
        "#scraping highest education from the profiles\n",
        "cfdHighestEducation = []\n",
        "\n",
        "for profile_link in cfdProfileLinks:\n",
        "    headers = {\n",
        "        \"User-Agent\": \"Mozilla/5.0 (Windows NT 10.0; Win64; x64) AppleWebKit/537.36 (KHTML, like Gecko) Chrome/119.0.0.0 Safari/537.36\"\n",
        "    }\n",
        "    r = requests.get(profile_link, headers=headers)\n",
        "    profile_soup = BeautifulSoup(r.content, 'html.parser')\n",
        "\n",
        "    # Find the \"Education\" section which is same for all profiles\n",
        "    educationSection = profile_soup.find(\"div\", class_=\"htc__skill__container\")\n",
        "    edu = \"Not Available\"\n",
        "\n",
        "    #some profile have the education in p tag while other in ul as list items\n",
        "    if educationSection:\n",
        "        #find the first p tag\n",
        "        item = educationSection.find(\"p\")\n",
        "        if item:\n",
        "            edu = item.text.strip()\n",
        "        else:\n",
        "            # If no <p> is found, try finding <ul> -> <li>\n",
        "            education_list = educationSection.find(\"ul\")  # Look for <ul>\n",
        "            if education_list:\n",
        "                degree = education_list.find(\"li\")  # Get first <li>\n",
        "                if degree:\n",
        "                    edu = degree.text.strip()\n",
        "\n",
        "    #cleaning the results\n",
        "    if \",\" in edu:\n",
        "        edu = edu.split(\",\")[0]\n",
        "\n",
        "    cfdHighestEducation.append(edu)\n",
        "\n",
        "print(cfdHighestEducation)\n"
      ],
      "metadata": {
        "colab": {
          "base_uri": "https://localhost:8080/"
        },
        "id": "1PcO2slmk309",
        "outputId": "3d4b1d3d-d2ed-4d92-99f3-541aa2e39121"
      },
      "execution_count": 48,
      "outputs": [
        {
          "output_type": "stream",
          "name": "stdout",
          "text": [
            "['PhD. (Mathematics)', 'Ph.D. (Statistics)', 'M.Phil(Mathematics)', 'Ph.D (Mathematics) Government College University Faisalabad', 'MBA', 'M.Phil(English)', 'Master’s\\xa0 (Clinical Psychology)', 'M.S(Mathematics)', 'Not Available', 'M.Phil. Sociology', 'MS Mathematics (2018)', 'M.Phil(English Literature)', 'M.Phil. (Linguistics)', 'MS(Math)', 'MS(Math)', 'M.Phil. from Riphah International University (2017-2019)', 'MPhil. (Physics) 2018', 'Master in Arts (Islamic Studies) Islamic University Bahawalpur (1998)\\nBachelor in Arts', 'English', 'Not Available', 'MS(Applied Linguistics)', 'MS in Clinical Psychology from Government College University Faisalabad (2014-2016)', 'Not Available', 'BS(English Literature and Linguistics)', 'BS (English Literature and Linguistics)', 'PhD (Econometrics)', 'PhD Business Administration', 'Not Available', 'Not Available', 'M.S(Marketing)', 'Passed CFA Level 1 Exam', 'MS', 'MBA', 'M.S(Finance)', 'PhD', 'Ph.D. (Computer Science)', 'Not Available', 'Not Available', 'Not Available', 'MS (Software Engineering)', 'Not Available', 'MS\\xa0Computer Science\\xa0(Major: Software Engineering)', 'MS', 'Not Available', 'Not Available', 'MS (Computer Science)', 'MS Computer Science', 'MS Computer Science', 'MS (Software Engineering)', 'MS(CS) (Bronze Medal)', 'E.M.B.A.', 'M. Com from University of Sargodha', 'MS (Development Economics', 'M.Ed', 'Not Available', 'MBA – Finance', 'Bachelors(Arts)', 'Not Available', 'B.A', 'Not Available', 'Not Available', 'MPhil (English Linguistics) Riphah International University (2021)', 'Not Available', 'Not Available', 'Not Available', 'Not Available', 'Not Available', 'M.A(Mass Communication)', 'MBA', 'MBA (Marketing)', 'M.S(Business Administration-Finance)', 'Not Available', 'B.Com', 'MBA (HR)', 'MBA', 'MS (Information Security)', 'MS (Computer Science)', 'BA. Allama Iqbal Open University', 'Not Available', 'Bachelor (Arts)', 'Not Available', 'ACCA', 'MBA (Finance) form Riphah International University', 'MBA', '➢ B. Com (Hons.) – (2012 – 2016)\\nUniversity of Sargodha', 'BA (Arts)', 'B-Tech\\xa0(\\xa0Hons\\xa0)\\xa0Electronics', 'Not Available', 'BA. Allama Iqbal Open University', 'DAE(Electrical)', 'DAE (Electronics)', 'MS (Management Sciences)', 'Master of Library & Information Sciences (MLIS)', 'BLIS (Bachelor in Library Information Science) AIOU', 'B.Sc(Library Science)', 'Not Available', 'Diploma(after GIII.)', 'Not Available', 'Not Available', 'Not Available', 'M.A(Health and Physical Education)', 'Not Available', 'B.A', '➢ MSc. – (2016-2018)\\nNational College of Business administration & Economics University (NCBA & E)', 'MPA (Master of Public Administration)', 'Not Available', '➢ MS CS – (2015)\\nNational Textile University', 'Master of Science in Computer Networking from University of Bedfordshire', 'B.Tech (Hons)', 'BCS', 'BA', 'M.SC(Computer Science (In Progress))', 'BA', 'B.Com', 'I.Com', 'Not Available', 'Not Available', 'Not Available', 'Not Available', 'Not Available', 'Not Available', 'Post-Doc (Re-configuration of Islanded Power Systems/Microgrids)', 'Ph.D. Electrical Engineering (Control Systems)', 'PhD (Electronic Engineering) City University of Hong Kong (Hong Kong)', 'PhD (Electrical Engineering)', 'Not Available', 'M.S(Electrical Engineering)', 'M.Sc(Communication Engineering)', 'M.S(Signal Processing & Wave Propagation)', 'M. Sc(Mechanical Engineering )', 'Not Available', 'M.Sc (Computer Engineering) UET Taxila 2024', 'M.S(Electrical( Control Systems ))', 'MS Electrical Engineering', 'M.Sc( Electrical Engineering)', 'B.S(Electrical Engineering)', 'Not Available', 'Ph.D. (Computer Science)', 'PhD Computer Sciences', 'MS (Computer Science)', 'MS (Data Science)', 'MS (Computer Science) FAST-NUCES', 'MS Data Science', 'M.S(Computer Science)', 'MS (CS)', 'Ph.D. (Computer Science)', 'Ph.D in Computing (RS & GIS) AIT', 'PhD (Software Engineering)', 'Post-Doc', 'Not Available', 'Ph.D. (Computer Science)', 'Ph.D. (Computer Science)', 'Ph.D. (Computer Science) FAST–NUCES', 'PhD (CS)', 'M.S (Software Engineering)', 'PhD (Computer Science)', 'MS (Computer Science)', 'M.S(Computer Science)', 'M.S(Software Engineering)', 'M.S(Computer Science)', 'M.S(Computer Science)', 'M.S. (Information Technology)', 'MS Computer Science', 'Bachelor’s in Computer Science BS(CS)\\xa0 from FAST NUCES Islamabad campus in 2019', 'Masters of Science in\\xa0Computer Science\\xa0(Major: Software Engineering)', 'Completed MS (CS) from UAF', 'Master of Science in Computer Science', 'M.S(Computer Science)', 'MS (CS)', 'BS Computer Science from NFC Institute of Engineering & Technology', 'M.S(Computer Science)', 'PhD (Computer Sciences) In Progress\\nDalian University of Technology', 'M.S (Computer Science)', 'MS Computer Science', 'Master of Science (Computer Science)', 'MS Computer Science', 'MS (Computer Science)', 'Masters\\xa0in\\xa0Computer Science', 'MS Computer Science from University of Gujrat', 'MS (CS)', 'Masters in Computer Science', 'M.S(Computer Science)', 'MPhil in Computer Science (Major: Computer Science)', 'Master of Science in\\xa0Computer Science\\xa0(Major: NLP)', 'MS (Computer Science)', 'MS (Computer Science)', 'M.S. Computer Science', 'Masters of Science\\xa0in\\xa0Computer Science\\xa0(Major: Computer Networks)', 'Masters\\xa0of\\xa0Science\\xa0in\\xa0Computer Science', 'MS (Computer Science)', 'BS Computer Science', 'Bachelors of Science in Electrical Engineering (Specialization: Computer Engineering) 2023', 'MS (Computer Science ) University of Wah', 'MS (Computer Science)', 'Not Available', 'BS Computer Engineering', 'M.S(Computer Science)']\n"
          ]
        }
      ]
    },
    {
      "cell_type": "code",
      "source": [
        "#ASSUMPTION: Since ids are not available we are fixing it according to index\n",
        "cfdTeacherIDs = []\n",
        "for profile in cfdProfileLinks:\n",
        "    cfdTeacherIDs = list(range(len(cfdProfileLinks)))  # Assigns IDs as 0, 1, 2, ...\n",
        "print(cfdTeacherIDs)\n"
      ],
      "metadata": {
        "colab": {
          "base_uri": "https://localhost:8080/"
        },
        "id": "YRtVHIuYqcvE",
        "outputId": "df29937d-202a-43bf-8363-8941cce42d88"
      },
      "execution_count": 49,
      "outputs": [
        {
          "output_type": "stream",
          "name": "stdout",
          "text": [
            "[0, 1, 2, 3, 4, 5, 6, 7, 8, 9, 10, 11, 12, 13, 14, 15, 16, 17, 18, 19, 20, 21, 22, 23, 24, 25, 26, 27, 28, 29, 30, 31, 32, 33, 34, 35, 36, 37, 38, 39, 40, 41, 42, 43, 44, 45, 46, 47, 48, 49, 50, 51, 52, 53, 54, 55, 56, 57, 58, 59, 60, 61, 62, 63, 64, 65, 66, 67, 68, 69, 70, 71, 72, 73, 74, 75, 76, 77, 78, 79, 80, 81, 82, 83, 84, 85, 86, 87, 88, 89, 90, 91, 92, 93, 94, 95, 96, 97, 98, 99, 100, 101, 102, 103, 104, 105, 106, 107, 108, 109, 110, 111, 112, 113, 114, 115, 116, 117, 118, 119, 120, 121, 122, 123, 124, 125, 126, 127, 128, 129, 130, 131, 132, 133, 134, 135, 136, 137, 138, 139, 140, 141, 142, 143, 144, 145, 146, 147, 148, 149, 150, 151, 152, 153, 154, 155, 156, 157, 158, 159, 160, 161, 162, 163, 164, 165, 166, 167, 168, 169, 170, 171, 172, 173, 174, 175, 176, 177, 178, 179, 180, 181, 182, 183, 184, 185, 186, 187, 188, 189, 190, 191, 192, 193, 194, 195, 196]\n"
          ]
        }
      ]
    },
    {
      "cell_type": "code",
      "source": [
        "# Checking the length of all CFD faculty-related variables\n",
        "cfdData = {\n",
        "    \"ID\": cfdTeacherIDs,\n",
        "    \"Name\": cfdNames,\n",
        "    \"Designation\": cfdDesignations,\n",
        "    \"HEC Approved Supervisor\": cfdIsApproved,\n",
        "    \"Highest Education\": cfdHighestEducation,\n",
        "    \"Email\": cfdEmails,\n",
        "    \"Department\": cfdDepartments,\n",
        "    \"Extension\": cfdExtensions,\n",
        "    \"Image URL\": cfdImageURLs\n",
        "}\n",
        "#check if the lengths are equal\n",
        "for var_name, var_list in cfdData.items():\n",
        "    print(f\"{var_name}: {len(var_list)}\")\n"
      ],
      "metadata": {
        "colab": {
          "base_uri": "https://localhost:8080/"
        },
        "id": "RJeqseYntR0v",
        "outputId": "187d4e5a-c355-4a1a-dda3-4085865c6db2"
      },
      "execution_count": 50,
      "outputs": [
        {
          "output_type": "stream",
          "name": "stdout",
          "text": [
            "ID: 197\n",
            "Name: 197\n",
            "Designation: 197\n",
            "HEC Approved Supervisor: 197\n",
            "Highest Education: 197\n",
            "Email: 197\n",
            "Department: 197\n",
            "Extension: 197\n",
            "Image URL: 197\n"
          ]
        }
      ]
    },
    {
      "cell_type": "code",
      "source": [
        "dfCFD = pd.DataFrame(cfdData)\n",
        "print(dfCFD)"
      ],
      "metadata": {
        "colab": {
          "base_uri": "https://localhost:8080/"
        },
        "id": "Yn7IYC97wjZZ",
        "outputId": "a6bcbada-e960-471b-af8a-9c71687d53ce",
        "collapsed": true
      },
      "execution_count": 51,
      "outputs": [
        {
          "output_type": "stream",
          "name": "stdout",
          "text": [
            "      ID               Name                Designation  \\\n",
            "0      0  Dr. Mushtaq Ahmad  Associate Professor & HOD   \n",
            "1      1  Dr. Haris Khurram        Assistant Professor   \n",
            "2      2  Mr. Amjad Hussain        Assistant Professor   \n",
            "3      3  Dr. Arfan Shahzad        Assistant Professor   \n",
            "4      4      Mr. M. Nouman        Assistant Professor   \n",
            "..   ...                ...                        ...   \n",
            "192  192   Mr. Hassan Ahmed                 Instructor   \n",
            "193  193   Ms. Maham Saleem                 Instructor   \n",
            "194  194    Ms. Rabia Anwar                 Instructor   \n",
            "195  195    Mr. Rana Mobeen                 Instructor   \n",
            "196  196     Mr. Talha Arif                 Instructor   \n",
            "\n",
            "     HEC Approved Supervisor  \\\n",
            "0                       True   \n",
            "1                       True   \n",
            "2                      False   \n",
            "3                      False   \n",
            "4                      False   \n",
            "..                       ...   \n",
            "192                    False   \n",
            "193                    False   \n",
            "194                    False   \n",
            "195                    False   \n",
            "196                    False   \n",
            "\n",
            "                                     Highest Education  \\\n",
            "0                                   PhD. (Mathematics)   \n",
            "1                                   Ph.D. (Statistics)   \n",
            "2                                  M.Phil(Mathematics)   \n",
            "3    Ph.D (Mathematics) Government College Universi...   \n",
            "4                                                  MBA   \n",
            "..                                                 ...   \n",
            "192           MS (Computer Science ) University of Wah   \n",
            "193                              MS (Computer Science)   \n",
            "194                                      Not Available   \n",
            "195                            BS Computer Engineering   \n",
            "196                              M.S(Computer Science)   \n",
            "\n",
            "                         Email                           Department  \\\n",
            "0       mushtaq.sial@nu.edu.pk  Department of Sciences & Humanities   \n",
            "1      haris.khurram@nu.edu.pk  Department of Sciences & Humanities   \n",
            "2       amjad.haider@nu.edu.pk  Department of Sciences & Humanities   \n",
            "3      arfan.shahzad@nu.edu.pk  Department of Sciences & Humanities   \n",
            "4    nouman.iftikhar@nu.edu.pk  Department of Sciences & Humanities   \n",
            "..                         ...                                  ...   \n",
            "192     hassan.ahmed@nu.edu.pk       Department of Computer Science   \n",
            "193     Maham.Saleem@nu.edu.pk       Department of Computer Science   \n",
            "194      rabia.anwar@nu.edu.pk       Department of Computer Science   \n",
            "195     mubeen.tariq@nu.edu.pk       Department of Computer Science   \n",
            "196          m.talha@nu.edu.pk       Department of Computer Science   \n",
            "\n",
            "         Extension                                          Image URL  \n",
            "0              270  https://cfd.nu.edu.pk/wp-content/uploads/2021/...  \n",
            "1              280  https://cfd.nu.edu.pk/wp-content/uploads/2019/...  \n",
            "2              193  https://cfd.nu.edu.pk/wp-content/uploads/2019/...  \n",
            "3              277  https://cfd.nu.edu.pk/wp-content/uploads/2021/...  \n",
            "4              196  https://cfd.nu.edu.pk/wp-content/uploads/2019/...  \n",
            "..             ...                                                ...  \n",
            "192  Not Available  https://cfd.nu.edu.pk/wp-content/uploads/2024/...  \n",
            "193            572  https://cfd.nu.edu.pk/wp-content/uploads/2024/...  \n",
            "194            283  https://cfd.nu.edu.pk/wp-content/uploads/2024/...  \n",
            "195            324  https://cfd.nu.edu.pk/wp-content/uploads/2022/...  \n",
            "196            304  https://cfd.nu.edu.pk/wp-content/uploads/2024/...  \n",
            "\n",
            "[197 rows x 9 columns]\n"
          ]
        }
      ]
    },
    {
      "cell_type": "code",
      "source": [
        "#converting to csv without writing index as seperate column\n",
        "dfCFD.to_csv('cfd.csv', index=False)"
      ],
      "metadata": {
        "id": "qe5i9NK9w2A8"
      },
      "execution_count": 52,
      "outputs": []
    },
    {
      "cell_type": "markdown",
      "source": [
        "## **PESHAWER FACULTY DATA SCRAPING**:"
      ],
      "metadata": {
        "id": "egWrbjIR5Nxr"
      }
    },
    {
      "cell_type": "code",
      "source": [
        "#PESHAWER\n",
        "URL_pwr = 'http://pwr.nu.edu.pk/'\n",
        "r = requests.get(URL_pwr)\n",
        "print(r.status_code)"
      ],
      "metadata": {
        "colab": {
          "base_uri": "https://localhost:8080/"
        },
        "id": "hfdn3gguyoPy",
        "outputId": "d1757f73-a364-4cf5-b39d-8c131b010cc4"
      },
      "execution_count": 53,
      "outputs": [
        {
          "output_type": "stream",
          "name": "stdout",
          "text": [
            "200\n"
          ]
        }
      ]
    },
    {
      "cell_type": "code",
      "source": [
        "soup4 = BeautifulSoup(r.content, 'html.parser')"
      ],
      "metadata": {
        "id": "wUw1iELz1Wyd"
      },
      "execution_count": 54,
      "outputs": []
    },
    {
      "cell_type": "code",
      "source": [
        "#manually appending the links for faculty department pages that need to be iterated over\n",
        "pwrDepartmentLinks = [\n",
        "    \"http://pwr.nu.edu.pk/cs-faculty/\",\n",
        "    \"http://pwr.nu.edu.pk/ee-faculty/\",\n",
        "    \"http://pwr.nu.edu.pk/sh-faculty/\"\n",
        "]\n",
        "\n",
        "print(pwrDepartmentLinks)\n"
      ],
      "metadata": {
        "colab": {
          "base_uri": "https://localhost:8080/"
        },
        "id": "w3zPTAHv-tOQ",
        "outputId": "e730b690-86a2-49d7-cf0c-f5a3c6cc497f"
      },
      "execution_count": 55,
      "outputs": [
        {
          "output_type": "stream",
          "name": "stdout",
          "text": [
            "['http://pwr.nu.edu.pk/cs-faculty/', 'http://pwr.nu.edu.pk/ee-faculty/', 'http://pwr.nu.edu.pk/sh-faculty/']\n"
          ]
        }
      ]
    },
    {
      "cell_type": "code",
      "source": [
        "# Find all faculty members names by iterating over each dept page\n",
        "pwrNames = []\n",
        "for link in pwrDepartmentLinks:\n",
        "    r = requests.get(link)\n",
        "    souppwr= BeautifulSoup(r.content, 'html.parser')\n",
        "    for member in souppwr.find_all(\"div\", class_=\"faculty-member\"):\n",
        "        name = member.find(\"h2\")\n",
        "        pwrNames.append(name.text.strip())\n",
        "\n",
        "print(pwrNames)"
      ],
      "metadata": {
        "colab": {
          "base_uri": "https://localhost:8080/"
        },
        "id": "k_i184Ip_unt",
        "outputId": "844c4731-5038-4670-a98c-8dcb90766694"
      },
      "execution_count": 56,
      "outputs": [
        {
          "output_type": "stream",
          "name": "stdout",
          "text": [
            "['Fazl-e-Basit', 'Dr. Omar Usman Khan', 'Dr. Hafeez Ur Rehman', 'Dr. Nouman Azam', 'Dr. Hafeez Anwar', 'Shoaib Muhammad Khan', 'Dr. Taimoor Khan', 'Dr. Bilal Khan', 'Dr. Muhammad Amin', 'Dr. Waqas Ali', 'Dr. Ali Sayyed', 'Dr. Muhammad Waqar Aziz', 'Dr. Qasim Jan', 'Mashal Khan', 'Sara Rehmat', 'Usama Musharaf', 'Shahzeb Khan', 'Sanaa Jeehan', 'Usman Wajid', 'Muhammad Umer Haroon', 'Haroon Zafar', 'Muhammad Saad Rashad', 'Muhammad Saood Sarwar', 'Iqra Rehman', 'Muhammad Saad Khan', 'Dr. Muhammad Usman Abbasi', 'Muhammad Asif Khan', 'Rahat Ehsan', 'Dr. Suleman Mir', 'Dr. Maqsood Khan', 'Waseem Ullah', 'Kashif Javed', 'Anum Rashad', 'Muneeb Suhail', 'Dr. Askar Ali', 'Dr. Ihsan Ullah', 'Dr. Shams-ul Arifeen', 'Osama Sohrab', 'Abida Farid', 'Noreen Shah', 'Abdul Basit Khan']\n"
          ]
        }
      ]
    },
    {
      "cell_type": "code",
      "source": [
        "# Find all faculty members' emails by iterating over each department page\n",
        "pwrEmails = []\n",
        "for link in pwrDepartmentLinks:\n",
        "    r = requests.get(link)\n",
        "    souppwr = BeautifulSoup(r.content, 'html.parser')\n",
        "    for member in souppwr.find_all(\"div\", class_=\"faculty-member\"):\n",
        "        #default to store to keep len equal\n",
        "        email = None\n",
        "        for p in member.find_all(\"p\"): #email is in p tags\n",
        "            if \"@\" in p.text:  #we find the p tag that has @\n",
        "                email = p.text.strip()\n",
        "                break  # Stop after finding the first email\n",
        "        pwrEmails.append(email)\n",
        "\n",
        "print(pwrEmails)"
      ],
      "metadata": {
        "colab": {
          "base_uri": "https://localhost:8080/"
        },
        "id": "n1fzriJ0E5Kw",
        "outputId": "568f8a51-161b-420a-d061-8517f3f10ae0"
      },
      "execution_count": 57,
      "outputs": [
        {
          "output_type": "stream",
          "name": "stdout",
          "text": [
            "['fazl.basit@nu.edu.pk', 'omar.khan@nu.edu.pk', 'hafeez.urrehman@nu.edu.pk', 'nouman.azam@nu.edu.pk', 'hafeez.anwar@nu.edu.pk', 'shoaib.khan@nu.edu.pk', 'taimoor.khan@nu.edu.pk', 'khan.bilal@nu.edu.pk', 'muhammad.amin@nu.edu.pk', 'waqas.ali@nu.edu.pk', 'ali.sayyed@nu.edu.pk', 'waqar.aziz@nu.edu.pk', 'qasim.jan@nu.edu.pk', 'mashal.khan@nu.edu.pk', 'sara.rehmat@nu.edu.pk', 'usama.musharaf@nu.edu.pk', 'shahzeb.khan@nu.edu.pk', 'sanaa.jeehan@nu.edu.pk', 'usman.wajid@nu.edu.pk', 'umer.haroon@nu.edu.pk', 'haroon.zafar@nu.edu.pk', 'saad.rashad@nu.edu.pk', 'saood.sarwar@nu.edu.pk', 'iqra.rehman@nu.edu.pk', 'saad.khan@nu.edu.pk', 'usman.abbasi@nu.edu.pk', 'm.asif@nu.edu.pk', 'rahat.ehsan@nu.edu.pk', 'suleman.mir@nu.edu.pk', 'maqsood.khan@nu.edu.pk', 'waseemullah@nu.edu.pk', 'kashif.javed@nu.edu.pk', 'anum.rashad@nu.edu.pk', 'muneeb.sohail@nu.edu.pk', 'askar.ali@nu.edu.pk', 'ihsan.ullah@nu.edu.pk', 'shams.arifeen@nu.edu.pk', 'osama.sohrab@nu.edu.pk', 'abida.farid@nu.edu.pk', 'noreen.shah@nu.edu.pk', 'abdulbasit.khan@nu.edu.pk']\n"
          ]
        }
      ]
    },
    {
      "cell_type": "code",
      "source": [
        "import re #importing regex to extract from int\n",
        "\n",
        "# Find all faculty members' extensions by iterating over each department page\n",
        "pwrExtensions = []\n",
        "for link in pwrDepartmentLinks:\n",
        "    r = requests.get(link)\n",
        "    souppwr = BeautifulSoup(r.content, 'html.parser')\n",
        "    for member in souppwr.find_all(\"div\", class_=\"faculty-member\"):\n",
        "        # Default value in case not available to keep len equal\n",
        "        ext = \"Not Available\"\n",
        "        for p in member.find_all(\"p\"):\n",
        "            if \"Ext.\" in p.text:\n",
        "                # Extract digits after 'Ext.'\n",
        "                match = re.search(r\"Ext\\.\\s*(\\d+)\", p.text)\n",
        "                if match:\n",
        "                    ext = int(match.group(1))  # Convert to int\n",
        "                break  #To stop checking once we find the extension\n",
        "        pwrExtensions.append(ext)\n",
        "\n",
        "print(pwrExtensions)\n"
      ],
      "metadata": {
        "colab": {
          "base_uri": "https://localhost:8080/"
        },
        "id": "GRCO7BO1FtbB",
        "outputId": "6bdb8935-48e8-438f-8fd8-e801053f0f74"
      },
      "execution_count": 58,
      "outputs": [
        {
          "output_type": "stream",
          "name": "stdout",
          "text": [
            "[110, 103, 'Not Available', 134, 'Not Available', 144, 'Not Available', 'Not Available', 127, 107, 161, 'Not Available', 'Not Available', 'Not Available', 147, 145, 'Not Available', 'Not Available', 'Not Available', 'Not Available', 'Not Available', 'Not Available', 'Not Available', 'Not Available', 'Not Available', 116, 146, 146, 138, 132, 133, 125, 150, 133, 163, 'Not Available', 'Not Available', 155, 150, 150, 110]\n"
          ]
        }
      ]
    },
    {
      "cell_type": "code",
      "source": [
        "# Find all faculty members' image URLs by iterating over each department page\n",
        "pwrImageURLs = []\n",
        "for link in pwrDepartmentLinks:\n",
        "    r = requests.get(link)\n",
        "    souppwr = BeautifulSoup(r.content, 'html.parser')\n",
        "    for member in souppwr.find_all(\"div\", class_=\"faculty-member\"):\n",
        "        imgLink = member.find(\"img\").get(\"src\", \"\")  # Get src or empty string from the src attribute\n",
        "        pwrImageURLs.append(URL_pwr + imgLink)\n",
        "\n",
        "print(pwrImageURLs)"
      ],
      "metadata": {
        "colab": {
          "base_uri": "https://localhost:8080/"
        },
        "id": "0wDtg7scGyYE",
        "outputId": "aefebb38-41d3-4201-db33-b905bfd2f36d"
      },
      "execution_count": 59,
      "outputs": [
        {
          "output_type": "stream",
          "name": "stdout",
          "text": [
            "['http://pwr.nu.edu.pk/images/faculty/thumb3704.jpg', 'http://pwr.nu.edu.pk/images/faculty/thumb9237.jpg', 'http://pwr.nu.edu.pk/images/faculty/thumb9315.jpg', 'http://pwr.nu.edu.pk/images/faculty/thumb9482.jpg', 'http://pwr.nu.edu.pk/images/faculty/thumb6833.jpg', 'http://pwr.nu.edu.pk/images/faculty/thumb3692.jpg', 'http://pwr.nu.edu.pk/images/faculty/thumb9348.jpg', 'http://pwr.nu.edu.pk/images/faculty/thumb5436.jpg', 'http://pwr.nu.edu.pk/images/faculty/thumb4564.jpg', 'http://pwr.nu.edu.pk/images/faculty/thumb4918.jpg', 'http://pwr.nu.edu.pk/images/faculty/thumb6670.jpg', 'http://pwr.nu.edu.pk/images/faculty/thumb6713.jpg', 'http://pwr.nu.edu.pk/images/faculty/thumb6821.jpg', 'http://pwr.nu.edu.pk/images/faculty/thumb5914.jpg', 'http://pwr.nu.edu.pk/images/faculty/thumb5913.jpg', 'http://pwr.nu.edu.pk/images/faculty/thumb6071.jpg', 'http://pwr.nu.edu.pk/images/faculty/thumb6523.jpg', 'http://pwr.nu.edu.pk/images/faculty/thumb6524.jpg', 'http://pwr.nu.edu.pk/images/faculty/thumb6525.jpg', 'http://pwr.nu.edu.pk/images/faculty/thumb6564.jpg', 'http://pwr.nu.edu.pk/images/faculty/thumb6705.jpg', 'http://pwr.nu.edu.pk/images/faculty/thumb6586.jpg', 'http://pwr.nu.edu.pk/images/faculty/thumb6657.jpg', 'http://pwr.nu.edu.pk/images/faculty/thumb6841.jpg', 'http://pwr.nu.edu.pk/images/faculty/thumb6840.jpg', 'http://pwr.nu.edu.pk/images/faculty/thumb4457.jpg', 'http://pwr.nu.edu.pk/images/faculty/thumb3953.jpg', 'http://pwr.nu.edu.pk/images/faculty/thumb4501.jpg', 'http://pwr.nu.edu.pk/images/faculty/thumb4815.jpg', 'http://pwr.nu.edu.pk/images/faculty/thumb4800.jpg', 'http://pwr.nu.edu.pk/images/faculty/thumb4567.jpg', 'http://pwr.nu.edu.pk/images/faculty/thumb9178.jpg', 'http://pwr.nu.edu.pk/images/faculty/thumb9362.jpg', 'http://pwr.nu.edu.pk/images/faculty/thumb4471.jpg', 'http://pwr.nu.edu.pk/images/faculty/thumb5698.jpg', 'http://pwr.nu.edu.pk/images/faculty/thumb4377.jpg', 'http://pwr.nu.edu.pk/images/faculty/thumb6522.jpg', 'http://pwr.nu.edu.pk/images/faculty/thumb5534.jpg', 'http://pwr.nu.edu.pk/images/faculty/thumb5612.jpg', 'http://pwr.nu.edu.pk/images/faculty/thumb6050.jpg', 'http://pwr.nu.edu.pk/images/faculty/thumb6460.jpg']\n"
          ]
        }
      ]
    },
    {
      "cell_type": "code",
      "source": [
        "# Find all faculty members' designations by iterating over each department page\n",
        "pwrDesignations = []\n",
        "for link in pwrDepartmentLinks:\n",
        "    r = requests.get(link)\n",
        "    souppwr = BeautifulSoup(r.content, 'html.parser')\n",
        "    for member in souppwr.find_all(\"div\", class_=\"faculty-member\"):\n",
        "        d = member.find_all(\"p\")\n",
        "        designation = d[0].text.strip()\n",
        "        pwrDesignations.append(designation)\n",
        "\n",
        "print(pwrDesignations)"
      ],
      "metadata": {
        "colab": {
          "base_uri": "https://localhost:8080/"
        },
        "id": "AKueyppaHml8",
        "outputId": "d59d6aed-93f8-43ba-9de6-b6b6f1ea6e63"
      },
      "execution_count": 60,
      "outputs": [
        {
          "output_type": "stream",
          "name": "stdout",
          "text": [
            "['Assistant Professor & HoD', 'Professor & Director', 'Associate Professor (On Leave)', 'Associate Professor', 'Associate Professor', 'Assistant Professor', 'Assistant Professor (On Leave)', 'Assistant Professor', 'Assistant Professor', 'Assistant Professor', 'Assistant Professor', 'Assistant Professor (On Leave)', 'Assistant Professor', 'Lecturer (On Leave)', 'Lecturer', 'Lecturer', 'Lecturer', 'Lecturer', 'Lecturer', 'Lecturer', 'Lecturer', 'Instructor', 'Instructor', 'Instructor', 'Instructor', 'Assistant Professor & HoD', 'Assistant Professor', 'Assistant Professor', 'Assistant Professor', 'Assistant Professor', 'Lab Engineer', 'Lab Engineer', 'Lab Engineer', 'Lab Engineer', 'Assistant Professor & HoD', 'Assistant Professor', 'Assistant Professor', 'Lecturer', 'Lecturer (On Leave)', 'Lecturer', 'Lecturer']\n"
          ]
        }
      ]
    },
    {
      "cell_type": "code",
      "source": [
        "# Find all faculty members' profile links by iterating over each department page so we can iterate over them later\n",
        "pwrProfileLinks = []\n",
        "\n",
        "for link in pwrDepartmentLinks:\n",
        "    r = requests.get(link)\n",
        "    souppwr = BeautifulSoup(r.content, 'html.parser')\n",
        "\n",
        "    for member in souppwr.find_all(\"div\", class_=\"faculty-member\"):\n",
        "        profileLink = member.find(\"h2\").find(\"a\").get(\"href\")\n",
        "        pwrProfileLinks.append(URL_pwr + profileLink)\n",
        "\n",
        "print(pwrProfileLinks)"
      ],
      "metadata": {
        "colab": {
          "base_uri": "https://localhost:8080/"
        },
        "id": "orQcmaxZH-H8",
        "outputId": "bf6d5bbf-0707-4911-e00e-eb1762e2e67b"
      },
      "execution_count": 61,
      "outputs": [
        {
          "output_type": "stream",
          "name": "stdout",
          "text": [
            "['http://pwr.nu.edu.pk/faculty-profile.php?id=3704', 'http://pwr.nu.edu.pk/faculty-profile.php?id=9237', 'http://pwr.nu.edu.pk/faculty-profile.php?id=9315', 'http://pwr.nu.edu.pk/faculty-profile.php?id=9482', 'http://pwr.nu.edu.pk/faculty-profile.php?id=6833', 'http://pwr.nu.edu.pk/faculty-profile.php?id=3692', 'http://pwr.nu.edu.pk/faculty-profile.php?id=9348', 'http://pwr.nu.edu.pk/faculty-profile.php?id=5436', 'http://pwr.nu.edu.pk/faculty-profile.php?id=4564', 'http://pwr.nu.edu.pk/faculty-profile.php?id=4918', 'http://pwr.nu.edu.pk/faculty-profile.php?id=6670', 'http://pwr.nu.edu.pk/faculty-profile.php?id=6713', 'http://pwr.nu.edu.pk/faculty-profile.php?id=6821', 'http://pwr.nu.edu.pk/faculty-profile.php?id=5914', 'http://pwr.nu.edu.pk/faculty-profile.php?id=5913', 'http://pwr.nu.edu.pk/faculty-profile.php?id=6071', 'http://pwr.nu.edu.pk/faculty-profile.php?id=6523', 'http://pwr.nu.edu.pk/faculty-profile.php?id=6524', 'http://pwr.nu.edu.pk/faculty-profile.php?id=6525', 'http://pwr.nu.edu.pk/faculty-profile.php?id=6564', 'http://pwr.nu.edu.pk/faculty-profile.php?id=6705', 'http://pwr.nu.edu.pk/faculty-profile.php?id=6586', 'http://pwr.nu.edu.pk/faculty-profile.php?id=6657', 'http://pwr.nu.edu.pk/faculty-profile.php?id=6841', 'http://pwr.nu.edu.pk/faculty-profile.php?id=6840', 'http://pwr.nu.edu.pk/faculty-profile.php?id=4457', 'http://pwr.nu.edu.pk/faculty-profile.php?id=3953', 'http://pwr.nu.edu.pk/faculty-profile.php?id=4501', 'http://pwr.nu.edu.pk/faculty-profile.php?id=4815', 'http://pwr.nu.edu.pk/faculty-profile.php?id=4800', 'http://pwr.nu.edu.pk/faculty-profile.php?id=4567', 'http://pwr.nu.edu.pk/faculty-profile.php?id=9178', 'http://pwr.nu.edu.pk/faculty-profile.php?id=9362', 'http://pwr.nu.edu.pk/faculty-profile.php?id=4471', 'http://pwr.nu.edu.pk/faculty-profile.php?id=5698', 'http://pwr.nu.edu.pk/faculty-profile.php?id=4377', 'http://pwr.nu.edu.pk/faculty-profile.php?id=6522', 'http://pwr.nu.edu.pk/faculty-profile.php?id=5534', 'http://pwr.nu.edu.pk/faculty-profile.php?id=5612', 'http://pwr.nu.edu.pk/faculty-profile.php?id=6050', 'http://pwr.nu.edu.pk/faculty-profile.php?id=6460']\n"
          ]
        }
      ]
    },
    {
      "cell_type": "code",
      "source": [
        "#extracting the ids directly from the profile links\n",
        "pwrIDs = []\n",
        "\n",
        "for link in pwrProfileLinks:\n",
        "    id_part = link.split(\"id=\")[-1]  # Extract the part after 'id='\n",
        "    pwrIDs.append(int(id_part))\n",
        "\n",
        "print(pwrIDs)"
      ],
      "metadata": {
        "colab": {
          "base_uri": "https://localhost:8080/"
        },
        "id": "48Ac5D75Lsz3",
        "outputId": "e5cb56cb-6b9e-4a16-ac51-bbf883463983"
      },
      "execution_count": 62,
      "outputs": [
        {
          "output_type": "stream",
          "name": "stdout",
          "text": [
            "[3704, 9237, 9315, 9482, 6833, 3692, 9348, 5436, 4564, 4918, 6670, 6713, 6821, 5914, 5913, 6071, 6523, 6524, 6525, 6564, 6705, 6586, 6657, 6841, 6840, 4457, 3953, 4501, 4815, 4800, 4567, 9178, 9362, 4471, 5698, 4377, 6522, 5534, 5612, 6050, 6460]\n"
          ]
        }
      ]
    },
    {
      "cell_type": "code",
      "source": [
        "# Extract department names from faculty profile pages\n",
        "pwrDepartments = []\n",
        "\n",
        "for link in pwrProfileLinks:\n",
        "    r = requests.get(link)\n",
        "    souppwr = BeautifulSoup(r.content, 'html.parser')\n",
        "    # Find the <h2> tag inside the specific section\n",
        "    dept = souppwr.select_one(\".inner-header h2\")\n",
        "    # Extract and store the department name if found\n",
        "    pwrDepartments.append(dept.text.strip())\n",
        "print(pwrDepartments)"
      ],
      "metadata": {
        "colab": {
          "base_uri": "https://localhost:8080/"
        },
        "id": "ofizAKwkQ4hX",
        "outputId": "8c55bd2a-dde0-4d40-d653-06a22fdd3415"
      },
      "execution_count": 63,
      "outputs": [
        {
          "output_type": "stream",
          "name": "stdout",
          "text": [
            "['Department of Computer Science', 'Department of Computer Science', 'Department of Computer Science', 'Department of Computer Science', 'Department of Computer Science', 'Department of Computer Science', 'Department of Computer Science', 'Department of Computer Science', 'Department of Computer Science', 'Department of Computer Science', 'Department of Computer Science', 'Department of Computer Science', 'Department of Computer Science', 'Department of Computer Science', 'Department of Computer Science', 'Department of Computer Science', 'Department of Computer Science', 'Department of Computer Science', 'Department of Computer Science', 'Department of Computer Science', 'Department of Computer Science', 'Department of Computer Science', 'Department of Computer Science', 'Department of Computer Science', 'Department of Computer Science', 'Department of Electrical Engineering', 'Department of Electrical Engineering', 'Department of Electrical Engineering', 'Department of Electrical Engineering', 'Department of Electrical Engineering', 'Department of Electrical Engineering', 'Department of Electrical Engineering', 'Department of Electrical Engineering', 'Department of Electrical Engineering', 'Department of Science and Humanities', 'Department of Science and Humanities', 'Department of Science and Humanities', 'Department of Science and Humanities', 'Department of Science and Humanities', 'Department of Science and Humanities', 'Department of Science and Humanities']\n"
          ]
        }
      ]
    },
    {
      "cell_type": "code",
      "source": [
        "# Check if faculty members are HEC Approved Supervisors according to if the text is found in profile pages tag\n",
        "pwrIsApproved = []\n",
        "\n",
        "for link in pwrProfileLinks:\n",
        "    r = requests.get(link)\n",
        "    souppwr = BeautifulSoup(r.content, 'html.parser')\n",
        "    # Find all <h5> tags and check if any contains \"HEC Approved\" then sets true otherwise false\n",
        "    for h5 in souppwr.find_all(\"h5\"):\n",
        "        if \"HEC Approved\" in h5.text:\n",
        "            pwrIsApproved.append(True)\n",
        "            break\n",
        "    else:\n",
        "        pwrIsApproved.append(False)  # Runs only if the loop completes without breaking\n",
        "\n",
        "print(pwrIsApproved)"
      ],
      "metadata": {
        "colab": {
          "base_uri": "https://localhost:8080/"
        },
        "id": "ejbEmt2vNKm4",
        "outputId": "49598940-5519-4b06-b557-b20ff5439cd8"
      },
      "execution_count": 64,
      "outputs": [
        {
          "output_type": "stream",
          "name": "stdout",
          "text": [
            "[False, True, True, True, False, False, True, True, True, False, True, True, True, False, False, False, False, False, False, False, False, False, False, False, False, True, False, False, False, False, False, False, False, False, True, True, True, False, False, False, False]\n"
          ]
        }
      ]
    },
    {
      "cell_type": "code",
      "source": [
        "# Scrape the highest education level from faculty profile pages\n",
        "pwrHighestEducation = []\n",
        "\n",
        "for link in pwrProfileLinks:\n",
        "    r = requests.get(link)\n",
        "    soupPwr = BeautifulSoup(r.content, 'html.parser')\n",
        "\n",
        "    # Find the <ul> tag that contains the list of education levels\n",
        "    eduList = soupPwr.find('ul', class_='list')\n",
        "\n",
        "    if eduList:\n",
        "        # Get the first list item (highest education level)\n",
        "        degree = eduList.find('li').text.strip()\n",
        "        pwrHighestEducation.append(degree)\n",
        "\n",
        "print(pwrHighestEducation)\n"
      ],
      "metadata": {
        "colab": {
          "base_uri": "https://localhost:8080/"
        },
        "id": "-_fx8PjcTy3w",
        "outputId": "8b296e28-aaad-4af3-a511-8d96466fb4bf"
      },
      "execution_count": 65,
      "outputs": [
        {
          "output_type": "stream",
          "name": "stdout",
          "text": [
            "['M.S(Computer Science), NUST, Rawalpindi, Pakistan (2006)', 'Ph.D. (Computer And Control Engineering), Politecnico Di Torino, Italy (2013)', 'Ph.D. in Computer and Control Engineering, Politecnico Di Torino, Italy (2014).', 'Ph.D. (CS), University of Regina, Canada (2014)', 'PhD (Informatics), Vienna University of Technology, Austria (2015)', 'M.S(Computer Science), NUCES, Islamabad, Pakistan (2006)', 'Ph.D. (Computer Science), Bahria University Islamabad Campus, Pakistan (2018)', 'PhD (CE), Dongguk University, Seoul, S. Korea (2017)', 'PhD (Computer Science), IM Sciences (2022)', 'PhD(Computer Science), National University of Computer and Emerging Sciences, Peshawar (2022)', 'PhD (Cont. Aut. and Sys.), Federal University of Santa Catarina Brazil (2016)', 'PhD (CS), Universiti Teknologi , Malaysia (2013)', 'PhD (Info. and Comm. Engg.), Southeast University, China (2023)', 'MS Information Security  2020 SEECS NUST Islamabad', 'MS (CS), UET, Peshawar (2019)', 'MS (CS), CECOS University, Peshawar (2020)', 'MS (AI), NUCES, Islamabad (2022)', 'MS (CS), NUCES, Peshawar (2018)', 'MS (CS), NUCES, Peshawar (2017)', 'MS (SE), UET, Peshawar (2018)', 'MS (SE), Comsats, Islamabad (2021)', 'BS (SE), City University, Peshawar (2017)', 'BS (SE), Comsats, Islamabad (2020)', 'BS (SE), Comsats, Attock (2023)', 'BS (SE), IMSciences, Peshawar (2022)', 'PhD (Electrical Engineering), National University of Computer and Emerging Sciences - FAST, Pakistan (2021)', 'M.Sc(Engineering), University of Leeds, United Kingdom (2006)', 'M.Sc(Telecom Engineering), Melbourne University, Australia (2007)', 'PhD(Electrical Engineering),National University of Computer and Emerging Science, Peshawar Campus, Pakistan', 'M.Sc(Electrical Engineering), Blekings Institute of Technology, Sweden (2010)', 'B.E(Electrical Engineering), NWFP UET Peshawar, Pakistan (1999)', 'B.S(Telecom Engineering), FAST, Pakistan (2012)', 'BS(EE),NUCES,Peshawar,Pakistan(2014)', 'B.S(Electrical Engineering), FAST NUCES, Pakistan (2013)', 'PhD (2023) Quaid-e-Azam University, Islamabad, Pakistan', 'PhD (Finance),  Institute of Management Sciences, 2019', 'PhD (Math), GIKI, Topi (2023)', 'M.S (Applied Mathematics), Ghulam Ishaq Khan Institute, Topi, Pakistan (2017)', '•\\tMPhil in English Language & Communication from Institute of management sciences in 2018', 'Ph.D. Scholar (Coursework completed)', 'MPhil (Eng.), Qurtuba University, Peshawar (2020)']\n"
          ]
        }
      ]
    },
    {
      "cell_type": "code",
      "source": [
        "#Checking the length of all Peshawer faculty related lists\n",
        "pwrData = {\n",
        "    \"ID\": pwrIDs,\n",
        "    \"Name\": pwrNames,\n",
        "    \"Designation\": pwrDesignations,\n",
        "    \"HEC Approved Supervisor\": pwrIsApproved,\n",
        "    \"Highest Education\": pwrHighestEducation,\n",
        "    \"Email\": pwrEmails,\n",
        "    \"Department\": pwrDepartments,\n",
        "    \"Extension\": pwrExtensions,\n",
        "    \"Image URL\": pwrImageURLs\n",
        "}\n",
        "\n",
        "#check if the lengths are equal\n",
        "for var_name, var_list in pwrData.items():\n",
        "    print(f\"{var_name}: {len(var_list)}\")"
      ],
      "metadata": {
        "colab": {
          "base_uri": "https://localhost:8080/"
        },
        "id": "_ZbVlkO0WIi6",
        "outputId": "3e65cadc-c295-48f1-d85b-518af7a25051"
      },
      "execution_count": 66,
      "outputs": [
        {
          "output_type": "stream",
          "name": "stdout",
          "text": [
            "ID: 41\n",
            "Name: 41\n",
            "Designation: 41\n",
            "HEC Approved Supervisor: 41\n",
            "Highest Education: 41\n",
            "Email: 41\n",
            "Department: 41\n",
            "Extension: 41\n",
            "Image URL: 41\n"
          ]
        }
      ]
    },
    {
      "cell_type": "code",
      "source": [
        "#writing it to dataframe\n",
        "dfPWR = pd.DataFrame(pwrData)\n",
        "print(dfPWR)"
      ],
      "metadata": {
        "colab": {
          "base_uri": "https://localhost:8080/"
        },
        "collapsed": true,
        "id": "0Aur6FSQWkB3",
        "outputId": "82da17cd-d101-4a56-a87b-54d224561532"
      },
      "execution_count": 67,
      "outputs": [
        {
          "output_type": "stream",
          "name": "stdout",
          "text": [
            "      ID                       Name                     Designation  \\\n",
            "0   3704               Fazl-e-Basit       Assistant Professor & HoD   \n",
            "1   9237        Dr. Omar Usman Khan            Professor & Director   \n",
            "2   9315       Dr. Hafeez Ur Rehman  Associate Professor (On Leave)   \n",
            "3   9482            Dr. Nouman Azam             Associate Professor   \n",
            "4   6833           Dr. Hafeez Anwar             Associate Professor   \n",
            "5   3692       Shoaib Muhammad Khan             Assistant Professor   \n",
            "6   9348           Dr. Taimoor Khan  Assistant Professor (On Leave)   \n",
            "7   5436             Dr. Bilal Khan             Assistant Professor   \n",
            "8   4564          Dr. Muhammad Amin             Assistant Professor   \n",
            "9   4918              Dr. Waqas Ali             Assistant Professor   \n",
            "10  6670             Dr. Ali Sayyed             Assistant Professor   \n",
            "11  6713    Dr. Muhammad Waqar Aziz  Assistant Professor (On Leave)   \n",
            "12  6821              Dr. Qasim Jan             Assistant Professor   \n",
            "13  5914                Mashal Khan             Lecturer (On Leave)   \n",
            "14  5913                Sara Rehmat                        Lecturer   \n",
            "15  6071             Usama Musharaf                        Lecturer   \n",
            "16  6523               Shahzeb Khan                        Lecturer   \n",
            "17  6524               Sanaa Jeehan                        Lecturer   \n",
            "18  6525                Usman Wajid                        Lecturer   \n",
            "19  6564       Muhammad Umer Haroon                        Lecturer   \n",
            "20  6705               Haroon Zafar                        Lecturer   \n",
            "21  6586       Muhammad Saad Rashad                      Instructor   \n",
            "22  6657      Muhammad Saood Sarwar                      Instructor   \n",
            "23  6841                Iqra Rehman                      Instructor   \n",
            "24  6840         Muhammad Saad Khan                      Instructor   \n",
            "25  4457  Dr. Muhammad Usman Abbasi       Assistant Professor & HoD   \n",
            "26  3953         Muhammad Asif Khan             Assistant Professor   \n",
            "27  4501                Rahat Ehsan             Assistant Professor   \n",
            "28  4815            Dr. Suleman Mir             Assistant Professor   \n",
            "29  4800           Dr. Maqsood Khan             Assistant Professor   \n",
            "30  4567               Waseem Ullah                    Lab Engineer   \n",
            "31  9178               Kashif Javed                    Lab Engineer   \n",
            "32  9362                Anum Rashad                    Lab Engineer   \n",
            "33  4471              Muneeb Suhail                    Lab Engineer   \n",
            "34  5698              Dr. Askar Ali       Assistant Professor & HoD   \n",
            "35  4377            Dr. Ihsan Ullah             Assistant Professor   \n",
            "36  6522       Dr. Shams-ul Arifeen             Assistant Professor   \n",
            "37  5534               Osama Sohrab                        Lecturer   \n",
            "38  5612                Abida Farid             Lecturer (On Leave)   \n",
            "39  6050                Noreen Shah                        Lecturer   \n",
            "40  6460           Abdul Basit Khan                        Lecturer   \n",
            "\n",
            "    HEC Approved Supervisor  \\\n",
            "0                     False   \n",
            "1                      True   \n",
            "2                      True   \n",
            "3                      True   \n",
            "4                     False   \n",
            "5                     False   \n",
            "6                      True   \n",
            "7                      True   \n",
            "8                      True   \n",
            "9                     False   \n",
            "10                     True   \n",
            "11                     True   \n",
            "12                     True   \n",
            "13                    False   \n",
            "14                    False   \n",
            "15                    False   \n",
            "16                    False   \n",
            "17                    False   \n",
            "18                    False   \n",
            "19                    False   \n",
            "20                    False   \n",
            "21                    False   \n",
            "22                    False   \n",
            "23                    False   \n",
            "24                    False   \n",
            "25                     True   \n",
            "26                    False   \n",
            "27                    False   \n",
            "28                    False   \n",
            "29                    False   \n",
            "30                    False   \n",
            "31                    False   \n",
            "32                    False   \n",
            "33                    False   \n",
            "34                     True   \n",
            "35                     True   \n",
            "36                     True   \n",
            "37                    False   \n",
            "38                    False   \n",
            "39                    False   \n",
            "40                    False   \n",
            "\n",
            "                                    Highest Education  \\\n",
            "0   M.S(Computer Science), NUST, Rawalpindi, Pakis...   \n",
            "1   Ph.D. (Computer And Control Engineering), Poli...   \n",
            "2   Ph.D. in Computer and Control Engineering, Pol...   \n",
            "3     Ph.D. (CS), University of Regina, Canada (2014)   \n",
            "4   PhD (Informatics), Vienna University of Techno...   \n",
            "5   M.S(Computer Science), NUCES, Islamabad, Pakis...   \n",
            "6   Ph.D. (Computer Science), Bahria University Is...   \n",
            "7   PhD (CE), Dongguk University, Seoul, S. Korea ...   \n",
            "8          PhD (Computer Science), IM Sciences (2022)   \n",
            "9   PhD(Computer Science), National University of ...   \n",
            "10  PhD (Cont. Aut. and Sys.), Federal University ...   \n",
            "11   PhD (CS), Universiti Teknologi , Malaysia (2013)   \n",
            "12  PhD (Info. and Comm. Engg.), Southeast Univers...   \n",
            "13  MS Information Security  2020 SEECS NUST Islam...   \n",
            "14                      MS (CS), UET, Peshawar (2019)   \n",
            "15         MS (CS), CECOS University, Peshawar (2020)   \n",
            "16                   MS (AI), NUCES, Islamabad (2022)   \n",
            "17                    MS (CS), NUCES, Peshawar (2018)   \n",
            "18                    MS (CS), NUCES, Peshawar (2017)   \n",
            "19                      MS (SE), UET, Peshawar (2018)   \n",
            "20                 MS (SE), Comsats, Islamabad (2021)   \n",
            "21          BS (SE), City University, Peshawar (2017)   \n",
            "22                 BS (SE), Comsats, Islamabad (2020)   \n",
            "23                    BS (SE), Comsats, Attock (2023)   \n",
            "24               BS (SE), IMSciences, Peshawar (2022)   \n",
            "25  PhD (Electrical Engineering), National Univers...   \n",
            "26  M.Sc(Engineering), University of Leeds, United...   \n",
            "27  M.Sc(Telecom Engineering), Melbourne Universit...   \n",
            "28  PhD(Electrical Engineering),National Universit...   \n",
            "29  M.Sc(Electrical Engineering), Blekings Institu...   \n",
            "30  B.E(Electrical Engineering), NWFP UET Peshawar...   \n",
            "31    B.S(Telecom Engineering), FAST, Pakistan (2012)   \n",
            "32               BS(EE),NUCES,Peshawar,Pakistan(2014)   \n",
            "33  B.S(Electrical Engineering), FAST NUCES, Pakis...   \n",
            "34  PhD (2023) Quaid-e-Azam University, Islamabad,...   \n",
            "35  PhD (Finance),  Institute of Management Scienc...   \n",
            "36                      PhD (Math), GIKI, Topi (2023)   \n",
            "37  M.S (Applied Mathematics), Ghulam Ishaq Khan I...   \n",
            "38  •\\tMPhil in English Language & Communication f...   \n",
            "39               Ph.D. Scholar (Coursework completed)   \n",
            "40  MPhil (Eng.), Qurtuba University, Peshawar (2020)   \n",
            "\n",
            "                        Email                            Department  \\\n",
            "0        fazl.basit@nu.edu.pk        Department of Computer Science   \n",
            "1         omar.khan@nu.edu.pk        Department of Computer Science   \n",
            "2   hafeez.urrehman@nu.edu.pk        Department of Computer Science   \n",
            "3       nouman.azam@nu.edu.pk        Department of Computer Science   \n",
            "4      hafeez.anwar@nu.edu.pk        Department of Computer Science   \n",
            "5       shoaib.khan@nu.edu.pk        Department of Computer Science   \n",
            "6      taimoor.khan@nu.edu.pk        Department of Computer Science   \n",
            "7        khan.bilal@nu.edu.pk        Department of Computer Science   \n",
            "8     muhammad.amin@nu.edu.pk        Department of Computer Science   \n",
            "9         waqas.ali@nu.edu.pk        Department of Computer Science   \n",
            "10       ali.sayyed@nu.edu.pk        Department of Computer Science   \n",
            "11       waqar.aziz@nu.edu.pk        Department of Computer Science   \n",
            "12        qasim.jan@nu.edu.pk        Department of Computer Science   \n",
            "13      mashal.khan@nu.edu.pk        Department of Computer Science   \n",
            "14      sara.rehmat@nu.edu.pk        Department of Computer Science   \n",
            "15   usama.musharaf@nu.edu.pk        Department of Computer Science   \n",
            "16     shahzeb.khan@nu.edu.pk        Department of Computer Science   \n",
            "17     sanaa.jeehan@nu.edu.pk        Department of Computer Science   \n",
            "18      usman.wajid@nu.edu.pk        Department of Computer Science   \n",
            "19      umer.haroon@nu.edu.pk        Department of Computer Science   \n",
            "20     haroon.zafar@nu.edu.pk        Department of Computer Science   \n",
            "21      saad.rashad@nu.edu.pk        Department of Computer Science   \n",
            "22     saood.sarwar@nu.edu.pk        Department of Computer Science   \n",
            "23      iqra.rehman@nu.edu.pk        Department of Computer Science   \n",
            "24        saad.khan@nu.edu.pk        Department of Computer Science   \n",
            "25     usman.abbasi@nu.edu.pk  Department of Electrical Engineering   \n",
            "26           m.asif@nu.edu.pk  Department of Electrical Engineering   \n",
            "27      rahat.ehsan@nu.edu.pk  Department of Electrical Engineering   \n",
            "28      suleman.mir@nu.edu.pk  Department of Electrical Engineering   \n",
            "29     maqsood.khan@nu.edu.pk  Department of Electrical Engineering   \n",
            "30      waseemullah@nu.edu.pk  Department of Electrical Engineering   \n",
            "31     kashif.javed@nu.edu.pk  Department of Electrical Engineering   \n",
            "32      anum.rashad@nu.edu.pk  Department of Electrical Engineering   \n",
            "33    muneeb.sohail@nu.edu.pk  Department of Electrical Engineering   \n",
            "34        askar.ali@nu.edu.pk  Department of Science and Humanities   \n",
            "35      ihsan.ullah@nu.edu.pk  Department of Science and Humanities   \n",
            "36    shams.arifeen@nu.edu.pk  Department of Science and Humanities   \n",
            "37     osama.sohrab@nu.edu.pk  Department of Science and Humanities   \n",
            "38      abida.farid@nu.edu.pk  Department of Science and Humanities   \n",
            "39      noreen.shah@nu.edu.pk  Department of Science and Humanities   \n",
            "40  abdulbasit.khan@nu.edu.pk  Department of Science and Humanities   \n",
            "\n",
            "        Extension                                          Image URL  \n",
            "0             110  http://pwr.nu.edu.pk/images/faculty/thumb3704.jpg  \n",
            "1             103  http://pwr.nu.edu.pk/images/faculty/thumb9237.jpg  \n",
            "2   Not Available  http://pwr.nu.edu.pk/images/faculty/thumb9315.jpg  \n",
            "3             134  http://pwr.nu.edu.pk/images/faculty/thumb9482.jpg  \n",
            "4   Not Available  http://pwr.nu.edu.pk/images/faculty/thumb6833.jpg  \n",
            "5             144  http://pwr.nu.edu.pk/images/faculty/thumb3692.jpg  \n",
            "6   Not Available  http://pwr.nu.edu.pk/images/faculty/thumb9348.jpg  \n",
            "7   Not Available  http://pwr.nu.edu.pk/images/faculty/thumb5436.jpg  \n",
            "8             127  http://pwr.nu.edu.pk/images/faculty/thumb4564.jpg  \n",
            "9             107  http://pwr.nu.edu.pk/images/faculty/thumb4918.jpg  \n",
            "10            161  http://pwr.nu.edu.pk/images/faculty/thumb6670.jpg  \n",
            "11  Not Available  http://pwr.nu.edu.pk/images/faculty/thumb6713.jpg  \n",
            "12  Not Available  http://pwr.nu.edu.pk/images/faculty/thumb6821.jpg  \n",
            "13  Not Available  http://pwr.nu.edu.pk/images/faculty/thumb5914.jpg  \n",
            "14            147  http://pwr.nu.edu.pk/images/faculty/thumb5913.jpg  \n",
            "15            145  http://pwr.nu.edu.pk/images/faculty/thumb6071.jpg  \n",
            "16  Not Available  http://pwr.nu.edu.pk/images/faculty/thumb6523.jpg  \n",
            "17  Not Available  http://pwr.nu.edu.pk/images/faculty/thumb6524.jpg  \n",
            "18  Not Available  http://pwr.nu.edu.pk/images/faculty/thumb6525.jpg  \n",
            "19  Not Available  http://pwr.nu.edu.pk/images/faculty/thumb6564.jpg  \n",
            "20  Not Available  http://pwr.nu.edu.pk/images/faculty/thumb6705.jpg  \n",
            "21  Not Available  http://pwr.nu.edu.pk/images/faculty/thumb6586.jpg  \n",
            "22  Not Available  http://pwr.nu.edu.pk/images/faculty/thumb6657.jpg  \n",
            "23  Not Available  http://pwr.nu.edu.pk/images/faculty/thumb6841.jpg  \n",
            "24  Not Available  http://pwr.nu.edu.pk/images/faculty/thumb6840.jpg  \n",
            "25            116  http://pwr.nu.edu.pk/images/faculty/thumb4457.jpg  \n",
            "26            146  http://pwr.nu.edu.pk/images/faculty/thumb3953.jpg  \n",
            "27            146  http://pwr.nu.edu.pk/images/faculty/thumb4501.jpg  \n",
            "28            138  http://pwr.nu.edu.pk/images/faculty/thumb4815.jpg  \n",
            "29            132  http://pwr.nu.edu.pk/images/faculty/thumb4800.jpg  \n",
            "30            133  http://pwr.nu.edu.pk/images/faculty/thumb4567.jpg  \n",
            "31            125  http://pwr.nu.edu.pk/images/faculty/thumb9178.jpg  \n",
            "32            150  http://pwr.nu.edu.pk/images/faculty/thumb9362.jpg  \n",
            "33            133  http://pwr.nu.edu.pk/images/faculty/thumb4471.jpg  \n",
            "34            163  http://pwr.nu.edu.pk/images/faculty/thumb5698.jpg  \n",
            "35  Not Available  http://pwr.nu.edu.pk/images/faculty/thumb4377.jpg  \n",
            "36  Not Available  http://pwr.nu.edu.pk/images/faculty/thumb6522.jpg  \n",
            "37            155  http://pwr.nu.edu.pk/images/faculty/thumb5534.jpg  \n",
            "38            150  http://pwr.nu.edu.pk/images/faculty/thumb5612.jpg  \n",
            "39            150  http://pwr.nu.edu.pk/images/faculty/thumb6050.jpg  \n",
            "40            110  http://pwr.nu.edu.pk/images/faculty/thumb6460.jpg  \n"
          ]
        }
      ]
    },
    {
      "cell_type": "code",
      "source": [
        "dfPWR.to_csv('pwr.csv', index=False)"
      ],
      "metadata": {
        "id": "1s4v8tVSYIIP"
      },
      "execution_count": 68,
      "outputs": []
    },
    {
      "cell_type": "markdown",
      "source": [
        "## **ISLAMABAD FACULTY DATA SCRAPING**:"
      ],
      "metadata": {
        "id": "FmTJzBQm63_a"
      }
    },
    {
      "cell_type": "code",
      "source": [
        "import requests"
      ],
      "metadata": {
        "id": "D7XJdyI_YfWF"
      },
      "execution_count": 70,
      "outputs": []
    },
    {
      "cell_type": "code",
      "source": [
        "# API Base URL from inspecting\n",
        "BASE_URL = \"http://isb.nu.edu.pk/Faculty/GetAllEmp?id=\"\n",
        "\n",
        "# Department IDs (Extracted from JavaScript)\n",
        "departments = {\n",
        "    \"Computer Science\": 301,\n",
        "    \"Electrical Engineering\": 302,\n",
        "    \"Management Sciences\": 303,\n",
        "    \"Science & Humanities\": 313\n",
        "}"
      ],
      "metadata": {
        "id": "HDV7FhXUhzKz"
      },
      "execution_count": 71,
      "outputs": []
    },
    {
      "cell_type": "code",
      "source": [
        "# Lists to store faculty data\n",
        "islIDs = []\n",
        "islName = []\n",
        "islEmails = []\n",
        "islDesignations = []\n",
        "islDepartments = []\n",
        "islExtensions = []\n",
        "islImageURLs = []\n",
        "islProfileLinks = []\n",
        "\n",
        "print(\"initialized\")\n",
        "# Iterate over each department\n",
        "for dept_name, dept_id in departments.items():\n",
        "    url = f\"{BASE_URL}{dept_id}\"\n",
        "\n",
        "    try:\n",
        "        # Send GET request to the API\n",
        "        response = requests.get(url, headers={\"User-Agent\": \"Mozilla/5.0\"}, verify=False)\n",
        "\n",
        "        if response.status_code == 200:\n",
        "            faculty_data = response.json()  # Convert response to JSON\n",
        "\n",
        "            for faculty in faculty_data:\n",
        "                islIDs.append(faculty.get(\"Emp_ID\", \"N/A\"))\n",
        "                islName.append(faculty.get(\"Name\", \"N/A\"))\n",
        "                islEmails.append(faculty.get(\"Email\", \"N/A\"))\n",
        "                islDesignations.append(faculty.get(\"Designation_Title\", \"N/A\"))\n",
        "                islDepartments.append(dept_name)\n",
        "                islExtensions.append(faculty.get(\"Extension\", \"N/A\"))\n",
        "                islImageURLs.append(faculty.get(\"ImagePath\", \"N/A\"))\n",
        "                islProfileLinks.append(f\"http://isb.nu.edu.pk/Faculty/Details/{faculty.get('Emp_ID', 'N/A')}\")\n",
        "        else:\n",
        "            print(f\"Failed to fetch data for {dept_name}. Status Code:\", response.status_code)\n",
        "\n",
        "    except requests.exceptions.RequestException as e:\n",
        "        print(f\"Error fetching data for {dept_name}: {e}\")"
      ],
      "metadata": {
        "colab": {
          "base_uri": "https://localhost:8080/"
        },
        "id": "lGflRUPKZOvk",
        "outputId": "338d9b48-47bd-4393-aba3-da355820d9a5"
      },
      "execution_count": 73,
      "outputs": [
        {
          "output_type": "stream",
          "name": "stdout",
          "text": [
            "initialized\n"
          ]
        }
      ]
    },
    {
      "cell_type": "code",
      "source": [
        "print(islIDs)\n",
        "print(islName)\n",
        "print(islEmails)\n",
        "print(islDesignations)\n",
        "print(islDepartments)\n",
        "print(islExtensions)\n",
        "print(islImageURLs)\n",
        "print(islProfileLinks)"
      ],
      "metadata": {
        "colab": {
          "base_uri": "https://localhost:8080/"
        },
        "id": "CEMqQqQCiJI9",
        "outputId": "0402f316-ff3d-47fa-d201-897f475f8010"
      },
      "execution_count": 74,
      "outputs": [
        {
          "output_type": "stream",
          "name": "stdout",
          "text": [
            "[4553, 4551, 4400, 5099, 6478, 5200, 5002, 3629, 5689, 5724, 5783, 5823, 6259, 9214, 6139, 5830, 5690, 5586, 5643, 4708, 5196, 5249, 6405, 6683, 6867, 7023, 6297, 6735, 6737, 6776, 6975, 6990, 6868, 6804, 6606, 6609, 6579, 6134, 5250, 3949, 4129, 4381, 4401, 4549, 5201, 5425, 5470, 5691, 6032, 5815, 5829, 6079, 6283, 9387, 7013, 7022, 7091, 6866, 9489, 9242, 6296, 6247, 6248, 6252, 6260, 6261, 6263, 6109, 6110, 6111, 6143, 6229, 6243, 6244, 5825, 5793, 6067, 5970, 5976, 5981, 5876, 5880, 5883, 5692, 5693, 5694, 5695, 5704, 5723, 5537, 5465, 5687, 6725, 6696, 6697, 6698, 6701, 6706, 6707, 6610, 6613, 6688, 6438, 6451, 6387, 6508, 6521, 6528, 6529, 6534, 6823, 6842, 6869, 7029, 7030, 6801, 6802, 7006, 7009, 7010, 7075, 7080, 7081, 7083, 6993, 7004, 6795, 6797, 6912, 6913, 6916, 6970, 6972, 6974, 6846, 6848, 6849, 6850, 6851, 6853, 6855, 6856, 6862, 6388, 6384, 6385, 6692, 6693, 6694, 6695, 6651, 6654, 6708, 6245, 5677, 5912, 5922, 5774, 5582, 4154, 5393, 6582, 6527, 6540, 6350, 6351, 4848, 5004, 5522, 5619, 9150, 6390, 4278, 4283, 4340, 3441, 3625, 3707, 3730, 4141, 4738, 3844, 3990, 4518, 5620, 5953, 5055, 7003, 9136, 9389, 4669, 5502, 5391, 5030, 4133, 4737, 4456, 9199, 5376, 4455, 5288, 3739, 6376, 3813, 6939, 9488, 5332, 5615, 6043, 5333, 5334, 5357, 4398, 5197, 5247, 5331, 6977, 9133, 9151, 9337, 6923, 9541, 7000, 5441, 7001, 6775, 6777, 6805, 6824, 6915, 6917, 9381, 5318, 5093, 5141, 5792, 5841, 6222, 6653, 6986, 6987, 6989, 6994, 6796, 6935, 5405, 4656, 3536, 3938, 4218, 4220, 4385, 4219, 5248, 9383, 4576, 3442, 3940, 4127, 4214, 9529, 5354, 5898, 5902, 6918, 7007, 9341]\n",
            "['Waseem Shahzad', 'Hasan Mujtaba', 'Hammad Majeed', 'Muhammad Asim', 'Ahmad Din\\r\\n', 'Usman Habib\\r\\n', 'Aftab Maroof', 'Kashif Munir', 'Naveed Ahmad', 'Muhammad Arshad Islam', 'Muhammad Asif Naeem', 'Muhammad Aleem ', 'Ahmad Raza Shahid', 'Mirza Omer Beg', 'Akhtar Jamil', 'Subhan Ullah', 'Shujaat Hussain Kausar', 'Khubaib Amjad ', 'Kifayat Ullah Khan', 'Uzair Khan', 'Irum Inayat', 'Labiba Fahad', 'M. Ishtiaq\\r\\n', 'Imran Ashraf\\r\\n', 'Danish Shehzad\\r\\n', 'Zafar Iqbal Abbasi\\r\\n', 'Qaisar Shafi', 'Ali Zeeshan Ijaz\\r\\n', 'Asif Muhammad\\r\\n', 'Sana Aurangzeb\\r\\n', 'Fehmida Usmani\\r\\n', 'Muhammad Nouman Noor', 'Sayed Qaiser Ali Shah', 'Usman Haider\\r\\n', 'Isma ul Hassan', 'Shahela Saif', 'Ramoza Ahsan\\r\\n', 'Uzair Iqbal\\r\\n', 'Amna Irum', 'Mehreen Alam', 'Amna Basharat', 'Jawad Hassan Nisar', 'Atif Aftab Ahmed Jilani', 'Noor Ul Ain', 'Hassan Raza', 'Muhammad Adnan Tariq', 'Zeshan Khan\\r\\n', 'Uzma Mahar', 'Zainab Abaid', 'Amina Asif ', 'Muhammad Faisal Cheema', 'Behjat Zuhaira', 'Hassan sartaj ', 'Javaria Imtiaz ', 'Hina Ayaz\\r\\n', 'Muhammad Mateen Yaqoob\\r\\n', 'Muhammad Bilal\\r\\n', 'Muhammad Aamir Gulzar\\r\\n', 'Shehreyar Rashid', 'Shoaib Saleem Khattak\\r\\n', 'Marium Hida ', 'Pir Sami Ullah Shah ', 'Mehreen Javaid ', 'Hira Mastoor ', 'Maryam Shahbaz ', 'Bushra Amjad', 'Laraib Afzaal', 'Hina Binte Haq', 'Urooj Ghani', 'Sana Razzaq ', 'Amina Siddique ', 'Nimra Shahid ', 'Arslan Aslam', 'Irfan Ullah ', 'Saba Kanwal', 'Ameen Chilwan', 'Owais Idrees ', 'Maheen Arshad', 'Sara Afzal', 'Ifrah Qaiser', 'Shafaq Riaz Bhatti', 'Ayesha Kamran', 'Parisa Salma', 'Syed M.Saad Salman', 'Bilal Khalid Dar', 'Shehr Bano', 'Kainat Iqbal', 'Madiha Umar', 'Humera Sabir', 'Sidra Khalid', 'Majid Hussain', 'Shams Farooq', 'Aqib Rehman\\r\\n', 'Mahnoor Tariq\\r\\n', 'Muhammad Sohail Abbas', 'Muhammad Aadi Ur Rehman\\r\\n', 'Ahmad Raza', 'Farheen Tabassum\\r\\n', 'Shahbaz Hassan', 'Tajwar Mehmood\\r\\n', 'Nirmal Tariq\\r\\n', 'Muhammad Farrukh Bashir', 'Adil Majeed', 'Saira Qamar\\r\\n', 'Sadia Saad', 'Zaheer ul Hussain Sani', 'Laiba Imran\\r\\n', 'Muhammad Almas Khan\\r\\n', 'Mehmood ul Hassan\\r\\n', 'Khadija Mahmood\\r\\n', 'Basharat Hussain\\r\\n', 'Rabail Zahid\\r\\n', 'Kanza Hamid\\r\\n', 'Mohsin Khan\\r\\n', 'Junaid Ali Khan\\r\\n', 'Zonera Anjum\\r\\n', 'Nigar Azhar Butt\\r\\n', 'Usama Imtiaz\\r\\n', 'Umarah Qaseem', 'Anum Kaleem\\r\\n', 'Laiba Noor\\r\\n', 'Zahoor ul Hassan\\r\\n', 'Maryam Khalid\\r\\n', 'Muhammad Talha Sharif\\r\\n', 'Hamza Mahmood Sheikh\\r\\n', 'Talha Tariq\\r\\n', 'Hajira Uzair', 'Syed Daniyal Hussain Shah\\r\\n', 'Zoya Mahboob\\r\\n', 'Noor ul Ain\\r\\n', 'Fahad Waheed\\r\\n', 'Muhammad Hamza\\r\\n', 'Nabeelah Maryam\\r\\n', 'Ali Hamza', 'Amina Ashfaq\\r\\n', 'Zill-E-Huma\\r\\n', 'Asma Tufail\\r\\n', 'Aneeqa Khalil\\r\\n', 'Muhammad Suleman Saboor\\r\\n', 'Ghulam Fatima\\r\\n', 'Ehsaan Ali\\r\\n', 'Ayesha Marriyam\\r\\n', 'Muhammad Muneeb Baig\\r\\n', 'Bushra Fatima Tariq', 'Zoya Sumbul Zaheer', 'Sunduss Aamir Khan\\r\\n', 'Khizra Sohail', 'Mubrra Asma\\r\\n', 'Maryam Hussain\\r\\n', 'Muhammad Ammar Masood', 'Usama Bin Imran\\r\\n', 'Abdul Hammad Rasheed\\r\\n', 'Palwasha Zahid\\r\\n', 'M Naveed Khurshid', 'Neelofar Niazi ', 'Baber Shahzad', 'Ayesha Yaqub Malik', 'Abdul Qadoos', 'Amir Rehman', 'Shakeel Ahmed Kiyani', 'Fahad Shahzad', 'Muhammad Usman Tariq\\r\\n', 'Madiha khan\\r\\n', 'Nayab Razzaq\\r\\n', 'Muhammad Aadil\\r\\n', 'Syed Shaharyar Yousaf\\r\\n', 'Muhammad Tariq\\r\\n', 'Waseem Ikram', 'Mukhtar Ullah', 'Rashad Ramzan', 'Ataul Aziz Ikram', 'Niaz Ahmed', 'Arshad Hassan Khan', 'Aamer Hafeez', 'Sana Hassan', 'Aamer Munir', 'Farhan Khalid', 'Azhar Rauf', 'Shahid Qureshi', 'Muhammad Saeed', 'Shahzad Saleem', 'Shehzad Ahmad', 'M. Ibrar Khan', 'Waqas Bin Abbas', 'Muhammad Jafar', 'Hassan Saif', 'Sana Saleh', 'Muhammad Hammad ', 'Moomal Bukhari', 'Maria Nasir', 'Fakhar Abbas', 'Ifrah Maqsood', 'Soha Saqib', 'Kashif Islam', 'M. Atif Baig', 'Ahsan Iqbal Khan', 'Saqib Shahbaz Raja', 'Muhammad Younas', 'Ghulam Nabi', 'Rizwan Javed', 'Uzair Uddin Farooqi ', 'Muhammad Tariq', 'Nimra Fatima\\r\\n', 'Sadia Nadeem', 'Muhammad Hanif Akhtar\\r\\n', 'Muhammad Abbas', 'Muhammad Akhtar', 'Haider Ali', 'Muhammad Yasir ', 'Muhammad Bilal Saeed', 'Rehan Aftab', 'Muhammad Hassaan ', 'Sarah Khan', 'Aftab Bhatti', 'Danial Hasan', 'Abdul Wahab', 'Rameeza Andleeb\\r\\n', 'Falak Khan', 'Usman Zafar Chaudhry', 'Hammad Majeed', 'Aneka Fahima Sufi\\r\\n', 'M. Bilal Saeed\\r\\n', 'Muhammad Nadeem Sarwar\\r\\n', 'Amna Arsalan Farooqui', 'Faheem Ur Rehman\\r\\n', 'Syed Muhammad Kashif Raza\\r\\n', 'Sajjad Hussain\\r\\n', 'Aamina Mukhtar Sheikh\\r\\n', 'Muhammad Qaiser Shafi\\r\\n', 'Sumaira Ghafoor\\r\\n', 'Asma Masood Malik\\r\\n', 'Mansoor Mushtaq', 'Sajjad Hanif', 'Sidra Abbas', 'Saifullah Khan', 'Ayesha Yaqoob', 'Mehmood Ur Rehman', 'Anas Aziz\\r\\n', 'Hamnah Rahat\\r\\n', 'Mueed Ahmad\\r\\n', 'Ali Hassan\\r\\n', 'Abdul Mannan\\r\\n', 'Adnan Feroz Rana\\r\\n', 'Ridda Fatima\\r\\n', 'Syeda Hoor ul ain Ali\\r\\n', 'Jabeen Akhtar', 'Tufail Ahmad', 'Muhammad Shiraz', 'Khadija Farooq', 'M. Usman Ashraf', 'Syed Irfan Shah', 'Muhammad Tayyeb Nadeem', 'Muhammad Ali', 'Hamda Khan', 'Memoona Rasool', 'Khalil Ullah', 'Shahzad Mahmood', 'Aisha Ijaz', 'Mehwish Hassan', 'Farah Jabeen Awan', 'Sumera Abbas', 'Sehrish Hassan Shigri', 'Sana Ilyas', 'Zunera Malik', 'Tayyaba Waseem\\r\\n', 'Maria Mazhar\\r\\n', 'Sadia Nauman']\n",
            "['waseem.shahzad@nu.edu.pk', 'hasan.mujtaba@nu.edu.pk ', 'hammad.majeed@nu.edu.pk', 'muhammad.asim@nu.edu.pk', 'ahmad.din@nu.edu.pk\\r\\n', 'usman.habib@nu.edu.pk', 'aftab.maroof@nu.edu.pk', '(On Leave)', 'naveed.ahmad@nu.edu.pk', 'arshad.islam@nu.edu.pk', 'asif.naeem@nu.edu.pk', 'On leave', 'ahmadraza.shahid@nu.edu.pk ', 'omer.beg@nu.edu.pk', 'akhtar.jamil@nu.edu.pk', 'subhan.ullah@nu.edu.pk', 'On leave', 'On leave', 'On leave', 'On leave', 'On leave', 'labiba.fahad@nu.edu.pk', 'm.ishtiaq@nu.edu.pk', 'imran.ashraf@isb.nu.edu.pk\\r\\n', 'danish.shehzad@isb.nu.edu.pk\\r\\n', 'zafar.iqbal@isb.nu.edu.pk\\r\\n', 'qaisar.shafi@nu.edu.pk ', 'ali.zeeshan@isb.nu.edu.pk\\r\\n', 'asif.muhammad@isb.nu.edu.pk', 'sana.aurangzeb@nu.edu.pk\\r\\n', 'fehmida.usmani@isb.nu.edu.pk\\r\\n', 'nouman.noor@isb.nu.edu.pk\\r\\n', 'qaiser.ali@isb.nu.edu.pk\\r\\n', 'On Leave\\r\\n', 'isma.hassan@nu.edu.pk', 'shahela.saif@nu.edu.pk', 'ramoza.ahsan@nu.edu.pk', 'On leave', 'amna.irum@nuedu.pk', 'mehreen.alam@nu.edu.pk', 'On Leave', 'jawad.hassan@nu.edu.pk', 'atif.jilani@nu.edu.pk', 'noorul.ain@nu.edu.pk', 'hassan.raza@nu.edu.pk', 'muhammad.adnan@nu.edu.pk', 'zeshan.khan@nu.edu.pk\\r\\n', 'uzma.mahar@nu.edu.pk', 'On leave', 'On leave', 'faisal.cheema@nu.edu.pk', 'behjat.zuhaira@nu.edu.pk', 'On leave', 'javaria.imtiaz@nu.edu.pk', 'hina.ayaz@isb.nu.edu.pk\\r\\n', 'mateen.yaqoob@isb.nu.edu.pk\\r\\n', 'muhammad.bilal@isb.nu.edu.pk\\r\\n', 'aamir.gulzar@nu.edu.pk\\r\\n', 'shehreyar.rashid@nu.edu.pk', 'shoaib.saleem@nu.edu.pk', 'marium.hida@nu.edu.pk ', 'samiullah.shah@nu.edu.pk', 'mehreen.javaid@nu.edu.pk ', 'hira.mastoor@nu.edu.pk', 'maryam.shahbaz@nu.edu.pk', 'On leave', 'laraib.afzaal@nu.edu.pk', 'hina.haq@nu.edu.pk ', 'urooj.ghani@nu.edu.pk', 'sana.razzaq@nu.edu.pk', 'On Leave', 'On leave', 'arslan.aslam@nu.edu.pk ', 'irfan.ullah@nu.edu.pk', 'On Leave', 'On leave', 'Owais.idrees@nu.edu.pk ', 'On leave', 'On leave', 'On leave', 'shafaq.riaz@nu.edu.pk', 'ayesha.kamran@nu.edu.pk', 'On leave', 'saad.salman@nu.edu.pk', 'bilal.khalid@nu.edu.pk', '(On Leave)', 'kainat.Iqbal@isb.nu.edu.pk', 'On leave', 'On leave', 'sidra.khalid@nu.edu.pk', 'majid.hussain@nu.edu.pk', 'shams.farooq@nu.edu.pk', 'aqib.rehman@isb.nu.edu.pk\\r\\n', 'mahnoor.tariq@isb.nu.edu.pk\\r\\n', 'sohail.abbas@isb.nu.edu.pk', 'aadil.rehman@isb.nu.edu.pk\\r\\n', 'ahmad.raza@isb.nu.edu.pk\\r\\n', 'farheen.tabassum@isb.nu.edu.pk\\r\\n', 'shahbaz.hassan@isb.nu.edu.pk', 'tajwar.mehmood@nu.edu.pk', 'nirmal.tariq@nu.edu.pk\\r\\n', 'farrukh.bashir@isb.nu.edu.pk', 'adil.majeed@nu.edu.pk', 'saira.qamar@nu.edu.pk', 'sadia.saad@nu.edu.pk', 'zaheer.sani@nu.edu.pk', 'laiba.imran@nu.edu.pk', 'muhammad.almas@nu.edu.pk\\r\\n', 'mehmood.hassan@nu.edu.pk', 'On Leave', 'basharat.hussain@isb.nu.edu.pk\\r\\n', 'rabail.zahid@isb.nu.edu.pk\\r\\n', 'kanza.hamid@isb.nu.edu.pk\\r\\n', 'mohsin.khan@isb.nu.edu.pk\\r\\n', 'junaid.ali@isb.nu.edu.pk\\r\\n', 'zonera.anjum@isb.nu.edu.pk\\r\\n', 'nigar.azhar@isb.nu.edu.pk\\r\\n', 'usama.imtaz@isb.nu.edu.pk\\r\\n', 'umarah.qaseem@isb.nu.edu.pk\\r\\n', 'anum.kaleem@isb.nu.edu.pk\\r\\n', 'laiba.noor@isb.nu.edu.pk\\r\\n', 'zahoor.hassan@isb.nu.edu.pk\\r\\n', 'maryam.khalid@isb.nu.edu.pk\\r\\n', 'talha.sharif@isb.nu.edu.pk\\r\\n', '\"hamza.mahmood@isb.nu.edu.pk\\n\"\\r\\n', 'talha.tariq@nu.edu.pk\\r\\n', 'hajira.uzair@isb.nu.edu.pk', 'daniyal.hussain@isb.nu.edu.pk\\r\\n', 'zoya.mahboob@isb.nu.edu.pk\\r\\n', 'noor.ulain@isb.nu.edu.pk\\r\\n', 'On Leave', 'On Leave', 'nabeelah.maryam@isb.nu.edu.pk\\r\\n', 'ali.hamza@isb.nu.edu.pk', 'Amina Ashfaq\\r\\n', 'zille.huma@nu.edu.pk\\r\\n', 'asma.tufail@isb.nu.edu.pk\\r\\n', 'aneeqa.khalil@isb.nu.edu.pk\\r\\n', 'suleman.saboor@isb.nu.edu.pk\\r\\n', 'ghulam.fatima@isb.nu.edu.pk\\r\\n', 'ehsaan.ali@isb.nu.edu.pk\\r\\n', 'On Leave', 'muneeb.baig@isb.nu.edu.pk\\r\\n', 'bushra.fatima@nu.edu.pk', 'zoya.sumbul@nu.edu.pk', 'sunduss.aamir@nu.edu.pk', 'On Leave', 'mubrra.asma@isb.nu.edu.pk\\r\\n', 'maryam.hussain@isb.nu.edu.pk\\r\\n', 'ammar.masood@isb.nu.edu.pk', 'usama.imran@isb.nu.edu.pk\\r\\n', 'hammad.rasheed@isb.nu.edu.pk', 'palwasha.zahid@isb.nu.edu.pk\\r\\n', 'naveed.khurshid@nu.edu.pk ', 'neelofar.niazi@nu.edu.pk', 'baber.shahzad@nu.edu.pk', 'On leave', 'abdul.qadoos@nu.edu.pk', 'amir.rehman@nu.edu.pk', 'shakeel.kiyani@nu.edu.pk', 'fahad.shahzad@nu.edu.pk', 'muhammadusman.tariq@nu.edu.pk\\r\\n', 'madiha.khan@nu.edu.pk', 'nayab.razzaq@nu.edu.pk', 'm.aadil@nu.edu.pk', 'Shaharyar.yousaf@nu.edu.pk\\r\\n', 'tariq.khan@nu.edu.pk', 'waseem.ikram@nu.edu.pk', 'mukhtar.ullah@nu.edu.pk', 'rashad.ramzan@nu.edu.pk', 'ata.ikram@nu.edu.pk', 'niaz.ahmed@nu.edu.pk', 'arshad.hassan@nu.edu.pk', 'aamer.hafeez@nu.edu.pk', 'sana.hassan@nu.edu.pk', 'aamer.munir@nu.edu.pk', 'farhan.khalid@nu.edu.pk', 'azhar.rauf@nu.edu.pk', 'shahid.qureshi@nu.edu.pk', 'muhammad.saeed@nu.edu.pk', 'shahzad.saleem@nu.edu.pk', 'shehzad.ahmad@nu.edu.pk', 'ibrar.khan@nu.edu.pk', 'waqas.abbas@nu.edu.pk', 'muhammad.jafar@nu.edu.pk', 'hassan.saif@nu.edu.pk', 'sana.saleh@nu.edu.pk', 'muhammad.hammad@isb.nu.edu.pk', 'moomal.bukhari@nu.edu.pk', 'maria.nasir@nu.edu.pk', 'fakhar.abbas@nu.edu.pk', 'ifrah.maqsood@nu.edu.pk', 'soha.saqib@nu.edu.pk', 'kashif.islam@nu.edu.pk', 'atif.baig@nu.edu.pk', 'Ahsan.iqbal@nu.edu.pk', 'saqib.shahbaz@nu.edu.pk', 'muhammad.younas@nu.edu.pk', 'ghulam.nabi@nu.edu.pk', 'rizwan.javed@nu.edu.pk', 'uzair.farooqi@nu.edu.pk', 'malik.tariq@nu.edu.pk', 'nimra.fatima@nu.edu.pk', 'sadia.nadeem@nu.edu.pk', 'Hanif.Akhtar@isb.nu.edu.pk', 'muhammad.abbas@nu.edu.pk', 'muhammad.akhtar@nu.edu.pk', 'haider.ali@nu.edu.pk', 'm.yasir@nu.edu.pk', 'bilalsaeed@nu.edu.pk', 'rehan.aftab@nu.edu.pk', 'muhammad.hassaan@nu.edu.pk', 'sara.khan@nu.edu.pk', 'aftab.bhatti@nu.edu.pk', 'danial.hassan@nu.edu.pk', 'abdulwahab@nu.edu.pk', 'rameeza.andleeb@isb.nu.edu.pk\\r\\n', 'falak.khan@nu.edu.pk', 'usman.chaudhry@nu.edu.pk', 'h.majeed@nu.edu.pk', 'aneka.fahima@isb.nu.edu.pk\\r\\n', 'bilal.saeed@nu.edu.pk\\r\\n', 'nadeem.sarwar@isb.nu.edu.pk\\r\\n', 'amna.farooqui@nu.edu.pk', 'faheem.urrehman@isb.nu.edu.pk\\r\\n', 'kashif.raza@isb.nu.edu.pk\\r\\n', 'sajjad.hussain@isb.nu.edu.pk\\r\\n', 'aamina.sheikh@isb.nu.edu.pk\\r\\n', 'qaiser.shafi@isb.nu.edu.pk\\r\\n', 'Sumaira.Ghafoor@isb.nu.edu.pk\\r\\n', 'Asma.Masood@isb.nu.edu.pk\\r\\n', 'mansoor.mushtaq@nu.edu.pk', 'sajjad.hanif@nu.edu.pk', 'sidra.abbas@nu.edu.pk', 'saifullah.khan@nu.edu.pk', 'ayesha.yaqoob@nu.edu.pk', 'mehmood.rehman@nu.edu.pk', 'anasaziz@nu.edu.pk\\r\\n', 'hamnah.rahat@isb.nu.edu.pk\\r\\n', 'mueed.ahmad@isb.nu.edu.pk\\r\\n', 'ali.hassan@isb.nu.edu.pk\\r\\n', 'abdul.mannan@isb.nu.edu.pk\\r\\n', 'adnan.feroz@isb.nu.edu.pk\\r\\n', 'ridda.fatima@isb.nu.edu.pk\\r\\n', 'syeda.hoor@isb.nu.edu.pk\\r\\n', 'jabeen.akhtar@nu.edu.pk', 'tufail.ahmad@nu.edu.pk', 'muhammad.shiraz@nu.edu.pk', 'khadija.farooq@nu.edu.pk', 'usman.ashraf@nu.edu.pk', 'irfan.shah@nu.edu.pk', 'tayyeb.nadeem@nu.edu.pk', 'm.ali@nu.edu.pk', 'hamda.khan@nu.edu.pk', 'maimoona.rasool@nu.edu.pk', 'khalil.awan@nu.edu.pk', 'shahzad.mahmood@nu.edu.pk', 'aisha.ijaz@nu.edu.pk', 'mehwish.hassan@nu.edu.pk', 'farah.awan@nu.edu.pk', 'sumera.abbas@nu.edu.pk', 'sehrish.hassan@nu.edu.pk', 'sanaa.ilyas@nu.edu.pk', 'zunaira.malik@nu.edu.pk', 'tayyaba.waseem@isb.nu.edu.pk\\r\\n', 'maria.mazhar@isb.nu.edu.pk\\r\\n', 'sadia.nauman@nu.edu.pk']\n",
            "['Director & Professor', 'Head, School of Computing & Professor', 'HoD (Computer Science) & Professor', 'HoD (Cyber Security) & Professor', 'HoD (Artificial Intelligence & Data Science) & Professor', 'Associate Professor / HoD (SE)\\r\\n', 'Professor', 'Professor', 'Professor', 'Professor', 'Professor', 'Professor', 'Professor', 'Professor', 'Associate Professor', 'Associate Professor', 'Associate Professor', 'Associate Professor', 'Associate Professor', 'Associate Professor', 'Associate Professor', 'Associate Professor', 'Associate Professor', 'Associate Professor', 'Associate Professor', 'Associate Professor', 'Assistant Professor', 'Assistant Professor', 'Assistant Professor', 'Assistant Professor', 'Assistant Professor', 'Assistant Professor', 'Assistant Professor', 'Assistant Professor', 'Assistant Professor', 'Assistant Professor', 'Assistant Professor', 'Assistant Professor', 'Assistant Professor', 'Assistant Professor', 'Assistant Professor', 'Assistant Professor', 'Assistant Professor', 'Assistant Professor', 'Assistant Professor', 'Assistant Professor', 'Assistant Professor', 'Assistant Professor', 'Assistant Professor', 'Assistant Professor', 'Assistant Professor', 'Assistant Professor', 'Assistant Professor', 'Assistant Professor', 'Assistant Professor', 'Assistant Professor', 'Assistant Professor', 'Lecturer', 'Lecturer', 'Lecturer', 'Lecturer', 'Lecturer', 'Lecturer', 'Lecturer', 'Lecturer', 'Lecturer', 'Lecturer', 'Lecturer', 'Lecturer', 'Lecturer', 'Lecturer', 'Lecturer', 'Lecturer', 'Lecturer', 'Lecturer', 'Lecturer', 'Lecturer', 'Lecturer', 'Lecturer', 'Lecturer', 'Lecturer', 'Lecturer', 'Lecturer', 'Lecturer', 'Lecturer', 'Lecturer', 'Lecturer', 'Lecturer', 'Lecturer', 'Lecturer', 'Lecturer', 'Lecturer', 'Lecturer', 'Lecturer', 'Lecturer', 'Lecturer', 'Lecturer', 'Lecturer', 'Lecturer', 'Lecturer', 'Lecturer', 'Lecturer', 'Lecturer', 'Lecturer', 'Lecturer', 'Lecturer', 'Lecturer', 'Lecturer', 'Lecturer', 'Lecturer', 'Lecturer', 'Lecturer', 'Lecturer', 'Lecturer', 'Lecturer', 'Lecturer', 'Lecturer', 'Lecturer', 'Lecturer', 'Lecturer', 'Instructor', 'Instructor', 'Instructor', 'Instructor', 'Instructor', 'Instructor', 'Instructor', 'Instructor', 'Instructor', 'Instructor', 'Instructor', 'Instructor', 'Instructor', 'Instructor', 'Instructor', 'Instructor', 'Instructor', 'Instructor', 'Instructor', 'Instructor', 'Instructor', 'Instructor', 'Instructor', 'Instructor', 'Instructor', 'Instructor', 'Instructor', 'Instructor', 'Instructor', 'Instructor', 'Instructor', 'Instructor', 'Instructor', 'Instructor', 'Assistant Manager (Coordination)', 'Academic Officer', 'Academic Officer', 'Academic Officer', 'Academic Officer', 'Academic Officer', 'Academic Officer', 'Assistant Academic Officer', 'Department Secretary', 'Department Secretary', 'Assistant Academic Officer', 'Assistant Academic Officer', 'Professor', 'Professor', 'Professor', 'Professor', 'Professor', 'Associate Professor', 'Associate Professor', 'Assistant Professor', 'Assistant Professor', 'Assistant Professor', 'Assistant Professor', 'Assistant Professor', 'Assistant Professor', 'Assistant Professor', 'Assistant Professor', 'Assistant Professor', 'Assistant Professor', 'Assistant Professor', 'Assistant Professor', 'Assistant Professor', 'Lecturer', 'Lecturer', 'Lecturer', 'Lecturer', 'Lecturer', 'Lab Engineer', 'Assistant Manager Academics', 'Deputy Manager (EE Labs)', 'Deputy Manager (Coordination)', 'Lab Supervisor', 'Lab Supervisor', 'Lab Supervisor', 'Lab Technician ', 'Lab Assistant', 'Academic Officer', 'Assistant Academic Officer', 'Lab Engineer', 'Professor', 'Professor', 'Professor', 'Associate Professor', 'Associate Professor', 'Assistant Professor', 'Assistant Professor', 'Assistant Professor', 'Assistant Professor', 'Assistant Professor', 'Assistant Professor', 'Assistant Professor', 'Assistant Professor', 'Assistant Professor', 'Assistant Professor', 'Assistant Professor', 'Assistant Professor', 'Assistant Professor', 'Assistant Professor', 'Assistant Professor', 'Assistant Professor', 'Lecturer', 'Lecturer', 'Lecturer', 'Lecturer', 'Lecturer', 'Lecturer', 'Lecturer', 'Lecturer', 'Lecturer', 'Lecturer', 'Lecturer', 'Lecturer', 'Lecturer', 'Instructor', 'Instructor', 'Instructor', 'Instructor', 'Instructor', 'Instructor', 'Instructor', 'Instructor', 'Assistant Manager Academics', 'Assistant Manager Academics', 'Assistant', 'Incharge (Sciences & Humanities) & Assistant Professor', 'Professor', 'Professor', 'Professor', 'Associate Professor', 'Associate Professor', 'Assistant Professor', 'Assistant Professor', 'Assistant Professor', 'Assistant Professor', 'Assistant Professor', 'Assistant Professor', 'Lecturer', 'Lecturer', 'Lecturer', 'Lecturer', 'Lecturer', 'Lecturer', 'Lecturer']\n",
            "['Computer Science', 'Computer Science', 'Computer Science', 'Computer Science', 'Computer Science', 'Computer Science', 'Computer Science', 'Computer Science', 'Computer Science', 'Computer Science', 'Computer Science', 'Computer Science', 'Computer Science', 'Computer Science', 'Computer Science', 'Computer Science', 'Computer Science', 'Computer Science', 'Computer Science', 'Computer Science', 'Computer Science', 'Computer Science', 'Computer Science', 'Computer Science', 'Computer Science', 'Computer Science', 'Computer Science', 'Computer Science', 'Computer Science', 'Computer Science', 'Computer Science', 'Computer Science', 'Computer Science', 'Computer Science', 'Computer Science', 'Computer Science', 'Computer Science', 'Computer Science', 'Computer Science', 'Computer Science', 'Computer Science', 'Computer Science', 'Computer Science', 'Computer Science', 'Computer Science', 'Computer Science', 'Computer Science', 'Computer Science', 'Computer Science', 'Computer Science', 'Computer Science', 'Computer Science', 'Computer Science', 'Computer Science', 'Computer Science', 'Computer Science', 'Computer Science', 'Computer Science', 'Computer Science', 'Computer Science', 'Computer Science', 'Computer Science', 'Computer Science', 'Computer Science', 'Computer Science', 'Computer Science', 'Computer Science', 'Computer Science', 'Computer Science', 'Computer Science', 'Computer Science', 'Computer Science', 'Computer Science', 'Computer Science', 'Computer Science', 'Computer Science', 'Computer Science', 'Computer Science', 'Computer Science', 'Computer Science', 'Computer Science', 'Computer Science', 'Computer Science', 'Computer Science', 'Computer Science', 'Computer Science', 'Computer Science', 'Computer Science', 'Computer Science', 'Computer Science', 'Computer Science', 'Computer Science', 'Computer Science', 'Computer Science', 'Computer Science', 'Computer Science', 'Computer Science', 'Computer Science', 'Computer Science', 'Computer Science', 'Computer Science', 'Computer Science', 'Computer Science', 'Computer Science', 'Computer Science', 'Computer Science', 'Computer Science', 'Computer Science', 'Computer Science', 'Computer Science', 'Computer Science', 'Computer Science', 'Computer Science', 'Computer Science', 'Computer Science', 'Computer Science', 'Computer Science', 'Computer Science', 'Computer Science', 'Computer Science', 'Computer Science', 'Computer Science', 'Computer Science', 'Computer Science', 'Computer Science', 'Computer Science', 'Computer Science', 'Computer Science', 'Computer Science', 'Computer Science', 'Computer Science', 'Computer Science', 'Computer Science', 'Computer Science', 'Computer Science', 'Computer Science', 'Computer Science', 'Computer Science', 'Computer Science', 'Computer Science', 'Computer Science', 'Computer Science', 'Computer Science', 'Computer Science', 'Computer Science', 'Computer Science', 'Computer Science', 'Computer Science', 'Computer Science', 'Computer Science', 'Computer Science', 'Computer Science', 'Computer Science', 'Computer Science', 'Computer Science', 'Computer Science', 'Computer Science', 'Computer Science', 'Computer Science', 'Computer Science', 'Computer Science', 'Computer Science', 'Computer Science', 'Computer Science', 'Computer Science', 'Computer Science', 'Electrical Engineering', 'Electrical Engineering', 'Electrical Engineering', 'Electrical Engineering', 'Electrical Engineering', 'Electrical Engineering', 'Electrical Engineering', 'Electrical Engineering', 'Electrical Engineering', 'Electrical Engineering', 'Electrical Engineering', 'Electrical Engineering', 'Electrical Engineering', 'Electrical Engineering', 'Electrical Engineering', 'Electrical Engineering', 'Electrical Engineering', 'Electrical Engineering', 'Electrical Engineering', 'Electrical Engineering', 'Electrical Engineering', 'Electrical Engineering', 'Electrical Engineering', 'Electrical Engineering', 'Electrical Engineering', 'Electrical Engineering', 'Electrical Engineering', 'Electrical Engineering', 'Electrical Engineering', 'Electrical Engineering', 'Electrical Engineering', 'Electrical Engineering', 'Electrical Engineering', 'Electrical Engineering', 'Electrical Engineering', 'Electrical Engineering', 'Electrical Engineering', 'Management Sciences', 'Management Sciences', 'Management Sciences', 'Management Sciences', 'Management Sciences', 'Management Sciences', 'Management Sciences', 'Management Sciences', 'Management Sciences', 'Management Sciences', 'Management Sciences', 'Management Sciences', 'Management Sciences', 'Management Sciences', 'Management Sciences', 'Management Sciences', 'Management Sciences', 'Management Sciences', 'Management Sciences', 'Management Sciences', 'Management Sciences', 'Management Sciences', 'Management Sciences', 'Management Sciences', 'Management Sciences', 'Management Sciences', 'Management Sciences', 'Management Sciences', 'Management Sciences', 'Management Sciences', 'Management Sciences', 'Management Sciences', 'Management Sciences', 'Management Sciences', 'Management Sciences', 'Management Sciences', 'Management Sciences', 'Management Sciences', 'Management Sciences', 'Management Sciences', 'Management Sciences', 'Management Sciences', 'Management Sciences', 'Management Sciences', 'Management Sciences', 'Science & Humanities', 'Science & Humanities', 'Science & Humanities', 'Science & Humanities', 'Science & Humanities', 'Science & Humanities', 'Science & Humanities', 'Science & Humanities', 'Science & Humanities', 'Science & Humanities', 'Science & Humanities', 'Science & Humanities', 'Science & Humanities', 'Science & Humanities', 'Science & Humanities', 'Science & Humanities', 'Science & Humanities', 'Science & Humanities', 'Science & Humanities']\n",
            "['101', '626', '672', '503', '506', None, '128', '', '645', '640', '654', '629', '634', '652', '633', '500', None, '636', None, None, '642', '637', '676', '632', None, '511', '514', '505', '321', '698', '632', '636', '341', '679', '699', '347', None, None, '632', '639', '638', '630', '677', '656', '649', '678', None, '643', None, None, '515', '650', None, '651', '642', None, '650', '341', '655', '611', '603', '321', '666', '603', '263', None, '603', '512', '263', '347', '342', '268', '302', '609', '347', None, '697', '507', None, None, '504', '341', '343', '516', '698', '263', '338', None, None, '519', '206', '653', None, None, None, '263', '263', None, '513', None, '526', '338', '518', None, '307', None, '307', '306', '513', '307', '326', None, '698', None, None, None, None, '666', None, None, None, None, None, None, None, None, '657', None, None, None, None, None, None, None, None, '666', None, None, None, None, None, '307', None, '307', '307', '307', None, None, None, '', '307', '307', None, '306', '627', '525', '624', '525', '623', '635', '622', '622', '520', '671', '623', '622', '356', '101', '104', '389', '340', '254', '258', '108', '105', '189', '188', '109', '185', '365', '255', '361', '185', '254', '186', None, '374', None, '271', '123', '261', '123', '160', '223', '183', '392', '670', '377', '115', '184', None, '324', '123', '182', '201', '602', '205', '218', None, '146', '212', '322', '338', '269', '317', '305', '355', '182', '203', '267', '317', '219', '212', '355', '336', '322', '322', '175', '203', '355', '317', '164', '604', '337', '604', '175', '161', '604', '337', None, None, '319', None, '206', '206', '137', '623', '270', '383', '358', '353', '339', '357', '362', '532', '358', '209', '362', '363', '105', '388', '257', '612', '382', '369', '530', '532']\n",
            "['/Images/Profile/CS/4553-3.jpg', '/Images/Profile/CS/4551.jpg', '/Images/Profile/CS/4400.jpg', '/Images/Profile/CS/5099.jpg', '/Images/Profile/CS/6478.jpg', '/Images/Profile/CS/5200.jpg', '/Images/Profile/CS/50022020-09-30_00.03.16.jpg', '/Images/Profile/CS/36292021-01-21_23.28.18.jpg', '/Images/Profile/CS/5689.jpg', '/Images/Profile/CS/5724.jpg', '/Images/Profile/CS/5783.jpg', '/Images/Profile/CS/5823.jpg', '/Images/Profile/CS/6259.jpg', '/Images/Profile/CS/9214.jpg', '/Images/Profile/CS/6139_20211001.jpg', '/Images/Profile/CS/5830.jpg', '/Images/Profile/CS/5690.jpg', '/Images/Profile/CS/5586_20211001.jpg', '/Images/Profile/CS/5643.jpg', '/Images/Profile/CS/4708.jpg', '/Images/Profile/CS/5196.jpg', '/Images/Profile/CS/5249.jpg', '/Images/Profile/CS/6405.jpg', '/Images/Profile/CS/6683.jpg', '/Images/Profile/CS/6867.jpg', '/Images/Profile/CS/7023_2.jpg', '/Images/Profile/CS/6297.jpg', '/Images/Profile/CS/6735.jpg', '/Images/Profile/CS/6737.jpg', '/Images/Profile/CS/6776.jpg', '/Images/Profile/CS/6975.jpg', '/Images/Profile/CS/6990.jpg', '/Images/Profile/CS/6868.jpg', '/Images/Profile/CS/6804.jpg', '/Images/Profile/CS/6606.jpg', '/Images/Profile/CS/6609.jpg', '/Images/Profile/CS/6579.jpg', '/Images/Profile/CS/6134.jpg', '/Images/Profile/CS/5250.jpg', '/Images/Profile/CS/3949.jpg', '/Images/Profile/CS/4129.jpg', '/Images/Profile/CS/4381.jpg', '/Images/Profile/CS/4401.jpg', '/Images/Profile/CS/4549.jpg', '/Images/Profile/CS/5201.png', '/Images/Profile/CS/5425.jpg', '/Images/Profile/CS/5470.jpg', '/Images/Profile/CS/5691.JPG', '/Images/Profile/CS/60322021-02-08_00.56.12.png', '/Images/Profile/CS/5815.jpg', '/Images/Profile/CS/5829.jpg', '/Images/Profile/CS/60792021-04-21_08.47.08.JPG', '/Images/Profile/CS/6283.jpg', '/Images/Profile/CS/9387_20211001.jpg', '/Images/Profile/CS/7013.jpg', '/Images/Profile/CS/7022.jpg', '/Images/Profile/CS/7091.jpg', '/Images/Profile/CS/6866.jpg', '/Images/Profile/CS/9489.jpg', '/Images/Profile/CS/9242.jpg', '/Images/Profile/CS/6296.jpg', '/Images/Profile/CS/6247.jpg', '/Images/Profile/CS/6248.jpg', '/Images/Profile/CS/6252.jpg', '/Images/Profile/CS/6260.jpg', '/Images/Profile/CS/6261.jpg', '/Images/Profile/CS/6263.jpg', '/Images/Profile/CS/6109_20211001.jpg', '/Images/Profile/CS/6110_20211001.jpg', '/Images/Profile/CS/6111_20211001.jpg', '/Images/Profile/CS/6143_20211001.jpg', '/Images/Profile/CS/6229.jpg', '/Images/Profile/CS/6243.jpg', '/Images/Profile/CS/6244.jpg', '/Images/Profile/CS/5825.jpg', '/Images/Profile/CS/5793.jpg', '/Images/Profile/CS/6067.jpg', '/Images/Profile/CS/59702020-09-03_02.13.07.jpg', '/Images/Profile/CS/59762020-09-03_02.12.04.jpg', '/Images/Profile/CS/5981_20211001.jpg', '/Images/Profile/CS/5876.jpg', '/Images/Profile/CS/5880.jpg', '/Images/Profile/CS/5883.JPG', '/Images/Profile/CS/5692.jpg', '/Images/Profile/CS/5693.jpg', '/Images/Profile/CS/5694.JPG', '/Images/Profile/CS/5695.jpg', '/Images/Profile/CS/5704.jpg', '/Images/Profile/CS/5723.jpg', '/Images/Profile/CS/5537.jpg', '/Images/Profile/CS/5465.jpg', '/Images/Profile/CS/5687.jpg', '/Images/Profile/CS/6725.jpg', '/Images/Profile/CS/6696.jpg', '/Images/Profile/CS/6697.jpg', '/Images/Profile/CS/6698.jpg', '/Images/Profile/CS/6701.jpg', '/Images/Profile/CS/6706.jpg', '/Images/Profile/CS/6707.jpg', '/Images/Profile/CS/6610.jpg', '/Images/Profile/CS/6613.jpg', '/Images/Profile/CS/6688.jpg', '/Images/Profile/CS/6438.jpg', '/Images/Profile/CS/6451.jpg', '/Images/Profile/CS/6387.jpg', '/Images/Profile/CS/6508.jpg', '/Images/Profile/CS/6521.jpg', '/Images/Profile/CS/6528.jpg', '/Images/Profile/CS/6529.jpg', '/Images/Profile/CS/6534.jpg', '/Images/Profile/CS/6823.jpg', '/Images/Profile/CS/6842.jpg', '/Images/Profile/CS/6869.jpg', '/Images/Profile/CS/7029.jpg', '/Images/Profile/CS/7030.jpg', '/Images/Profile/CS/6801.jpg', '/Images/Profile/CS/6802.jpg', '/Images/Profile/CS/7006.jpg', '/Images/Profile/CS/7009.jpg', '/Images/Profile/CS/7010.jpg', '/Images/Profile/CS/7075.jpg', '/Images/Profile/CS/7080.jpg', '/Images/Profile/CS/7081.jpg', '/Images/Profile/CS/7083.jpg', '/Images/Profile/CS/6993.jpg', '/Images/Profile/CS/7004.jpg', '/Images/Profile/CS/6795.jpg', '/Images/Profile/CS/6797.jpg', '/Images/Profile/CS/6912.jpg', '/Images/Profile/CS/6913.jpg', '/Images/Profile/CS/6916.jpg', '/Images/Profile/CS/6970.jpg', '/Images/Profile/CS/6972.jpg', '/Images/Profile/CS/6974.jpg', '/Images/Profile/CS/6846.jpg', '/Images/Profile/CS/6848.jpg', '/Images/Profile/CS/6849.jpg', '/Images/Profile/CS/6850.jpg', '/Images/Profile/CS/6851.jpg', '/Images/Profile/CS/6853.jpg', '/Images/Profile/CS/6855.jpg', '/Images/Profile/CS/6856.jpg', '/Images/Profile/CS/6862.jpg', '/Images/Profile/CS/6388.jpg', '/Images/Profile/CS/6384.jpg', '/Images/Profile/CS/6385.jpg', '/Images/Profile/CS/6692.jpg', '/Images/Profile/CS/6693.jpg', '/Images/Profile/CS/6694.jpg', '/Images/Profile/CS/6695.jpg', '/Images/Profile/CS/6651.jpg', '/Images/Profile/CS/6654.jpg', '/Images/Profile/CS/6708.jpg', '/Images/Profile/CS/6245.jpg', '/Images/Profile/CS/5677.jpg', '/Images/Profile/CS/5912.jpg', '/Images/Profile/CS/5922.jpg', '/Images/Profile/FSM/57742021-04-22_14.13.10.png', '/Images/Profile/CS/5582.jpg', '/Images/Profile/CS/4154.jpg', '/Images/Profile/CS/5393.jpg', '/Images/Profile/CS/6582.jpg', '/Images/Profile/CS/6527.jpg', '/Images/Profile/CS/6540.jpg', '/Images/Profile/CS/6350.jpg', '/Images/Profile/CS/6351.jpg', '/Images/Profile/CS/4848.jpg', '/Images/Profile/EE/5004.jpg', '/Images/Profile/EE/5522.jpg', '/Images/Profile/EE/5619.jpg', '/Images/Profile/EE/9150.jpg', '/Images/Profile/EE/6390.jpg', '/Images/Profile/EE/4278.jpg', '/Images/Profile/EE/4283.jpg', '/Images/Profile/EE/4340.jpg', '/Images/Profile/EE/3441.jpg', '/Images/Profile/EE/3625.jpg', '/Images/Profile/EE/3707.jpg', '/Images/Profile/EE/3730.jpg', '/Images/Profile/EE/4141.jpg', '/Images/Profile/EE/4738.jpg', '/Images/Profile/EE/3844.jpg', '/Images/Profile/EE/3990.jpg', '/Images/Profile/EE/4518.jpg', '/Images/Profile/EE/5620.jpg', None, '/Images/Profile/EE/5055.jpg', '/Images/Profile/EE/7003.jpg', '/Images/Profile/EE/9136.jpg', '/Images/Profile/EE/9389.jpg', '/Images/Profile/EE/4669.jpg', '/Images/Profile/EE/5502.jpg', '/Images/Profile/EE/5391.jpg', '/Images/Profile/EE/5030.jpg', '/Images/Profile/EE/4133.jpg', '/Images/Profile/EE/4737.jpg', '/Images/Profile/EE/4456.jpg', '/Images/Profile/EE/9199.jpg', '/Images/Profile/EE/5376.jpg', '/Images/Profile/EE/4455.jpg', '/Images/Profile/EE/5288.jpg', '/Images/Profile/EE/3739.jpg', '/Images/Profile/CS/6376.jpg', '/Images/Profile/FSM/3813.jpg', '/Images/Profile/FSM/6939.png', '/Images/Profile/FSM/9488.jpg', '/Images/Profile/FSM/5332.jpg', '/Images/Profile/FSM/5615.jpg', '/Images/Profile/FSM/6443.jpg', '/Images/Profile/FSM/5333.jpg', '/Images/Profile/FSM/5334.jpg', '/Images/Profile/FSM/5357.jpg', '/Images/Profile/FSM/4398.jpg', '/Images/Profile/FSM/5197.jpg', '/Images/Profile/FSM/5247.jpg', '/Images/Profile/FSM/5331.jpg', '/Images/Profile/FSM/6977.jpg', '/Images/Profile/FSM/9133.jpg', '/Images/Profile/FSM/9151.JPG', '/Images/Profile/FSM/9337.jpg', '/Images/Profile/FSM/6923.png', '/Images/Profile/FSM/9541.jpg', '/Images/Profile/FSM/7000.png', '/Images/Profile/FSM/5441.jpg', '/Images/Profile/FSM/7001.png', '/Images/Profile/FSM/6775.jpg', '/Images/Profile/FSM/6777.jpg', '/Images/Profile/FSM/6805.jpg', '/Images/Profile/FSM/6824.jpg', '/Images/Profile/FSM/6915.png', '/Images/Profile/FSM/6917.png', '/Images/Profile/FSM/9381.jpg', '/Images/Profile/FSM/5318.jpg', '/Images/Profile/FSM/5093.jpg', '/Images/Profile/FSM/5141.jpg', '/Images/Profile/FSM/5792.jpg', '/Images/Profile/FSM/5841.JPG', '/Images/Profile/FSM/6222.jpg', '/Images/Profile/FSM/6653.jpg', '/Images/Profile/FSM/6986.png', '/Images/Profile/FSM/6987.png', '/Images/Profile/FSM/6989.jpg', '/Images/Profile/FSM/6994.png', '/Images/Profile/FSM/6796.jpg', '/Images/Profile/FSM/6935.png', '/Images/Profile/FSM/5405.jpg', '/Images/Profile/CS/4656.jpg', '/Images/Profile/FSM/3536.jpg', '/Images/Profile/SH/3938.jpg', '/Images/Profile/SH/42182021-01-20_01.32.39.JPG', '/Images/Profile/SH/4220.jpg', '/Images/Profile/SH/4385.jpg', '/Images/Profile/SH/4219.jpg', '/Images/Profile/SH/5248.jpg', '/Images/Profile/SH/9383.jpg', '/Images/Profile/SH/4576.jpg', '/Images/Profile/SH/3442.jpg', '/Images/Profile/SH/3940.jpg', '/Images/Profile/SH/4127.jpg', '/Images/Profile/SH/4214.jpg', '/Images/Profile/SH/9529.jpg', '/Images/Profile/SH/5354.jpg', None, None, '/Images/Profile/SH/6918.jpg', '/Images/Profile/SH/7007.jpg', '/Images/Profile/SH/9341.jpg']\n",
            "['http://isb.nu.edu.pk/Faculty/Details/4553', 'http://isb.nu.edu.pk/Faculty/Details/4551', 'http://isb.nu.edu.pk/Faculty/Details/4400', 'http://isb.nu.edu.pk/Faculty/Details/5099', 'http://isb.nu.edu.pk/Faculty/Details/6478', 'http://isb.nu.edu.pk/Faculty/Details/5200', 'http://isb.nu.edu.pk/Faculty/Details/5002', 'http://isb.nu.edu.pk/Faculty/Details/3629', 'http://isb.nu.edu.pk/Faculty/Details/5689', 'http://isb.nu.edu.pk/Faculty/Details/5724', 'http://isb.nu.edu.pk/Faculty/Details/5783', 'http://isb.nu.edu.pk/Faculty/Details/5823', 'http://isb.nu.edu.pk/Faculty/Details/6259', 'http://isb.nu.edu.pk/Faculty/Details/9214', 'http://isb.nu.edu.pk/Faculty/Details/6139', 'http://isb.nu.edu.pk/Faculty/Details/5830', 'http://isb.nu.edu.pk/Faculty/Details/5690', 'http://isb.nu.edu.pk/Faculty/Details/5586', 'http://isb.nu.edu.pk/Faculty/Details/5643', 'http://isb.nu.edu.pk/Faculty/Details/4708', 'http://isb.nu.edu.pk/Faculty/Details/5196', 'http://isb.nu.edu.pk/Faculty/Details/5249', 'http://isb.nu.edu.pk/Faculty/Details/6405', 'http://isb.nu.edu.pk/Faculty/Details/6683', 'http://isb.nu.edu.pk/Faculty/Details/6867', 'http://isb.nu.edu.pk/Faculty/Details/7023', 'http://isb.nu.edu.pk/Faculty/Details/6297', 'http://isb.nu.edu.pk/Faculty/Details/6735', 'http://isb.nu.edu.pk/Faculty/Details/6737', 'http://isb.nu.edu.pk/Faculty/Details/6776', 'http://isb.nu.edu.pk/Faculty/Details/6975', 'http://isb.nu.edu.pk/Faculty/Details/6990', 'http://isb.nu.edu.pk/Faculty/Details/6868', 'http://isb.nu.edu.pk/Faculty/Details/6804', 'http://isb.nu.edu.pk/Faculty/Details/6606', 'http://isb.nu.edu.pk/Faculty/Details/6609', 'http://isb.nu.edu.pk/Faculty/Details/6579', 'http://isb.nu.edu.pk/Faculty/Details/6134', 'http://isb.nu.edu.pk/Faculty/Details/5250', 'http://isb.nu.edu.pk/Faculty/Details/3949', 'http://isb.nu.edu.pk/Faculty/Details/4129', 'http://isb.nu.edu.pk/Faculty/Details/4381', 'http://isb.nu.edu.pk/Faculty/Details/4401', 'http://isb.nu.edu.pk/Faculty/Details/4549', 'http://isb.nu.edu.pk/Faculty/Details/5201', 'http://isb.nu.edu.pk/Faculty/Details/5425', 'http://isb.nu.edu.pk/Faculty/Details/5470', 'http://isb.nu.edu.pk/Faculty/Details/5691', 'http://isb.nu.edu.pk/Faculty/Details/6032', 'http://isb.nu.edu.pk/Faculty/Details/5815', 'http://isb.nu.edu.pk/Faculty/Details/5829', 'http://isb.nu.edu.pk/Faculty/Details/6079', 'http://isb.nu.edu.pk/Faculty/Details/6283', 'http://isb.nu.edu.pk/Faculty/Details/9387', 'http://isb.nu.edu.pk/Faculty/Details/7013', 'http://isb.nu.edu.pk/Faculty/Details/7022', 'http://isb.nu.edu.pk/Faculty/Details/7091', 'http://isb.nu.edu.pk/Faculty/Details/6866', 'http://isb.nu.edu.pk/Faculty/Details/9489', 'http://isb.nu.edu.pk/Faculty/Details/9242', 'http://isb.nu.edu.pk/Faculty/Details/6296', 'http://isb.nu.edu.pk/Faculty/Details/6247', 'http://isb.nu.edu.pk/Faculty/Details/6248', 'http://isb.nu.edu.pk/Faculty/Details/6252', 'http://isb.nu.edu.pk/Faculty/Details/6260', 'http://isb.nu.edu.pk/Faculty/Details/6261', 'http://isb.nu.edu.pk/Faculty/Details/6263', 'http://isb.nu.edu.pk/Faculty/Details/6109', 'http://isb.nu.edu.pk/Faculty/Details/6110', 'http://isb.nu.edu.pk/Faculty/Details/6111', 'http://isb.nu.edu.pk/Faculty/Details/6143', 'http://isb.nu.edu.pk/Faculty/Details/6229', 'http://isb.nu.edu.pk/Faculty/Details/6243', 'http://isb.nu.edu.pk/Faculty/Details/6244', 'http://isb.nu.edu.pk/Faculty/Details/5825', 'http://isb.nu.edu.pk/Faculty/Details/5793', 'http://isb.nu.edu.pk/Faculty/Details/6067', 'http://isb.nu.edu.pk/Faculty/Details/5970', 'http://isb.nu.edu.pk/Faculty/Details/5976', 'http://isb.nu.edu.pk/Faculty/Details/5981', 'http://isb.nu.edu.pk/Faculty/Details/5876', 'http://isb.nu.edu.pk/Faculty/Details/5880', 'http://isb.nu.edu.pk/Faculty/Details/5883', 'http://isb.nu.edu.pk/Faculty/Details/5692', 'http://isb.nu.edu.pk/Faculty/Details/5693', 'http://isb.nu.edu.pk/Faculty/Details/5694', 'http://isb.nu.edu.pk/Faculty/Details/5695', 'http://isb.nu.edu.pk/Faculty/Details/5704', 'http://isb.nu.edu.pk/Faculty/Details/5723', 'http://isb.nu.edu.pk/Faculty/Details/5537', 'http://isb.nu.edu.pk/Faculty/Details/5465', 'http://isb.nu.edu.pk/Faculty/Details/5687', 'http://isb.nu.edu.pk/Faculty/Details/6725', 'http://isb.nu.edu.pk/Faculty/Details/6696', 'http://isb.nu.edu.pk/Faculty/Details/6697', 'http://isb.nu.edu.pk/Faculty/Details/6698', 'http://isb.nu.edu.pk/Faculty/Details/6701', 'http://isb.nu.edu.pk/Faculty/Details/6706', 'http://isb.nu.edu.pk/Faculty/Details/6707', 'http://isb.nu.edu.pk/Faculty/Details/6610', 'http://isb.nu.edu.pk/Faculty/Details/6613', 'http://isb.nu.edu.pk/Faculty/Details/6688', 'http://isb.nu.edu.pk/Faculty/Details/6438', 'http://isb.nu.edu.pk/Faculty/Details/6451', 'http://isb.nu.edu.pk/Faculty/Details/6387', 'http://isb.nu.edu.pk/Faculty/Details/6508', 'http://isb.nu.edu.pk/Faculty/Details/6521', 'http://isb.nu.edu.pk/Faculty/Details/6528', 'http://isb.nu.edu.pk/Faculty/Details/6529', 'http://isb.nu.edu.pk/Faculty/Details/6534', 'http://isb.nu.edu.pk/Faculty/Details/6823', 'http://isb.nu.edu.pk/Faculty/Details/6842', 'http://isb.nu.edu.pk/Faculty/Details/6869', 'http://isb.nu.edu.pk/Faculty/Details/7029', 'http://isb.nu.edu.pk/Faculty/Details/7030', 'http://isb.nu.edu.pk/Faculty/Details/6801', 'http://isb.nu.edu.pk/Faculty/Details/6802', 'http://isb.nu.edu.pk/Faculty/Details/7006', 'http://isb.nu.edu.pk/Faculty/Details/7009', 'http://isb.nu.edu.pk/Faculty/Details/7010', 'http://isb.nu.edu.pk/Faculty/Details/7075', 'http://isb.nu.edu.pk/Faculty/Details/7080', 'http://isb.nu.edu.pk/Faculty/Details/7081', 'http://isb.nu.edu.pk/Faculty/Details/7083', 'http://isb.nu.edu.pk/Faculty/Details/6993', 'http://isb.nu.edu.pk/Faculty/Details/7004', 'http://isb.nu.edu.pk/Faculty/Details/6795', 'http://isb.nu.edu.pk/Faculty/Details/6797', 'http://isb.nu.edu.pk/Faculty/Details/6912', 'http://isb.nu.edu.pk/Faculty/Details/6913', 'http://isb.nu.edu.pk/Faculty/Details/6916', 'http://isb.nu.edu.pk/Faculty/Details/6970', 'http://isb.nu.edu.pk/Faculty/Details/6972', 'http://isb.nu.edu.pk/Faculty/Details/6974', 'http://isb.nu.edu.pk/Faculty/Details/6846', 'http://isb.nu.edu.pk/Faculty/Details/6848', 'http://isb.nu.edu.pk/Faculty/Details/6849', 'http://isb.nu.edu.pk/Faculty/Details/6850', 'http://isb.nu.edu.pk/Faculty/Details/6851', 'http://isb.nu.edu.pk/Faculty/Details/6853', 'http://isb.nu.edu.pk/Faculty/Details/6855', 'http://isb.nu.edu.pk/Faculty/Details/6856', 'http://isb.nu.edu.pk/Faculty/Details/6862', 'http://isb.nu.edu.pk/Faculty/Details/6388', 'http://isb.nu.edu.pk/Faculty/Details/6384', 'http://isb.nu.edu.pk/Faculty/Details/6385', 'http://isb.nu.edu.pk/Faculty/Details/6692', 'http://isb.nu.edu.pk/Faculty/Details/6693', 'http://isb.nu.edu.pk/Faculty/Details/6694', 'http://isb.nu.edu.pk/Faculty/Details/6695', 'http://isb.nu.edu.pk/Faculty/Details/6651', 'http://isb.nu.edu.pk/Faculty/Details/6654', 'http://isb.nu.edu.pk/Faculty/Details/6708', 'http://isb.nu.edu.pk/Faculty/Details/6245', 'http://isb.nu.edu.pk/Faculty/Details/5677', 'http://isb.nu.edu.pk/Faculty/Details/5912', 'http://isb.nu.edu.pk/Faculty/Details/5922', 'http://isb.nu.edu.pk/Faculty/Details/5774', 'http://isb.nu.edu.pk/Faculty/Details/5582', 'http://isb.nu.edu.pk/Faculty/Details/4154', 'http://isb.nu.edu.pk/Faculty/Details/5393', 'http://isb.nu.edu.pk/Faculty/Details/6582', 'http://isb.nu.edu.pk/Faculty/Details/6527', 'http://isb.nu.edu.pk/Faculty/Details/6540', 'http://isb.nu.edu.pk/Faculty/Details/6350', 'http://isb.nu.edu.pk/Faculty/Details/6351', 'http://isb.nu.edu.pk/Faculty/Details/4848', 'http://isb.nu.edu.pk/Faculty/Details/5004', 'http://isb.nu.edu.pk/Faculty/Details/5522', 'http://isb.nu.edu.pk/Faculty/Details/5619', 'http://isb.nu.edu.pk/Faculty/Details/9150', 'http://isb.nu.edu.pk/Faculty/Details/6390', 'http://isb.nu.edu.pk/Faculty/Details/4278', 'http://isb.nu.edu.pk/Faculty/Details/4283', 'http://isb.nu.edu.pk/Faculty/Details/4340', 'http://isb.nu.edu.pk/Faculty/Details/3441', 'http://isb.nu.edu.pk/Faculty/Details/3625', 'http://isb.nu.edu.pk/Faculty/Details/3707', 'http://isb.nu.edu.pk/Faculty/Details/3730', 'http://isb.nu.edu.pk/Faculty/Details/4141', 'http://isb.nu.edu.pk/Faculty/Details/4738', 'http://isb.nu.edu.pk/Faculty/Details/3844', 'http://isb.nu.edu.pk/Faculty/Details/3990', 'http://isb.nu.edu.pk/Faculty/Details/4518', 'http://isb.nu.edu.pk/Faculty/Details/5620', 'http://isb.nu.edu.pk/Faculty/Details/5953', 'http://isb.nu.edu.pk/Faculty/Details/5055', 'http://isb.nu.edu.pk/Faculty/Details/7003', 'http://isb.nu.edu.pk/Faculty/Details/9136', 'http://isb.nu.edu.pk/Faculty/Details/9389', 'http://isb.nu.edu.pk/Faculty/Details/4669', 'http://isb.nu.edu.pk/Faculty/Details/5502', 'http://isb.nu.edu.pk/Faculty/Details/5391', 'http://isb.nu.edu.pk/Faculty/Details/5030', 'http://isb.nu.edu.pk/Faculty/Details/4133', 'http://isb.nu.edu.pk/Faculty/Details/4737', 'http://isb.nu.edu.pk/Faculty/Details/4456', 'http://isb.nu.edu.pk/Faculty/Details/9199', 'http://isb.nu.edu.pk/Faculty/Details/5376', 'http://isb.nu.edu.pk/Faculty/Details/4455', 'http://isb.nu.edu.pk/Faculty/Details/5288', 'http://isb.nu.edu.pk/Faculty/Details/3739', 'http://isb.nu.edu.pk/Faculty/Details/6376', 'http://isb.nu.edu.pk/Faculty/Details/3813', 'http://isb.nu.edu.pk/Faculty/Details/6939', 'http://isb.nu.edu.pk/Faculty/Details/9488', 'http://isb.nu.edu.pk/Faculty/Details/5332', 'http://isb.nu.edu.pk/Faculty/Details/5615', 'http://isb.nu.edu.pk/Faculty/Details/6043', 'http://isb.nu.edu.pk/Faculty/Details/5333', 'http://isb.nu.edu.pk/Faculty/Details/5334', 'http://isb.nu.edu.pk/Faculty/Details/5357', 'http://isb.nu.edu.pk/Faculty/Details/4398', 'http://isb.nu.edu.pk/Faculty/Details/5197', 'http://isb.nu.edu.pk/Faculty/Details/5247', 'http://isb.nu.edu.pk/Faculty/Details/5331', 'http://isb.nu.edu.pk/Faculty/Details/6977', 'http://isb.nu.edu.pk/Faculty/Details/9133', 'http://isb.nu.edu.pk/Faculty/Details/9151', 'http://isb.nu.edu.pk/Faculty/Details/9337', 'http://isb.nu.edu.pk/Faculty/Details/6923', 'http://isb.nu.edu.pk/Faculty/Details/9541', 'http://isb.nu.edu.pk/Faculty/Details/7000', 'http://isb.nu.edu.pk/Faculty/Details/5441', 'http://isb.nu.edu.pk/Faculty/Details/7001', 'http://isb.nu.edu.pk/Faculty/Details/6775', 'http://isb.nu.edu.pk/Faculty/Details/6777', 'http://isb.nu.edu.pk/Faculty/Details/6805', 'http://isb.nu.edu.pk/Faculty/Details/6824', 'http://isb.nu.edu.pk/Faculty/Details/6915', 'http://isb.nu.edu.pk/Faculty/Details/6917', 'http://isb.nu.edu.pk/Faculty/Details/9381', 'http://isb.nu.edu.pk/Faculty/Details/5318', 'http://isb.nu.edu.pk/Faculty/Details/5093', 'http://isb.nu.edu.pk/Faculty/Details/5141', 'http://isb.nu.edu.pk/Faculty/Details/5792', 'http://isb.nu.edu.pk/Faculty/Details/5841', 'http://isb.nu.edu.pk/Faculty/Details/6222', 'http://isb.nu.edu.pk/Faculty/Details/6653', 'http://isb.nu.edu.pk/Faculty/Details/6986', 'http://isb.nu.edu.pk/Faculty/Details/6987', 'http://isb.nu.edu.pk/Faculty/Details/6989', 'http://isb.nu.edu.pk/Faculty/Details/6994', 'http://isb.nu.edu.pk/Faculty/Details/6796', 'http://isb.nu.edu.pk/Faculty/Details/6935', 'http://isb.nu.edu.pk/Faculty/Details/5405', 'http://isb.nu.edu.pk/Faculty/Details/4656', 'http://isb.nu.edu.pk/Faculty/Details/3536', 'http://isb.nu.edu.pk/Faculty/Details/3938', 'http://isb.nu.edu.pk/Faculty/Details/4218', 'http://isb.nu.edu.pk/Faculty/Details/4220', 'http://isb.nu.edu.pk/Faculty/Details/4385', 'http://isb.nu.edu.pk/Faculty/Details/4219', 'http://isb.nu.edu.pk/Faculty/Details/5248', 'http://isb.nu.edu.pk/Faculty/Details/9383', 'http://isb.nu.edu.pk/Faculty/Details/4576', 'http://isb.nu.edu.pk/Faculty/Details/3442', 'http://isb.nu.edu.pk/Faculty/Details/3940', 'http://isb.nu.edu.pk/Faculty/Details/4127', 'http://isb.nu.edu.pk/Faculty/Details/4214', 'http://isb.nu.edu.pk/Faculty/Details/9529', 'http://isb.nu.edu.pk/Faculty/Details/5354', 'http://isb.nu.edu.pk/Faculty/Details/5898', 'http://isb.nu.edu.pk/Faculty/Details/5902', 'http://isb.nu.edu.pk/Faculty/Details/6918', 'http://isb.nu.edu.pk/Faculty/Details/7007', 'http://isb.nu.edu.pk/Faculty/Details/9341']\n"
          ]
        }
      ]
    },
    {
      "cell_type": "code",
      "source": [
        "print(\"Length of islIDs:\", len(islIDs))\n",
        "print(\"Length of islName:\", len(islName))\n",
        "print(\"Length of islEmails:\", len(islEmails))\n",
        "print(\"Length of islDesignations:\", len(islDesignations))\n",
        "print(\"Length of islDepartments:\", len(islDepartments))\n",
        "print(\"Length of islExtensions:\", len(islExtensions))\n",
        "print(\"Length of islImageURLs:\", len(islImageURLs))\n",
        "print(\"Length of islProfileLinks:\", len(islProfileLinks))\n"
      ],
      "metadata": {
        "colab": {
          "base_uri": "https://localhost:8080/"
        },
        "id": "PRRrrEBpj-zo",
        "outputId": "5bb7b5e2-5f53-41d9-a6d6-6a4aedc33460"
      },
      "execution_count": 75,
      "outputs": [
        {
          "output_type": "stream",
          "name": "stdout",
          "text": [
            "Length of islIDs: 267\n",
            "Length of islName: 267\n",
            "Length of islEmails: 267\n",
            "Length of islDesignations: 267\n",
            "Length of islDepartments: 267\n",
            "Length of islExtensions: 267\n",
            "Length of islImageURLs: 267\n",
            "Length of islProfileLinks: 267\n"
          ]
        }
      ]
    },
    {
      "cell_type": "code",
      "source": [
        "islURL = \"http://isb.nu.edu.pk\"\n",
        "# Prepend baseUrl to each valid URL, leave None values untouched\n",
        "islImageURLs = [islURL + url if url else None for url in islImageURLs]\n",
        "\n",
        "print(islImageURLs)\n",
        "print(len(islImageURLs))"
      ],
      "metadata": {
        "colab": {
          "base_uri": "https://localhost:8080/"
        },
        "id": "bRq-OgK_kmPU",
        "outputId": "952e3553-fbfe-4014-e3dc-abc54eefe3c9"
      },
      "execution_count": 76,
      "outputs": [
        {
          "output_type": "stream",
          "name": "stdout",
          "text": [
            "['http://isb.nu.edu.pk/Images/Profile/CS/4553-3.jpg', 'http://isb.nu.edu.pk/Images/Profile/CS/4551.jpg', 'http://isb.nu.edu.pk/Images/Profile/CS/4400.jpg', 'http://isb.nu.edu.pk/Images/Profile/CS/5099.jpg', 'http://isb.nu.edu.pk/Images/Profile/CS/6478.jpg', 'http://isb.nu.edu.pk/Images/Profile/CS/5200.jpg', 'http://isb.nu.edu.pk/Images/Profile/CS/50022020-09-30_00.03.16.jpg', 'http://isb.nu.edu.pk/Images/Profile/CS/36292021-01-21_23.28.18.jpg', 'http://isb.nu.edu.pk/Images/Profile/CS/5689.jpg', 'http://isb.nu.edu.pk/Images/Profile/CS/5724.jpg', 'http://isb.nu.edu.pk/Images/Profile/CS/5783.jpg', 'http://isb.nu.edu.pk/Images/Profile/CS/5823.jpg', 'http://isb.nu.edu.pk/Images/Profile/CS/6259.jpg', 'http://isb.nu.edu.pk/Images/Profile/CS/9214.jpg', 'http://isb.nu.edu.pk/Images/Profile/CS/6139_20211001.jpg', 'http://isb.nu.edu.pk/Images/Profile/CS/5830.jpg', 'http://isb.nu.edu.pk/Images/Profile/CS/5690.jpg', 'http://isb.nu.edu.pk/Images/Profile/CS/5586_20211001.jpg', 'http://isb.nu.edu.pk/Images/Profile/CS/5643.jpg', 'http://isb.nu.edu.pk/Images/Profile/CS/4708.jpg', 'http://isb.nu.edu.pk/Images/Profile/CS/5196.jpg', 'http://isb.nu.edu.pk/Images/Profile/CS/5249.jpg', 'http://isb.nu.edu.pk/Images/Profile/CS/6405.jpg', 'http://isb.nu.edu.pk/Images/Profile/CS/6683.jpg', 'http://isb.nu.edu.pk/Images/Profile/CS/6867.jpg', 'http://isb.nu.edu.pk/Images/Profile/CS/7023_2.jpg', 'http://isb.nu.edu.pk/Images/Profile/CS/6297.jpg', 'http://isb.nu.edu.pk/Images/Profile/CS/6735.jpg', 'http://isb.nu.edu.pk/Images/Profile/CS/6737.jpg', 'http://isb.nu.edu.pk/Images/Profile/CS/6776.jpg', 'http://isb.nu.edu.pk/Images/Profile/CS/6975.jpg', 'http://isb.nu.edu.pk/Images/Profile/CS/6990.jpg', 'http://isb.nu.edu.pk/Images/Profile/CS/6868.jpg', 'http://isb.nu.edu.pk/Images/Profile/CS/6804.jpg', 'http://isb.nu.edu.pk/Images/Profile/CS/6606.jpg', 'http://isb.nu.edu.pk/Images/Profile/CS/6609.jpg', 'http://isb.nu.edu.pk/Images/Profile/CS/6579.jpg', 'http://isb.nu.edu.pk/Images/Profile/CS/6134.jpg', 'http://isb.nu.edu.pk/Images/Profile/CS/5250.jpg', 'http://isb.nu.edu.pk/Images/Profile/CS/3949.jpg', 'http://isb.nu.edu.pk/Images/Profile/CS/4129.jpg', 'http://isb.nu.edu.pk/Images/Profile/CS/4381.jpg', 'http://isb.nu.edu.pk/Images/Profile/CS/4401.jpg', 'http://isb.nu.edu.pk/Images/Profile/CS/4549.jpg', 'http://isb.nu.edu.pk/Images/Profile/CS/5201.png', 'http://isb.nu.edu.pk/Images/Profile/CS/5425.jpg', 'http://isb.nu.edu.pk/Images/Profile/CS/5470.jpg', 'http://isb.nu.edu.pk/Images/Profile/CS/5691.JPG', 'http://isb.nu.edu.pk/Images/Profile/CS/60322021-02-08_00.56.12.png', 'http://isb.nu.edu.pk/Images/Profile/CS/5815.jpg', 'http://isb.nu.edu.pk/Images/Profile/CS/5829.jpg', 'http://isb.nu.edu.pk/Images/Profile/CS/60792021-04-21_08.47.08.JPG', 'http://isb.nu.edu.pk/Images/Profile/CS/6283.jpg', 'http://isb.nu.edu.pk/Images/Profile/CS/9387_20211001.jpg', 'http://isb.nu.edu.pk/Images/Profile/CS/7013.jpg', 'http://isb.nu.edu.pk/Images/Profile/CS/7022.jpg', 'http://isb.nu.edu.pk/Images/Profile/CS/7091.jpg', 'http://isb.nu.edu.pk/Images/Profile/CS/6866.jpg', 'http://isb.nu.edu.pk/Images/Profile/CS/9489.jpg', 'http://isb.nu.edu.pk/Images/Profile/CS/9242.jpg', 'http://isb.nu.edu.pk/Images/Profile/CS/6296.jpg', 'http://isb.nu.edu.pk/Images/Profile/CS/6247.jpg', 'http://isb.nu.edu.pk/Images/Profile/CS/6248.jpg', 'http://isb.nu.edu.pk/Images/Profile/CS/6252.jpg', 'http://isb.nu.edu.pk/Images/Profile/CS/6260.jpg', 'http://isb.nu.edu.pk/Images/Profile/CS/6261.jpg', 'http://isb.nu.edu.pk/Images/Profile/CS/6263.jpg', 'http://isb.nu.edu.pk/Images/Profile/CS/6109_20211001.jpg', 'http://isb.nu.edu.pk/Images/Profile/CS/6110_20211001.jpg', 'http://isb.nu.edu.pk/Images/Profile/CS/6111_20211001.jpg', 'http://isb.nu.edu.pk/Images/Profile/CS/6143_20211001.jpg', 'http://isb.nu.edu.pk/Images/Profile/CS/6229.jpg', 'http://isb.nu.edu.pk/Images/Profile/CS/6243.jpg', 'http://isb.nu.edu.pk/Images/Profile/CS/6244.jpg', 'http://isb.nu.edu.pk/Images/Profile/CS/5825.jpg', 'http://isb.nu.edu.pk/Images/Profile/CS/5793.jpg', 'http://isb.nu.edu.pk/Images/Profile/CS/6067.jpg', 'http://isb.nu.edu.pk/Images/Profile/CS/59702020-09-03_02.13.07.jpg', 'http://isb.nu.edu.pk/Images/Profile/CS/59762020-09-03_02.12.04.jpg', 'http://isb.nu.edu.pk/Images/Profile/CS/5981_20211001.jpg', 'http://isb.nu.edu.pk/Images/Profile/CS/5876.jpg', 'http://isb.nu.edu.pk/Images/Profile/CS/5880.jpg', 'http://isb.nu.edu.pk/Images/Profile/CS/5883.JPG', 'http://isb.nu.edu.pk/Images/Profile/CS/5692.jpg', 'http://isb.nu.edu.pk/Images/Profile/CS/5693.jpg', 'http://isb.nu.edu.pk/Images/Profile/CS/5694.JPG', 'http://isb.nu.edu.pk/Images/Profile/CS/5695.jpg', 'http://isb.nu.edu.pk/Images/Profile/CS/5704.jpg', 'http://isb.nu.edu.pk/Images/Profile/CS/5723.jpg', 'http://isb.nu.edu.pk/Images/Profile/CS/5537.jpg', 'http://isb.nu.edu.pk/Images/Profile/CS/5465.jpg', 'http://isb.nu.edu.pk/Images/Profile/CS/5687.jpg', 'http://isb.nu.edu.pk/Images/Profile/CS/6725.jpg', 'http://isb.nu.edu.pk/Images/Profile/CS/6696.jpg', 'http://isb.nu.edu.pk/Images/Profile/CS/6697.jpg', 'http://isb.nu.edu.pk/Images/Profile/CS/6698.jpg', 'http://isb.nu.edu.pk/Images/Profile/CS/6701.jpg', 'http://isb.nu.edu.pk/Images/Profile/CS/6706.jpg', 'http://isb.nu.edu.pk/Images/Profile/CS/6707.jpg', 'http://isb.nu.edu.pk/Images/Profile/CS/6610.jpg', 'http://isb.nu.edu.pk/Images/Profile/CS/6613.jpg', 'http://isb.nu.edu.pk/Images/Profile/CS/6688.jpg', 'http://isb.nu.edu.pk/Images/Profile/CS/6438.jpg', 'http://isb.nu.edu.pk/Images/Profile/CS/6451.jpg', 'http://isb.nu.edu.pk/Images/Profile/CS/6387.jpg', 'http://isb.nu.edu.pk/Images/Profile/CS/6508.jpg', 'http://isb.nu.edu.pk/Images/Profile/CS/6521.jpg', 'http://isb.nu.edu.pk/Images/Profile/CS/6528.jpg', 'http://isb.nu.edu.pk/Images/Profile/CS/6529.jpg', 'http://isb.nu.edu.pk/Images/Profile/CS/6534.jpg', 'http://isb.nu.edu.pk/Images/Profile/CS/6823.jpg', 'http://isb.nu.edu.pk/Images/Profile/CS/6842.jpg', 'http://isb.nu.edu.pk/Images/Profile/CS/6869.jpg', 'http://isb.nu.edu.pk/Images/Profile/CS/7029.jpg', 'http://isb.nu.edu.pk/Images/Profile/CS/7030.jpg', 'http://isb.nu.edu.pk/Images/Profile/CS/6801.jpg', 'http://isb.nu.edu.pk/Images/Profile/CS/6802.jpg', 'http://isb.nu.edu.pk/Images/Profile/CS/7006.jpg', 'http://isb.nu.edu.pk/Images/Profile/CS/7009.jpg', 'http://isb.nu.edu.pk/Images/Profile/CS/7010.jpg', 'http://isb.nu.edu.pk/Images/Profile/CS/7075.jpg', 'http://isb.nu.edu.pk/Images/Profile/CS/7080.jpg', 'http://isb.nu.edu.pk/Images/Profile/CS/7081.jpg', 'http://isb.nu.edu.pk/Images/Profile/CS/7083.jpg', 'http://isb.nu.edu.pk/Images/Profile/CS/6993.jpg', 'http://isb.nu.edu.pk/Images/Profile/CS/7004.jpg', 'http://isb.nu.edu.pk/Images/Profile/CS/6795.jpg', 'http://isb.nu.edu.pk/Images/Profile/CS/6797.jpg', 'http://isb.nu.edu.pk/Images/Profile/CS/6912.jpg', 'http://isb.nu.edu.pk/Images/Profile/CS/6913.jpg', 'http://isb.nu.edu.pk/Images/Profile/CS/6916.jpg', 'http://isb.nu.edu.pk/Images/Profile/CS/6970.jpg', 'http://isb.nu.edu.pk/Images/Profile/CS/6972.jpg', 'http://isb.nu.edu.pk/Images/Profile/CS/6974.jpg', 'http://isb.nu.edu.pk/Images/Profile/CS/6846.jpg', 'http://isb.nu.edu.pk/Images/Profile/CS/6848.jpg', 'http://isb.nu.edu.pk/Images/Profile/CS/6849.jpg', 'http://isb.nu.edu.pk/Images/Profile/CS/6850.jpg', 'http://isb.nu.edu.pk/Images/Profile/CS/6851.jpg', 'http://isb.nu.edu.pk/Images/Profile/CS/6853.jpg', 'http://isb.nu.edu.pk/Images/Profile/CS/6855.jpg', 'http://isb.nu.edu.pk/Images/Profile/CS/6856.jpg', 'http://isb.nu.edu.pk/Images/Profile/CS/6862.jpg', 'http://isb.nu.edu.pk/Images/Profile/CS/6388.jpg', 'http://isb.nu.edu.pk/Images/Profile/CS/6384.jpg', 'http://isb.nu.edu.pk/Images/Profile/CS/6385.jpg', 'http://isb.nu.edu.pk/Images/Profile/CS/6692.jpg', 'http://isb.nu.edu.pk/Images/Profile/CS/6693.jpg', 'http://isb.nu.edu.pk/Images/Profile/CS/6694.jpg', 'http://isb.nu.edu.pk/Images/Profile/CS/6695.jpg', 'http://isb.nu.edu.pk/Images/Profile/CS/6651.jpg', 'http://isb.nu.edu.pk/Images/Profile/CS/6654.jpg', 'http://isb.nu.edu.pk/Images/Profile/CS/6708.jpg', 'http://isb.nu.edu.pk/Images/Profile/CS/6245.jpg', 'http://isb.nu.edu.pk/Images/Profile/CS/5677.jpg', 'http://isb.nu.edu.pk/Images/Profile/CS/5912.jpg', 'http://isb.nu.edu.pk/Images/Profile/CS/5922.jpg', 'http://isb.nu.edu.pk/Images/Profile/FSM/57742021-04-22_14.13.10.png', 'http://isb.nu.edu.pk/Images/Profile/CS/5582.jpg', 'http://isb.nu.edu.pk/Images/Profile/CS/4154.jpg', 'http://isb.nu.edu.pk/Images/Profile/CS/5393.jpg', 'http://isb.nu.edu.pk/Images/Profile/CS/6582.jpg', 'http://isb.nu.edu.pk/Images/Profile/CS/6527.jpg', 'http://isb.nu.edu.pk/Images/Profile/CS/6540.jpg', 'http://isb.nu.edu.pk/Images/Profile/CS/6350.jpg', 'http://isb.nu.edu.pk/Images/Profile/CS/6351.jpg', 'http://isb.nu.edu.pk/Images/Profile/CS/4848.jpg', 'http://isb.nu.edu.pk/Images/Profile/EE/5004.jpg', 'http://isb.nu.edu.pk/Images/Profile/EE/5522.jpg', 'http://isb.nu.edu.pk/Images/Profile/EE/5619.jpg', 'http://isb.nu.edu.pk/Images/Profile/EE/9150.jpg', 'http://isb.nu.edu.pk/Images/Profile/EE/6390.jpg', 'http://isb.nu.edu.pk/Images/Profile/EE/4278.jpg', 'http://isb.nu.edu.pk/Images/Profile/EE/4283.jpg', 'http://isb.nu.edu.pk/Images/Profile/EE/4340.jpg', 'http://isb.nu.edu.pk/Images/Profile/EE/3441.jpg', 'http://isb.nu.edu.pk/Images/Profile/EE/3625.jpg', 'http://isb.nu.edu.pk/Images/Profile/EE/3707.jpg', 'http://isb.nu.edu.pk/Images/Profile/EE/3730.jpg', 'http://isb.nu.edu.pk/Images/Profile/EE/4141.jpg', 'http://isb.nu.edu.pk/Images/Profile/EE/4738.jpg', 'http://isb.nu.edu.pk/Images/Profile/EE/3844.jpg', 'http://isb.nu.edu.pk/Images/Profile/EE/3990.jpg', 'http://isb.nu.edu.pk/Images/Profile/EE/4518.jpg', 'http://isb.nu.edu.pk/Images/Profile/EE/5620.jpg', None, 'http://isb.nu.edu.pk/Images/Profile/EE/5055.jpg', 'http://isb.nu.edu.pk/Images/Profile/EE/7003.jpg', 'http://isb.nu.edu.pk/Images/Profile/EE/9136.jpg', 'http://isb.nu.edu.pk/Images/Profile/EE/9389.jpg', 'http://isb.nu.edu.pk/Images/Profile/EE/4669.jpg', 'http://isb.nu.edu.pk/Images/Profile/EE/5502.jpg', 'http://isb.nu.edu.pk/Images/Profile/EE/5391.jpg', 'http://isb.nu.edu.pk/Images/Profile/EE/5030.jpg', 'http://isb.nu.edu.pk/Images/Profile/EE/4133.jpg', 'http://isb.nu.edu.pk/Images/Profile/EE/4737.jpg', 'http://isb.nu.edu.pk/Images/Profile/EE/4456.jpg', 'http://isb.nu.edu.pk/Images/Profile/EE/9199.jpg', 'http://isb.nu.edu.pk/Images/Profile/EE/5376.jpg', 'http://isb.nu.edu.pk/Images/Profile/EE/4455.jpg', 'http://isb.nu.edu.pk/Images/Profile/EE/5288.jpg', 'http://isb.nu.edu.pk/Images/Profile/EE/3739.jpg', 'http://isb.nu.edu.pk/Images/Profile/CS/6376.jpg', 'http://isb.nu.edu.pk/Images/Profile/FSM/3813.jpg', 'http://isb.nu.edu.pk/Images/Profile/FSM/6939.png', 'http://isb.nu.edu.pk/Images/Profile/FSM/9488.jpg', 'http://isb.nu.edu.pk/Images/Profile/FSM/5332.jpg', 'http://isb.nu.edu.pk/Images/Profile/FSM/5615.jpg', 'http://isb.nu.edu.pk/Images/Profile/FSM/6443.jpg', 'http://isb.nu.edu.pk/Images/Profile/FSM/5333.jpg', 'http://isb.nu.edu.pk/Images/Profile/FSM/5334.jpg', 'http://isb.nu.edu.pk/Images/Profile/FSM/5357.jpg', 'http://isb.nu.edu.pk/Images/Profile/FSM/4398.jpg', 'http://isb.nu.edu.pk/Images/Profile/FSM/5197.jpg', 'http://isb.nu.edu.pk/Images/Profile/FSM/5247.jpg', 'http://isb.nu.edu.pk/Images/Profile/FSM/5331.jpg', 'http://isb.nu.edu.pk/Images/Profile/FSM/6977.jpg', 'http://isb.nu.edu.pk/Images/Profile/FSM/9133.jpg', 'http://isb.nu.edu.pk/Images/Profile/FSM/9151.JPG', 'http://isb.nu.edu.pk/Images/Profile/FSM/9337.jpg', 'http://isb.nu.edu.pk/Images/Profile/FSM/6923.png', 'http://isb.nu.edu.pk/Images/Profile/FSM/9541.jpg', 'http://isb.nu.edu.pk/Images/Profile/FSM/7000.png', 'http://isb.nu.edu.pk/Images/Profile/FSM/5441.jpg', 'http://isb.nu.edu.pk/Images/Profile/FSM/7001.png', 'http://isb.nu.edu.pk/Images/Profile/FSM/6775.jpg', 'http://isb.nu.edu.pk/Images/Profile/FSM/6777.jpg', 'http://isb.nu.edu.pk/Images/Profile/FSM/6805.jpg', 'http://isb.nu.edu.pk/Images/Profile/FSM/6824.jpg', 'http://isb.nu.edu.pk/Images/Profile/FSM/6915.png', 'http://isb.nu.edu.pk/Images/Profile/FSM/6917.png', 'http://isb.nu.edu.pk/Images/Profile/FSM/9381.jpg', 'http://isb.nu.edu.pk/Images/Profile/FSM/5318.jpg', 'http://isb.nu.edu.pk/Images/Profile/FSM/5093.jpg', 'http://isb.nu.edu.pk/Images/Profile/FSM/5141.jpg', 'http://isb.nu.edu.pk/Images/Profile/FSM/5792.jpg', 'http://isb.nu.edu.pk/Images/Profile/FSM/5841.JPG', 'http://isb.nu.edu.pk/Images/Profile/FSM/6222.jpg', 'http://isb.nu.edu.pk/Images/Profile/FSM/6653.jpg', 'http://isb.nu.edu.pk/Images/Profile/FSM/6986.png', 'http://isb.nu.edu.pk/Images/Profile/FSM/6987.png', 'http://isb.nu.edu.pk/Images/Profile/FSM/6989.jpg', 'http://isb.nu.edu.pk/Images/Profile/FSM/6994.png', 'http://isb.nu.edu.pk/Images/Profile/FSM/6796.jpg', 'http://isb.nu.edu.pk/Images/Profile/FSM/6935.png', 'http://isb.nu.edu.pk/Images/Profile/FSM/5405.jpg', 'http://isb.nu.edu.pk/Images/Profile/CS/4656.jpg', 'http://isb.nu.edu.pk/Images/Profile/FSM/3536.jpg', 'http://isb.nu.edu.pk/Images/Profile/SH/3938.jpg', 'http://isb.nu.edu.pk/Images/Profile/SH/42182021-01-20_01.32.39.JPG', 'http://isb.nu.edu.pk/Images/Profile/SH/4220.jpg', 'http://isb.nu.edu.pk/Images/Profile/SH/4385.jpg', 'http://isb.nu.edu.pk/Images/Profile/SH/4219.jpg', 'http://isb.nu.edu.pk/Images/Profile/SH/5248.jpg', 'http://isb.nu.edu.pk/Images/Profile/SH/9383.jpg', 'http://isb.nu.edu.pk/Images/Profile/SH/4576.jpg', 'http://isb.nu.edu.pk/Images/Profile/SH/3442.jpg', 'http://isb.nu.edu.pk/Images/Profile/SH/3940.jpg', 'http://isb.nu.edu.pk/Images/Profile/SH/4127.jpg', 'http://isb.nu.edu.pk/Images/Profile/SH/4214.jpg', 'http://isb.nu.edu.pk/Images/Profile/SH/9529.jpg', 'http://isb.nu.edu.pk/Images/Profile/SH/5354.jpg', None, None, 'http://isb.nu.edu.pk/Images/Profile/SH/6918.jpg', 'http://isb.nu.edu.pk/Images/Profile/SH/7007.jpg', 'http://isb.nu.edu.pk/Images/Profile/SH/9341.jpg']\n",
            "267\n"
          ]
        }
      ]
    },
    {
      "cell_type": "code",
      "source": [
        "#formatting valid extension values to integers, and turn empty strings into None\n",
        "islExtensions = [int(extension) if extension and extension.isdigit() else None for extension in islExtensions]\n",
        "\n",
        "# Convert empty strings specifically to None\n",
        "islExtensions = [None if extension == \"\" else extension for extension in islExtensions]\n",
        "\n",
        "print(islExtensions)\n",
        "print(len(islExtensions))"
      ],
      "metadata": {
        "colab": {
          "base_uri": "https://localhost:8080/"
        },
        "id": "YMn6_d6TkvVk",
        "outputId": "fe71a863-bd06-4382-854a-f2cf0f5c1922"
      },
      "execution_count": 77,
      "outputs": [
        {
          "output_type": "stream",
          "name": "stdout",
          "text": [
            "[101, 626, 672, 503, 506, None, 128, None, 645, 640, 654, 629, 634, 652, 633, 500, None, 636, None, None, 642, 637, 676, 632, None, 511, 514, 505, 321, 698, 632, 636, 341, 679, 699, 347, None, None, 632, 639, 638, 630, 677, 656, 649, 678, None, 643, None, None, 515, 650, None, 651, 642, None, 650, 341, 655, 611, 603, 321, 666, 603, 263, None, 603, 512, 263, 347, 342, 268, 302, 609, 347, None, 697, 507, None, None, 504, 341, 343, 516, 698, 263, 338, None, None, 519, 206, 653, None, None, None, 263, 263, None, 513, None, 526, 338, 518, None, 307, None, 307, 306, 513, 307, 326, None, 698, None, None, None, None, 666, None, None, None, None, None, None, None, None, 657, None, None, None, None, None, None, None, None, 666, None, None, None, None, None, 307, None, 307, 307, 307, None, None, None, None, 307, 307, None, 306, 627, 525, 624, 525, 623, 635, 622, 622, 520, 671, 623, 622, 356, 101, 104, 389, 340, 254, 258, 108, 105, 189, 188, 109, 185, 365, 255, 361, 185, 254, 186, None, 374, None, 271, 123, 261, 123, 160, 223, 183, 392, 670, 377, 115, 184, None, 324, 123, 182, 201, 602, 205, 218, None, 146, 212, 322, 338, 269, 317, 305, 355, 182, 203, 267, 317, 219, 212, 355, 336, 322, 322, 175, 203, 355, 317, 164, 604, 337, 604, 175, 161, 604, 337, None, None, 319, None, 206, 206, 137, 623, 270, 383, 358, 353, 339, 357, 362, 532, 358, 209, 362, 363, 105, 388, 257, 612, 382, 369, 530, 532]\n",
            "267\n"
          ]
        }
      ]
    },
    {
      "cell_type": "code",
      "source": [
        "import requests\n",
        "import json"
      ],
      "metadata": {
        "id": "cbA2oQp4lYGC"
      },
      "execution_count": 78,
      "outputs": []
    },
    {
      "cell_type": "code",
      "source": [
        "# List to store highest education details only\n",
        "islHighestEducation = []  # Highest Degree + Institute\n",
        "\n",
        "print(\"Initialized\")\n",
        "\n",
        "# Base API Endpoint\n",
        "PROFILE_API_URL = \"http://isb.nu.edu.pk/Faculty/Details1\"\n",
        "\n",
        "# Iterate over each profile link\n",
        "for profile_link in islProfileLinks:\n",
        "    try:\n",
        "        # Extract faculty ID from the profile link\n",
        "        faculty_id = profile_link.split(\"/\")[-1]\n",
        "        data_payload = {\"id\": faculty_id}  # API expects this payload\n",
        "\n",
        "        # Send POST request to fetch faculty profile details\n",
        "        response = requests.post(PROFILE_API_URL, data=data_payload, headers={\"User-Agent\": \"Mozilla/5.0\"}, verify=False)\n",
        "\n",
        "        if response.status_code == 200:\n",
        "            profile_data = response.json()  # Convert to JSON\n",
        "\n",
        "            # Extract Highest Education\n",
        "            highest_edu_list = profile_data.get(\"listEEdu\", [])\n",
        "            if highest_edu_list:\n",
        "                degree_name = highest_edu_list[0].get(\"Degree_Name\", \"N/A\")\n",
        "                degree_institute = highest_edu_list[0].get(\"Degree_Institute\", \"N/A\")\n",
        "                islHighestEducation.append(f\"{degree_name} - {degree_institute}\")\n",
        "            else:\n",
        "                islHighestEducation.append(\"N/A\")\n",
        "\n",
        "        else:\n",
        "            print(f\"Failed to fetch profile for {profile_link}. Status Code:\", response.status_code)\n",
        "            islHighestEducation.append(\"N/A\")\n",
        "\n",
        "    except requests.exceptions.RequestException as e:\n",
        "        print(f\"Error fetching profile for {profile_link}: {e}\")\n",
        "        islHighestEducation.append(\"N/A\")\n",
        "\n",
        "print(\"Faculty Profile Data Scraped\")"
      ],
      "metadata": {
        "colab": {
          "base_uri": "https://localhost:8080/"
        },
        "id": "74KSlTV0nELl",
        "outputId": "1ea90696-bc5d-46c7-c459-adc1f5d36627"
      },
      "execution_count": 79,
      "outputs": [
        {
          "output_type": "stream",
          "name": "stdout",
          "text": [
            "Initialized\n",
            "Faculty Profile Data Scraped\n"
          ]
        }
      ]
    },
    {
      "cell_type": "code",
      "source": [
        "print(islHighestEducation)\n",
        "print(len(islHighestEducation))"
      ],
      "metadata": {
        "colab": {
          "base_uri": "https://localhost:8080/"
        },
        "id": "gaZtdyTsnoWo",
        "outputId": "db0bf2fb-916a-4023-beac-9444166cf1d3"
      },
      "execution_count": 80,
      "outputs": [
        {
          "output_type": "stream",
          "name": "stdout",
          "text": [
            "['Ph.D - NUCES,', 'Ph.D - National University of Computer & Emerging Sciences', 'P.hD - University of Limerick, Ireland ', 'P.hD - Liverpool John Moore University, UK ', 'Postdoc - University of Georgia\\r\\n', 'PhD - Technical University of Vienna (TU WIEN), Vienna, Austria.\\r\\n', 'PhD - University of Wales', 'Ph.D - University of Innsbruck', 'P.hD - University of Cambridge, UK', 'P.hD - University of Konstanz, Germany', 'N/A', 'Ph.D - University of Innsbruck, Austria', 'N/A', 'P.hD - University of Waterloo, Canada', 'N/A', 'Ph.D - University of Klagenfurt/University of Genoa, Italy', 'P.hD - Kyung Hee University, South Korea', 'N/A', 'P.hD - Kyung Hee University, South Korea ', 'P.hD - Inria-i3s CNRS UNSA, France', 'P.hD - University of Malaya, Malaysia', 'P.hD - City University of London, UK ', 'PhD - National University of Computer and Emerging Sciences, Islamabad\\r\\n', 'PhD - Delft University of Technology (TU Delft), The Netherlands\\r\\n', 'PhD - Kadir Has University, Türkiye', 'PhD - National University of Science and Technology (NUST), PK', 'PhD - SEECS, National University of Sciences and Technology', 'PhD - Western Sydney University\\r\\n', 'PhD - Capital University of Science and Technology\\r\\n', 'PhD - National University of Computer and Emerging Sciences, FAST-NUCES\\r\\n', 'PhD - National University of Sciences & Technology (NUST), Islamabad', 'PhD - HITEC University Taxila', 'Ph.D  - University of Engineering and Technology, Taxila,', 'PhD - GIK Institute of Engineering Sciences and Technology', 'PhD - Comsats University Islamabad\\r\\n', 'MS - National University of Science and Technology', 'PhD - Worcester Polytechnic Institute, MA, USA\\r\\n', 'PhD - Universiti Malaya, Malaysia\\r\\n', 'MS - Myongji University, S. Korea ', 'PhD - National University of Computer & Emerging Sciences, Islamabad', 'P.hD - University of Georgia, USA ', 'MS - National University of Computer & Emerging Sciences, Islamabad', 'P.hD - National University of Computer & Emerging Sciences, Islamabad', 'MS - National University of Computer & Emerging Sciences, Islamabad', 'PhD - NUCES', 'P.hD - Univ of Stuttgart, Germany', 'PhD - National University of Computer and Emerging Sciences', 'PhD - National University of Computer & Emerging Sciences, Islamabad', 'Ph.D - University of New South Wales', 'MS - Pakistan Institute of Engineering and Applied Sciences , Islamabad', 'PhD - Leipzig University, Germany', 'Ph.D - COMSATS University, ', 'N/A', 'N/A', 'PhD - GIKI Topi Swabi.', 'PhD - HITEC University Taxila', 'Postdoc - University of Florida', 'MS - FAST-NUCES', 'MS - National University of Sciences & Technology, Islamabad', 'MS - National University of Computer & Emerging Sciences, Islamabad', 'N/A', 'N/A', 'N/A', 'N/A', 'N/A', 'N/A', 'N/A', 'N/A', 'N/A', 'N/A', 'N/A', 'N/A', 'N/A', 'N/A', 'B.Sc - Mirpur University, Mirpur ', 'M.Sc - Norwegian University of Science and Technology', 'N/A', 'MS - NUCES-Fast', 'BS - NUCES-Fast', 'N/A', 'MS - National University of Computer & Emerging Sciences, Islamabad', 'MCS - Fatima Jinnah Women University, Rawalpindi ', 'BS - FAST-NUCES ', 'MS - National University of Computer & Emerging Scinces, Islamabad', 'MS - Comsats Institute of Information Technology, Islamabad', 'BS - International Islamic University , Islamabad', 'MS - FAST NUCES', 'BS - Pir Mehr Ali Shah Arid Agriculture University, Rawalpindi ', 'BS - Sir Syed CASE Institute of Technology , Islamabad', 'MS - National University of Computer & Emerging Sciences, Islamabad', 'N/A', 'MS - University of Huddersfield, UK ', 'MS - Quaid e Azam University\\r\\n, Islamabad', 'MS - National University of Sciences and Technology, Islamabad\\r\\n', 'BS - University Of Engineering And Technology (UET) Taxila', 'PhD - National University of Computer and Emerging Sciences, FAST-NUCES\\r\\n', 'MS - Comsats University Islamabad, Islamabad Campus\\r\\n', 'MS - National University of Science and Technology', 'MS - Center for Advanced Studies in Engineering, Islamabad\\r\\n', 'MS - RIPHAH\\r\\n', 'MS - SEECS, NUST, Islamabad\\r\\n', 'MS - National University of Computer and Emerging Sciences, FAST-NUCES\\r\\n', 'MS - National University of Computer and Emerging Sciences, Islamabad\\r\\n', 'BS - International Islamic University\\r\\n', 'BS - National University of Computer and Emerging Sciences (FAST)', 'MSc - Luleå University of Technology\\r\\n', 'BS - National University of Computer and Emerging Sciences, FAST-NUCES\\r\\n', 'MPhil - Quaid-i-Azam Univeristy, Islamabad\\r\\n', 'MS - Millitary College of Signals, NUST\\r\\n', 'MS - National University of Computer & Emerging Sciences,  Islamabad', 'MS - International Islamic Univeristy, Islamabad\\r\\n', 'MSCS - National University of Computer and Emerging Sciences, Islamabad', 'MS - Pakistan Institute of Engineering & Applied Sciences (PIEAS)', 'MS - Ghulam Ishaq Khan Institute of Engineering Sciences and Technology', 'MS - COMSATS University Islamabad', 'MS - FAST NUCES Islamabad', 'MSc - National University of Computer and Emerging Sciences, Islamabad', 'MS - National University of Computer and Emerging Sciences, Islamabad', 'MS - National University of Science and Technology (NUST)', 'MSE - Bahria University ', 'BS - National University of Computer and Emerging Sciences, FAST-NUCES\\xa0', 'BCS - Capital University of Science and Technology, Islamabad', 'BS - National University of Computer and Emerging Sciences, FAST - NUCES.', 'BS - COMSATS University Islamabad, Abbotabad Campus', 'BSc - National Univeristy of Computer and Emerging Sciences', 'BS - Quaid-i-Azam Univeristy, Islamabad', 'BS - National University of Computer and Emerging Sciences, FAST-NUCES\\r\\n', 'BS - Comsats University Islamabad, Abbottabad Campus\\r\\n', 'BS - FAST NUCES Islamabad', 'BS - COMSATS UNIVERSITY ISLAMABAD, WAH CAMPUS', 'BS - National University of Computer & Emerging Sciences\\xa0', 'BS - FAST NUCES ISLAMABAD ', 'B.Sc - University Of Sargodha', 'BS - National University of Computer and Emerging Sciences', 'BS  - University of Sargodha', 'MS - National University of Sciences and Technology\\r\\n, Islamabad', 'BS - Air University, Islamabad', 'MS - National University of Computer and Emerging Sciences (NUCES-FAST) Islamabad', 'BCE - Bahria University Islamabad', 'BS - Lahore College For Women University, Lahore', 'MS - National University of Computer and Emerging Sciences, Islamabad', 'BS - National University of Computer and Emerging Sciences, FAST-NUCES\\r\\n', 'B.Sc - Comsats University Islamabad', 'BS - National University of Computer and Emerging Sciences, (FAST), Islamabad\\r\\n', 'BS - National University of Computer and Emerging Sciences (FAST)', 'BS - Capital University of Science and Technology\\r\\n', 'BS - Fatima Jinnah Women University, Rawalpindi', 'BS - National University of Computer and Emerging Sciences, FAST-NUCES\\r\\n', 'BS - National University of Computer and Emerging Sciences, FAST-NUCES\\r\\n', 'BS - National University of Computer and Emerging Sciences, FAST-NUCES\\r\\n', 'BS - Comsats University Islamabad, Islamabad Campus\\r\\n', 'BS - National University of Computer and Emerging Sciences, FAST-NUCES\\r\\n', 'BS - Capital University of Science & Technology Islamabad\\r\\n', 'N/A', 'MBA - Bahria University', 'MBA - The University of Lahore', 'N/A', 'M - Federal Urdu University ', 'N/A', 'N/A', 'N/A', 'M.Sc - Allama Iqbal Open University, Islamabad', 'MS - Bahria University Islamabad\\r\\n', 'MPA - Fatima Jinnah Women University \\r\\n', 'N/A', 'BSc - University of Punjab\\r\\n', 'PostDoc - Princeton University\\r\\n', 'PhD - University of Manchester Institute of Science and Technology, UK', 'PhD - University of Rostock, Germany', 'PhD - Linkoping University, Sweden', 'PhD - Graduate Center of City University of New York', 'PhD - Missouri University of Science & Technology, Rolla, USA', 'PhD - Jeju National University, Korea', 'MS - Institute of Communication Technologies (ICT), Peshawar', 'MS - National University of Computer and Emerging Sciences (NUCES)', 'MS - University of Engineering and Technology (UET)', 'PhD - University of Stuttgart, Germany ', 'MSc - University of Texas, Austin, USA', 'MS - University of Engineering and Technology (UET)', 'PhD - Beijing University of Posts and Telecommunications, China', 'PhD - Graz University of Technology, Austria', 'MS - University of Engineering and Technology (UET)', 'MS - National University of Computer and Emerging Sciences (NUCES)', 'PhD - University of Padova, Italy', 'PhD - Norwegian University of Science and Technology (NTNU), Norweign', 'PhD - Sungkyunkwan University, Korea', 'MS - National University of Computer and Emerging Sciences (NUCES)', 'MS - National University of Sciences & Technology', 'MS - National University of Computer and Emerging Sciences (NUCES)', 'MS - University of Engineering and Technology (NUCES)', 'MS - National University of Computer and Emerging Sciences (NUCES)', 'BS - National University of Computer and Emerging Sciences (NUCES)', 'MA - National University of Modern Languages (NUML)', 'B.tech - Preston University', 'MS - Preston University', 'DAE - Punjab Board of Technical Education (PBTE)', 'BSc - Virtual University (VU)', 'BA - University of Karachi', 'DAE - Punjab Board of Technical Education (PBTE)', 'DAE - SWIT', 'MBA - International Islamic University (IIU)', 'BA - Allama Iqbal Open University', 'BE - Air University Islamabad\\r\\n', 'PhD - Bayes Business School, City University, London, UK', 'PhD - Leeds University Business School, University of Leeds', 'PhD - International Islamic University', 'PhD - Air University, Islamabad', 'PhD - National University of Malaysia', 'N/A', 'P.hD - Capital University of Science and Technology (CUST), Islamabad', 'PhD - SZABIST, Islamabad\\r\\n', 'MS - Capital University of Science & Technology, Islamabad', 'MS - FAST School of Management, Islamabad ', 'MS - SZABIST, Islamabad.', 'MSc - University of Malaysia', 'PhD - Universiti Utara Malaysia, Sintok, Kedah', 'PhD - Capital University of Science and Technology Islamabad', 'PHD - FAST NUCES', 'MSc  - Bradford University School of Management, UK', 'Master of Management - University of Windsor, Canada', 'PhD - Lahore University of Management Sciences, Lahore, Pakistan', 'MS  - University of Canberra', 'PhD - Institute of Business Administration, Karachi', 'MS - National University of Computer & Emerging Sciences, Islamabad', 'M.Sc - NUST, Islamabad, Pakistan', 'PhD - National university of Science and Technology (NUST), Islamabad', 'PhD - International Islamic University Islamabad', 'BBA - FAST NUCES, Islamabad', 'PhD Mgt Sciences - COMSATS University, Islamabad', 'PhD - Institute of Business Administration (IBA), Karachi', 'MS - University of Mangement & Technology', 'M.Phil  - Punjab Univerisity Lahore', 'MS - International Islamic University Islamabad', 'MS - SZABIST, Islamabad', 'MS - International Islamic University, Islamabad ', 'MBA - NUCES-FAST Islamabad', 'MS - University of Wales, London', 'MS - National University of Computer & Emgering Sciences, Islamabad', 'PhD (in progress) - National University of Computer and Emerging Sciences ', 'MBA - Lahore School of Economics (LSE)', 'BBA - National University of Computer and Emerging Sciences Chiniot Faisalabad Campus.', 'MS - Riphah International University, Islamabad', 'MCS - Muhammad Ali Jinnah University, Karachi, Pakistan.', 'BS - NUCES-FAST', 'Bachelor  - FAST National university of computing and emerging sciences', 'N/A', 'N/A', 'N/A', 'P.hD - University of Warwick, UK', 'PhD - Comsat University Islamabad', 'P.hD - Quaid-i-Azam University Islamabad', 'IRI Intl. Post Doc. Fellow - IIU, Islamabad', 'PhD - Comsats Institute of Information Technology, Islamabad', 'P.hD - Riphah International University, Islamabad ', 'M.Phil - Quaid-i-Azam University , Islamabad', 'M.Phil - Quaid-i-Azam Univeristy, Islamabad', 'MS - International Islamic University , Islamabad', 'M.Phil - Quaid-i-Azam University , Islamabad', 'P.hD - University of Brescia, Italy', 'P.hD - HITEC University, Taxila', 'MA - National University of Modern Languages, Islamabad', 'P.hD - Comsats Institute of Information Technology, Islamabad', 'MA - Fatima Jinnah Women University, Rawalpindi', 'M.Phil - Air University, Islamabad', 'MS - National University of Sciences and Technology (NUST), Islamabad', 'M.Phil - Quaid-i-Azam University, Islamabad', 'M.Phil  - Government College University, Faisalabad ']\n",
            "267\n"
          ]
        }
      ]
    },
    {
      "cell_type": "code",
      "source": [
        "# List to store HEC Approved PhD Supervisor status\n",
        "islIsApproved = []\n",
        "\n",
        "# Loop over each profile link\n",
        "for link in islProfileLinks:\n",
        "    try:\n",
        "        # Set headers to avoid being blocked\n",
        "        headers = {\n",
        "            \"User-Agent\": \"Mozilla/5.0 (Windows NT 10.0; Win64; x64) AppleWebKit/537.36 (KHTML, like Gecko) Chrome/119.0.0.0 Safari/537.36\"\n",
        "        }\n",
        "\n",
        "        # Send GET request to fetch the profile page\n",
        "        r = requests.get(link, headers=headers)\n",
        "\n",
        "        # Parse the HTML content using BeautifulSoup\n",
        "        soupisl = BeautifulSoup(r.content, 'html.parser')\n",
        "\n",
        "        # Find all <p> tags\n",
        "        all_p_tags = soupisl.find_all(\"p\")\n",
        "\n",
        "        # Flag to check if label exists\n",
        "        is_hec_supervisor = False\n",
        "\n",
        "        # Loop through all <p> tags to check for \"HEC Approved PhD Supervisor\" inside a <label>\n",
        "        for p in all_p_tags:\n",
        "            label = p.find(\"label\")\n",
        "            if label and \"HEC Approved PhD Supervisor\" in label.text:\n",
        "                is_hec_supervisor = True\n",
        "                break  # Stop loop once found\n",
        "\n",
        "        # Store result in list\n",
        "        islIsApproved.append(is_hec_supervisor)\n",
        "\n",
        "    except Exception as e:\n",
        "        print(f\"Error fetching profile for {link}: {e}\")\n",
        "        islIsApproved.append(False)\n",
        "\n",
        "print(islIsApproved)"
      ],
      "metadata": {
        "colab": {
          "base_uri": "https://localhost:8080/"
        },
        "id": "TGpewzaQpugm",
        "outputId": "550ccb6c-4209-41ab-dbfa-ec6132110f2f"
      },
      "execution_count": 81,
      "outputs": [
        {
          "output_type": "stream",
          "name": "stdout",
          "text": [
            "[True, True, True, True, True, True, False, True, True, True, True, True, True, True, True, True, False, False, True, True, True, False, True, True, True, False, True, False, False, False, False, False, False, False, False, False, True, True, False, False, False, False, False, False, False, False, False, False, False, False, False, False, False, False, False, False, True, False, False, False, False, False, False, False, False, False, False, False, False, False, False, False, False, False, False, False, False, False, False, False, False, False, False, False, False, False, False, False, False, False, False, False, False, False, False, False, False, False, False, False, False, False, False, False, False, False, False, False, False, False, False, False, False, False, False, False, False, False, False, False, False, False, False, False, False, False, False, False, False, False, False, False, False, False, False, False, False, False, False, False, False, False, False, False, False, False, False, False, False, False, False, False, False, False, False, False, False, False, False, False, False, False, False, False, False, False, True, False, True, True, True, True, True, False, False, False, True, False, False, False, True, False, False, False, True, False, False, False, False, False, False, False, False, False, False, False, False, False, False, False, False, False, False, True, False, True, True, True, False, True, False, False, False, False, False, True, False, True, False, False, False, False, False, False, False, False, False, False, False, False, False, False, False, False, False, False, False, False, False, False, False, False, False, False, False, False, False, False, False, True, True, True, True, False, False, False, False, False, False, False, False, False, False, False, False, False, False]\n"
          ]
        }
      ]
    },
    {
      "cell_type": "code",
      "source": [
        "# Checking the length of all islamabad faculty related lists\n",
        "islData = {\n",
        "    \"ID\": islIDs,\n",
        "    \"Name\": islName,\n",
        "    \"Designation\": islDesignations,\n",
        "    \"HEC Approved Supervisor\": islIsApproved,\n",
        "    \"Highest Education\": islHighestEducation,\n",
        "    \"Email\": islEmails,\n",
        "    \"Department\": islDepartments,\n",
        "    \"Extension\": islExtensions,\n",
        "    \"Image URL\": islImageURLs\n",
        "}\n",
        "\n",
        "#check if the lengths are equal\n",
        "for var_name, var_list in islData.items():\n",
        "    print(f\"{var_name}: {len(var_list)}\")\n"
      ],
      "metadata": {
        "colab": {
          "base_uri": "https://localhost:8080/"
        },
        "id": "KSpNRgNmtE7d",
        "outputId": "57fd03c5-79c7-4d16-e059-2abaa0cf1b7c"
      },
      "execution_count": 82,
      "outputs": [
        {
          "output_type": "stream",
          "name": "stdout",
          "text": [
            "ID: 267\n",
            "Name: 267\n",
            "Designation: 267\n",
            "HEC Approved Supervisor: 267\n",
            "Highest Education: 267\n",
            "Email: 267\n",
            "Department: 267\n",
            "Extension: 267\n",
            "Image URL: 267\n"
          ]
        }
      ]
    },
    {
      "cell_type": "code",
      "source": [
        "dfISL = pd.DataFrame(islData)\n",
        "print(dfISL)\n",
        "\n",
        "#saving as csv file\n",
        "dfISL.to_csv('isl.csv', index=False)"
      ],
      "metadata": {
        "colab": {
          "base_uri": "https://localhost:8080/"
        },
        "collapsed": true,
        "id": "w6WupPBKtdVi",
        "outputId": "d070cefc-d3a9-4710-890a-1c41ccd5a8f6"
      },
      "execution_count": 83,
      "outputs": [
        {
          "output_type": "stream",
          "name": "stdout",
          "text": [
            "       ID                Name  \\\n",
            "0    4553      Waseem Shahzad   \n",
            "1    4551       Hasan Mujtaba   \n",
            "2    4400       Hammad Majeed   \n",
            "3    5099       Muhammad Asim   \n",
            "4    6478       Ahmad Din\\r\\n   \n",
            "..    ...                 ...   \n",
            "262  5898          Sana Ilyas   \n",
            "263  5902        Zunera Malik   \n",
            "264  6918  Tayyaba Waseem\\r\\n   \n",
            "265  7007    Maria Mazhar\\r\\n   \n",
            "266  9341        Sadia Nauman   \n",
            "\n",
            "                                           Designation  \\\n",
            "0                                 Director & Professor   \n",
            "1                Head, School of Computing & Professor   \n",
            "2                   HoD (Computer Science) & Professor   \n",
            "3                     HoD (Cyber Security) & Professor   \n",
            "4    HoD (Artificial Intelligence & Data Science) &...   \n",
            "..                                                 ...   \n",
            "262                                           Lecturer   \n",
            "263                                           Lecturer   \n",
            "264                                           Lecturer   \n",
            "265                                           Lecturer   \n",
            "266                                           Lecturer   \n",
            "\n",
            "     HEC Approved Supervisor  \\\n",
            "0                       True   \n",
            "1                       True   \n",
            "2                       True   \n",
            "3                       True   \n",
            "4                       True   \n",
            "..                       ...   \n",
            "262                    False   \n",
            "263                    False   \n",
            "264                    False   \n",
            "265                    False   \n",
            "266                    False   \n",
            "\n",
            "                                     Highest Education  \\\n",
            "0                                        Ph.D - NUCES,   \n",
            "1    Ph.D - National University of Computer & Emerg...   \n",
            "2              P.hD - University of Limerick, Ireland    \n",
            "3          P.hD - Liverpool John Moore University, UK    \n",
            "4                  Postdoc - University of Georgia\\r\\n   \n",
            "..                                                 ...   \n",
            "262    MA - Fatima Jinnah Women University, Rawalpindi   \n",
            "263                 M.Phil - Air University, Islamabad   \n",
            "264  MS - National University of Sciences and Techn...   \n",
            "265        M.Phil - Quaid-i-Azam University, Islamabad   \n",
            "266  M.Phil  - Government College University, Faisa...   \n",
            "\n",
            "                                Email            Department  Extension  \\\n",
            "0            waseem.shahzad@nu.edu.pk      Computer Science      101.0   \n",
            "1            hasan.mujtaba@nu.edu.pk       Computer Science      626.0   \n",
            "2             hammad.majeed@nu.edu.pk      Computer Science      672.0   \n",
            "3             muhammad.asim@nu.edu.pk      Computer Science      503.0   \n",
            "4             ahmad.din@nu.edu.pk\\r\\n      Computer Science      506.0   \n",
            "..                                ...                   ...        ...   \n",
            "262             sanaa.ilyas@nu.edu.pk  Science & Humanities      612.0   \n",
            "263           zunaira.malik@nu.edu.pk  Science & Humanities      382.0   \n",
            "264  tayyaba.waseem@isb.nu.edu.pk\\r\\n  Science & Humanities      369.0   \n",
            "265    maria.mazhar@isb.nu.edu.pk\\r\\n  Science & Humanities      530.0   \n",
            "266            sadia.nauman@nu.edu.pk  Science & Humanities      532.0   \n",
            "\n",
            "                                             Image URL  \n",
            "0    http://isb.nu.edu.pk/Images/Profile/CS/4553-3.jpg  \n",
            "1      http://isb.nu.edu.pk/Images/Profile/CS/4551.jpg  \n",
            "2      http://isb.nu.edu.pk/Images/Profile/CS/4400.jpg  \n",
            "3      http://isb.nu.edu.pk/Images/Profile/CS/5099.jpg  \n",
            "4      http://isb.nu.edu.pk/Images/Profile/CS/6478.jpg  \n",
            "..                                                 ...  \n",
            "262                                               None  \n",
            "263                                               None  \n",
            "264    http://isb.nu.edu.pk/Images/Profile/SH/6918.jpg  \n",
            "265    http://isb.nu.edu.pk/Images/Profile/SH/7007.jpg  \n",
            "266    http://isb.nu.edu.pk/Images/Profile/SH/9341.jpg  \n",
            "\n",
            "[267 rows x 9 columns]\n"
          ]
        }
      ]
    },
    {
      "cell_type": "markdown",
      "source": [
        "# **STEP 2**\n",
        "Concatanate all the 5 dataframes into 1"
      ],
      "metadata": {
        "id": "b-siV5Wa7Ams"
      }
    },
    {
      "cell_type": "code",
      "source": [
        "#STEP 2: Concatanate all the 5 dataframes into 1\n",
        "facultyDataFrame = pd.concat([dfLHR, dfISL, dfKHI, dfPWR, dfCFD], ignore_index=True)\n",
        "print(facultyDataFrame)"
      ],
      "metadata": {
        "colab": {
          "base_uri": "https://localhost:8080/"
        },
        "collapsed": true,
        "id": "Ha1Pa-WswJBB",
        "outputId": "a9ec12f7-7237-4b1d-d91d-8f30a1d2edc1"
      },
      "execution_count": 84,
      "outputs": [
        {
          "output_type": "stream",
          "name": "stdout",
          "text": [
            "       ID                      Name      Designation  HEC Approved Supervisor  \\\n",
            "0    1238          Dr. Kashif Zafar  Professor & HOD                     True   \n",
            "1    4027            Dr. Aamir Wali        Professor                     True   \n",
            "2    4391  Dr. Asif Mahmood Gillani        Professor                     True   \n",
            "3    6113           Dr. Asma Naseer        Professor                     True   \n",
            "4    9540         Dr. Maryam Bashir        Professor                     True   \n",
            "..    ...                       ...              ...                      ...   \n",
            "775   192          Mr. Hassan Ahmed       Instructor                    False   \n",
            "776   193          Ms. Maham Saleem       Instructor                    False   \n",
            "777   194           Ms. Rabia Anwar       Instructor                    False   \n",
            "778   195           Mr. Rana Mobeen       Instructor                    False   \n",
            "779   196            Mr. Talha Arif       Instructor                    False   \n",
            "\n",
            "                                     Highest Education  \\\n",
            "0                    PhD (CS), NUCES, Islamabad (2010)   \n",
            "1                       PhD (CS), NUCES, Lahore (2019)   \n",
            "2    Ph.D(Computing), University of Patras , Greece...   \n",
            "3                       PhD (CS), NUCES, Lahore (2018)   \n",
            "4    Ph.D (CS), Northeastern University, Boston, US...   \n",
            "..                                                 ...   \n",
            "775           MS (Computer Science ) University of Wah   \n",
            "776                              MS (Computer Science)   \n",
            "777                                      Not Available   \n",
            "778                            BS Computer Engineering   \n",
            "779                              M.S(Computer Science)   \n",
            "\n",
            "                       Email                      Department      Extension  \\\n",
            "0     kashif.zafar@nu.edu.pk        FAST School of Computing            569   \n",
            "1       aamir.wali@nu.edu.pk        FAST School of Computing            572   \n",
            "2      asif.gilani@nu.edu.pk        FAST School of Computing            558   \n",
            "3      asma.naseer@nu.edu.pk        FAST School of Computing            634   \n",
            "4    maryam.bashir@nu.edu.pk        FAST School of Computing            635   \n",
            "..                       ...                             ...            ...   \n",
            "775   hassan.ahmed@nu.edu.pk  Department of Computer Science  Not Available   \n",
            "776   Maham.Saleem@nu.edu.pk  Department of Computer Science            572   \n",
            "777    rabia.anwar@nu.edu.pk  Department of Computer Science            283   \n",
            "778   mubeen.tariq@nu.edu.pk  Department of Computer Science            324   \n",
            "779        m.talha@nu.edu.pk  Department of Computer Science            304   \n",
            "\n",
            "                                             Image URL  \n",
            "0    https://lhr.nu.edu.pk/media/Faculty/01._Dr_Kas...  \n",
            "1    https://lhr.nu.edu.pk/media/Faculty/51._Dr_Aam...  \n",
            "2    https://lhr.nu.edu.pk/media/Faculty/02._Dr_Asi...  \n",
            "3    https://lhr.nu.edu.pk/media/Faculty/07._Dr_Asm...  \n",
            "4    https://lhr.nu.edu.pk/media/Faculty/52._Dr_Mar...  \n",
            "..                                                 ...  \n",
            "775  https://cfd.nu.edu.pk/wp-content/uploads/2024/...  \n",
            "776  https://cfd.nu.edu.pk/wp-content/uploads/2024/...  \n",
            "777  https://cfd.nu.edu.pk/wp-content/uploads/2024/...  \n",
            "778  https://cfd.nu.edu.pk/wp-content/uploads/2022/...  \n",
            "779  https://cfd.nu.edu.pk/wp-content/uploads/2024/...  \n",
            "\n",
            "[780 rows x 9 columns]\n"
          ]
        }
      ]
    },
    {
      "cell_type": "code",
      "source": [
        "#saving the faculty dataframe to csv\n",
        "facultyDataFrame.to_csv('fast_faculty.csv', index=False)"
      ],
      "metadata": {
        "id": "fZagzV5Bws-K"
      },
      "execution_count": 85,
      "outputs": []
    },
    {
      "cell_type": "markdown",
      "source": [
        "# **STEP 3**"
      ],
      "metadata": {
        "id": "ggjbODZ67Exk"
      }
    },
    {
      "cell_type": "code",
      "source": [
        "#Step 3: Load the CSV file into a DataFrame\n",
        "faculty = pd.read_csv('fast_faculty.csv')\n",
        "print(faculty.head())"
      ],
      "metadata": {
        "colab": {
          "base_uri": "https://localhost:8080/"
        },
        "collapsed": true,
        "id": "RzaIPgosxJBo",
        "outputId": "eaba5cbb-de5a-4ed8-e861-f27ad0a72a6f"
      },
      "execution_count": 86,
      "outputs": [
        {
          "output_type": "stream",
          "name": "stdout",
          "text": [
            "     ID                      Name      Designation  HEC Approved Supervisor  \\\n",
            "0  1238          Dr. Kashif Zafar  Professor & HOD                     True   \n",
            "1  4027            Dr. Aamir Wali        Professor                     True   \n",
            "2  4391  Dr. Asif Mahmood Gillani        Professor                     True   \n",
            "3  6113           Dr. Asma Naseer        Professor                     True   \n",
            "4  9540         Dr. Maryam Bashir        Professor                     True   \n",
            "\n",
            "                                   Highest Education                    Email  \\\n",
            "0                  PhD (CS), NUCES, Islamabad (2010)   kashif.zafar@nu.edu.pk   \n",
            "1                     PhD (CS), NUCES, Lahore (2019)     aamir.wali@nu.edu.pk   \n",
            "2  Ph.D(Computing), University of Patras , Greece...    asif.gilani@nu.edu.pk   \n",
            "3                     PhD (CS), NUCES, Lahore (2018)    asma.naseer@nu.edu.pk   \n",
            "4  Ph.D (CS), Northeastern University, Boston, US...  maryam.bashir@nu.edu.pk   \n",
            "\n",
            "                 Department Extension  \\\n",
            "0  FAST School of Computing       569   \n",
            "1  FAST School of Computing       572   \n",
            "2  FAST School of Computing       558   \n",
            "3  FAST School of Computing       634   \n",
            "4  FAST School of Computing       635   \n",
            "\n",
            "                                           Image URL  \n",
            "0  https://lhr.nu.edu.pk/media/Faculty/01._Dr_Kas...  \n",
            "1  https://lhr.nu.edu.pk/media/Faculty/51._Dr_Aam...  \n",
            "2  https://lhr.nu.edu.pk/media/Faculty/02._Dr_Asi...  \n",
            "3  https://lhr.nu.edu.pk/media/Faculty/07._Dr_Asm...  \n",
            "4  https://lhr.nu.edu.pk/media/Faculty/52._Dr_Mar...  \n"
          ]
        }
      ]
    },
    {
      "cell_type": "code",
      "source": [
        "# Step 3 Continued: Student ID: 21L-6116 so last digit is 6\n",
        "fracVal = 6 / 10\n",
        "print(fracVal)"
      ],
      "metadata": {
        "colab": {
          "base_uri": "https://localhost:8080/"
        },
        "id": "7DfhOZqHxsFN",
        "outputId": "6081b01f-e552-4ca5-905e-794067fd1122"
      },
      "execution_count": 87,
      "outputs": [
        {
          "output_type": "stream",
          "name": "stdout",
          "text": [
            "0.6\n"
          ]
        }
      ]
    },
    {
      "cell_type": "code",
      "source": [
        "sample_ = faculty.sample(frac=fracVal)"
      ],
      "metadata": {
        "id": "ajBUX2vCyWPS"
      },
      "execution_count": 88,
      "outputs": []
    },
    {
      "cell_type": "code",
      "source": [
        "#loading the sample data to csv\n",
        "sample_.to_csv('sample.csv', index=False)"
      ],
      "metadata": {
        "id": "MTza45EMyrCO"
      },
      "execution_count": 89,
      "outputs": []
    },
    {
      "cell_type": "markdown",
      "source": [
        "### **SUMMARY:**\n",
        "We scraped faculty data from the websites of Lahore, Karachi, Faisalabad, Islamabad, and Peshawar. For the Islamabad website, we encountered a challenge as the data was dynamically loaded, so we had to use the requests library to retrieve the content from the api requests instead of relying solely on BeautifulSoup. In contrast, the Karachi website was built with WordPress, and as a result, the source code was not properly indented, making it more difficult to extract data. For websites where crawling was restricted, such as Islamabad and Chiniot, we used appropriate headers to bypass the restrictions and successfully retrieve the data.\n",
        "\n",
        "**Assumptions:**\n",
        "We made the assumption that in cases where data was missing, we marked it as \"Not Available\" or \"none\" or \"n/a\". (For example, some faculty members lacked extension numbers or education details). Additionally, for websites like Faisalabad and Karachi, which didn't have unique IDs for faculty members, we set the ID to the index number, as the assignment specified the ID should be an integer."
      ],
      "metadata": {
        "id": "u3P3MNs76KFj"
      }
    }
  ]
}